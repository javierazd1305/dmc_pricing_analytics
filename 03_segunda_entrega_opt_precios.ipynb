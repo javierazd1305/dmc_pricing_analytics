{
 "cells": [
  {
   "cell_type": "code",
   "execution_count": 204,
   "metadata": {},
   "outputs": [],
   "source": [
    "import pandas as pd\n",
    "import numpy as np\n",
    "\n",
    "from sklearn.preprocessing import LabelEncoder\n",
    "from sklearn.preprocessing import StandardScaler\n",
    "import scipy.cluster.hierarchy as shc\n",
    "import matplotlib.pyplot as plt\n",
    "from sklearn.cluster import AgglomerativeClustering\n",
    "import statsmodels.api as sm\n",
    "from sklearn.metrics import classification_report\n",
    "import seaborn as sns\n",
    "\n",
    "import plotly.express as px\n",
    "import plotly.graph_objects as go\n",
    "\n",
    "import warnings\n",
    "warnings.filterwarnings(\"ignore\")"
   ]
  },
  {
   "cell_type": "code",
   "execution_count": 205,
   "metadata": {},
   "outputs": [],
   "source": [
    "df_elasticidad = pd.read_pickle(\"../output/base_etapa_3.pkl\")"
   ]
  },
  {
   "cell_type": "code",
   "execution_count": 218,
   "metadata": {},
   "outputs": [],
   "source": [
    "# Creamos una columna para simular el costo\n",
    "df_elasticidad['costo'] = 17\n",
    "df_elasticidad['costo_seg0'] = np.exp(np.log(df_elasticidad['costo'])*np.log(df_elasticidad['cantidad_seg0']))\n",
    "df_elasticidad['costo_seg1'] = np.exp(np.log(df_elasticidad['costo'])*np.log(df_elasticidad['cantidad_seg1']))\n",
    "df_elasticidad['costo_seg2'] = np.exp(np.log(df_elasticidad['costo'])*np.log(df_elasticidad['cantidad_seg2']))\n",
    "df_elasticidad['costo_seg3'] = np.exp(np.log(df_elasticidad['costo'])*np.log(df_elasticidad['cantidad_seg3']))\n",
    "df_elasticidad['costo_seg4'] = np.exp(np.log(df_elasticidad['costo'])*np.log(df_elasticidad['cantidad_seg4']))"
   ]
  },
  {
   "cell_type": "code",
   "execution_count": 219,
   "metadata": {},
   "outputs": [],
   "source": [
    "df_elasticidad['ingresos_seg0'] = np.exp(np.log(df_elasticidad['irr'])*np.log(df_elasticidad['cantidad_seg0']))\n",
    "df_elasticidad['ingresos_seg1'] = np.exp(np.log(df_elasticidad['irr'])*np.log(df_elasticidad['cantidad_seg1']))\n",
    "df_elasticidad['ingresos_seg2'] = np.exp(np.log(df_elasticidad['irr'])*np.log(df_elasticidad['cantidad_seg2']))\n",
    "df_elasticidad['ingresos_seg3'] = np.exp(np.log(df_elasticidad['irr'])*np.log(df_elasticidad['cantidad_seg3']))\n",
    "df_elasticidad['ingresos_seg4'] = np.exp(np.log(df_elasticidad['irr'])*np.log(df_elasticidad['cantidad_seg4']))"
   ]
  },
  {
   "cell_type": "code",
   "execution_count": 220,
   "metadata": {},
   "outputs": [],
   "source": [
    "# Calculamos la rentabilidad\n",
    "df_elasticidad['rentabilidad_seg0'] = df_elasticidad['ingresos_seg0'] - df_elasticidad[\"costo_seg0\"]\n",
    "df_elasticidad['rentabilidad_seg1'] = df_elasticidad['ingresos_seg1'] - df_elasticidad[\"costo_seg1\"]\n",
    "df_elasticidad['rentabilidad_seg2'] = df_elasticidad['ingresos_seg2'] - df_elasticidad[\"costo_seg2\"]\n",
    "df_elasticidad['rentabilidad_seg3'] = df_elasticidad['ingresos_seg3'] - df_elasticidad[\"costo_seg3\"]\n",
    "df_elasticidad['rentabilidad_seg4'] = df_elasticidad['ingresos_seg4'] - df_elasticidad[\"costo_seg4\"]\n",
    "\n",
    "# df_elasticidad['rentabilidad_seg0'] = df_elasticidad['ingresos_seg0'] - df_elasticidad[\"costo\"]\n",
    "# df_elasticidad['rentabilidad_seg1'] = df_elasticidad['ingresos_seg1'] - df_elasticidad[\"costo\"]\n",
    "# df_elasticidad['rentabilidad_seg2'] = df_elasticidad['ingresos_seg2'] - df_elasticidad[\"costo\"]\n",
    "# df_elasticidad['rentabilidad_seg3'] = df_elasticidad['ingresos_seg3'] - df_elasticidad[\"costo\"]"
   ]
  },
  {
   "cell_type": "code",
   "execution_count": 221,
   "metadata": {},
   "outputs": [
    {
     "data": {
      "text/html": [
       "<div>\n",
       "<style scoped>\n",
       "    .dataframe tbody tr th:only-of-type {\n",
       "        vertical-align: middle;\n",
       "    }\n",
       "\n",
       "    .dataframe tbody tr th {\n",
       "        vertical-align: top;\n",
       "    }\n",
       "\n",
       "    .dataframe thead th {\n",
       "        text-align: right;\n",
       "    }\n",
       "</style>\n",
       "<table border=\"1\" class=\"dataframe\">\n",
       "  <thead>\n",
       "    <tr style=\"text-align: right;\">\n",
       "      <th></th>\n",
       "      <th>irr</th>\n",
       "      <th>cantidad_seg0</th>\n",
       "      <th>cantidad_seg1</th>\n",
       "      <th>cantidad_seg2</th>\n",
       "      <th>cantidad_seg3</th>\n",
       "      <th>cantidad_seg4</th>\n",
       "      <th>costo</th>\n",
       "      <th>costo_seg0</th>\n",
       "      <th>costo_seg1</th>\n",
       "      <th>costo_seg2</th>\n",
       "      <th>...</th>\n",
       "      <th>ingresos_seg0</th>\n",
       "      <th>ingresos_seg1</th>\n",
       "      <th>ingresos_seg2</th>\n",
       "      <th>ingresos_seg3</th>\n",
       "      <th>ingresos_seg4</th>\n",
       "      <th>rentabilidad_seg0</th>\n",
       "      <th>rentabilidad_seg1</th>\n",
       "      <th>rentabilidad_seg2</th>\n",
       "      <th>rentabilidad_seg3</th>\n",
       "      <th>rentabilidad_seg4</th>\n",
       "    </tr>\n",
       "  </thead>\n",
       "  <tbody>\n",
       "    <tr>\n",
       "      <th>0</th>\n",
       "      <td>16.00</td>\n",
       "      <td>2.434245</td>\n",
       "      <td>2.448691</td>\n",
       "      <td>2.474350</td>\n",
       "      <td>2.467429</td>\n",
       "      <td>2.444356</td>\n",
       "      <td>17</td>\n",
       "      <td>12.435197</td>\n",
       "      <td>12.645411</td>\n",
       "      <td>13.024441</td>\n",
       "      <td>...</td>\n",
       "      <td>11.782283</td>\n",
       "      <td>11.977163</td>\n",
       "      <td>12.328370</td>\n",
       "      <td>12.233003</td>\n",
       "      <td>11.918470</td>\n",
       "      <td>-0.652913</td>\n",
       "      <td>-0.668248</td>\n",
       "      <td>-0.696071</td>\n",
       "      <td>-0.688492</td>\n",
       "      <td>-0.663621</td>\n",
       "    </tr>\n",
       "    <tr>\n",
       "      <th>1</th>\n",
       "      <td>16.58</td>\n",
       "      <td>2.252067</td>\n",
       "      <td>2.266231</td>\n",
       "      <td>2.285492</td>\n",
       "      <td>2.280445</td>\n",
       "      <td>2.262313</td>\n",
       "      <td>17</td>\n",
       "      <td>9.975583</td>\n",
       "      <td>10.154355</td>\n",
       "      <td>10.400779</td>\n",
       "      <td>...</td>\n",
       "      <td>9.775029</td>\n",
       "      <td>9.948646</td>\n",
       "      <td>10.187921</td>\n",
       "      <td>10.124868</td>\n",
       "      <td>9.900427</td>\n",
       "      <td>-0.200554</td>\n",
       "      <td>-0.205709</td>\n",
       "      <td>-0.212858</td>\n",
       "      <td>-0.210969</td>\n",
       "      <td>-0.204274</td>\n",
       "    </tr>\n",
       "    <tr>\n",
       "      <th>2</th>\n",
       "      <td>17.16</td>\n",
       "      <td>2.089104</td>\n",
       "      <td>2.102958</td>\n",
       "      <td>2.116820</td>\n",
       "      <td>2.113349</td>\n",
       "      <td>2.099408</td>\n",
       "      <td>17</td>\n",
       "      <td>8.063346</td>\n",
       "      <td>8.215768</td>\n",
       "      <td>8.370128</td>\n",
       "      <td>...</td>\n",
       "      <td>8.119188</td>\n",
       "      <td>8.273178</td>\n",
       "      <td>8.429135</td>\n",
       "      <td>8.389909</td>\n",
       "      <td>8.233532</td>\n",
       "      <td>0.055842</td>\n",
       "      <td>0.057410</td>\n",
       "      <td>0.059007</td>\n",
       "      <td>0.058605</td>\n",
       "      <td>0.057005</td>\n",
       "    </tr>\n",
       "    <tr>\n",
       "      <th>3</th>\n",
       "      <td>17.74</td>\n",
       "      <td>1.942779</td>\n",
       "      <td>1.956306</td>\n",
       "      <td>1.965600</td>\n",
       "      <td>1.963459</td>\n",
       "      <td>1.953079</td>\n",
       "      <td>17</td>\n",
       "      <td>6.563944</td>\n",
       "      <td>6.694261</td>\n",
       "      <td>6.784758</td>\n",
       "      <td>...</td>\n",
       "      <td>6.752338</td>\n",
       "      <td>6.888431</td>\n",
       "      <td>6.982964</td>\n",
       "      <td>6.961107</td>\n",
       "      <td>6.855803</td>\n",
       "      <td>0.188394</td>\n",
       "      <td>0.194171</td>\n",
       "      <td>0.198206</td>\n",
       "      <td>0.197271</td>\n",
       "      <td>0.192782</td>\n",
       "    </tr>\n",
       "    <tr>\n",
       "      <th>4</th>\n",
       "      <td>18.32</td>\n",
       "      <td>1.810928</td>\n",
       "      <td>1.824118</td>\n",
       "      <td>1.829540</td>\n",
       "      <td>1.828522</td>\n",
       "      <td>1.821178</td>\n",
       "      <td>17</td>\n",
       "      <td>5.378847</td>\n",
       "      <td>5.490587</td>\n",
       "      <td>5.536953</td>\n",
       "      <td>...</td>\n",
       "      <td>5.623090</td>\n",
       "      <td>5.743020</td>\n",
       "      <td>5.792803</td>\n",
       "      <td>5.783429</td>\n",
       "      <td>5.716140</td>\n",
       "      <td>0.244243</td>\n",
       "      <td>0.252433</td>\n",
       "      <td>0.255850</td>\n",
       "      <td>0.255206</td>\n",
       "      <td>0.250592</td>\n",
       "    </tr>\n",
       "    <tr>\n",
       "      <th>5</th>\n",
       "      <td>18.89</td>\n",
       "      <td>1.693685</td>\n",
       "      <td>1.706539</td>\n",
       "      <td>1.708726</td>\n",
       "      <td>1.708642</td>\n",
       "      <td>1.703849</td>\n",
       "      <td>17</td>\n",
       "      <td>4.449709</td>\n",
       "      <td>4.546053</td>\n",
       "      <td>4.562581</td>\n",
       "      <td>...</td>\n",
       "      <td>4.703867</td>\n",
       "      <td>4.809545</td>\n",
       "      <td>4.827683</td>\n",
       "      <td>4.826985</td>\n",
       "      <td>4.787302</td>\n",
       "      <td>0.254158</td>\n",
       "      <td>0.263492</td>\n",
       "      <td>0.265102</td>\n",
       "      <td>0.265040</td>\n",
       "      <td>0.261521</td>\n",
       "    </tr>\n",
       "    <tr>\n",
       "      <th>6</th>\n",
       "      <td>19.47</td>\n",
       "      <td>1.585407</td>\n",
       "      <td>1.597918</td>\n",
       "      <td>1.597304</td>\n",
       "      <td>1.598026</td>\n",
       "      <td>1.595455</td>\n",
       "      <td>17</td>\n",
       "      <td>3.690130</td>\n",
       "      <td>3.773227</td>\n",
       "      <td>3.769121</td>\n",
       "      <td>...</td>\n",
       "      <td>3.928195</td>\n",
       "      <td>4.020938</td>\n",
       "      <td>4.016353</td>\n",
       "      <td>4.021746</td>\n",
       "      <td>4.002572</td>\n",
       "      <td>0.238065</td>\n",
       "      <td>0.247711</td>\n",
       "      <td>0.247232</td>\n",
       "      <td>0.247796</td>\n",
       "      <td>0.245794</td>\n",
       "    </tr>\n",
       "    <tr>\n",
       "      <th>7</th>\n",
       "      <td>20.05</td>\n",
       "      <td>1.486933</td>\n",
       "      <td>1.499102</td>\n",
       "      <td>1.496105</td>\n",
       "      <td>1.497510</td>\n",
       "      <td>1.496843</td>\n",
       "      <td>17</td>\n",
       "      <td>3.077075</td>\n",
       "      <td>3.148958</td>\n",
       "      <td>3.131160</td>\n",
       "      <td>...</td>\n",
       "      <td>3.285254</td>\n",
       "      <td>3.366525</td>\n",
       "      <td>3.346391</td>\n",
       "      <td>3.355820</td>\n",
       "      <td>3.351341</td>\n",
       "      <td>0.208178</td>\n",
       "      <td>0.217566</td>\n",
       "      <td>0.215232</td>\n",
       "      <td>0.216324</td>\n",
       "      <td>0.215805</td>\n",
       "    </tr>\n",
       "    <tr>\n",
       "      <th>8</th>\n",
       "      <td>20.63</td>\n",
       "      <td>1.397128</td>\n",
       "      <td>1.408959</td>\n",
       "      <td>1.403937</td>\n",
       "      <td>1.405919</td>\n",
       "      <td>1.406884</td>\n",
       "      <td>17</td>\n",
       "      <td>2.579199</td>\n",
       "      <td>2.641563</td>\n",
       "      <td>2.614973</td>\n",
       "      <td>...</td>\n",
       "      <td>2.751648</td>\n",
       "      <td>2.822785</td>\n",
       "      <td>2.792439</td>\n",
       "      <td>2.804391</td>\n",
       "      <td>2.810217</td>\n",
       "      <td>0.172449</td>\n",
       "      <td>0.181222</td>\n",
       "      <td>0.177467</td>\n",
       "      <td>0.178943</td>\n",
       "      <td>0.179664</td>\n",
       "    </tr>\n",
       "    <tr>\n",
       "      <th>9</th>\n",
       "      <td>21.21</td>\n",
       "      <td>1.315016</td>\n",
       "      <td>1.326516</td>\n",
       "      <td>1.319771</td>\n",
       "      <td>1.322242</td>\n",
       "      <td>1.324605</td>\n",
       "      <td>17</td>\n",
       "      <td>2.172486</td>\n",
       "      <td>2.226747</td>\n",
       "      <td>2.194818</td>\n",
       "      <td>...</td>\n",
       "      <td>2.308190</td>\n",
       "      <td>2.370403</td>\n",
       "      <td>2.333780</td>\n",
       "      <td>2.347152</td>\n",
       "      <td>2.359987</td>\n",
       "      <td>0.135704</td>\n",
       "      <td>0.143656</td>\n",
       "      <td>0.138962</td>\n",
       "      <td>0.140672</td>\n",
       "      <td>0.142317</td>\n",
       "    </tr>\n",
       "    <tr>\n",
       "      <th>10</th>\n",
       "      <td>21.79</td>\n",
       "      <td>1.239755</td>\n",
       "      <td>1.250931</td>\n",
       "      <td>1.242723</td>\n",
       "      <td>1.245606</td>\n",
       "      <td>1.249168</td>\n",
       "      <td>17</td>\n",
       "      <td>1.838400</td>\n",
       "      <td>1.885743</td>\n",
       "      <td>1.850897</td>\n",
       "      <td>...</td>\n",
       "      <td>1.939141</td>\n",
       "      <td>1.993515</td>\n",
       "      <td>1.953482</td>\n",
       "      <td>1.967483</td>\n",
       "      <td>1.984870</td>\n",
       "      <td>0.100741</td>\n",
       "      <td>0.107772</td>\n",
       "      <td>0.102585</td>\n",
       "      <td>0.104393</td>\n",
       "      <td>0.106647</td>\n",
       "    </tr>\n",
       "    <tr>\n",
       "      <th>11</th>\n",
       "      <td>22.37</td>\n",
       "      <td>1.170612</td>\n",
       "      <td>1.181472</td>\n",
       "      <td>1.172023</td>\n",
       "      <td>1.175254</td>\n",
       "      <td>1.179843</td>\n",
       "      <td>17</td>\n",
       "      <td>1.562529</td>\n",
       "      <td>1.603949</td>\n",
       "      <td>1.567871</td>\n",
       "      <td>...</td>\n",
       "      <td>1.631578</td>\n",
       "      <td>1.679079</td>\n",
       "      <td>1.637698</td>\n",
       "      <td>1.651769</td>\n",
       "      <td>1.671897</td>\n",
       "      <td>0.069049</td>\n",
       "      <td>0.075131</td>\n",
       "      <td>0.069827</td>\n",
       "      <td>0.071621</td>\n",
       "      <td>0.074204</td>\n",
       "    </tr>\n",
       "    <tr>\n",
       "      <th>12</th>\n",
       "      <td>22.95</td>\n",
       "      <td>1.106950</td>\n",
       "      <td>1.117502</td>\n",
       "      <td>1.107003</td>\n",
       "      <td>1.110526</td>\n",
       "      <td>1.115995</td>\n",
       "      <td>17</td>\n",
       "      <td>1.333594</td>\n",
       "      <td>1.369929</td>\n",
       "      <td>1.333778</td>\n",
       "      <td>...</td>\n",
       "      <td>1.374886</td>\n",
       "      <td>1.416373</td>\n",
       "      <td>1.375095</td>\n",
       "      <td>1.388853</td>\n",
       "      <td>1.410396</td>\n",
       "      <td>0.041292</td>\n",
       "      <td>0.046444</td>\n",
       "      <td>0.041318</td>\n",
       "      <td>0.043015</td>\n",
       "      <td>0.045695</td>\n",
       "    </tr>\n",
       "    <tr>\n",
       "      <th>13</th>\n",
       "      <td>23.53</td>\n",
       "      <td>1.048212</td>\n",
       "      <td>1.058466</td>\n",
       "      <td>1.047082</td>\n",
       "      <td>1.050848</td>\n",
       "      <td>1.057069</td>\n",
       "      <td>17</td>\n",
       "      <td>1.142712</td>\n",
       "      <td>1.174667</td>\n",
       "      <td>1.139225</td>\n",
       "      <td>...</td>\n",
       "      <td>1.160336</td>\n",
       "      <td>1.196565</td>\n",
       "      <td>1.156390</td>\n",
       "      <td>1.169579</td>\n",
       "      <td>1.191586</td>\n",
       "      <td>0.017625</td>\n",
       "      <td>0.021898</td>\n",
       "      <td>0.017165</td>\n",
       "      <td>0.018705</td>\n",
       "      <td>0.021305</td>\n",
       "    </tr>\n",
       "    <tr>\n",
       "      <th>14</th>\n",
       "      <td>24.11</td>\n",
       "      <td>0.993910</td>\n",
       "      <td>1.003874</td>\n",
       "      <td>0.991747</td>\n",
       "      <td>0.995716</td>\n",
       "      <td>1.002579</td>\n",
       "      <td>17</td>\n",
       "      <td>0.982841</td>\n",
       "      <td>1.011016</td>\n",
       "      <td>0.976794</td>\n",
       "      <td>...</td>\n",
       "      <td>0.980745</td>\n",
       "      <td>1.012383</td>\n",
       "      <td>0.973969</td>\n",
       "      <td>0.986430</td>\n",
       "      <td>1.008230</td>\n",
       "      <td>-0.002096</td>\n",
       "      <td>0.001367</td>\n",
       "      <td>-0.002824</td>\n",
       "      <td>-0.001481</td>\n",
       "      <td>0.000907</td>\n",
       "    </tr>\n",
       "    <tr>\n",
       "      <th>15</th>\n",
       "      <td>24.68</td>\n",
       "      <td>0.944449</td>\n",
       "      <td>0.954138</td>\n",
       "      <td>0.941399</td>\n",
       "      <td>0.945533</td>\n",
       "      <td>0.952932</td>\n",
       "      <td>17</td>\n",
       "      <td>0.850501</td>\n",
       "      <td>0.875456</td>\n",
       "      <td>0.842744</td>\n",
       "      <td>...</td>\n",
       "      <td>0.832572</td>\n",
       "      <td>0.860268</td>\n",
       "      <td>0.823985</td>\n",
       "      <td>0.835641</td>\n",
       "      <td>0.856788</td>\n",
       "      <td>-0.017929</td>\n",
       "      <td>-0.015188</td>\n",
       "      <td>-0.018759</td>\n",
       "      <td>-0.017630</td>\n",
       "      <td>-0.015538</td>\n",
       "    </tr>\n",
       "    <tr>\n",
       "      <th>16</th>\n",
       "      <td>25.26</td>\n",
       "      <td>0.897719</td>\n",
       "      <td>0.907137</td>\n",
       "      <td>0.893882</td>\n",
       "      <td>0.898153</td>\n",
       "      <td>0.906016</td>\n",
       "      <td>17</td>\n",
       "      <td>0.736608</td>\n",
       "      <td>0.758715</td>\n",
       "      <td>0.727724</td>\n",
       "      <td>...</td>\n",
       "      <td>0.705796</td>\n",
       "      <td>0.729990</td>\n",
       "      <td>0.696102</td>\n",
       "      <td>0.706899</td>\n",
       "      <td>0.727079</td>\n",
       "      <td>-0.030811</td>\n",
       "      <td>-0.028725</td>\n",
       "      <td>-0.031621</td>\n",
       "      <td>-0.030718</td>\n",
       "      <td>-0.028981</td>\n",
       "    </tr>\n",
       "    <tr>\n",
       "      <th>17</th>\n",
       "      <td>25.84</td>\n",
       "      <td>0.854284</td>\n",
       "      <td>0.863441</td>\n",
       "      <td>0.849762</td>\n",
       "      <td>0.854143</td>\n",
       "      <td>0.862397</td>\n",
       "      <td>17</td>\n",
       "      <td>0.640052</td>\n",
       "      <td>0.659681</td>\n",
       "      <td>0.630498</td>\n",
       "      <td>...</td>\n",
       "      <td>0.599206</td>\n",
       "      <td>0.620346</td>\n",
       "      <td>0.588952</td>\n",
       "      <td>0.598884</td>\n",
       "      <td>0.617909</td>\n",
       "      <td>-0.040846</td>\n",
       "      <td>-0.039335</td>\n",
       "      <td>-0.041546</td>\n",
       "      <td>-0.040868</td>\n",
       "      <td>-0.039514</td>\n",
       "    </tr>\n",
       "    <tr>\n",
       "      <th>18</th>\n",
       "      <td>26.42</td>\n",
       "      <td>0.813847</td>\n",
       "      <td>0.822751</td>\n",
       "      <td>0.808727</td>\n",
       "      <td>0.813196</td>\n",
       "      <td>0.821777</td>\n",
       "      <td>17</td>\n",
       "      <td>0.557890</td>\n",
       "      <td>0.575358</td>\n",
       "      <td>0.548004</td>\n",
       "      <td>...</td>\n",
       "      <td>0.509455</td>\n",
       "      <td>0.527933</td>\n",
       "      <td>0.499037</td>\n",
       "      <td>0.508122</td>\n",
       "      <td>0.525890</td>\n",
       "      <td>-0.048435</td>\n",
       "      <td>-0.047424</td>\n",
       "      <td>-0.048967</td>\n",
       "      <td>-0.048504</td>\n",
       "      <td>-0.047540</td>\n",
       "    </tr>\n",
       "    <tr>\n",
       "      <th>19</th>\n",
       "      <td>27.00</td>\n",
       "      <td>0.776141</td>\n",
       "      <td>0.784801</td>\n",
       "      <td>0.770502</td>\n",
       "      <td>0.775038</td>\n",
       "      <td>0.783892</td>\n",
       "      <td>17</td>\n",
       "      <td>0.487728</td>\n",
       "      <td>0.503306</td>\n",
       "      <td>0.477756</td>\n",
       "      <td>...</td>\n",
       "      <td>0.433772</td>\n",
       "      <td>0.449930</td>\n",
       "      <td>0.423472</td>\n",
       "      <td>0.431745</td>\n",
       "      <td>0.448214</td>\n",
       "      <td>-0.053956</td>\n",
       "      <td>-0.053375</td>\n",
       "      <td>-0.054284</td>\n",
       "      <td>-0.054023</td>\n",
       "      <td>-0.053441</td>\n",
       "    </tr>\n",
       "  </tbody>\n",
       "</table>\n",
       "<p>20 rows × 22 columns</p>\n",
       "</div>"
      ],
      "text/plain": [
       "      irr  cantidad_seg0  cantidad_seg1  cantidad_seg2  cantidad_seg3  \\\n",
       "0   16.00       2.434245       2.448691       2.474350       2.467429   \n",
       "1   16.58       2.252067       2.266231       2.285492       2.280445   \n",
       "2   17.16       2.089104       2.102958       2.116820       2.113349   \n",
       "3   17.74       1.942779       1.956306       1.965600       1.963459   \n",
       "4   18.32       1.810928       1.824118       1.829540       1.828522   \n",
       "5   18.89       1.693685       1.706539       1.708726       1.708642   \n",
       "6   19.47       1.585407       1.597918       1.597304       1.598026   \n",
       "7   20.05       1.486933       1.499102       1.496105       1.497510   \n",
       "8   20.63       1.397128       1.408959       1.403937       1.405919   \n",
       "9   21.21       1.315016       1.326516       1.319771       1.322242   \n",
       "10  21.79       1.239755       1.250931       1.242723       1.245606   \n",
       "11  22.37       1.170612       1.181472       1.172023       1.175254   \n",
       "12  22.95       1.106950       1.117502       1.107003       1.110526   \n",
       "13  23.53       1.048212       1.058466       1.047082       1.050848   \n",
       "14  24.11       0.993910       1.003874       0.991747       0.995716   \n",
       "15  24.68       0.944449       0.954138       0.941399       0.945533   \n",
       "16  25.26       0.897719       0.907137       0.893882       0.898153   \n",
       "17  25.84       0.854284       0.863441       0.849762       0.854143   \n",
       "18  26.42       0.813847       0.822751       0.808727       0.813196   \n",
       "19  27.00       0.776141       0.784801       0.770502       0.775038   \n",
       "\n",
       "    cantidad_seg4  costo  costo_seg0  costo_seg1  costo_seg2  ...  \\\n",
       "0        2.444356     17   12.435197   12.645411   13.024441  ...   \n",
       "1        2.262313     17    9.975583   10.154355   10.400779  ...   \n",
       "2        2.099408     17    8.063346    8.215768    8.370128  ...   \n",
       "3        1.953079     17    6.563944    6.694261    6.784758  ...   \n",
       "4        1.821178     17    5.378847    5.490587    5.536953  ...   \n",
       "5        1.703849     17    4.449709    4.546053    4.562581  ...   \n",
       "6        1.595455     17    3.690130    3.773227    3.769121  ...   \n",
       "7        1.496843     17    3.077075    3.148958    3.131160  ...   \n",
       "8        1.406884     17    2.579199    2.641563    2.614973  ...   \n",
       "9        1.324605     17    2.172486    2.226747    2.194818  ...   \n",
       "10       1.249168     17    1.838400    1.885743    1.850897  ...   \n",
       "11       1.179843     17    1.562529    1.603949    1.567871  ...   \n",
       "12       1.115995     17    1.333594    1.369929    1.333778  ...   \n",
       "13       1.057069     17    1.142712    1.174667    1.139225  ...   \n",
       "14       1.002579     17    0.982841    1.011016    0.976794  ...   \n",
       "15       0.952932     17    0.850501    0.875456    0.842744  ...   \n",
       "16       0.906016     17    0.736608    0.758715    0.727724  ...   \n",
       "17       0.862397     17    0.640052    0.659681    0.630498  ...   \n",
       "18       0.821777     17    0.557890    0.575358    0.548004  ...   \n",
       "19       0.783892     17    0.487728    0.503306    0.477756  ...   \n",
       "\n",
       "    ingresos_seg0  ingresos_seg1  ingresos_seg2  ingresos_seg3  ingresos_seg4  \\\n",
       "0       11.782283      11.977163      12.328370      12.233003      11.918470   \n",
       "1        9.775029       9.948646      10.187921      10.124868       9.900427   \n",
       "2        8.119188       8.273178       8.429135       8.389909       8.233532   \n",
       "3        6.752338       6.888431       6.982964       6.961107       6.855803   \n",
       "4        5.623090       5.743020       5.792803       5.783429       5.716140   \n",
       "5        4.703867       4.809545       4.827683       4.826985       4.787302   \n",
       "6        3.928195       4.020938       4.016353       4.021746       4.002572   \n",
       "7        3.285254       3.366525       3.346391       3.355820       3.351341   \n",
       "8        2.751648       2.822785       2.792439       2.804391       2.810217   \n",
       "9        2.308190       2.370403       2.333780       2.347152       2.359987   \n",
       "10       1.939141       1.993515       1.953482       1.967483       1.984870   \n",
       "11       1.631578       1.679079       1.637698       1.651769       1.671897   \n",
       "12       1.374886       1.416373       1.375095       1.388853       1.410396   \n",
       "13       1.160336       1.196565       1.156390       1.169579       1.191586   \n",
       "14       0.980745       1.012383       0.973969       0.986430       1.008230   \n",
       "15       0.832572       0.860268       0.823985       0.835641       0.856788   \n",
       "16       0.705796       0.729990       0.696102       0.706899       0.727079   \n",
       "17       0.599206       0.620346       0.588952       0.598884       0.617909   \n",
       "18       0.509455       0.527933       0.499037       0.508122       0.525890   \n",
       "19       0.433772       0.449930       0.423472       0.431745       0.448214   \n",
       "\n",
       "    rentabilidad_seg0  rentabilidad_seg1  rentabilidad_seg2  \\\n",
       "0           -0.652913          -0.668248          -0.696071   \n",
       "1           -0.200554          -0.205709          -0.212858   \n",
       "2            0.055842           0.057410           0.059007   \n",
       "3            0.188394           0.194171           0.198206   \n",
       "4            0.244243           0.252433           0.255850   \n",
       "5            0.254158           0.263492           0.265102   \n",
       "6            0.238065           0.247711           0.247232   \n",
       "7            0.208178           0.217566           0.215232   \n",
       "8            0.172449           0.181222           0.177467   \n",
       "9            0.135704           0.143656           0.138962   \n",
       "10           0.100741           0.107772           0.102585   \n",
       "11           0.069049           0.075131           0.069827   \n",
       "12           0.041292           0.046444           0.041318   \n",
       "13           0.017625           0.021898           0.017165   \n",
       "14          -0.002096           0.001367          -0.002824   \n",
       "15          -0.017929          -0.015188          -0.018759   \n",
       "16          -0.030811          -0.028725          -0.031621   \n",
       "17          -0.040846          -0.039335          -0.041546   \n",
       "18          -0.048435          -0.047424          -0.048967   \n",
       "19          -0.053956          -0.053375          -0.054284   \n",
       "\n",
       "    rentabilidad_seg3  rentabilidad_seg4  \n",
       "0           -0.688492          -0.663621  \n",
       "1           -0.210969          -0.204274  \n",
       "2            0.058605           0.057005  \n",
       "3            0.197271           0.192782  \n",
       "4            0.255206           0.250592  \n",
       "5            0.265040           0.261521  \n",
       "6            0.247796           0.245794  \n",
       "7            0.216324           0.215805  \n",
       "8            0.178943           0.179664  \n",
       "9            0.140672           0.142317  \n",
       "10           0.104393           0.106647  \n",
       "11           0.071621           0.074204  \n",
       "12           0.043015           0.045695  \n",
       "13           0.018705           0.021305  \n",
       "14          -0.001481           0.000907  \n",
       "15          -0.017630          -0.015538  \n",
       "16          -0.030718          -0.028981  \n",
       "17          -0.040868          -0.039514  \n",
       "18          -0.048504          -0.047540  \n",
       "19          -0.054023          -0.053441  \n",
       "\n",
       "[20 rows x 22 columns]"
      ]
     },
     "execution_count": 221,
     "metadata": {},
     "output_type": "execute_result"
    }
   ],
   "source": [
    "df_elasticidad"
   ]
  },
  {
   "cell_type": "code",
   "execution_count": 222,
   "metadata": {},
   "outputs": [
    {
     "data": {
      "application/vnd.plotly.v1+json": {
       "config": {
        "plotlyServerURL": "https://plot.ly"
       },
       "data": [
        {
         "hovertemplate": "variable=ingresos_seg0<br>tasa=%{x}<br>Ingresos=%{y}<extra></extra>",
         "legendgroup": "ingresos_seg0",
         "line": {
          "color": "#636efa",
          "dash": "solid"
         },
         "marker": {
          "symbol": "circle"
         },
         "mode": "lines",
         "name": "ingresos_seg0",
         "orientation": "v",
         "showlegend": true,
         "type": "scatter",
         "x": [
          16,
          16.58,
          17.16,
          17.74,
          18.32,
          18.89,
          19.47,
          20.05,
          20.63,
          21.21,
          21.79,
          22.37,
          22.95,
          23.53,
          24.11,
          24.68,
          25.26,
          25.84,
          26.42,
          27
         ],
         "xaxis": "x",
         "y": [
          11.782283306375303,
          9.775029007542589,
          8.119188492557834,
          6.752338002516207,
          5.623089846941665,
          4.703866581753906,
          3.928195370218019,
          3.2852538191132594,
          2.751647679708792,
          2.3081904849956016,
          1.9391411763062727,
          1.6315780357795773,
          1.3748857982121423,
          1.1603361891854158,
          0.9807452484845225,
          0.832571905848806,
          0.7057961386385093,
          0.5992062045794057,
          0.5094553729094013,
          0.4337721241819571
         ],
         "yaxis": "y"
        },
        {
         "hovertemplate": "variable=ingresos_seg1<br>tasa=%{x}<br>Ingresos=%{y}<extra></extra>",
         "legendgroup": "ingresos_seg1",
         "line": {
          "color": "#EF553B",
          "dash": "solid"
         },
         "marker": {
          "symbol": "circle"
         },
         "mode": "lines",
         "name": "ingresos_seg1",
         "orientation": "v",
         "showlegend": true,
         "type": "scatter",
         "x": [
          16,
          16.58,
          17.16,
          17.74,
          18.32,
          18.89,
          19.47,
          20.05,
          20.63,
          21.21,
          21.79,
          22.37,
          22.95,
          23.53,
          24.11,
          24.68,
          25.26,
          25.84,
          26.42,
          27
         ],
         "xaxis": "x",
         "y": [
          11.977163429471512,
          9.948646078017841,
          8.27317820095948,
          6.888431436760904,
          5.743020343036729,
          4.809545029305992,
          4.020938157301608,
          3.3665249023577823,
          2.8227847550430814,
          2.3704032502219015,
          1.9935147264966497,
          1.6790794501025552,
          1.4163725478313811,
          1.1965654163942483,
          1.0123832739117413,
          0.8602680819543493,
          0.729989823433169,
          0.6203461954172207,
          0.5279334948845166,
          0.4499300914530263
         ],
         "yaxis": "y"
        },
        {
         "hovertemplate": "variable=ingresos_seg2<br>tasa=%{x}<br>Ingresos=%{y}<extra></extra>",
         "legendgroup": "ingresos_seg2",
         "line": {
          "color": "#00cc96",
          "dash": "solid"
         },
         "marker": {
          "symbol": "circle"
         },
         "mode": "lines",
         "name": "ingresos_seg2",
         "orientation": "v",
         "showlegend": true,
         "type": "scatter",
         "x": [
          16,
          16.58,
          17.16,
          17.74,
          18.32,
          18.89,
          19.47,
          20.05,
          20.63,
          21.21,
          21.79,
          22.37,
          22.95,
          23.53,
          24.11,
          24.68,
          25.26,
          25.84,
          26.42,
          27
         ],
         "xaxis": "x",
         "y": [
          12.328369866342102,
          10.18792126444107,
          8.429135438256711,
          6.982963822417147,
          5.792803291500221,
          4.827683194617687,
          4.0163529626833325,
          3.3463913066469044,
          2.792439460885625,
          2.333780342874778,
          1.9534821202344843,
          1.6376980560287666,
          1.375095408995317,
          1.1563903227759118,
          0.9739694072729205,
          0.8239851104160292,
          0.696102111552833,
          0.5889517644563513,
          0.49903712702276537,
          0.42347229135526565
         ],
         "yaxis": "y"
        },
        {
         "hovertemplate": "variable=ingresos_seg3<br>tasa=%{x}<br>Ingresos=%{y}<extra></extra>",
         "legendgroup": "ingresos_seg3",
         "line": {
          "color": "#ab63fa",
          "dash": "solid"
         },
         "marker": {
          "symbol": "circle"
         },
         "mode": "lines",
         "name": "ingresos_seg3",
         "orientation": "v",
         "showlegend": true,
         "type": "scatter",
         "x": [
          16,
          16.58,
          17.16,
          17.74,
          18.32,
          18.89,
          19.47,
          20.05,
          20.63,
          21.21,
          21.79,
          22.37,
          22.95,
          23.53,
          24.11,
          24.68,
          25.26,
          25.84,
          26.42,
          27
         ],
         "xaxis": "x",
         "y": [
          12.233003466239042,
          10.124868277715334,
          8.389909083526785,
          6.961107267600212,
          5.78342886935933,
          4.82698528385896,
          4.021745881875676,
          3.355820002061838,
          2.804390785403565,
          2.3471521800662094,
          1.967482762496362,
          1.6517690598930204,
          1.3888526151510105,
          1.169578894375253,
          0.9864296615315109,
          0.8356412223156229,
          0.7068992222899818,
          0.5988838278311033,
          0.5081224186461456,
          0.4317452485751754
         ],
         "yaxis": "y"
        },
        {
         "hovertemplate": "variable=ingresos_seg4<br>tasa=%{x}<br>Ingresos=%{y}<extra></extra>",
         "legendgroup": "ingresos_seg4",
         "line": {
          "color": "#FFA15A",
          "dash": "solid"
         },
         "marker": {
          "symbol": "circle"
         },
         "mode": "lines",
         "name": "ingresos_seg4",
         "orientation": "v",
         "showlegend": true,
         "type": "scatter",
         "x": [
          16,
          16.58,
          17.16,
          17.74,
          18.32,
          18.89,
          19.47,
          20.05,
          20.63,
          21.21,
          21.79,
          22.37,
          22.95,
          23.53,
          24.11,
          24.68,
          25.26,
          25.84,
          26.42,
          27
         ],
         "xaxis": "x",
         "y": [
          11.918469552926533,
          9.90042722251756,
          8.233532226734528,
          6.855803428210085,
          5.716140152522356,
          4.787301921902632,
          4.002571940730688,
          3.3513414014257785,
          2.8102167289343263,
          2.359986889413358,
          1.9848704997982327,
          1.671896514375311,
          1.4103960663440527,
          1.191586246424015,
          1.008229581105988,
          0.8567877754484091,
          0.7270790618867969,
          0.6179086717627248,
          0.525889697706712,
          0.44821429238408006
         ],
         "yaxis": "y"
        }
       ],
       "layout": {
        "height": 600,
        "legend": {
         "title": {
          "text": "variable"
         },
         "tracegroupgap": 0
        },
        "template": {
         "data": {
          "bar": [
           {
            "error_x": {
             "color": "#2a3f5f"
            },
            "error_y": {
             "color": "#2a3f5f"
            },
            "marker": {
             "line": {
              "color": "#E5ECF6",
              "width": 0.5
             },
             "pattern": {
              "fillmode": "overlay",
              "size": 10,
              "solidity": 0.2
             }
            },
            "type": "bar"
           }
          ],
          "barpolar": [
           {
            "marker": {
             "line": {
              "color": "#E5ECF6",
              "width": 0.5
             },
             "pattern": {
              "fillmode": "overlay",
              "size": 10,
              "solidity": 0.2
             }
            },
            "type": "barpolar"
           }
          ],
          "carpet": [
           {
            "aaxis": {
             "endlinecolor": "#2a3f5f",
             "gridcolor": "white",
             "linecolor": "white",
             "minorgridcolor": "white",
             "startlinecolor": "#2a3f5f"
            },
            "baxis": {
             "endlinecolor": "#2a3f5f",
             "gridcolor": "white",
             "linecolor": "white",
             "minorgridcolor": "white",
             "startlinecolor": "#2a3f5f"
            },
            "type": "carpet"
           }
          ],
          "choropleth": [
           {
            "colorbar": {
             "outlinewidth": 0,
             "ticks": ""
            },
            "type": "choropleth"
           }
          ],
          "contour": [
           {
            "colorbar": {
             "outlinewidth": 0,
             "ticks": ""
            },
            "colorscale": [
             [
              0,
              "#0d0887"
             ],
             [
              0.1111111111111111,
              "#46039f"
             ],
             [
              0.2222222222222222,
              "#7201a8"
             ],
             [
              0.3333333333333333,
              "#9c179e"
             ],
             [
              0.4444444444444444,
              "#bd3786"
             ],
             [
              0.5555555555555556,
              "#d8576b"
             ],
             [
              0.6666666666666666,
              "#ed7953"
             ],
             [
              0.7777777777777778,
              "#fb9f3a"
             ],
             [
              0.8888888888888888,
              "#fdca26"
             ],
             [
              1,
              "#f0f921"
             ]
            ],
            "type": "contour"
           }
          ],
          "contourcarpet": [
           {
            "colorbar": {
             "outlinewidth": 0,
             "ticks": ""
            },
            "type": "contourcarpet"
           }
          ],
          "heatmap": [
           {
            "colorbar": {
             "outlinewidth": 0,
             "ticks": ""
            },
            "colorscale": [
             [
              0,
              "#0d0887"
             ],
             [
              0.1111111111111111,
              "#46039f"
             ],
             [
              0.2222222222222222,
              "#7201a8"
             ],
             [
              0.3333333333333333,
              "#9c179e"
             ],
             [
              0.4444444444444444,
              "#bd3786"
             ],
             [
              0.5555555555555556,
              "#d8576b"
             ],
             [
              0.6666666666666666,
              "#ed7953"
             ],
             [
              0.7777777777777778,
              "#fb9f3a"
             ],
             [
              0.8888888888888888,
              "#fdca26"
             ],
             [
              1,
              "#f0f921"
             ]
            ],
            "type": "heatmap"
           }
          ],
          "heatmapgl": [
           {
            "colorbar": {
             "outlinewidth": 0,
             "ticks": ""
            },
            "colorscale": [
             [
              0,
              "#0d0887"
             ],
             [
              0.1111111111111111,
              "#46039f"
             ],
             [
              0.2222222222222222,
              "#7201a8"
             ],
             [
              0.3333333333333333,
              "#9c179e"
             ],
             [
              0.4444444444444444,
              "#bd3786"
             ],
             [
              0.5555555555555556,
              "#d8576b"
             ],
             [
              0.6666666666666666,
              "#ed7953"
             ],
             [
              0.7777777777777778,
              "#fb9f3a"
             ],
             [
              0.8888888888888888,
              "#fdca26"
             ],
             [
              1,
              "#f0f921"
             ]
            ],
            "type": "heatmapgl"
           }
          ],
          "histogram": [
           {
            "marker": {
             "pattern": {
              "fillmode": "overlay",
              "size": 10,
              "solidity": 0.2
             }
            },
            "type": "histogram"
           }
          ],
          "histogram2d": [
           {
            "colorbar": {
             "outlinewidth": 0,
             "ticks": ""
            },
            "colorscale": [
             [
              0,
              "#0d0887"
             ],
             [
              0.1111111111111111,
              "#46039f"
             ],
             [
              0.2222222222222222,
              "#7201a8"
             ],
             [
              0.3333333333333333,
              "#9c179e"
             ],
             [
              0.4444444444444444,
              "#bd3786"
             ],
             [
              0.5555555555555556,
              "#d8576b"
             ],
             [
              0.6666666666666666,
              "#ed7953"
             ],
             [
              0.7777777777777778,
              "#fb9f3a"
             ],
             [
              0.8888888888888888,
              "#fdca26"
             ],
             [
              1,
              "#f0f921"
             ]
            ],
            "type": "histogram2d"
           }
          ],
          "histogram2dcontour": [
           {
            "colorbar": {
             "outlinewidth": 0,
             "ticks": ""
            },
            "colorscale": [
             [
              0,
              "#0d0887"
             ],
             [
              0.1111111111111111,
              "#46039f"
             ],
             [
              0.2222222222222222,
              "#7201a8"
             ],
             [
              0.3333333333333333,
              "#9c179e"
             ],
             [
              0.4444444444444444,
              "#bd3786"
             ],
             [
              0.5555555555555556,
              "#d8576b"
             ],
             [
              0.6666666666666666,
              "#ed7953"
             ],
             [
              0.7777777777777778,
              "#fb9f3a"
             ],
             [
              0.8888888888888888,
              "#fdca26"
             ],
             [
              1,
              "#f0f921"
             ]
            ],
            "type": "histogram2dcontour"
           }
          ],
          "mesh3d": [
           {
            "colorbar": {
             "outlinewidth": 0,
             "ticks": ""
            },
            "type": "mesh3d"
           }
          ],
          "parcoords": [
           {
            "line": {
             "colorbar": {
              "outlinewidth": 0,
              "ticks": ""
             }
            },
            "type": "parcoords"
           }
          ],
          "pie": [
           {
            "automargin": true,
            "type": "pie"
           }
          ],
          "scatter": [
           {
            "fillpattern": {
             "fillmode": "overlay",
             "size": 10,
             "solidity": 0.2
            },
            "type": "scatter"
           }
          ],
          "scatter3d": [
           {
            "line": {
             "colorbar": {
              "outlinewidth": 0,
              "ticks": ""
             }
            },
            "marker": {
             "colorbar": {
              "outlinewidth": 0,
              "ticks": ""
             }
            },
            "type": "scatter3d"
           }
          ],
          "scattercarpet": [
           {
            "marker": {
             "colorbar": {
              "outlinewidth": 0,
              "ticks": ""
             }
            },
            "type": "scattercarpet"
           }
          ],
          "scattergeo": [
           {
            "marker": {
             "colorbar": {
              "outlinewidth": 0,
              "ticks": ""
             }
            },
            "type": "scattergeo"
           }
          ],
          "scattergl": [
           {
            "marker": {
             "colorbar": {
              "outlinewidth": 0,
              "ticks": ""
             }
            },
            "type": "scattergl"
           }
          ],
          "scattermapbox": [
           {
            "marker": {
             "colorbar": {
              "outlinewidth": 0,
              "ticks": ""
             }
            },
            "type": "scattermapbox"
           }
          ],
          "scatterpolar": [
           {
            "marker": {
             "colorbar": {
              "outlinewidth": 0,
              "ticks": ""
             }
            },
            "type": "scatterpolar"
           }
          ],
          "scatterpolargl": [
           {
            "marker": {
             "colorbar": {
              "outlinewidth": 0,
              "ticks": ""
             }
            },
            "type": "scatterpolargl"
           }
          ],
          "scatterternary": [
           {
            "marker": {
             "colorbar": {
              "outlinewidth": 0,
              "ticks": ""
             }
            },
            "type": "scatterternary"
           }
          ],
          "surface": [
           {
            "colorbar": {
             "outlinewidth": 0,
             "ticks": ""
            },
            "colorscale": [
             [
              0,
              "#0d0887"
             ],
             [
              0.1111111111111111,
              "#46039f"
             ],
             [
              0.2222222222222222,
              "#7201a8"
             ],
             [
              0.3333333333333333,
              "#9c179e"
             ],
             [
              0.4444444444444444,
              "#bd3786"
             ],
             [
              0.5555555555555556,
              "#d8576b"
             ],
             [
              0.6666666666666666,
              "#ed7953"
             ],
             [
              0.7777777777777778,
              "#fb9f3a"
             ],
             [
              0.8888888888888888,
              "#fdca26"
             ],
             [
              1,
              "#f0f921"
             ]
            ],
            "type": "surface"
           }
          ],
          "table": [
           {
            "cells": {
             "fill": {
              "color": "#EBF0F8"
             },
             "line": {
              "color": "white"
             }
            },
            "header": {
             "fill": {
              "color": "#C8D4E3"
             },
             "line": {
              "color": "white"
             }
            },
            "type": "table"
           }
          ]
         },
         "layout": {
          "annotationdefaults": {
           "arrowcolor": "#2a3f5f",
           "arrowhead": 0,
           "arrowwidth": 1
          },
          "autotypenumbers": "strict",
          "coloraxis": {
           "colorbar": {
            "outlinewidth": 0,
            "ticks": ""
           }
          },
          "colorscale": {
           "diverging": [
            [
             0,
             "#8e0152"
            ],
            [
             0.1,
             "#c51b7d"
            ],
            [
             0.2,
             "#de77ae"
            ],
            [
             0.3,
             "#f1b6da"
            ],
            [
             0.4,
             "#fde0ef"
            ],
            [
             0.5,
             "#f7f7f7"
            ],
            [
             0.6,
             "#e6f5d0"
            ],
            [
             0.7,
             "#b8e186"
            ],
            [
             0.8,
             "#7fbc41"
            ],
            [
             0.9,
             "#4d9221"
            ],
            [
             1,
             "#276419"
            ]
           ],
           "sequential": [
            [
             0,
             "#0d0887"
            ],
            [
             0.1111111111111111,
             "#46039f"
            ],
            [
             0.2222222222222222,
             "#7201a8"
            ],
            [
             0.3333333333333333,
             "#9c179e"
            ],
            [
             0.4444444444444444,
             "#bd3786"
            ],
            [
             0.5555555555555556,
             "#d8576b"
            ],
            [
             0.6666666666666666,
             "#ed7953"
            ],
            [
             0.7777777777777778,
             "#fb9f3a"
            ],
            [
             0.8888888888888888,
             "#fdca26"
            ],
            [
             1,
             "#f0f921"
            ]
           ],
           "sequentialminus": [
            [
             0,
             "#0d0887"
            ],
            [
             0.1111111111111111,
             "#46039f"
            ],
            [
             0.2222222222222222,
             "#7201a8"
            ],
            [
             0.3333333333333333,
             "#9c179e"
            ],
            [
             0.4444444444444444,
             "#bd3786"
            ],
            [
             0.5555555555555556,
             "#d8576b"
            ],
            [
             0.6666666666666666,
             "#ed7953"
            ],
            [
             0.7777777777777778,
             "#fb9f3a"
            ],
            [
             0.8888888888888888,
             "#fdca26"
            ],
            [
             1,
             "#f0f921"
            ]
           ]
          },
          "colorway": [
           "#636efa",
           "#EF553B",
           "#00cc96",
           "#ab63fa",
           "#FFA15A",
           "#19d3f3",
           "#FF6692",
           "#B6E880",
           "#FF97FF",
           "#FECB52"
          ],
          "font": {
           "color": "#2a3f5f"
          },
          "geo": {
           "bgcolor": "white",
           "lakecolor": "white",
           "landcolor": "#E5ECF6",
           "showlakes": true,
           "showland": true,
           "subunitcolor": "white"
          },
          "hoverlabel": {
           "align": "left"
          },
          "hovermode": "closest",
          "mapbox": {
           "style": "light"
          },
          "paper_bgcolor": "white",
          "plot_bgcolor": "#E5ECF6",
          "polar": {
           "angularaxis": {
            "gridcolor": "white",
            "linecolor": "white",
            "ticks": ""
           },
           "bgcolor": "#E5ECF6",
           "radialaxis": {
            "gridcolor": "white",
            "linecolor": "white",
            "ticks": ""
           }
          },
          "scene": {
           "xaxis": {
            "backgroundcolor": "#E5ECF6",
            "gridcolor": "white",
            "gridwidth": 2,
            "linecolor": "white",
            "showbackground": true,
            "ticks": "",
            "zerolinecolor": "white"
           },
           "yaxis": {
            "backgroundcolor": "#E5ECF6",
            "gridcolor": "white",
            "gridwidth": 2,
            "linecolor": "white",
            "showbackground": true,
            "ticks": "",
            "zerolinecolor": "white"
           },
           "zaxis": {
            "backgroundcolor": "#E5ECF6",
            "gridcolor": "white",
            "gridwidth": 2,
            "linecolor": "white",
            "showbackground": true,
            "ticks": "",
            "zerolinecolor": "white"
           }
          },
          "shapedefaults": {
           "line": {
            "color": "#2a3f5f"
           }
          },
          "ternary": {
           "aaxis": {
            "gridcolor": "white",
            "linecolor": "white",
            "ticks": ""
           },
           "baxis": {
            "gridcolor": "white",
            "linecolor": "white",
            "ticks": ""
           },
           "bgcolor": "#E5ECF6",
           "caxis": {
            "gridcolor": "white",
            "linecolor": "white",
            "ticks": ""
           }
          },
          "title": {
           "x": 0.05
          },
          "xaxis": {
           "automargin": true,
           "gridcolor": "white",
           "linecolor": "white",
           "ticks": "",
           "title": {
            "standoff": 15
           },
           "zerolinecolor": "white",
           "zerolinewidth": 2
          },
          "yaxis": {
           "automargin": true,
           "gridcolor": "white",
           "linecolor": "white",
           "ticks": "",
           "title": {
            "standoff": 15
           },
           "zerolinecolor": "white",
           "zerolinewidth": 2
          }
         }
        },
        "title": {
         "text": "Curva de Ingresos"
        },
        "width": 800,
        "xaxis": {
         "anchor": "y",
         "domain": [
          0,
          1
         ],
         "title": {
          "text": "tasa"
         }
        },
        "yaxis": {
         "anchor": "x",
         "domain": [
          0,
          1
         ],
         "title": {
          "text": "Ingresos"
         }
        }
       }
      }
     },
     "metadata": {},
     "output_type": "display_data"
    }
   ],
   "source": [
    "# Graficamos las curvas de Precio-Ingresos\n",
    "fig = px.line(df_elasticidad, x='irr', y=['ingresos_seg0', 'ingresos_seg1',\n",
    "                                             'ingresos_seg2', 'ingresos_seg3', 'ingresos_seg4'],\n",
    "              labels={'irr':'tasa', 'value':'Ingresos'},\n",
    "              title='Curva de Ingresos',\n",
    "              width=800, height=600)\n",
    "\n",
    "fig.show()"
   ]
  },
  {
   "cell_type": "code",
   "execution_count": 223,
   "metadata": {},
   "outputs": [
    {
     "data": {
      "application/vnd.plotly.v1+json": {
       "config": {
        "plotlyServerURL": "https://plot.ly"
       },
       "data": [
        {
         "hovertemplate": "variable=rentabilidad_seg0<br>tasa=%{x}<br>Rentabilidad=%{y}<extra></extra>",
         "legendgroup": "rentabilidad_seg0",
         "line": {
          "color": "#636efa",
          "dash": "solid"
         },
         "marker": {
          "symbol": "circle"
         },
         "mode": "lines",
         "name": "rentabilidad_seg0",
         "orientation": "v",
         "showlegend": true,
         "type": "scatter",
         "x": [
          16,
          16.58,
          17.16,
          17.74,
          18.32,
          18.89,
          19.47,
          20.05,
          20.63,
          21.21,
          21.79,
          22.37,
          22.95,
          23.53,
          24.11,
          24.68,
          25.26,
          25.84,
          26.42,
          27
         ],
         "xaxis": "x",
         "y": [
          -0.6529132484872147,
          -0.20055429065862818,
          0.055842092250347974,
          0.18839426922281266,
          0.24424315748499126,
          0.25415755563863485,
          0.23806526376099102,
          0.20817845412480995,
          0.17244868484586995,
          0.13570426082772924,
          0.1007413224363558,
          0.06904923582368605,
          0.04129174102807642,
          0.017624679829124412,
          -0.002095687726033524,
          -0.01792901308368111,
          -0.030811422190349824,
          -0.04084552252769791,
          -0.04843459943413175,
          -0.0539559796905798
         ],
         "yaxis": "y"
        },
        {
         "hovertemplate": "variable=rentabilidad_seg1<br>tasa=%{x}<br>Rentabilidad=%{y}<extra></extra>",
         "legendgroup": "rentabilidad_seg1",
         "line": {
          "color": "#EF553B",
          "dash": "solid"
         },
         "marker": {
          "symbol": "circle"
         },
         "mode": "lines",
         "name": "rentabilidad_seg1",
         "orientation": "v",
         "showlegend": true,
         "type": "scatter",
         "x": [
          16,
          16.58,
          17.16,
          17.74,
          18.32,
          18.89,
          19.47,
          20.05,
          20.63,
          21.21,
          21.79,
          22.37,
          22.95,
          23.53,
          24.11,
          24.68,
          25.26,
          25.84,
          26.42,
          27
         ],
         "xaxis": "x",
         "y": [
          -0.6682476263728443,
          -0.2057088128389779,
          0.0574099192015769,
          0.1941708101505233,
          0.25243295361059026,
          0.26349230450355776,
          0.24771136306501695,
          0.2175664872364571,
          0.18122154874292784,
          0.14365602846878867,
          0.10777181161588034,
          0.07513055984019124,
          0.046443919336357276,
          0.021898046851763553,
          0.0013669909441229589,
          -0.015187920309501335,
          -0.02872515521452257,
          -0.03933496918179302,
          -0.04742423459923928,
          -0.053375426863482955
         ],
         "yaxis": "y"
        },
        {
         "hovertemplate": "variable=rentabilidad_seg2<br>tasa=%{x}<br>Rentabilidad=%{y}<extra></extra>",
         "legendgroup": "rentabilidad_seg2",
         "line": {
          "color": "#00cc96",
          "dash": "solid"
         },
         "marker": {
          "symbol": "circle"
         },
         "mode": "lines",
         "name": "rentabilidad_seg2",
         "orientation": "v",
         "showlegend": true,
         "type": "scatter",
         "x": [
          16,
          16.58,
          17.16,
          17.74,
          18.32,
          18.89,
          19.47,
          20.05,
          20.63,
          21.21,
          21.79,
          22.37,
          22.95,
          23.53,
          24.11,
          24.68,
          25.26,
          25.84,
          26.42,
          27
         ],
         "xaxis": "x",
         "y": [
          -0.6960708206013173,
          -0.21285811334385052,
          0.059007307276253584,
          0.1982057703184399,
          0.2558502179618882,
          0.2651021593211649,
          0.24723238643980805,
          0.21523176490314944,
          0.17746682521677126,
          0.13896237965862523,
          0.10258533941239478,
          0.06982683060346884,
          0.041317510846960115,
          0.017165399596217545,
          -0.0028244042823704074,
          -0.018759373339058305,
          -0.031621420162203706,
          -0.04154627624297136,
          -0.0489667731484833,
          -0.05428364337176733
         ],
         "yaxis": "y"
        },
        {
         "hovertemplate": "variable=rentabilidad_seg3<br>tasa=%{x}<br>Rentabilidad=%{y}<extra></extra>",
         "legendgroup": "rentabilidad_seg3",
         "line": {
          "color": "#ab63fa",
          "dash": "solid"
         },
         "marker": {
          "symbol": "circle"
         },
         "mode": "lines",
         "name": "rentabilidad_seg3",
         "orientation": "v",
         "showlegend": true,
         "type": "scatter",
         "x": [
          16,
          16.58,
          17.16,
          17.74,
          18.32,
          18.89,
          19.47,
          20.05,
          20.63,
          21.21,
          21.79,
          22.37,
          22.95,
          23.53,
          24.11,
          24.68,
          25.26,
          25.84,
          26.42,
          27
         ],
         "xaxis": "x",
         "y": [
          -0.688492087711472,
          -0.2109691006943315,
          0.05860463948995687,
          0.19727123683132586,
          0.25520594123491414,
          0.2650401749145104,
          0.24779576141380177,
          0.21632439912339407,
          0.17894340767975025,
          0.1406719579570761,
          0.10439272711113912,
          0.07162133339410492,
          0.04301468735483516,
          0.01870525532992917,
          -0.0014808120103289024,
          -0.017629943163818718,
          -0.030718300707260893,
          -0.0408678749547694,
          -0.04850421805541083,
          -0.05402311075755267
         ],
         "yaxis": "y"
        },
        {
         "hovertemplate": "variable=rentabilidad_seg4<br>tasa=%{x}<br>Rentabilidad=%{y}<extra></extra>",
         "legendgroup": "rentabilidad_seg4",
         "line": {
          "color": "#FFA15A",
          "dash": "solid"
         },
         "marker": {
          "symbol": "circle"
         },
         "mode": "lines",
         "name": "rentabilidad_seg4",
         "orientation": "v",
         "showlegend": true,
         "type": "scatter",
         "x": [
          16,
          16.58,
          17.16,
          17.74,
          18.32,
          18.89,
          19.47,
          20.05,
          20.63,
          21.21,
          21.79,
          22.37,
          22.95,
          23.53,
          24.11,
          24.68,
          25.26,
          25.84,
          26.42,
          27
         ],
         "xaxis": "x",
         "y": [
          -0.6636213011085914,
          -0.20427443341709584,
          0.05700536794744693,
          0.19278239608473502,
          0.2505921010222236,
          0.2615211686947685,
          0.24579408972675054,
          0.21580524035662263,
          0.17966423670142273,
          0.14231739106653984,
          0.10664708798869893,
          0.07420425767817318,
          0.045695355267342475,
          0.02130476668025061,
          0.000906806545434069,
          -0.015537559064172646,
          -0.02898096784484383,
          -0.03951358899570834,
          -0.04754008784297847,
          -0.05344084939901805
         ],
         "yaxis": "y"
        }
       ],
       "layout": {
        "height": 600,
        "legend": {
         "title": {
          "text": "variable"
         },
         "tracegroupgap": 0
        },
        "shapes": [
         {
          "line": {
           "color": "red",
           "dash": "dash",
           "width": 2
          },
          "opacity": 0.5,
          "type": "line",
          "x0": 17,
          "x1": 17,
          "xref": "x",
          "y0": 0,
          "y1": 1,
          "yref": "y domain"
         }
        ],
        "template": {
         "data": {
          "bar": [
           {
            "error_x": {
             "color": "#2a3f5f"
            },
            "error_y": {
             "color": "#2a3f5f"
            },
            "marker": {
             "line": {
              "color": "#E5ECF6",
              "width": 0.5
             },
             "pattern": {
              "fillmode": "overlay",
              "size": 10,
              "solidity": 0.2
             }
            },
            "type": "bar"
           }
          ],
          "barpolar": [
           {
            "marker": {
             "line": {
              "color": "#E5ECF6",
              "width": 0.5
             },
             "pattern": {
              "fillmode": "overlay",
              "size": 10,
              "solidity": 0.2
             }
            },
            "type": "barpolar"
           }
          ],
          "carpet": [
           {
            "aaxis": {
             "endlinecolor": "#2a3f5f",
             "gridcolor": "white",
             "linecolor": "white",
             "minorgridcolor": "white",
             "startlinecolor": "#2a3f5f"
            },
            "baxis": {
             "endlinecolor": "#2a3f5f",
             "gridcolor": "white",
             "linecolor": "white",
             "minorgridcolor": "white",
             "startlinecolor": "#2a3f5f"
            },
            "type": "carpet"
           }
          ],
          "choropleth": [
           {
            "colorbar": {
             "outlinewidth": 0,
             "ticks": ""
            },
            "type": "choropleth"
           }
          ],
          "contour": [
           {
            "colorbar": {
             "outlinewidth": 0,
             "ticks": ""
            },
            "colorscale": [
             [
              0,
              "#0d0887"
             ],
             [
              0.1111111111111111,
              "#46039f"
             ],
             [
              0.2222222222222222,
              "#7201a8"
             ],
             [
              0.3333333333333333,
              "#9c179e"
             ],
             [
              0.4444444444444444,
              "#bd3786"
             ],
             [
              0.5555555555555556,
              "#d8576b"
             ],
             [
              0.6666666666666666,
              "#ed7953"
             ],
             [
              0.7777777777777778,
              "#fb9f3a"
             ],
             [
              0.8888888888888888,
              "#fdca26"
             ],
             [
              1,
              "#f0f921"
             ]
            ],
            "type": "contour"
           }
          ],
          "contourcarpet": [
           {
            "colorbar": {
             "outlinewidth": 0,
             "ticks": ""
            },
            "type": "contourcarpet"
           }
          ],
          "heatmap": [
           {
            "colorbar": {
             "outlinewidth": 0,
             "ticks": ""
            },
            "colorscale": [
             [
              0,
              "#0d0887"
             ],
             [
              0.1111111111111111,
              "#46039f"
             ],
             [
              0.2222222222222222,
              "#7201a8"
             ],
             [
              0.3333333333333333,
              "#9c179e"
             ],
             [
              0.4444444444444444,
              "#bd3786"
             ],
             [
              0.5555555555555556,
              "#d8576b"
             ],
             [
              0.6666666666666666,
              "#ed7953"
             ],
             [
              0.7777777777777778,
              "#fb9f3a"
             ],
             [
              0.8888888888888888,
              "#fdca26"
             ],
             [
              1,
              "#f0f921"
             ]
            ],
            "type": "heatmap"
           }
          ],
          "heatmapgl": [
           {
            "colorbar": {
             "outlinewidth": 0,
             "ticks": ""
            },
            "colorscale": [
             [
              0,
              "#0d0887"
             ],
             [
              0.1111111111111111,
              "#46039f"
             ],
             [
              0.2222222222222222,
              "#7201a8"
             ],
             [
              0.3333333333333333,
              "#9c179e"
             ],
             [
              0.4444444444444444,
              "#bd3786"
             ],
             [
              0.5555555555555556,
              "#d8576b"
             ],
             [
              0.6666666666666666,
              "#ed7953"
             ],
             [
              0.7777777777777778,
              "#fb9f3a"
             ],
             [
              0.8888888888888888,
              "#fdca26"
             ],
             [
              1,
              "#f0f921"
             ]
            ],
            "type": "heatmapgl"
           }
          ],
          "histogram": [
           {
            "marker": {
             "pattern": {
              "fillmode": "overlay",
              "size": 10,
              "solidity": 0.2
             }
            },
            "type": "histogram"
           }
          ],
          "histogram2d": [
           {
            "colorbar": {
             "outlinewidth": 0,
             "ticks": ""
            },
            "colorscale": [
             [
              0,
              "#0d0887"
             ],
             [
              0.1111111111111111,
              "#46039f"
             ],
             [
              0.2222222222222222,
              "#7201a8"
             ],
             [
              0.3333333333333333,
              "#9c179e"
             ],
             [
              0.4444444444444444,
              "#bd3786"
             ],
             [
              0.5555555555555556,
              "#d8576b"
             ],
             [
              0.6666666666666666,
              "#ed7953"
             ],
             [
              0.7777777777777778,
              "#fb9f3a"
             ],
             [
              0.8888888888888888,
              "#fdca26"
             ],
             [
              1,
              "#f0f921"
             ]
            ],
            "type": "histogram2d"
           }
          ],
          "histogram2dcontour": [
           {
            "colorbar": {
             "outlinewidth": 0,
             "ticks": ""
            },
            "colorscale": [
             [
              0,
              "#0d0887"
             ],
             [
              0.1111111111111111,
              "#46039f"
             ],
             [
              0.2222222222222222,
              "#7201a8"
             ],
             [
              0.3333333333333333,
              "#9c179e"
             ],
             [
              0.4444444444444444,
              "#bd3786"
             ],
             [
              0.5555555555555556,
              "#d8576b"
             ],
             [
              0.6666666666666666,
              "#ed7953"
             ],
             [
              0.7777777777777778,
              "#fb9f3a"
             ],
             [
              0.8888888888888888,
              "#fdca26"
             ],
             [
              1,
              "#f0f921"
             ]
            ],
            "type": "histogram2dcontour"
           }
          ],
          "mesh3d": [
           {
            "colorbar": {
             "outlinewidth": 0,
             "ticks": ""
            },
            "type": "mesh3d"
           }
          ],
          "parcoords": [
           {
            "line": {
             "colorbar": {
              "outlinewidth": 0,
              "ticks": ""
             }
            },
            "type": "parcoords"
           }
          ],
          "pie": [
           {
            "automargin": true,
            "type": "pie"
           }
          ],
          "scatter": [
           {
            "fillpattern": {
             "fillmode": "overlay",
             "size": 10,
             "solidity": 0.2
            },
            "type": "scatter"
           }
          ],
          "scatter3d": [
           {
            "line": {
             "colorbar": {
              "outlinewidth": 0,
              "ticks": ""
             }
            },
            "marker": {
             "colorbar": {
              "outlinewidth": 0,
              "ticks": ""
             }
            },
            "type": "scatter3d"
           }
          ],
          "scattercarpet": [
           {
            "marker": {
             "colorbar": {
              "outlinewidth": 0,
              "ticks": ""
             }
            },
            "type": "scattercarpet"
           }
          ],
          "scattergeo": [
           {
            "marker": {
             "colorbar": {
              "outlinewidth": 0,
              "ticks": ""
             }
            },
            "type": "scattergeo"
           }
          ],
          "scattergl": [
           {
            "marker": {
             "colorbar": {
              "outlinewidth": 0,
              "ticks": ""
             }
            },
            "type": "scattergl"
           }
          ],
          "scattermapbox": [
           {
            "marker": {
             "colorbar": {
              "outlinewidth": 0,
              "ticks": ""
             }
            },
            "type": "scattermapbox"
           }
          ],
          "scatterpolar": [
           {
            "marker": {
             "colorbar": {
              "outlinewidth": 0,
              "ticks": ""
             }
            },
            "type": "scatterpolar"
           }
          ],
          "scatterpolargl": [
           {
            "marker": {
             "colorbar": {
              "outlinewidth": 0,
              "ticks": ""
             }
            },
            "type": "scatterpolargl"
           }
          ],
          "scatterternary": [
           {
            "marker": {
             "colorbar": {
              "outlinewidth": 0,
              "ticks": ""
             }
            },
            "type": "scatterternary"
           }
          ],
          "surface": [
           {
            "colorbar": {
             "outlinewidth": 0,
             "ticks": ""
            },
            "colorscale": [
             [
              0,
              "#0d0887"
             ],
             [
              0.1111111111111111,
              "#46039f"
             ],
             [
              0.2222222222222222,
              "#7201a8"
             ],
             [
              0.3333333333333333,
              "#9c179e"
             ],
             [
              0.4444444444444444,
              "#bd3786"
             ],
             [
              0.5555555555555556,
              "#d8576b"
             ],
             [
              0.6666666666666666,
              "#ed7953"
             ],
             [
              0.7777777777777778,
              "#fb9f3a"
             ],
             [
              0.8888888888888888,
              "#fdca26"
             ],
             [
              1,
              "#f0f921"
             ]
            ],
            "type": "surface"
           }
          ],
          "table": [
           {
            "cells": {
             "fill": {
              "color": "#EBF0F8"
             },
             "line": {
              "color": "white"
             }
            },
            "header": {
             "fill": {
              "color": "#C8D4E3"
             },
             "line": {
              "color": "white"
             }
            },
            "type": "table"
           }
          ]
         },
         "layout": {
          "annotationdefaults": {
           "arrowcolor": "#2a3f5f",
           "arrowhead": 0,
           "arrowwidth": 1
          },
          "autotypenumbers": "strict",
          "coloraxis": {
           "colorbar": {
            "outlinewidth": 0,
            "ticks": ""
           }
          },
          "colorscale": {
           "diverging": [
            [
             0,
             "#8e0152"
            ],
            [
             0.1,
             "#c51b7d"
            ],
            [
             0.2,
             "#de77ae"
            ],
            [
             0.3,
             "#f1b6da"
            ],
            [
             0.4,
             "#fde0ef"
            ],
            [
             0.5,
             "#f7f7f7"
            ],
            [
             0.6,
             "#e6f5d0"
            ],
            [
             0.7,
             "#b8e186"
            ],
            [
             0.8,
             "#7fbc41"
            ],
            [
             0.9,
             "#4d9221"
            ],
            [
             1,
             "#276419"
            ]
           ],
           "sequential": [
            [
             0,
             "#0d0887"
            ],
            [
             0.1111111111111111,
             "#46039f"
            ],
            [
             0.2222222222222222,
             "#7201a8"
            ],
            [
             0.3333333333333333,
             "#9c179e"
            ],
            [
             0.4444444444444444,
             "#bd3786"
            ],
            [
             0.5555555555555556,
             "#d8576b"
            ],
            [
             0.6666666666666666,
             "#ed7953"
            ],
            [
             0.7777777777777778,
             "#fb9f3a"
            ],
            [
             0.8888888888888888,
             "#fdca26"
            ],
            [
             1,
             "#f0f921"
            ]
           ],
           "sequentialminus": [
            [
             0,
             "#0d0887"
            ],
            [
             0.1111111111111111,
             "#46039f"
            ],
            [
             0.2222222222222222,
             "#7201a8"
            ],
            [
             0.3333333333333333,
             "#9c179e"
            ],
            [
             0.4444444444444444,
             "#bd3786"
            ],
            [
             0.5555555555555556,
             "#d8576b"
            ],
            [
             0.6666666666666666,
             "#ed7953"
            ],
            [
             0.7777777777777778,
             "#fb9f3a"
            ],
            [
             0.8888888888888888,
             "#fdca26"
            ],
            [
             1,
             "#f0f921"
            ]
           ]
          },
          "colorway": [
           "#636efa",
           "#EF553B",
           "#00cc96",
           "#ab63fa",
           "#FFA15A",
           "#19d3f3",
           "#FF6692",
           "#B6E880",
           "#FF97FF",
           "#FECB52"
          ],
          "font": {
           "color": "#2a3f5f"
          },
          "geo": {
           "bgcolor": "white",
           "lakecolor": "white",
           "landcolor": "#E5ECF6",
           "showlakes": true,
           "showland": true,
           "subunitcolor": "white"
          },
          "hoverlabel": {
           "align": "left"
          },
          "hovermode": "closest",
          "mapbox": {
           "style": "light"
          },
          "paper_bgcolor": "white",
          "plot_bgcolor": "#E5ECF6",
          "polar": {
           "angularaxis": {
            "gridcolor": "white",
            "linecolor": "white",
            "ticks": ""
           },
           "bgcolor": "#E5ECF6",
           "radialaxis": {
            "gridcolor": "white",
            "linecolor": "white",
            "ticks": ""
           }
          },
          "scene": {
           "xaxis": {
            "backgroundcolor": "#E5ECF6",
            "gridcolor": "white",
            "gridwidth": 2,
            "linecolor": "white",
            "showbackground": true,
            "ticks": "",
            "zerolinecolor": "white"
           },
           "yaxis": {
            "backgroundcolor": "#E5ECF6",
            "gridcolor": "white",
            "gridwidth": 2,
            "linecolor": "white",
            "showbackground": true,
            "ticks": "",
            "zerolinecolor": "white"
           },
           "zaxis": {
            "backgroundcolor": "#E5ECF6",
            "gridcolor": "white",
            "gridwidth": 2,
            "linecolor": "white",
            "showbackground": true,
            "ticks": "",
            "zerolinecolor": "white"
           }
          },
          "shapedefaults": {
           "line": {
            "color": "#2a3f5f"
           }
          },
          "ternary": {
           "aaxis": {
            "gridcolor": "white",
            "linecolor": "white",
            "ticks": ""
           },
           "baxis": {
            "gridcolor": "white",
            "linecolor": "white",
            "ticks": ""
           },
           "bgcolor": "#E5ECF6",
           "caxis": {
            "gridcolor": "white",
            "linecolor": "white",
            "ticks": ""
           }
          },
          "title": {
           "x": 0.05
          },
          "xaxis": {
           "automargin": true,
           "gridcolor": "white",
           "linecolor": "white",
           "ticks": "",
           "title": {
            "standoff": 15
           },
           "zerolinecolor": "white",
           "zerolinewidth": 2
          },
          "yaxis": {
           "automargin": true,
           "gridcolor": "white",
           "linecolor": "white",
           "ticks": "",
           "title": {
            "standoff": 15
           },
           "zerolinecolor": "white",
           "zerolinewidth": 2
          }
         }
        },
        "title": {
         "text": "Curvas de Rentabilidad"
        },
        "width": 800,
        "xaxis": {
         "anchor": "y",
         "domain": [
          0,
          1
         ],
         "title": {
          "text": "tasa"
         }
        },
        "yaxis": {
         "anchor": "x",
         "domain": [
          0,
          1
         ],
         "title": {
          "text": "Rentabilidad"
         }
        }
       }
      }
     },
     "metadata": {},
     "output_type": "display_data"
    }
   ],
   "source": [
    "# Graficamos las curvas de Precio-Rentabilidad\n",
    "fig = px.line(df_elasticidad, x='irr', y=['rentabilidad_seg0',\n",
    "                                             'rentabilidad_seg1',\n",
    "                                             'rentabilidad_seg2',\n",
    "                                             'rentabilidad_seg3',\n",
    "                                             'rentabilidad_seg4',\n",
    "                                             ],\n",
    "              labels={'irr':'tasa', 'value':'Rentabilidad'},\n",
    "              title='Curvas de Rentabilidad',\n",
    "              width=800, height=600)\n",
    "\n",
    "# Agregamos la línea de restricción: Costo\n",
    "fig.add_vline(x=float(df_elasticidad['costo'].mean()), line_width=2, line_dash=\"dash\",\n",
    "                             line_color=\"red\", opacity=0.5)\n",
    "\n",
    "fig.show()"
   ]
  },
  {
   "cell_type": "code",
   "execution_count": 224,
   "metadata": {},
   "outputs": [
    {
     "data": {
      "text/html": [
       "<div>\n",
       "<style scoped>\n",
       "    .dataframe tbody tr th:only-of-type {\n",
       "        vertical-align: middle;\n",
       "    }\n",
       "\n",
       "    .dataframe tbody tr th {\n",
       "        vertical-align: top;\n",
       "    }\n",
       "\n",
       "    .dataframe thead th {\n",
       "        text-align: right;\n",
       "    }\n",
       "</style>\n",
       "<table border=\"1\" class=\"dataframe\">\n",
       "  <thead>\n",
       "    <tr style=\"text-align: right;\">\n",
       "      <th></th>\n",
       "      <th>irr</th>\n",
       "      <th>cantidad_seg0</th>\n",
       "      <th>cantidad_seg1</th>\n",
       "      <th>cantidad_seg2</th>\n",
       "      <th>cantidad_seg3</th>\n",
       "      <th>cantidad_seg4</th>\n",
       "      <th>costo</th>\n",
       "      <th>costo_seg0</th>\n",
       "      <th>costo_seg1</th>\n",
       "      <th>costo_seg2</th>\n",
       "      <th>...</th>\n",
       "      <th>ingresos_seg0</th>\n",
       "      <th>ingresos_seg1</th>\n",
       "      <th>ingresos_seg2</th>\n",
       "      <th>ingresos_seg3</th>\n",
       "      <th>ingresos_seg4</th>\n",
       "      <th>rentabilidad_seg0</th>\n",
       "      <th>rentabilidad_seg1</th>\n",
       "      <th>rentabilidad_seg2</th>\n",
       "      <th>rentabilidad_seg3</th>\n",
       "      <th>rentabilidad_seg4</th>\n",
       "    </tr>\n",
       "  </thead>\n",
       "  <tbody>\n",
       "    <tr>\n",
       "      <th>0</th>\n",
       "      <td>16.00</td>\n",
       "      <td>2.434245</td>\n",
       "      <td>2.448691</td>\n",
       "      <td>2.474350</td>\n",
       "      <td>2.467429</td>\n",
       "      <td>2.444356</td>\n",
       "      <td>17</td>\n",
       "      <td>12.435197</td>\n",
       "      <td>12.645411</td>\n",
       "      <td>13.024441</td>\n",
       "      <td>...</td>\n",
       "      <td>11.782283</td>\n",
       "      <td>11.977163</td>\n",
       "      <td>12.328370</td>\n",
       "      <td>12.233003</td>\n",
       "      <td>11.918470</td>\n",
       "      <td>-0.652913</td>\n",
       "      <td>-0.668248</td>\n",
       "      <td>-0.696071</td>\n",
       "      <td>-0.688492</td>\n",
       "      <td>-0.663621</td>\n",
       "    </tr>\n",
       "    <tr>\n",
       "      <th>1</th>\n",
       "      <td>16.58</td>\n",
       "      <td>2.252067</td>\n",
       "      <td>2.266231</td>\n",
       "      <td>2.285492</td>\n",
       "      <td>2.280445</td>\n",
       "      <td>2.262313</td>\n",
       "      <td>17</td>\n",
       "      <td>9.975583</td>\n",
       "      <td>10.154355</td>\n",
       "      <td>10.400779</td>\n",
       "      <td>...</td>\n",
       "      <td>9.775029</td>\n",
       "      <td>9.948646</td>\n",
       "      <td>10.187921</td>\n",
       "      <td>10.124868</td>\n",
       "      <td>9.900427</td>\n",
       "      <td>-0.200554</td>\n",
       "      <td>-0.205709</td>\n",
       "      <td>-0.212858</td>\n",
       "      <td>-0.210969</td>\n",
       "      <td>-0.204274</td>\n",
       "    </tr>\n",
       "    <tr>\n",
       "      <th>2</th>\n",
       "      <td>17.16</td>\n",
       "      <td>2.089104</td>\n",
       "      <td>2.102958</td>\n",
       "      <td>2.116820</td>\n",
       "      <td>2.113349</td>\n",
       "      <td>2.099408</td>\n",
       "      <td>17</td>\n",
       "      <td>8.063346</td>\n",
       "      <td>8.215768</td>\n",
       "      <td>8.370128</td>\n",
       "      <td>...</td>\n",
       "      <td>8.119188</td>\n",
       "      <td>8.273178</td>\n",
       "      <td>8.429135</td>\n",
       "      <td>8.389909</td>\n",
       "      <td>8.233532</td>\n",
       "      <td>0.055842</td>\n",
       "      <td>0.057410</td>\n",
       "      <td>0.059007</td>\n",
       "      <td>0.058605</td>\n",
       "      <td>0.057005</td>\n",
       "    </tr>\n",
       "    <tr>\n",
       "      <th>3</th>\n",
       "      <td>17.74</td>\n",
       "      <td>1.942779</td>\n",
       "      <td>1.956306</td>\n",
       "      <td>1.965600</td>\n",
       "      <td>1.963459</td>\n",
       "      <td>1.953079</td>\n",
       "      <td>17</td>\n",
       "      <td>6.563944</td>\n",
       "      <td>6.694261</td>\n",
       "      <td>6.784758</td>\n",
       "      <td>...</td>\n",
       "      <td>6.752338</td>\n",
       "      <td>6.888431</td>\n",
       "      <td>6.982964</td>\n",
       "      <td>6.961107</td>\n",
       "      <td>6.855803</td>\n",
       "      <td>0.188394</td>\n",
       "      <td>0.194171</td>\n",
       "      <td>0.198206</td>\n",
       "      <td>0.197271</td>\n",
       "      <td>0.192782</td>\n",
       "    </tr>\n",
       "    <tr>\n",
       "      <th>4</th>\n",
       "      <td>18.32</td>\n",
       "      <td>1.810928</td>\n",
       "      <td>1.824118</td>\n",
       "      <td>1.829540</td>\n",
       "      <td>1.828522</td>\n",
       "      <td>1.821178</td>\n",
       "      <td>17</td>\n",
       "      <td>5.378847</td>\n",
       "      <td>5.490587</td>\n",
       "      <td>5.536953</td>\n",
       "      <td>...</td>\n",
       "      <td>5.623090</td>\n",
       "      <td>5.743020</td>\n",
       "      <td>5.792803</td>\n",
       "      <td>5.783429</td>\n",
       "      <td>5.716140</td>\n",
       "      <td>0.244243</td>\n",
       "      <td>0.252433</td>\n",
       "      <td>0.255850</td>\n",
       "      <td>0.255206</td>\n",
       "      <td>0.250592</td>\n",
       "    </tr>\n",
       "  </tbody>\n",
       "</table>\n",
       "<p>5 rows × 22 columns</p>\n",
       "</div>"
      ],
      "text/plain": [
       "     irr  cantidad_seg0  cantidad_seg1  cantidad_seg2  cantidad_seg3  \\\n",
       "0  16.00       2.434245       2.448691       2.474350       2.467429   \n",
       "1  16.58       2.252067       2.266231       2.285492       2.280445   \n",
       "2  17.16       2.089104       2.102958       2.116820       2.113349   \n",
       "3  17.74       1.942779       1.956306       1.965600       1.963459   \n",
       "4  18.32       1.810928       1.824118       1.829540       1.828522   \n",
       "\n",
       "   cantidad_seg4  costo  costo_seg0  costo_seg1  costo_seg2  ...  \\\n",
       "0       2.444356     17   12.435197   12.645411   13.024441  ...   \n",
       "1       2.262313     17    9.975583   10.154355   10.400779  ...   \n",
       "2       2.099408     17    8.063346    8.215768    8.370128  ...   \n",
       "3       1.953079     17    6.563944    6.694261    6.784758  ...   \n",
       "4       1.821178     17    5.378847    5.490587    5.536953  ...   \n",
       "\n",
       "   ingresos_seg0  ingresos_seg1  ingresos_seg2  ingresos_seg3  ingresos_seg4  \\\n",
       "0      11.782283      11.977163      12.328370      12.233003      11.918470   \n",
       "1       9.775029       9.948646      10.187921      10.124868       9.900427   \n",
       "2       8.119188       8.273178       8.429135       8.389909       8.233532   \n",
       "3       6.752338       6.888431       6.982964       6.961107       6.855803   \n",
       "4       5.623090       5.743020       5.792803       5.783429       5.716140   \n",
       "\n",
       "   rentabilidad_seg0  rentabilidad_seg1  rentabilidad_seg2  rentabilidad_seg3  \\\n",
       "0          -0.652913          -0.668248          -0.696071          -0.688492   \n",
       "1          -0.200554          -0.205709          -0.212858          -0.210969   \n",
       "2           0.055842           0.057410           0.059007           0.058605   \n",
       "3           0.188394           0.194171           0.198206           0.197271   \n",
       "4           0.244243           0.252433           0.255850           0.255206   \n",
       "\n",
       "   rentabilidad_seg4  \n",
       "0          -0.663621  \n",
       "1          -0.204274  \n",
       "2           0.057005  \n",
       "3           0.192782  \n",
       "4           0.250592  \n",
       "\n",
       "[5 rows x 22 columns]"
      ]
     },
     "execution_count": 224,
     "metadata": {},
     "output_type": "execute_result"
    }
   ],
   "source": [
    "df_elasticidad.head()"
   ]
  },
  {
   "cell_type": "code",
   "execution_count": 225,
   "metadata": {},
   "outputs": [],
   "source": [
    "# Hallamos los precios que maximicen los ingresos en cada segmento\n",
    "max_ing_seg0 = df_elasticidad.loc[(df_elasticidad['ingresos_seg0'] == df_elasticidad['ingresos_seg0'].max())]\n",
    "max_ing_seg1 = df_elasticidad.loc[(df_elasticidad['ingresos_seg1'] == df_elasticidad['ingresos_seg1'].max())]\n",
    "max_ing_seg2 = df_elasticidad.loc[(df_elasticidad['ingresos_seg2'] == df_elasticidad['ingresos_seg2'].max())]\n",
    "max_ing_seg3 = df_elasticidad.loc[(df_elasticidad['ingresos_seg3'] == df_elasticidad['ingresos_seg3'].max())]\n",
    "max_ing_seg4 = df_elasticidad.loc[(df_elasticidad['ingresos_seg4'] == df_elasticidad['ingresos_seg4'].max())]"
   ]
  },
  {
   "cell_type": "code",
   "execution_count": 226,
   "metadata": {},
   "outputs": [
    {
     "data": {
      "text/html": [
       "<div>\n",
       "<style scoped>\n",
       "    .dataframe tbody tr th:only-of-type {\n",
       "        vertical-align: middle;\n",
       "    }\n",
       "\n",
       "    .dataframe tbody tr th {\n",
       "        vertical-align: top;\n",
       "    }\n",
       "\n",
       "    .dataframe thead th {\n",
       "        text-align: right;\n",
       "    }\n",
       "</style>\n",
       "<table border=\"1\" class=\"dataframe\">\n",
       "  <thead>\n",
       "    <tr style=\"text-align: right;\">\n",
       "      <th></th>\n",
       "      <th>irr</th>\n",
       "      <th>cantidad_seg0</th>\n",
       "      <th>cantidad_seg1</th>\n",
       "      <th>cantidad_seg2</th>\n",
       "      <th>cantidad_seg3</th>\n",
       "      <th>cantidad_seg4</th>\n",
       "      <th>costo</th>\n",
       "      <th>costo_seg0</th>\n",
       "      <th>costo_seg1</th>\n",
       "      <th>costo_seg2</th>\n",
       "      <th>...</th>\n",
       "      <th>ingresos_seg0</th>\n",
       "      <th>ingresos_seg1</th>\n",
       "      <th>ingresos_seg2</th>\n",
       "      <th>ingresos_seg3</th>\n",
       "      <th>ingresos_seg4</th>\n",
       "      <th>rentabilidad_seg0</th>\n",
       "      <th>rentabilidad_seg1</th>\n",
       "      <th>rentabilidad_seg2</th>\n",
       "      <th>rentabilidad_seg3</th>\n",
       "      <th>rentabilidad_seg4</th>\n",
       "    </tr>\n",
       "  </thead>\n",
       "  <tbody>\n",
       "    <tr>\n",
       "      <th>0</th>\n",
       "      <td>16.0</td>\n",
       "      <td>2.434245</td>\n",
       "      <td>2.448691</td>\n",
       "      <td>2.47435</td>\n",
       "      <td>2.467429</td>\n",
       "      <td>2.444356</td>\n",
       "      <td>17</td>\n",
       "      <td>12.435197</td>\n",
       "      <td>12.645411</td>\n",
       "      <td>13.024441</td>\n",
       "      <td>...</td>\n",
       "      <td>11.782283</td>\n",
       "      <td>11.977163</td>\n",
       "      <td>12.32837</td>\n",
       "      <td>12.233003</td>\n",
       "      <td>11.91847</td>\n",
       "      <td>-0.652913</td>\n",
       "      <td>-0.668248</td>\n",
       "      <td>-0.696071</td>\n",
       "      <td>-0.688492</td>\n",
       "      <td>-0.663621</td>\n",
       "    </tr>\n",
       "  </tbody>\n",
       "</table>\n",
       "<p>1 rows × 22 columns</p>\n",
       "</div>"
      ],
      "text/plain": [
       "    irr  cantidad_seg0  cantidad_seg1  cantidad_seg2  cantidad_seg3  \\\n",
       "0  16.0       2.434245       2.448691        2.47435       2.467429   \n",
       "\n",
       "   cantidad_seg4  costo  costo_seg0  costo_seg1  costo_seg2  ...  \\\n",
       "0       2.444356     17   12.435197   12.645411   13.024441  ...   \n",
       "\n",
       "   ingresos_seg0  ingresos_seg1  ingresos_seg2  ingresos_seg3  ingresos_seg4  \\\n",
       "0      11.782283      11.977163       12.32837      12.233003       11.91847   \n",
       "\n",
       "   rentabilidad_seg0  rentabilidad_seg1  rentabilidad_seg2  rentabilidad_seg3  \\\n",
       "0          -0.652913          -0.668248          -0.696071          -0.688492   \n",
       "\n",
       "   rentabilidad_seg4  \n",
       "0          -0.663621  \n",
       "\n",
       "[1 rows x 22 columns]"
      ]
     },
     "execution_count": 226,
     "metadata": {},
     "output_type": "execute_result"
    }
   ],
   "source": [
    "max_ing_seg0"
   ]
  },
  {
   "cell_type": "code",
   "execution_count": 227,
   "metadata": {},
   "outputs": [],
   "source": [
    "# Hallamos los precios que maximicen la rentabilidad en cada segmento\n",
    "max_ren_seg0 = df_elasticidad.loc[(df_elasticidad['rentabilidad_seg0'] == df_elasticidad['rentabilidad_seg0'].max())]\n",
    "max_ren_seg1 = df_elasticidad.loc[(df_elasticidad['rentabilidad_seg1'] == df_elasticidad['rentabilidad_seg1'].max())]\n",
    "max_ren_seg2 = df_elasticidad.loc[(df_elasticidad['rentabilidad_seg2'] == df_elasticidad['rentabilidad_seg2'].max())]\n",
    "max_ren_seg3 = df_elasticidad.loc[(df_elasticidad['rentabilidad_seg3'] == df_elasticidad['rentabilidad_seg3'].max())]\n",
    "max_ren_seg4 = df_elasticidad.loc[(df_elasticidad['rentabilidad_seg4'] == df_elasticidad['rentabilidad_seg4'].max())]"
   ]
  },
  {
   "cell_type": "code",
   "execution_count": 228,
   "metadata": {},
   "outputs": [
    {
     "data": {
      "text/html": [
       "<div>\n",
       "<style scoped>\n",
       "    .dataframe tbody tr th:only-of-type {\n",
       "        vertical-align: middle;\n",
       "    }\n",
       "\n",
       "    .dataframe tbody tr th {\n",
       "        vertical-align: top;\n",
       "    }\n",
       "\n",
       "    .dataframe thead th {\n",
       "        text-align: right;\n",
       "    }\n",
       "</style>\n",
       "<table border=\"1\" class=\"dataframe\">\n",
       "  <thead>\n",
       "    <tr style=\"text-align: right;\">\n",
       "      <th></th>\n",
       "      <th>irr</th>\n",
       "      <th>cantidad_seg0</th>\n",
       "      <th>cantidad_seg1</th>\n",
       "      <th>cantidad_seg2</th>\n",
       "      <th>cantidad_seg3</th>\n",
       "      <th>cantidad_seg4</th>\n",
       "      <th>costo</th>\n",
       "      <th>costo_seg0</th>\n",
       "      <th>costo_seg1</th>\n",
       "      <th>costo_seg2</th>\n",
       "      <th>...</th>\n",
       "      <th>ingresos_seg0</th>\n",
       "      <th>ingresos_seg1</th>\n",
       "      <th>ingresos_seg2</th>\n",
       "      <th>ingresos_seg3</th>\n",
       "      <th>ingresos_seg4</th>\n",
       "      <th>rentabilidad_seg0</th>\n",
       "      <th>rentabilidad_seg1</th>\n",
       "      <th>rentabilidad_seg2</th>\n",
       "      <th>rentabilidad_seg3</th>\n",
       "      <th>rentabilidad_seg4</th>\n",
       "    </tr>\n",
       "  </thead>\n",
       "  <tbody>\n",
       "    <tr>\n",
       "      <th>5</th>\n",
       "      <td>18.89</td>\n",
       "      <td>1.693685</td>\n",
       "      <td>1.706539</td>\n",
       "      <td>1.708726</td>\n",
       "      <td>1.708642</td>\n",
       "      <td>1.703849</td>\n",
       "      <td>17</td>\n",
       "      <td>4.449709</td>\n",
       "      <td>4.546053</td>\n",
       "      <td>4.562581</td>\n",
       "      <td>...</td>\n",
       "      <td>4.703867</td>\n",
       "      <td>4.809545</td>\n",
       "      <td>4.827683</td>\n",
       "      <td>4.826985</td>\n",
       "      <td>4.787302</td>\n",
       "      <td>0.254158</td>\n",
       "      <td>0.263492</td>\n",
       "      <td>0.265102</td>\n",
       "      <td>0.26504</td>\n",
       "      <td>0.261521</td>\n",
       "    </tr>\n",
       "  </tbody>\n",
       "</table>\n",
       "<p>1 rows × 22 columns</p>\n",
       "</div>"
      ],
      "text/plain": [
       "     irr  cantidad_seg0  cantidad_seg1  cantidad_seg2  cantidad_seg3  \\\n",
       "5  18.89       1.693685       1.706539       1.708726       1.708642   \n",
       "\n",
       "   cantidad_seg4  costo  costo_seg0  costo_seg1  costo_seg2  ...  \\\n",
       "5       1.703849     17    4.449709    4.546053    4.562581  ...   \n",
       "\n",
       "   ingresos_seg0  ingresos_seg1  ingresos_seg2  ingresos_seg3  ingresos_seg4  \\\n",
       "5       4.703867       4.809545       4.827683       4.826985       4.787302   \n",
       "\n",
       "   rentabilidad_seg0  rentabilidad_seg1  rentabilidad_seg2  rentabilidad_seg3  \\\n",
       "5           0.254158           0.263492           0.265102            0.26504   \n",
       "\n",
       "   rentabilidad_seg4  \n",
       "5           0.261521  \n",
       "\n",
       "[1 rows x 22 columns]"
      ]
     },
     "execution_count": 228,
     "metadata": {},
     "output_type": "execute_result"
    }
   ],
   "source": [
    "max_ren_seg0"
   ]
  },
  {
   "cell_type": "code",
   "execution_count": 229,
   "metadata": {},
   "outputs": [
    {
     "data": {
      "application/vnd.plotly.v1+json": {
       "config": {
        "plotlyServerURL": "https://plot.ly"
       },
       "data": [
        {
         "name": "Ingresos ($)",
         "type": "scatter",
         "x": [
          16,
          16.58,
          17.16,
          17.74,
          18.32,
          18.89,
          19.47,
          20.05,
          20.63,
          21.21,
          21.79,
          22.37,
          22.95,
          23.53,
          24.11,
          24.68,
          25.26,
          25.84,
          26.42,
          27
         ],
         "y": [
          11.782283306375303,
          9.775029007542589,
          8.119188492557834,
          6.752338002516207,
          5.623089846941665,
          4.703866581753906,
          3.928195370218019,
          3.2852538191132594,
          2.751647679708792,
          2.3081904849956016,
          1.9391411763062727,
          1.6315780357795773,
          1.3748857982121423,
          1.1603361891854158,
          0.9807452484845225,
          0.832571905848806,
          0.7057961386385093,
          0.5992062045794057,
          0.5094553729094013,
          0.4337721241819571
         ]
        },
        {
         "name": "Rentabilidad ($)",
         "type": "scatter",
         "x": [
          16,
          16.58,
          17.16,
          17.74,
          18.32,
          18.89,
          19.47,
          20.05,
          20.63,
          21.21,
          21.79,
          22.37,
          22.95,
          23.53,
          24.11,
          24.68,
          25.26,
          25.84,
          26.42,
          27
         ],
         "y": [
          -0.6529132484872147,
          -0.20055429065862818,
          0.055842092250347974,
          0.18839426922281266,
          0.24424315748499126,
          0.25415755563863485,
          0.23806526376099102,
          0.20817845412480995,
          0.17244868484586995,
          0.13570426082772924,
          0.1007413224363558,
          0.06904923582368605,
          0.04129174102807642,
          0.017624679829124412,
          -0.002095687726033524,
          -0.01792901308368111,
          -0.030811422190349824,
          -0.04084552252769791,
          -0.04843459943413175,
          -0.0539559796905798
         ]
        }
       ],
       "layout": {
        "annotations": [
         {
          "arrowhead": 1,
          "showarrow": true,
          "text": "MaxPrecioIng:16.0",
          "x": 16,
          "y": 11.782283306375303
         },
         {
          "arrowhead": 1,
          "showarrow": true,
          "text": "MaxPrecioRent:18.89",
          "x": 18.89,
          "y": 0.25415755563863485
         }
        ],
        "height": 600,
        "shapes": [
         {
          "line": {
           "color": "blue",
           "dash": "dash",
           "width": 2
          },
          "opacity": 0.25,
          "type": "line",
          "x0": 16,
          "x1": 16,
          "xref": "x",
          "y0": 0,
          "y1": 1,
          "yref": "y domain"
         },
         {
          "line": {
           "color": "green",
           "dash": "dash",
           "width": 2
          },
          "opacity": 0.25,
          "type": "line",
          "x0": 18.89,
          "x1": 18.89,
          "xref": "x",
          "y0": 0,
          "y1": 1,
          "yref": "y domain"
         },
         {
          "line": {
           "color": "orange",
           "dash": "dash",
           "width": 2
          },
          "opacity": 0.5,
          "type": "line",
          "x0": 17,
          "x1": 17,
          "xref": "x",
          "y0": 0,
          "y1": 1,
          "yref": "y domain"
         }
        ],
        "showlegend": true,
        "template": {
         "data": {
          "bar": [
           {
            "error_x": {
             "color": "#2a3f5f"
            },
            "error_y": {
             "color": "#2a3f5f"
            },
            "marker": {
             "line": {
              "color": "#E5ECF6",
              "width": 0.5
             },
             "pattern": {
              "fillmode": "overlay",
              "size": 10,
              "solidity": 0.2
             }
            },
            "type": "bar"
           }
          ],
          "barpolar": [
           {
            "marker": {
             "line": {
              "color": "#E5ECF6",
              "width": 0.5
             },
             "pattern": {
              "fillmode": "overlay",
              "size": 10,
              "solidity": 0.2
             }
            },
            "type": "barpolar"
           }
          ],
          "carpet": [
           {
            "aaxis": {
             "endlinecolor": "#2a3f5f",
             "gridcolor": "white",
             "linecolor": "white",
             "minorgridcolor": "white",
             "startlinecolor": "#2a3f5f"
            },
            "baxis": {
             "endlinecolor": "#2a3f5f",
             "gridcolor": "white",
             "linecolor": "white",
             "minorgridcolor": "white",
             "startlinecolor": "#2a3f5f"
            },
            "type": "carpet"
           }
          ],
          "choropleth": [
           {
            "colorbar": {
             "outlinewidth": 0,
             "ticks": ""
            },
            "type": "choropleth"
           }
          ],
          "contour": [
           {
            "colorbar": {
             "outlinewidth": 0,
             "ticks": ""
            },
            "colorscale": [
             [
              0,
              "#0d0887"
             ],
             [
              0.1111111111111111,
              "#46039f"
             ],
             [
              0.2222222222222222,
              "#7201a8"
             ],
             [
              0.3333333333333333,
              "#9c179e"
             ],
             [
              0.4444444444444444,
              "#bd3786"
             ],
             [
              0.5555555555555556,
              "#d8576b"
             ],
             [
              0.6666666666666666,
              "#ed7953"
             ],
             [
              0.7777777777777778,
              "#fb9f3a"
             ],
             [
              0.8888888888888888,
              "#fdca26"
             ],
             [
              1,
              "#f0f921"
             ]
            ],
            "type": "contour"
           }
          ],
          "contourcarpet": [
           {
            "colorbar": {
             "outlinewidth": 0,
             "ticks": ""
            },
            "type": "contourcarpet"
           }
          ],
          "heatmap": [
           {
            "colorbar": {
             "outlinewidth": 0,
             "ticks": ""
            },
            "colorscale": [
             [
              0,
              "#0d0887"
             ],
             [
              0.1111111111111111,
              "#46039f"
             ],
             [
              0.2222222222222222,
              "#7201a8"
             ],
             [
              0.3333333333333333,
              "#9c179e"
             ],
             [
              0.4444444444444444,
              "#bd3786"
             ],
             [
              0.5555555555555556,
              "#d8576b"
             ],
             [
              0.6666666666666666,
              "#ed7953"
             ],
             [
              0.7777777777777778,
              "#fb9f3a"
             ],
             [
              0.8888888888888888,
              "#fdca26"
             ],
             [
              1,
              "#f0f921"
             ]
            ],
            "type": "heatmap"
           }
          ],
          "heatmapgl": [
           {
            "colorbar": {
             "outlinewidth": 0,
             "ticks": ""
            },
            "colorscale": [
             [
              0,
              "#0d0887"
             ],
             [
              0.1111111111111111,
              "#46039f"
             ],
             [
              0.2222222222222222,
              "#7201a8"
             ],
             [
              0.3333333333333333,
              "#9c179e"
             ],
             [
              0.4444444444444444,
              "#bd3786"
             ],
             [
              0.5555555555555556,
              "#d8576b"
             ],
             [
              0.6666666666666666,
              "#ed7953"
             ],
             [
              0.7777777777777778,
              "#fb9f3a"
             ],
             [
              0.8888888888888888,
              "#fdca26"
             ],
             [
              1,
              "#f0f921"
             ]
            ],
            "type": "heatmapgl"
           }
          ],
          "histogram": [
           {
            "marker": {
             "pattern": {
              "fillmode": "overlay",
              "size": 10,
              "solidity": 0.2
             }
            },
            "type": "histogram"
           }
          ],
          "histogram2d": [
           {
            "colorbar": {
             "outlinewidth": 0,
             "ticks": ""
            },
            "colorscale": [
             [
              0,
              "#0d0887"
             ],
             [
              0.1111111111111111,
              "#46039f"
             ],
             [
              0.2222222222222222,
              "#7201a8"
             ],
             [
              0.3333333333333333,
              "#9c179e"
             ],
             [
              0.4444444444444444,
              "#bd3786"
             ],
             [
              0.5555555555555556,
              "#d8576b"
             ],
             [
              0.6666666666666666,
              "#ed7953"
             ],
             [
              0.7777777777777778,
              "#fb9f3a"
             ],
             [
              0.8888888888888888,
              "#fdca26"
             ],
             [
              1,
              "#f0f921"
             ]
            ],
            "type": "histogram2d"
           }
          ],
          "histogram2dcontour": [
           {
            "colorbar": {
             "outlinewidth": 0,
             "ticks": ""
            },
            "colorscale": [
             [
              0,
              "#0d0887"
             ],
             [
              0.1111111111111111,
              "#46039f"
             ],
             [
              0.2222222222222222,
              "#7201a8"
             ],
             [
              0.3333333333333333,
              "#9c179e"
             ],
             [
              0.4444444444444444,
              "#bd3786"
             ],
             [
              0.5555555555555556,
              "#d8576b"
             ],
             [
              0.6666666666666666,
              "#ed7953"
             ],
             [
              0.7777777777777778,
              "#fb9f3a"
             ],
             [
              0.8888888888888888,
              "#fdca26"
             ],
             [
              1,
              "#f0f921"
             ]
            ],
            "type": "histogram2dcontour"
           }
          ],
          "mesh3d": [
           {
            "colorbar": {
             "outlinewidth": 0,
             "ticks": ""
            },
            "type": "mesh3d"
           }
          ],
          "parcoords": [
           {
            "line": {
             "colorbar": {
              "outlinewidth": 0,
              "ticks": ""
             }
            },
            "type": "parcoords"
           }
          ],
          "pie": [
           {
            "automargin": true,
            "type": "pie"
           }
          ],
          "scatter": [
           {
            "fillpattern": {
             "fillmode": "overlay",
             "size": 10,
             "solidity": 0.2
            },
            "type": "scatter"
           }
          ],
          "scatter3d": [
           {
            "line": {
             "colorbar": {
              "outlinewidth": 0,
              "ticks": ""
             }
            },
            "marker": {
             "colorbar": {
              "outlinewidth": 0,
              "ticks": ""
             }
            },
            "type": "scatter3d"
           }
          ],
          "scattercarpet": [
           {
            "marker": {
             "colorbar": {
              "outlinewidth": 0,
              "ticks": ""
             }
            },
            "type": "scattercarpet"
           }
          ],
          "scattergeo": [
           {
            "marker": {
             "colorbar": {
              "outlinewidth": 0,
              "ticks": ""
             }
            },
            "type": "scattergeo"
           }
          ],
          "scattergl": [
           {
            "marker": {
             "colorbar": {
              "outlinewidth": 0,
              "ticks": ""
             }
            },
            "type": "scattergl"
           }
          ],
          "scattermapbox": [
           {
            "marker": {
             "colorbar": {
              "outlinewidth": 0,
              "ticks": ""
             }
            },
            "type": "scattermapbox"
           }
          ],
          "scatterpolar": [
           {
            "marker": {
             "colorbar": {
              "outlinewidth": 0,
              "ticks": ""
             }
            },
            "type": "scatterpolar"
           }
          ],
          "scatterpolargl": [
           {
            "marker": {
             "colorbar": {
              "outlinewidth": 0,
              "ticks": ""
             }
            },
            "type": "scatterpolargl"
           }
          ],
          "scatterternary": [
           {
            "marker": {
             "colorbar": {
              "outlinewidth": 0,
              "ticks": ""
             }
            },
            "type": "scatterternary"
           }
          ],
          "surface": [
           {
            "colorbar": {
             "outlinewidth": 0,
             "ticks": ""
            },
            "colorscale": [
             [
              0,
              "#0d0887"
             ],
             [
              0.1111111111111111,
              "#46039f"
             ],
             [
              0.2222222222222222,
              "#7201a8"
             ],
             [
              0.3333333333333333,
              "#9c179e"
             ],
             [
              0.4444444444444444,
              "#bd3786"
             ],
             [
              0.5555555555555556,
              "#d8576b"
             ],
             [
              0.6666666666666666,
              "#ed7953"
             ],
             [
              0.7777777777777778,
              "#fb9f3a"
             ],
             [
              0.8888888888888888,
              "#fdca26"
             ],
             [
              1,
              "#f0f921"
             ]
            ],
            "type": "surface"
           }
          ],
          "table": [
           {
            "cells": {
             "fill": {
              "color": "#EBF0F8"
             },
             "line": {
              "color": "white"
             }
            },
            "header": {
             "fill": {
              "color": "#C8D4E3"
             },
             "line": {
              "color": "white"
             }
            },
            "type": "table"
           }
          ]
         },
         "layout": {
          "annotationdefaults": {
           "arrowcolor": "#2a3f5f",
           "arrowhead": 0,
           "arrowwidth": 1
          },
          "autotypenumbers": "strict",
          "coloraxis": {
           "colorbar": {
            "outlinewidth": 0,
            "ticks": ""
           }
          },
          "colorscale": {
           "diverging": [
            [
             0,
             "#8e0152"
            ],
            [
             0.1,
             "#c51b7d"
            ],
            [
             0.2,
             "#de77ae"
            ],
            [
             0.3,
             "#f1b6da"
            ],
            [
             0.4,
             "#fde0ef"
            ],
            [
             0.5,
             "#f7f7f7"
            ],
            [
             0.6,
             "#e6f5d0"
            ],
            [
             0.7,
             "#b8e186"
            ],
            [
             0.8,
             "#7fbc41"
            ],
            [
             0.9,
             "#4d9221"
            ],
            [
             1,
             "#276419"
            ]
           ],
           "sequential": [
            [
             0,
             "#0d0887"
            ],
            [
             0.1111111111111111,
             "#46039f"
            ],
            [
             0.2222222222222222,
             "#7201a8"
            ],
            [
             0.3333333333333333,
             "#9c179e"
            ],
            [
             0.4444444444444444,
             "#bd3786"
            ],
            [
             0.5555555555555556,
             "#d8576b"
            ],
            [
             0.6666666666666666,
             "#ed7953"
            ],
            [
             0.7777777777777778,
             "#fb9f3a"
            ],
            [
             0.8888888888888888,
             "#fdca26"
            ],
            [
             1,
             "#f0f921"
            ]
           ],
           "sequentialminus": [
            [
             0,
             "#0d0887"
            ],
            [
             0.1111111111111111,
             "#46039f"
            ],
            [
             0.2222222222222222,
             "#7201a8"
            ],
            [
             0.3333333333333333,
             "#9c179e"
            ],
            [
             0.4444444444444444,
             "#bd3786"
            ],
            [
             0.5555555555555556,
             "#d8576b"
            ],
            [
             0.6666666666666666,
             "#ed7953"
            ],
            [
             0.7777777777777778,
             "#fb9f3a"
            ],
            [
             0.8888888888888888,
             "#fdca26"
            ],
            [
             1,
             "#f0f921"
            ]
           ]
          },
          "colorway": [
           "#636efa",
           "#EF553B",
           "#00cc96",
           "#ab63fa",
           "#FFA15A",
           "#19d3f3",
           "#FF6692",
           "#B6E880",
           "#FF97FF",
           "#FECB52"
          ],
          "font": {
           "color": "#2a3f5f"
          },
          "geo": {
           "bgcolor": "white",
           "lakecolor": "white",
           "landcolor": "#E5ECF6",
           "showlakes": true,
           "showland": true,
           "subunitcolor": "white"
          },
          "hoverlabel": {
           "align": "left"
          },
          "hovermode": "closest",
          "mapbox": {
           "style": "light"
          },
          "paper_bgcolor": "white",
          "plot_bgcolor": "#E5ECF6",
          "polar": {
           "angularaxis": {
            "gridcolor": "white",
            "linecolor": "white",
            "ticks": ""
           },
           "bgcolor": "#E5ECF6",
           "radialaxis": {
            "gridcolor": "white",
            "linecolor": "white",
            "ticks": ""
           }
          },
          "scene": {
           "xaxis": {
            "backgroundcolor": "#E5ECF6",
            "gridcolor": "white",
            "gridwidth": 2,
            "linecolor": "white",
            "showbackground": true,
            "ticks": "",
            "zerolinecolor": "white"
           },
           "yaxis": {
            "backgroundcolor": "#E5ECF6",
            "gridcolor": "white",
            "gridwidth": 2,
            "linecolor": "white",
            "showbackground": true,
            "ticks": "",
            "zerolinecolor": "white"
           },
           "zaxis": {
            "backgroundcolor": "#E5ECF6",
            "gridcolor": "white",
            "gridwidth": 2,
            "linecolor": "white",
            "showbackground": true,
            "ticks": "",
            "zerolinecolor": "white"
           }
          },
          "shapedefaults": {
           "line": {
            "color": "#2a3f5f"
           }
          },
          "ternary": {
           "aaxis": {
            "gridcolor": "white",
            "linecolor": "white",
            "ticks": ""
           },
           "baxis": {
            "gridcolor": "white",
            "linecolor": "white",
            "ticks": ""
           },
           "bgcolor": "#E5ECF6",
           "caxis": {
            "gridcolor": "white",
            "linecolor": "white",
            "ticks": ""
           }
          },
          "title": {
           "x": 0.05
          },
          "xaxis": {
           "automargin": true,
           "gridcolor": "white",
           "linecolor": "white",
           "ticks": "",
           "title": {
            "standoff": 15
           },
           "zerolinecolor": "white",
           "zerolinewidth": 2
          },
          "yaxis": {
           "automargin": true,
           "gridcolor": "white",
           "linecolor": "white",
           "ticks": "",
           "title": {
            "standoff": 15
           },
           "zerolinecolor": "white",
           "zerolinewidth": 2
          }
         }
        },
        "title": {
         "text": "Precios óptimos en Segmento 0"
        },
        "width": 800,
        "xaxis": {
         "title": {
          "text": "Precio ($)"
         }
        },
        "yaxis": {
         "title": {
          "text": "Importe ($)"
         }
        }
       }
      }
     },
     "metadata": {},
     "output_type": "display_data"
    }
   ],
   "source": [
    "fig = go.Figure()\n",
    "\n",
    "# Se agrega el precio máximo de ingreso\n",
    "fig.add_trace(go.Scatter(x=df_elasticidad['irr'], y=df_elasticidad['ingresos_seg0'], name='Ingresos ($)'))\n",
    "# Se agrega la etiqueta\n",
    "fig.add_annotation(x=float(max_ing_seg0['irr']), y=float(max_ing_seg0['ingresos_seg0']),\n",
    "                                  text=\"MaxPrecioIng:\"+str(float(max_ing_seg0['irr'].round(2))),\n",
    "                                  showarrow=True,\n",
    "                                  arrowhead=1)\n",
    "# Se agrega la recta del precio máximo\n",
    "fig.add_vline(x=float(max_ing_seg0['irr']), line_width=2, line_dash=\"dash\",\n",
    "                             line_color=\"blue\", opacity=0.25)\n",
    "\n",
    "# Se agrega el precio máximo de rentabilidad\n",
    "fig.add_trace(go.Scatter(x=df_elasticidad['irr'], y=df_elasticidad['rentabilidad_seg0'], name='Rentabilidad ($)'))\n",
    "# Se agrega la etiqueta\n",
    "fig.add_annotation(x=float(max_ren_seg0['irr']), y=float(max_ren_seg0['rentabilidad_seg0']),\n",
    "                                  text=\"MaxPrecioRent:\"+str(float(max_ren_seg0['irr'].round(2))),\n",
    "                                  showarrow=True,\n",
    "                                  arrowhead=1)\n",
    "# Se agrega la recta del precio máximo\n",
    "fig.add_vline(x=float(max_ren_seg0['irr']), line_width=2, line_dash=\"dash\",\n",
    "                             line_color=\"green\", opacity=0.25)\n",
    "\n",
    "# Agregamos la línea de restricción: Costo\n",
    "fig.add_vline(x=float(df_elasticidad['costo'].mean()), line_width=2, line_dash=\"dash\",\n",
    "                             line_color=\"orange\", opacity=0.5)\n",
    "\n",
    "# Configuración del gráfico\n",
    "fig.update_layout(\n",
    "    showlegend=True,\n",
    "    width=800,\n",
    "    height=600,\n",
    "    xaxis_title=\"Precio ($)\",\n",
    "    yaxis_title=\"Importe ($)\",\n",
    "    title=\"Precios óptimos en Segmento 0\")\n"
   ]
  },
  {
   "cell_type": "code",
   "execution_count": 230,
   "metadata": {},
   "outputs": [
    {
     "data": {
      "application/vnd.plotly.v1+json": {
       "config": {
        "plotlyServerURL": "https://plot.ly"
       },
       "data": [
        {
         "name": "Ingresos ($)",
         "type": "scatter",
         "x": [
          16,
          16.58,
          17.16,
          17.74,
          18.32,
          18.89,
          19.47,
          20.05,
          20.63,
          21.21,
          21.79,
          22.37,
          22.95,
          23.53,
          24.11,
          24.68,
          25.26,
          25.84,
          26.42,
          27
         ],
         "y": [
          11.977163429471512,
          9.948646078017841,
          8.27317820095948,
          6.888431436760904,
          5.743020343036729,
          4.809545029305992,
          4.020938157301608,
          3.3665249023577823,
          2.8227847550430814,
          2.3704032502219015,
          1.9935147264966497,
          1.6790794501025552,
          1.4163725478313811,
          1.1965654163942483,
          1.0123832739117413,
          0.8602680819543493,
          0.729989823433169,
          0.6203461954172207,
          0.5279334948845166,
          0.4499300914530263
         ]
        },
        {
         "name": "Rentabilidad ($)",
         "type": "scatter",
         "x": [
          16,
          16.58,
          17.16,
          17.74,
          18.32,
          18.89,
          19.47,
          20.05,
          20.63,
          21.21,
          21.79,
          22.37,
          22.95,
          23.53,
          24.11,
          24.68,
          25.26,
          25.84,
          26.42,
          27
         ],
         "y": [
          -0.6682476263728443,
          -0.2057088128389779,
          0.0574099192015769,
          0.1941708101505233,
          0.25243295361059026,
          0.26349230450355776,
          0.24771136306501695,
          0.2175664872364571,
          0.18122154874292784,
          0.14365602846878867,
          0.10777181161588034,
          0.07513055984019124,
          0.046443919336357276,
          0.021898046851763553,
          0.0013669909441229589,
          -0.015187920309501335,
          -0.02872515521452257,
          -0.03933496918179302,
          -0.04742423459923928,
          -0.053375426863482955
         ]
        }
       ],
       "layout": {
        "annotations": [
         {
          "arrowhead": 1,
          "showarrow": true,
          "text": "MaxPrecioIng:16.0",
          "x": 16,
          "y": 11.977163429471512
         },
         {
          "arrowhead": 1,
          "showarrow": true,
          "text": "MaxPrecioRent:18.89",
          "x": 18.89,
          "y": 0.26349230450355776
         }
        ],
        "height": 600,
        "shapes": [
         {
          "line": {
           "color": "blue",
           "dash": "dash",
           "width": 2
          },
          "opacity": 0.25,
          "type": "line",
          "x0": 16,
          "x1": 16,
          "xref": "x",
          "y0": 0,
          "y1": 1,
          "yref": "y domain"
         },
         {
          "line": {
           "color": "green",
           "dash": "dash",
           "width": 2
          },
          "opacity": 0.25,
          "type": "line",
          "x0": 18.89,
          "x1": 18.89,
          "xref": "x",
          "y0": 0,
          "y1": 1,
          "yref": "y domain"
         },
         {
          "line": {
           "color": "orange",
           "dash": "dash",
           "width": 2
          },
          "opacity": 0.5,
          "type": "line",
          "x0": 17,
          "x1": 17,
          "xref": "x",
          "y0": 0,
          "y1": 1,
          "yref": "y domain"
         }
        ],
        "showlegend": true,
        "template": {
         "data": {
          "bar": [
           {
            "error_x": {
             "color": "#2a3f5f"
            },
            "error_y": {
             "color": "#2a3f5f"
            },
            "marker": {
             "line": {
              "color": "#E5ECF6",
              "width": 0.5
             },
             "pattern": {
              "fillmode": "overlay",
              "size": 10,
              "solidity": 0.2
             }
            },
            "type": "bar"
           }
          ],
          "barpolar": [
           {
            "marker": {
             "line": {
              "color": "#E5ECF6",
              "width": 0.5
             },
             "pattern": {
              "fillmode": "overlay",
              "size": 10,
              "solidity": 0.2
             }
            },
            "type": "barpolar"
           }
          ],
          "carpet": [
           {
            "aaxis": {
             "endlinecolor": "#2a3f5f",
             "gridcolor": "white",
             "linecolor": "white",
             "minorgridcolor": "white",
             "startlinecolor": "#2a3f5f"
            },
            "baxis": {
             "endlinecolor": "#2a3f5f",
             "gridcolor": "white",
             "linecolor": "white",
             "minorgridcolor": "white",
             "startlinecolor": "#2a3f5f"
            },
            "type": "carpet"
           }
          ],
          "choropleth": [
           {
            "colorbar": {
             "outlinewidth": 0,
             "ticks": ""
            },
            "type": "choropleth"
           }
          ],
          "contour": [
           {
            "colorbar": {
             "outlinewidth": 0,
             "ticks": ""
            },
            "colorscale": [
             [
              0,
              "#0d0887"
             ],
             [
              0.1111111111111111,
              "#46039f"
             ],
             [
              0.2222222222222222,
              "#7201a8"
             ],
             [
              0.3333333333333333,
              "#9c179e"
             ],
             [
              0.4444444444444444,
              "#bd3786"
             ],
             [
              0.5555555555555556,
              "#d8576b"
             ],
             [
              0.6666666666666666,
              "#ed7953"
             ],
             [
              0.7777777777777778,
              "#fb9f3a"
             ],
             [
              0.8888888888888888,
              "#fdca26"
             ],
             [
              1,
              "#f0f921"
             ]
            ],
            "type": "contour"
           }
          ],
          "contourcarpet": [
           {
            "colorbar": {
             "outlinewidth": 0,
             "ticks": ""
            },
            "type": "contourcarpet"
           }
          ],
          "heatmap": [
           {
            "colorbar": {
             "outlinewidth": 0,
             "ticks": ""
            },
            "colorscale": [
             [
              0,
              "#0d0887"
             ],
             [
              0.1111111111111111,
              "#46039f"
             ],
             [
              0.2222222222222222,
              "#7201a8"
             ],
             [
              0.3333333333333333,
              "#9c179e"
             ],
             [
              0.4444444444444444,
              "#bd3786"
             ],
             [
              0.5555555555555556,
              "#d8576b"
             ],
             [
              0.6666666666666666,
              "#ed7953"
             ],
             [
              0.7777777777777778,
              "#fb9f3a"
             ],
             [
              0.8888888888888888,
              "#fdca26"
             ],
             [
              1,
              "#f0f921"
             ]
            ],
            "type": "heatmap"
           }
          ],
          "heatmapgl": [
           {
            "colorbar": {
             "outlinewidth": 0,
             "ticks": ""
            },
            "colorscale": [
             [
              0,
              "#0d0887"
             ],
             [
              0.1111111111111111,
              "#46039f"
             ],
             [
              0.2222222222222222,
              "#7201a8"
             ],
             [
              0.3333333333333333,
              "#9c179e"
             ],
             [
              0.4444444444444444,
              "#bd3786"
             ],
             [
              0.5555555555555556,
              "#d8576b"
             ],
             [
              0.6666666666666666,
              "#ed7953"
             ],
             [
              0.7777777777777778,
              "#fb9f3a"
             ],
             [
              0.8888888888888888,
              "#fdca26"
             ],
             [
              1,
              "#f0f921"
             ]
            ],
            "type": "heatmapgl"
           }
          ],
          "histogram": [
           {
            "marker": {
             "pattern": {
              "fillmode": "overlay",
              "size": 10,
              "solidity": 0.2
             }
            },
            "type": "histogram"
           }
          ],
          "histogram2d": [
           {
            "colorbar": {
             "outlinewidth": 0,
             "ticks": ""
            },
            "colorscale": [
             [
              0,
              "#0d0887"
             ],
             [
              0.1111111111111111,
              "#46039f"
             ],
             [
              0.2222222222222222,
              "#7201a8"
             ],
             [
              0.3333333333333333,
              "#9c179e"
             ],
             [
              0.4444444444444444,
              "#bd3786"
             ],
             [
              0.5555555555555556,
              "#d8576b"
             ],
             [
              0.6666666666666666,
              "#ed7953"
             ],
             [
              0.7777777777777778,
              "#fb9f3a"
             ],
             [
              0.8888888888888888,
              "#fdca26"
             ],
             [
              1,
              "#f0f921"
             ]
            ],
            "type": "histogram2d"
           }
          ],
          "histogram2dcontour": [
           {
            "colorbar": {
             "outlinewidth": 0,
             "ticks": ""
            },
            "colorscale": [
             [
              0,
              "#0d0887"
             ],
             [
              0.1111111111111111,
              "#46039f"
             ],
             [
              0.2222222222222222,
              "#7201a8"
             ],
             [
              0.3333333333333333,
              "#9c179e"
             ],
             [
              0.4444444444444444,
              "#bd3786"
             ],
             [
              0.5555555555555556,
              "#d8576b"
             ],
             [
              0.6666666666666666,
              "#ed7953"
             ],
             [
              0.7777777777777778,
              "#fb9f3a"
             ],
             [
              0.8888888888888888,
              "#fdca26"
             ],
             [
              1,
              "#f0f921"
             ]
            ],
            "type": "histogram2dcontour"
           }
          ],
          "mesh3d": [
           {
            "colorbar": {
             "outlinewidth": 0,
             "ticks": ""
            },
            "type": "mesh3d"
           }
          ],
          "parcoords": [
           {
            "line": {
             "colorbar": {
              "outlinewidth": 0,
              "ticks": ""
             }
            },
            "type": "parcoords"
           }
          ],
          "pie": [
           {
            "automargin": true,
            "type": "pie"
           }
          ],
          "scatter": [
           {
            "fillpattern": {
             "fillmode": "overlay",
             "size": 10,
             "solidity": 0.2
            },
            "type": "scatter"
           }
          ],
          "scatter3d": [
           {
            "line": {
             "colorbar": {
              "outlinewidth": 0,
              "ticks": ""
             }
            },
            "marker": {
             "colorbar": {
              "outlinewidth": 0,
              "ticks": ""
             }
            },
            "type": "scatter3d"
           }
          ],
          "scattercarpet": [
           {
            "marker": {
             "colorbar": {
              "outlinewidth": 0,
              "ticks": ""
             }
            },
            "type": "scattercarpet"
           }
          ],
          "scattergeo": [
           {
            "marker": {
             "colorbar": {
              "outlinewidth": 0,
              "ticks": ""
             }
            },
            "type": "scattergeo"
           }
          ],
          "scattergl": [
           {
            "marker": {
             "colorbar": {
              "outlinewidth": 0,
              "ticks": ""
             }
            },
            "type": "scattergl"
           }
          ],
          "scattermapbox": [
           {
            "marker": {
             "colorbar": {
              "outlinewidth": 0,
              "ticks": ""
             }
            },
            "type": "scattermapbox"
           }
          ],
          "scatterpolar": [
           {
            "marker": {
             "colorbar": {
              "outlinewidth": 0,
              "ticks": ""
             }
            },
            "type": "scatterpolar"
           }
          ],
          "scatterpolargl": [
           {
            "marker": {
             "colorbar": {
              "outlinewidth": 0,
              "ticks": ""
             }
            },
            "type": "scatterpolargl"
           }
          ],
          "scatterternary": [
           {
            "marker": {
             "colorbar": {
              "outlinewidth": 0,
              "ticks": ""
             }
            },
            "type": "scatterternary"
           }
          ],
          "surface": [
           {
            "colorbar": {
             "outlinewidth": 0,
             "ticks": ""
            },
            "colorscale": [
             [
              0,
              "#0d0887"
             ],
             [
              0.1111111111111111,
              "#46039f"
             ],
             [
              0.2222222222222222,
              "#7201a8"
             ],
             [
              0.3333333333333333,
              "#9c179e"
             ],
             [
              0.4444444444444444,
              "#bd3786"
             ],
             [
              0.5555555555555556,
              "#d8576b"
             ],
             [
              0.6666666666666666,
              "#ed7953"
             ],
             [
              0.7777777777777778,
              "#fb9f3a"
             ],
             [
              0.8888888888888888,
              "#fdca26"
             ],
             [
              1,
              "#f0f921"
             ]
            ],
            "type": "surface"
           }
          ],
          "table": [
           {
            "cells": {
             "fill": {
              "color": "#EBF0F8"
             },
             "line": {
              "color": "white"
             }
            },
            "header": {
             "fill": {
              "color": "#C8D4E3"
             },
             "line": {
              "color": "white"
             }
            },
            "type": "table"
           }
          ]
         },
         "layout": {
          "annotationdefaults": {
           "arrowcolor": "#2a3f5f",
           "arrowhead": 0,
           "arrowwidth": 1
          },
          "autotypenumbers": "strict",
          "coloraxis": {
           "colorbar": {
            "outlinewidth": 0,
            "ticks": ""
           }
          },
          "colorscale": {
           "diverging": [
            [
             0,
             "#8e0152"
            ],
            [
             0.1,
             "#c51b7d"
            ],
            [
             0.2,
             "#de77ae"
            ],
            [
             0.3,
             "#f1b6da"
            ],
            [
             0.4,
             "#fde0ef"
            ],
            [
             0.5,
             "#f7f7f7"
            ],
            [
             0.6,
             "#e6f5d0"
            ],
            [
             0.7,
             "#b8e186"
            ],
            [
             0.8,
             "#7fbc41"
            ],
            [
             0.9,
             "#4d9221"
            ],
            [
             1,
             "#276419"
            ]
           ],
           "sequential": [
            [
             0,
             "#0d0887"
            ],
            [
             0.1111111111111111,
             "#46039f"
            ],
            [
             0.2222222222222222,
             "#7201a8"
            ],
            [
             0.3333333333333333,
             "#9c179e"
            ],
            [
             0.4444444444444444,
             "#bd3786"
            ],
            [
             0.5555555555555556,
             "#d8576b"
            ],
            [
             0.6666666666666666,
             "#ed7953"
            ],
            [
             0.7777777777777778,
             "#fb9f3a"
            ],
            [
             0.8888888888888888,
             "#fdca26"
            ],
            [
             1,
             "#f0f921"
            ]
           ],
           "sequentialminus": [
            [
             0,
             "#0d0887"
            ],
            [
             0.1111111111111111,
             "#46039f"
            ],
            [
             0.2222222222222222,
             "#7201a8"
            ],
            [
             0.3333333333333333,
             "#9c179e"
            ],
            [
             0.4444444444444444,
             "#bd3786"
            ],
            [
             0.5555555555555556,
             "#d8576b"
            ],
            [
             0.6666666666666666,
             "#ed7953"
            ],
            [
             0.7777777777777778,
             "#fb9f3a"
            ],
            [
             0.8888888888888888,
             "#fdca26"
            ],
            [
             1,
             "#f0f921"
            ]
           ]
          },
          "colorway": [
           "#636efa",
           "#EF553B",
           "#00cc96",
           "#ab63fa",
           "#FFA15A",
           "#19d3f3",
           "#FF6692",
           "#B6E880",
           "#FF97FF",
           "#FECB52"
          ],
          "font": {
           "color": "#2a3f5f"
          },
          "geo": {
           "bgcolor": "white",
           "lakecolor": "white",
           "landcolor": "#E5ECF6",
           "showlakes": true,
           "showland": true,
           "subunitcolor": "white"
          },
          "hoverlabel": {
           "align": "left"
          },
          "hovermode": "closest",
          "mapbox": {
           "style": "light"
          },
          "paper_bgcolor": "white",
          "plot_bgcolor": "#E5ECF6",
          "polar": {
           "angularaxis": {
            "gridcolor": "white",
            "linecolor": "white",
            "ticks": ""
           },
           "bgcolor": "#E5ECF6",
           "radialaxis": {
            "gridcolor": "white",
            "linecolor": "white",
            "ticks": ""
           }
          },
          "scene": {
           "xaxis": {
            "backgroundcolor": "#E5ECF6",
            "gridcolor": "white",
            "gridwidth": 2,
            "linecolor": "white",
            "showbackground": true,
            "ticks": "",
            "zerolinecolor": "white"
           },
           "yaxis": {
            "backgroundcolor": "#E5ECF6",
            "gridcolor": "white",
            "gridwidth": 2,
            "linecolor": "white",
            "showbackground": true,
            "ticks": "",
            "zerolinecolor": "white"
           },
           "zaxis": {
            "backgroundcolor": "#E5ECF6",
            "gridcolor": "white",
            "gridwidth": 2,
            "linecolor": "white",
            "showbackground": true,
            "ticks": "",
            "zerolinecolor": "white"
           }
          },
          "shapedefaults": {
           "line": {
            "color": "#2a3f5f"
           }
          },
          "ternary": {
           "aaxis": {
            "gridcolor": "white",
            "linecolor": "white",
            "ticks": ""
           },
           "baxis": {
            "gridcolor": "white",
            "linecolor": "white",
            "ticks": ""
           },
           "bgcolor": "#E5ECF6",
           "caxis": {
            "gridcolor": "white",
            "linecolor": "white",
            "ticks": ""
           }
          },
          "title": {
           "x": 0.05
          },
          "xaxis": {
           "automargin": true,
           "gridcolor": "white",
           "linecolor": "white",
           "ticks": "",
           "title": {
            "standoff": 15
           },
           "zerolinecolor": "white",
           "zerolinewidth": 2
          },
          "yaxis": {
           "automargin": true,
           "gridcolor": "white",
           "linecolor": "white",
           "ticks": "",
           "title": {
            "standoff": 15
           },
           "zerolinecolor": "white",
           "zerolinewidth": 2
          }
         }
        },
        "title": {
         "text": "Precios óptimos en Segmento 1"
        },
        "width": 800,
        "xaxis": {
         "title": {
          "text": "Precio ($)"
         }
        },
        "yaxis": {
         "title": {
          "text": "Importe ($)"
         }
        }
       }
      }
     },
     "metadata": {},
     "output_type": "display_data"
    }
   ],
   "source": [
    "fig = go.Figure()\n",
    "\n",
    "# Se agrega el precio máximo de ingreso\n",
    "fig.add_trace(go.Scatter(x=df_elasticidad['irr'], y=df_elasticidad['ingresos_seg1'], name='Ingresos ($)'))\n",
    "# Se agrega la etiqueta\n",
    "fig.add_annotation(x=float(max_ing_seg1['irr']), y=float(max_ing_seg1['ingresos_seg1']),\n",
    "                                  text=\"MaxPrecioIng:\"+str(float(max_ing_seg1['irr'].round(2))),\n",
    "                                  showarrow=True,\n",
    "                                  arrowhead=1)\n",
    "# Se agrega la recta del precio máximo\n",
    "fig.add_vline(x=float(max_ing_seg1['irr']), line_width=2, line_dash=\"dash\",\n",
    "                             line_color=\"blue\", opacity=0.25)\n",
    "\n",
    "# Se agrega el precio máximo de rentabilidad\n",
    "fig.add_trace(go.Scatter(x=df_elasticidad['irr'], y=df_elasticidad['rentabilidad_seg1'], name='Rentabilidad ($)'))\n",
    "# Se agrega la etiqueta\n",
    "fig.add_annotation(x=float(max_ren_seg1['irr']), y=float(max_ren_seg1['rentabilidad_seg1']),\n",
    "                                  text=\"MaxPrecioRent:\"+str(float(max_ren_seg1['irr'].round(2))),\n",
    "                                  showarrow=True,\n",
    "                                  arrowhead=1)\n",
    "# Se agrega la recta del precio máximo\n",
    "fig.add_vline(x=float(max_ren_seg1['irr']), line_width=2, line_dash=\"dash\",\n",
    "                             line_color=\"green\", opacity=0.25)\n",
    "\n",
    "# Agregamos la línea de restricción: Costo\n",
    "fig.add_vline(x=float(df_elasticidad['costo'].mean()), line_width=2, line_dash=\"dash\",\n",
    "                             line_color=\"orange\", opacity=0.5)\n",
    "\n",
    "# Configuración del gráfico\n",
    "fig.update_layout(\n",
    "    showlegend=True,\n",
    "    width=800,\n",
    "    height=600,\n",
    "    xaxis_title=\"Precio ($)\",\n",
    "    yaxis_title=\"Importe ($)\",\n",
    "    title=\"Precios óptimos en Segmento 1\")"
   ]
  },
  {
   "cell_type": "code",
   "execution_count": 231,
   "metadata": {},
   "outputs": [
    {
     "data": {
      "application/vnd.plotly.v1+json": {
       "config": {
        "plotlyServerURL": "https://plot.ly"
       },
       "data": [
        {
         "name": "Ingresos ($)",
         "type": "scatter",
         "x": [
          16,
          16.58,
          17.16,
          17.74,
          18.32,
          18.89,
          19.47,
          20.05,
          20.63,
          21.21,
          21.79,
          22.37,
          22.95,
          23.53,
          24.11,
          24.68,
          25.26,
          25.84,
          26.42,
          27
         ],
         "y": [
          12.328369866342102,
          10.18792126444107,
          8.429135438256711,
          6.982963822417147,
          5.792803291500221,
          4.827683194617687,
          4.0163529626833325,
          3.3463913066469044,
          2.792439460885625,
          2.333780342874778,
          1.9534821202344843,
          1.6376980560287666,
          1.375095408995317,
          1.1563903227759118,
          0.9739694072729205,
          0.8239851104160292,
          0.696102111552833,
          0.5889517644563513,
          0.49903712702276537,
          0.42347229135526565
         ]
        },
        {
         "name": "Rentabilidad ($)",
         "type": "scatter",
         "x": [
          16,
          16.58,
          17.16,
          17.74,
          18.32,
          18.89,
          19.47,
          20.05,
          20.63,
          21.21,
          21.79,
          22.37,
          22.95,
          23.53,
          24.11,
          24.68,
          25.26,
          25.84,
          26.42,
          27
         ],
         "y": [
          -0.6960708206013173,
          -0.21285811334385052,
          0.059007307276253584,
          0.1982057703184399,
          0.2558502179618882,
          0.2651021593211649,
          0.24723238643980805,
          0.21523176490314944,
          0.17746682521677126,
          0.13896237965862523,
          0.10258533941239478,
          0.06982683060346884,
          0.041317510846960115,
          0.017165399596217545,
          -0.0028244042823704074,
          -0.018759373339058305,
          -0.031621420162203706,
          -0.04154627624297136,
          -0.0489667731484833,
          -0.05428364337176733
         ]
        }
       ],
       "layout": {
        "annotations": [
         {
          "arrowhead": 1,
          "showarrow": true,
          "text": "MaxPrecioIng:16.0",
          "x": 16,
          "y": 12.328369866342102
         },
         {
          "arrowhead": 1,
          "showarrow": true,
          "text": "MaxPrecioRent:18.89",
          "x": 18.89,
          "y": 0.2651021593211649
         }
        ],
        "height": 600,
        "shapes": [
         {
          "line": {
           "color": "blue",
           "dash": "dash",
           "width": 2
          },
          "opacity": 0.25,
          "type": "line",
          "x0": 16,
          "x1": 16,
          "xref": "x",
          "y0": 0,
          "y1": 1,
          "yref": "y domain"
         },
         {
          "line": {
           "color": "green",
           "dash": "dash",
           "width": 2
          },
          "opacity": 0.25,
          "type": "line",
          "x0": 18.89,
          "x1": 18.89,
          "xref": "x",
          "y0": 0,
          "y1": 1,
          "yref": "y domain"
         },
         {
          "line": {
           "color": "orange",
           "dash": "dash",
           "width": 2
          },
          "opacity": 0.5,
          "type": "line",
          "x0": 17,
          "x1": 17,
          "xref": "x",
          "y0": 0,
          "y1": 1,
          "yref": "y domain"
         }
        ],
        "showlegend": true,
        "template": {
         "data": {
          "bar": [
           {
            "error_x": {
             "color": "#2a3f5f"
            },
            "error_y": {
             "color": "#2a3f5f"
            },
            "marker": {
             "line": {
              "color": "#E5ECF6",
              "width": 0.5
             },
             "pattern": {
              "fillmode": "overlay",
              "size": 10,
              "solidity": 0.2
             }
            },
            "type": "bar"
           }
          ],
          "barpolar": [
           {
            "marker": {
             "line": {
              "color": "#E5ECF6",
              "width": 0.5
             },
             "pattern": {
              "fillmode": "overlay",
              "size": 10,
              "solidity": 0.2
             }
            },
            "type": "barpolar"
           }
          ],
          "carpet": [
           {
            "aaxis": {
             "endlinecolor": "#2a3f5f",
             "gridcolor": "white",
             "linecolor": "white",
             "minorgridcolor": "white",
             "startlinecolor": "#2a3f5f"
            },
            "baxis": {
             "endlinecolor": "#2a3f5f",
             "gridcolor": "white",
             "linecolor": "white",
             "minorgridcolor": "white",
             "startlinecolor": "#2a3f5f"
            },
            "type": "carpet"
           }
          ],
          "choropleth": [
           {
            "colorbar": {
             "outlinewidth": 0,
             "ticks": ""
            },
            "type": "choropleth"
           }
          ],
          "contour": [
           {
            "colorbar": {
             "outlinewidth": 0,
             "ticks": ""
            },
            "colorscale": [
             [
              0,
              "#0d0887"
             ],
             [
              0.1111111111111111,
              "#46039f"
             ],
             [
              0.2222222222222222,
              "#7201a8"
             ],
             [
              0.3333333333333333,
              "#9c179e"
             ],
             [
              0.4444444444444444,
              "#bd3786"
             ],
             [
              0.5555555555555556,
              "#d8576b"
             ],
             [
              0.6666666666666666,
              "#ed7953"
             ],
             [
              0.7777777777777778,
              "#fb9f3a"
             ],
             [
              0.8888888888888888,
              "#fdca26"
             ],
             [
              1,
              "#f0f921"
             ]
            ],
            "type": "contour"
           }
          ],
          "contourcarpet": [
           {
            "colorbar": {
             "outlinewidth": 0,
             "ticks": ""
            },
            "type": "contourcarpet"
           }
          ],
          "heatmap": [
           {
            "colorbar": {
             "outlinewidth": 0,
             "ticks": ""
            },
            "colorscale": [
             [
              0,
              "#0d0887"
             ],
             [
              0.1111111111111111,
              "#46039f"
             ],
             [
              0.2222222222222222,
              "#7201a8"
             ],
             [
              0.3333333333333333,
              "#9c179e"
             ],
             [
              0.4444444444444444,
              "#bd3786"
             ],
             [
              0.5555555555555556,
              "#d8576b"
             ],
             [
              0.6666666666666666,
              "#ed7953"
             ],
             [
              0.7777777777777778,
              "#fb9f3a"
             ],
             [
              0.8888888888888888,
              "#fdca26"
             ],
             [
              1,
              "#f0f921"
             ]
            ],
            "type": "heatmap"
           }
          ],
          "heatmapgl": [
           {
            "colorbar": {
             "outlinewidth": 0,
             "ticks": ""
            },
            "colorscale": [
             [
              0,
              "#0d0887"
             ],
             [
              0.1111111111111111,
              "#46039f"
             ],
             [
              0.2222222222222222,
              "#7201a8"
             ],
             [
              0.3333333333333333,
              "#9c179e"
             ],
             [
              0.4444444444444444,
              "#bd3786"
             ],
             [
              0.5555555555555556,
              "#d8576b"
             ],
             [
              0.6666666666666666,
              "#ed7953"
             ],
             [
              0.7777777777777778,
              "#fb9f3a"
             ],
             [
              0.8888888888888888,
              "#fdca26"
             ],
             [
              1,
              "#f0f921"
             ]
            ],
            "type": "heatmapgl"
           }
          ],
          "histogram": [
           {
            "marker": {
             "pattern": {
              "fillmode": "overlay",
              "size": 10,
              "solidity": 0.2
             }
            },
            "type": "histogram"
           }
          ],
          "histogram2d": [
           {
            "colorbar": {
             "outlinewidth": 0,
             "ticks": ""
            },
            "colorscale": [
             [
              0,
              "#0d0887"
             ],
             [
              0.1111111111111111,
              "#46039f"
             ],
             [
              0.2222222222222222,
              "#7201a8"
             ],
             [
              0.3333333333333333,
              "#9c179e"
             ],
             [
              0.4444444444444444,
              "#bd3786"
             ],
             [
              0.5555555555555556,
              "#d8576b"
             ],
             [
              0.6666666666666666,
              "#ed7953"
             ],
             [
              0.7777777777777778,
              "#fb9f3a"
             ],
             [
              0.8888888888888888,
              "#fdca26"
             ],
             [
              1,
              "#f0f921"
             ]
            ],
            "type": "histogram2d"
           }
          ],
          "histogram2dcontour": [
           {
            "colorbar": {
             "outlinewidth": 0,
             "ticks": ""
            },
            "colorscale": [
             [
              0,
              "#0d0887"
             ],
             [
              0.1111111111111111,
              "#46039f"
             ],
             [
              0.2222222222222222,
              "#7201a8"
             ],
             [
              0.3333333333333333,
              "#9c179e"
             ],
             [
              0.4444444444444444,
              "#bd3786"
             ],
             [
              0.5555555555555556,
              "#d8576b"
             ],
             [
              0.6666666666666666,
              "#ed7953"
             ],
             [
              0.7777777777777778,
              "#fb9f3a"
             ],
             [
              0.8888888888888888,
              "#fdca26"
             ],
             [
              1,
              "#f0f921"
             ]
            ],
            "type": "histogram2dcontour"
           }
          ],
          "mesh3d": [
           {
            "colorbar": {
             "outlinewidth": 0,
             "ticks": ""
            },
            "type": "mesh3d"
           }
          ],
          "parcoords": [
           {
            "line": {
             "colorbar": {
              "outlinewidth": 0,
              "ticks": ""
             }
            },
            "type": "parcoords"
           }
          ],
          "pie": [
           {
            "automargin": true,
            "type": "pie"
           }
          ],
          "scatter": [
           {
            "fillpattern": {
             "fillmode": "overlay",
             "size": 10,
             "solidity": 0.2
            },
            "type": "scatter"
           }
          ],
          "scatter3d": [
           {
            "line": {
             "colorbar": {
              "outlinewidth": 0,
              "ticks": ""
             }
            },
            "marker": {
             "colorbar": {
              "outlinewidth": 0,
              "ticks": ""
             }
            },
            "type": "scatter3d"
           }
          ],
          "scattercarpet": [
           {
            "marker": {
             "colorbar": {
              "outlinewidth": 0,
              "ticks": ""
             }
            },
            "type": "scattercarpet"
           }
          ],
          "scattergeo": [
           {
            "marker": {
             "colorbar": {
              "outlinewidth": 0,
              "ticks": ""
             }
            },
            "type": "scattergeo"
           }
          ],
          "scattergl": [
           {
            "marker": {
             "colorbar": {
              "outlinewidth": 0,
              "ticks": ""
             }
            },
            "type": "scattergl"
           }
          ],
          "scattermapbox": [
           {
            "marker": {
             "colorbar": {
              "outlinewidth": 0,
              "ticks": ""
             }
            },
            "type": "scattermapbox"
           }
          ],
          "scatterpolar": [
           {
            "marker": {
             "colorbar": {
              "outlinewidth": 0,
              "ticks": ""
             }
            },
            "type": "scatterpolar"
           }
          ],
          "scatterpolargl": [
           {
            "marker": {
             "colorbar": {
              "outlinewidth": 0,
              "ticks": ""
             }
            },
            "type": "scatterpolargl"
           }
          ],
          "scatterternary": [
           {
            "marker": {
             "colorbar": {
              "outlinewidth": 0,
              "ticks": ""
             }
            },
            "type": "scatterternary"
           }
          ],
          "surface": [
           {
            "colorbar": {
             "outlinewidth": 0,
             "ticks": ""
            },
            "colorscale": [
             [
              0,
              "#0d0887"
             ],
             [
              0.1111111111111111,
              "#46039f"
             ],
             [
              0.2222222222222222,
              "#7201a8"
             ],
             [
              0.3333333333333333,
              "#9c179e"
             ],
             [
              0.4444444444444444,
              "#bd3786"
             ],
             [
              0.5555555555555556,
              "#d8576b"
             ],
             [
              0.6666666666666666,
              "#ed7953"
             ],
             [
              0.7777777777777778,
              "#fb9f3a"
             ],
             [
              0.8888888888888888,
              "#fdca26"
             ],
             [
              1,
              "#f0f921"
             ]
            ],
            "type": "surface"
           }
          ],
          "table": [
           {
            "cells": {
             "fill": {
              "color": "#EBF0F8"
             },
             "line": {
              "color": "white"
             }
            },
            "header": {
             "fill": {
              "color": "#C8D4E3"
             },
             "line": {
              "color": "white"
             }
            },
            "type": "table"
           }
          ]
         },
         "layout": {
          "annotationdefaults": {
           "arrowcolor": "#2a3f5f",
           "arrowhead": 0,
           "arrowwidth": 1
          },
          "autotypenumbers": "strict",
          "coloraxis": {
           "colorbar": {
            "outlinewidth": 0,
            "ticks": ""
           }
          },
          "colorscale": {
           "diverging": [
            [
             0,
             "#8e0152"
            ],
            [
             0.1,
             "#c51b7d"
            ],
            [
             0.2,
             "#de77ae"
            ],
            [
             0.3,
             "#f1b6da"
            ],
            [
             0.4,
             "#fde0ef"
            ],
            [
             0.5,
             "#f7f7f7"
            ],
            [
             0.6,
             "#e6f5d0"
            ],
            [
             0.7,
             "#b8e186"
            ],
            [
             0.8,
             "#7fbc41"
            ],
            [
             0.9,
             "#4d9221"
            ],
            [
             1,
             "#276419"
            ]
           ],
           "sequential": [
            [
             0,
             "#0d0887"
            ],
            [
             0.1111111111111111,
             "#46039f"
            ],
            [
             0.2222222222222222,
             "#7201a8"
            ],
            [
             0.3333333333333333,
             "#9c179e"
            ],
            [
             0.4444444444444444,
             "#bd3786"
            ],
            [
             0.5555555555555556,
             "#d8576b"
            ],
            [
             0.6666666666666666,
             "#ed7953"
            ],
            [
             0.7777777777777778,
             "#fb9f3a"
            ],
            [
             0.8888888888888888,
             "#fdca26"
            ],
            [
             1,
             "#f0f921"
            ]
           ],
           "sequentialminus": [
            [
             0,
             "#0d0887"
            ],
            [
             0.1111111111111111,
             "#46039f"
            ],
            [
             0.2222222222222222,
             "#7201a8"
            ],
            [
             0.3333333333333333,
             "#9c179e"
            ],
            [
             0.4444444444444444,
             "#bd3786"
            ],
            [
             0.5555555555555556,
             "#d8576b"
            ],
            [
             0.6666666666666666,
             "#ed7953"
            ],
            [
             0.7777777777777778,
             "#fb9f3a"
            ],
            [
             0.8888888888888888,
             "#fdca26"
            ],
            [
             1,
             "#f0f921"
            ]
           ]
          },
          "colorway": [
           "#636efa",
           "#EF553B",
           "#00cc96",
           "#ab63fa",
           "#FFA15A",
           "#19d3f3",
           "#FF6692",
           "#B6E880",
           "#FF97FF",
           "#FECB52"
          ],
          "font": {
           "color": "#2a3f5f"
          },
          "geo": {
           "bgcolor": "white",
           "lakecolor": "white",
           "landcolor": "#E5ECF6",
           "showlakes": true,
           "showland": true,
           "subunitcolor": "white"
          },
          "hoverlabel": {
           "align": "left"
          },
          "hovermode": "closest",
          "mapbox": {
           "style": "light"
          },
          "paper_bgcolor": "white",
          "plot_bgcolor": "#E5ECF6",
          "polar": {
           "angularaxis": {
            "gridcolor": "white",
            "linecolor": "white",
            "ticks": ""
           },
           "bgcolor": "#E5ECF6",
           "radialaxis": {
            "gridcolor": "white",
            "linecolor": "white",
            "ticks": ""
           }
          },
          "scene": {
           "xaxis": {
            "backgroundcolor": "#E5ECF6",
            "gridcolor": "white",
            "gridwidth": 2,
            "linecolor": "white",
            "showbackground": true,
            "ticks": "",
            "zerolinecolor": "white"
           },
           "yaxis": {
            "backgroundcolor": "#E5ECF6",
            "gridcolor": "white",
            "gridwidth": 2,
            "linecolor": "white",
            "showbackground": true,
            "ticks": "",
            "zerolinecolor": "white"
           },
           "zaxis": {
            "backgroundcolor": "#E5ECF6",
            "gridcolor": "white",
            "gridwidth": 2,
            "linecolor": "white",
            "showbackground": true,
            "ticks": "",
            "zerolinecolor": "white"
           }
          },
          "shapedefaults": {
           "line": {
            "color": "#2a3f5f"
           }
          },
          "ternary": {
           "aaxis": {
            "gridcolor": "white",
            "linecolor": "white",
            "ticks": ""
           },
           "baxis": {
            "gridcolor": "white",
            "linecolor": "white",
            "ticks": ""
           },
           "bgcolor": "#E5ECF6",
           "caxis": {
            "gridcolor": "white",
            "linecolor": "white",
            "ticks": ""
           }
          },
          "title": {
           "x": 0.05
          },
          "xaxis": {
           "automargin": true,
           "gridcolor": "white",
           "linecolor": "white",
           "ticks": "",
           "title": {
            "standoff": 15
           },
           "zerolinecolor": "white",
           "zerolinewidth": 2
          },
          "yaxis": {
           "automargin": true,
           "gridcolor": "white",
           "linecolor": "white",
           "ticks": "",
           "title": {
            "standoff": 15
           },
           "zerolinecolor": "white",
           "zerolinewidth": 2
          }
         }
        },
        "title": {
         "text": "Precios óptimos en Segmento 2"
        },
        "width": 800,
        "xaxis": {
         "title": {
          "text": "Precio ($)"
         }
        },
        "yaxis": {
         "title": {
          "text": "Importe ($)"
         }
        }
       }
      }
     },
     "metadata": {},
     "output_type": "display_data"
    }
   ],
   "source": [
    "fig = go.Figure()\n",
    "\n",
    "# Se agrega el precio máximo de ingreso\n",
    "fig.add_trace(go.Scatter(x=df_elasticidad['irr'], y=df_elasticidad['ingresos_seg2'], name='Ingresos ($)'))\n",
    "# Se agrega la etiqueta\n",
    "fig.add_annotation(x=float(max_ing_seg2['irr']), y=float(max_ing_seg2['ingresos_seg2']),\n",
    "                                  text=\"MaxPrecioIng:\"+str(float(max_ing_seg2['irr'].round(2))),\n",
    "                                  showarrow=True,\n",
    "                                  arrowhead=1)\n",
    "# Se agrega la recta del precio máximo\n",
    "fig.add_vline(x=float(max_ing_seg2['irr']), line_width=2, line_dash=\"dash\",\n",
    "                             line_color=\"blue\", opacity=0.25)\n",
    "\n",
    "# Se agrega el precio máximo de rentabilidad\n",
    "fig.add_trace(go.Scatter(x=df_elasticidad['irr'], y=df_elasticidad['rentabilidad_seg2'], name='Rentabilidad ($)'))\n",
    "# Se agrega la etiqueta\n",
    "fig.add_annotation(x=float(max_ren_seg2['irr']), y=float(max_ren_seg2['rentabilidad_seg2']),\n",
    "                                  text=\"MaxPrecioRent:\"+str(float(max_ren_seg2['irr'].round(2))),\n",
    "                                  showarrow=True,\n",
    "                                  arrowhead=1)\n",
    "# Se agrega la recta del precio máximo\n",
    "fig.add_vline(x=float(max_ren_seg2['irr']), line_width=2, line_dash=\"dash\",\n",
    "                             line_color=\"green\", opacity=0.25)\n",
    "\n",
    "# Agregamos la línea de restricción: Costo\n",
    "fig.add_vline(x=float(df_elasticidad['costo'].mean()), line_width=2, line_dash=\"dash\",\n",
    "                             line_color=\"orange\", opacity=0.5)\n",
    "\n",
    "# Configuración del gráfico\n",
    "fig.update_layout(\n",
    "    showlegend=True,\n",
    "    width=800,\n",
    "    height=600,\n",
    "    xaxis_title=\"Precio ($)\",\n",
    "    yaxis_title=\"Importe ($)\",\n",
    "    title=\"Precios óptimos en Segmento 2\")"
   ]
  },
  {
   "cell_type": "code",
   "execution_count": 232,
   "metadata": {},
   "outputs": [
    {
     "data": {
      "application/vnd.plotly.v1+json": {
       "config": {
        "plotlyServerURL": "https://plot.ly"
       },
       "data": [
        {
         "name": "Ingresos ($)",
         "type": "scatter",
         "x": [
          16,
          16.58,
          17.16,
          17.74,
          18.32,
          18.89,
          19.47,
          20.05,
          20.63,
          21.21,
          21.79,
          22.37,
          22.95,
          23.53,
          24.11,
          24.68,
          25.26,
          25.84,
          26.42,
          27
         ],
         "y": [
          12.233003466239042,
          10.124868277715334,
          8.389909083526785,
          6.961107267600212,
          5.78342886935933,
          4.82698528385896,
          4.021745881875676,
          3.355820002061838,
          2.804390785403565,
          2.3471521800662094,
          1.967482762496362,
          1.6517690598930204,
          1.3888526151510105,
          1.169578894375253,
          0.9864296615315109,
          0.8356412223156229,
          0.7068992222899818,
          0.5988838278311033,
          0.5081224186461456,
          0.4317452485751754
         ]
        },
        {
         "name": "Rentabilidad ($)",
         "type": "scatter",
         "x": [
          16,
          16.58,
          17.16,
          17.74,
          18.32,
          18.89,
          19.47,
          20.05,
          20.63,
          21.21,
          21.79,
          22.37,
          22.95,
          23.53,
          24.11,
          24.68,
          25.26,
          25.84,
          26.42,
          27
         ],
         "y": [
          -0.688492087711472,
          -0.2109691006943315,
          0.05860463948995687,
          0.19727123683132586,
          0.25520594123491414,
          0.2650401749145104,
          0.24779576141380177,
          0.21632439912339407,
          0.17894340767975025,
          0.1406719579570761,
          0.10439272711113912,
          0.07162133339410492,
          0.04301468735483516,
          0.01870525532992917,
          -0.0014808120103289024,
          -0.017629943163818718,
          -0.030718300707260893,
          -0.0408678749547694,
          -0.04850421805541083,
          -0.05402311075755267
         ]
        }
       ],
       "layout": {
        "annotations": [
         {
          "arrowhead": 1,
          "showarrow": true,
          "text": "MaxPrecioIng:16.0",
          "x": 16,
          "y": 12.233003466239042
         },
         {
          "arrowhead": 1,
          "showarrow": true,
          "text": "MaxPrecioRent:18.89",
          "x": 18.89,
          "y": 0.2650401749145104
         }
        ],
        "height": 600,
        "shapes": [
         {
          "line": {
           "color": "blue",
           "dash": "dash",
           "width": 2
          },
          "opacity": 0.25,
          "type": "line",
          "x0": 16,
          "x1": 16,
          "xref": "x",
          "y0": 0,
          "y1": 1,
          "yref": "y domain"
         },
         {
          "line": {
           "color": "green",
           "dash": "dash",
           "width": 2
          },
          "opacity": 0.25,
          "type": "line",
          "x0": 18.89,
          "x1": 18.89,
          "xref": "x",
          "y0": 0,
          "y1": 1,
          "yref": "y domain"
         },
         {
          "line": {
           "color": "orange",
           "dash": "dash",
           "width": 2
          },
          "opacity": 0.5,
          "type": "line",
          "x0": 17,
          "x1": 17,
          "xref": "x",
          "y0": 0,
          "y1": 1,
          "yref": "y domain"
         }
        ],
        "showlegend": true,
        "template": {
         "data": {
          "bar": [
           {
            "error_x": {
             "color": "#2a3f5f"
            },
            "error_y": {
             "color": "#2a3f5f"
            },
            "marker": {
             "line": {
              "color": "#E5ECF6",
              "width": 0.5
             },
             "pattern": {
              "fillmode": "overlay",
              "size": 10,
              "solidity": 0.2
             }
            },
            "type": "bar"
           }
          ],
          "barpolar": [
           {
            "marker": {
             "line": {
              "color": "#E5ECF6",
              "width": 0.5
             },
             "pattern": {
              "fillmode": "overlay",
              "size": 10,
              "solidity": 0.2
             }
            },
            "type": "barpolar"
           }
          ],
          "carpet": [
           {
            "aaxis": {
             "endlinecolor": "#2a3f5f",
             "gridcolor": "white",
             "linecolor": "white",
             "minorgridcolor": "white",
             "startlinecolor": "#2a3f5f"
            },
            "baxis": {
             "endlinecolor": "#2a3f5f",
             "gridcolor": "white",
             "linecolor": "white",
             "minorgridcolor": "white",
             "startlinecolor": "#2a3f5f"
            },
            "type": "carpet"
           }
          ],
          "choropleth": [
           {
            "colorbar": {
             "outlinewidth": 0,
             "ticks": ""
            },
            "type": "choropleth"
           }
          ],
          "contour": [
           {
            "colorbar": {
             "outlinewidth": 0,
             "ticks": ""
            },
            "colorscale": [
             [
              0,
              "#0d0887"
             ],
             [
              0.1111111111111111,
              "#46039f"
             ],
             [
              0.2222222222222222,
              "#7201a8"
             ],
             [
              0.3333333333333333,
              "#9c179e"
             ],
             [
              0.4444444444444444,
              "#bd3786"
             ],
             [
              0.5555555555555556,
              "#d8576b"
             ],
             [
              0.6666666666666666,
              "#ed7953"
             ],
             [
              0.7777777777777778,
              "#fb9f3a"
             ],
             [
              0.8888888888888888,
              "#fdca26"
             ],
             [
              1,
              "#f0f921"
             ]
            ],
            "type": "contour"
           }
          ],
          "contourcarpet": [
           {
            "colorbar": {
             "outlinewidth": 0,
             "ticks": ""
            },
            "type": "contourcarpet"
           }
          ],
          "heatmap": [
           {
            "colorbar": {
             "outlinewidth": 0,
             "ticks": ""
            },
            "colorscale": [
             [
              0,
              "#0d0887"
             ],
             [
              0.1111111111111111,
              "#46039f"
             ],
             [
              0.2222222222222222,
              "#7201a8"
             ],
             [
              0.3333333333333333,
              "#9c179e"
             ],
             [
              0.4444444444444444,
              "#bd3786"
             ],
             [
              0.5555555555555556,
              "#d8576b"
             ],
             [
              0.6666666666666666,
              "#ed7953"
             ],
             [
              0.7777777777777778,
              "#fb9f3a"
             ],
             [
              0.8888888888888888,
              "#fdca26"
             ],
             [
              1,
              "#f0f921"
             ]
            ],
            "type": "heatmap"
           }
          ],
          "heatmapgl": [
           {
            "colorbar": {
             "outlinewidth": 0,
             "ticks": ""
            },
            "colorscale": [
             [
              0,
              "#0d0887"
             ],
             [
              0.1111111111111111,
              "#46039f"
             ],
             [
              0.2222222222222222,
              "#7201a8"
             ],
             [
              0.3333333333333333,
              "#9c179e"
             ],
             [
              0.4444444444444444,
              "#bd3786"
             ],
             [
              0.5555555555555556,
              "#d8576b"
             ],
             [
              0.6666666666666666,
              "#ed7953"
             ],
             [
              0.7777777777777778,
              "#fb9f3a"
             ],
             [
              0.8888888888888888,
              "#fdca26"
             ],
             [
              1,
              "#f0f921"
             ]
            ],
            "type": "heatmapgl"
           }
          ],
          "histogram": [
           {
            "marker": {
             "pattern": {
              "fillmode": "overlay",
              "size": 10,
              "solidity": 0.2
             }
            },
            "type": "histogram"
           }
          ],
          "histogram2d": [
           {
            "colorbar": {
             "outlinewidth": 0,
             "ticks": ""
            },
            "colorscale": [
             [
              0,
              "#0d0887"
             ],
             [
              0.1111111111111111,
              "#46039f"
             ],
             [
              0.2222222222222222,
              "#7201a8"
             ],
             [
              0.3333333333333333,
              "#9c179e"
             ],
             [
              0.4444444444444444,
              "#bd3786"
             ],
             [
              0.5555555555555556,
              "#d8576b"
             ],
             [
              0.6666666666666666,
              "#ed7953"
             ],
             [
              0.7777777777777778,
              "#fb9f3a"
             ],
             [
              0.8888888888888888,
              "#fdca26"
             ],
             [
              1,
              "#f0f921"
             ]
            ],
            "type": "histogram2d"
           }
          ],
          "histogram2dcontour": [
           {
            "colorbar": {
             "outlinewidth": 0,
             "ticks": ""
            },
            "colorscale": [
             [
              0,
              "#0d0887"
             ],
             [
              0.1111111111111111,
              "#46039f"
             ],
             [
              0.2222222222222222,
              "#7201a8"
             ],
             [
              0.3333333333333333,
              "#9c179e"
             ],
             [
              0.4444444444444444,
              "#bd3786"
             ],
             [
              0.5555555555555556,
              "#d8576b"
             ],
             [
              0.6666666666666666,
              "#ed7953"
             ],
             [
              0.7777777777777778,
              "#fb9f3a"
             ],
             [
              0.8888888888888888,
              "#fdca26"
             ],
             [
              1,
              "#f0f921"
             ]
            ],
            "type": "histogram2dcontour"
           }
          ],
          "mesh3d": [
           {
            "colorbar": {
             "outlinewidth": 0,
             "ticks": ""
            },
            "type": "mesh3d"
           }
          ],
          "parcoords": [
           {
            "line": {
             "colorbar": {
              "outlinewidth": 0,
              "ticks": ""
             }
            },
            "type": "parcoords"
           }
          ],
          "pie": [
           {
            "automargin": true,
            "type": "pie"
           }
          ],
          "scatter": [
           {
            "fillpattern": {
             "fillmode": "overlay",
             "size": 10,
             "solidity": 0.2
            },
            "type": "scatter"
           }
          ],
          "scatter3d": [
           {
            "line": {
             "colorbar": {
              "outlinewidth": 0,
              "ticks": ""
             }
            },
            "marker": {
             "colorbar": {
              "outlinewidth": 0,
              "ticks": ""
             }
            },
            "type": "scatter3d"
           }
          ],
          "scattercarpet": [
           {
            "marker": {
             "colorbar": {
              "outlinewidth": 0,
              "ticks": ""
             }
            },
            "type": "scattercarpet"
           }
          ],
          "scattergeo": [
           {
            "marker": {
             "colorbar": {
              "outlinewidth": 0,
              "ticks": ""
             }
            },
            "type": "scattergeo"
           }
          ],
          "scattergl": [
           {
            "marker": {
             "colorbar": {
              "outlinewidth": 0,
              "ticks": ""
             }
            },
            "type": "scattergl"
           }
          ],
          "scattermapbox": [
           {
            "marker": {
             "colorbar": {
              "outlinewidth": 0,
              "ticks": ""
             }
            },
            "type": "scattermapbox"
           }
          ],
          "scatterpolar": [
           {
            "marker": {
             "colorbar": {
              "outlinewidth": 0,
              "ticks": ""
             }
            },
            "type": "scatterpolar"
           }
          ],
          "scatterpolargl": [
           {
            "marker": {
             "colorbar": {
              "outlinewidth": 0,
              "ticks": ""
             }
            },
            "type": "scatterpolargl"
           }
          ],
          "scatterternary": [
           {
            "marker": {
             "colorbar": {
              "outlinewidth": 0,
              "ticks": ""
             }
            },
            "type": "scatterternary"
           }
          ],
          "surface": [
           {
            "colorbar": {
             "outlinewidth": 0,
             "ticks": ""
            },
            "colorscale": [
             [
              0,
              "#0d0887"
             ],
             [
              0.1111111111111111,
              "#46039f"
             ],
             [
              0.2222222222222222,
              "#7201a8"
             ],
             [
              0.3333333333333333,
              "#9c179e"
             ],
             [
              0.4444444444444444,
              "#bd3786"
             ],
             [
              0.5555555555555556,
              "#d8576b"
             ],
             [
              0.6666666666666666,
              "#ed7953"
             ],
             [
              0.7777777777777778,
              "#fb9f3a"
             ],
             [
              0.8888888888888888,
              "#fdca26"
             ],
             [
              1,
              "#f0f921"
             ]
            ],
            "type": "surface"
           }
          ],
          "table": [
           {
            "cells": {
             "fill": {
              "color": "#EBF0F8"
             },
             "line": {
              "color": "white"
             }
            },
            "header": {
             "fill": {
              "color": "#C8D4E3"
             },
             "line": {
              "color": "white"
             }
            },
            "type": "table"
           }
          ]
         },
         "layout": {
          "annotationdefaults": {
           "arrowcolor": "#2a3f5f",
           "arrowhead": 0,
           "arrowwidth": 1
          },
          "autotypenumbers": "strict",
          "coloraxis": {
           "colorbar": {
            "outlinewidth": 0,
            "ticks": ""
           }
          },
          "colorscale": {
           "diverging": [
            [
             0,
             "#8e0152"
            ],
            [
             0.1,
             "#c51b7d"
            ],
            [
             0.2,
             "#de77ae"
            ],
            [
             0.3,
             "#f1b6da"
            ],
            [
             0.4,
             "#fde0ef"
            ],
            [
             0.5,
             "#f7f7f7"
            ],
            [
             0.6,
             "#e6f5d0"
            ],
            [
             0.7,
             "#b8e186"
            ],
            [
             0.8,
             "#7fbc41"
            ],
            [
             0.9,
             "#4d9221"
            ],
            [
             1,
             "#276419"
            ]
           ],
           "sequential": [
            [
             0,
             "#0d0887"
            ],
            [
             0.1111111111111111,
             "#46039f"
            ],
            [
             0.2222222222222222,
             "#7201a8"
            ],
            [
             0.3333333333333333,
             "#9c179e"
            ],
            [
             0.4444444444444444,
             "#bd3786"
            ],
            [
             0.5555555555555556,
             "#d8576b"
            ],
            [
             0.6666666666666666,
             "#ed7953"
            ],
            [
             0.7777777777777778,
             "#fb9f3a"
            ],
            [
             0.8888888888888888,
             "#fdca26"
            ],
            [
             1,
             "#f0f921"
            ]
           ],
           "sequentialminus": [
            [
             0,
             "#0d0887"
            ],
            [
             0.1111111111111111,
             "#46039f"
            ],
            [
             0.2222222222222222,
             "#7201a8"
            ],
            [
             0.3333333333333333,
             "#9c179e"
            ],
            [
             0.4444444444444444,
             "#bd3786"
            ],
            [
             0.5555555555555556,
             "#d8576b"
            ],
            [
             0.6666666666666666,
             "#ed7953"
            ],
            [
             0.7777777777777778,
             "#fb9f3a"
            ],
            [
             0.8888888888888888,
             "#fdca26"
            ],
            [
             1,
             "#f0f921"
            ]
           ]
          },
          "colorway": [
           "#636efa",
           "#EF553B",
           "#00cc96",
           "#ab63fa",
           "#FFA15A",
           "#19d3f3",
           "#FF6692",
           "#B6E880",
           "#FF97FF",
           "#FECB52"
          ],
          "font": {
           "color": "#2a3f5f"
          },
          "geo": {
           "bgcolor": "white",
           "lakecolor": "white",
           "landcolor": "#E5ECF6",
           "showlakes": true,
           "showland": true,
           "subunitcolor": "white"
          },
          "hoverlabel": {
           "align": "left"
          },
          "hovermode": "closest",
          "mapbox": {
           "style": "light"
          },
          "paper_bgcolor": "white",
          "plot_bgcolor": "#E5ECF6",
          "polar": {
           "angularaxis": {
            "gridcolor": "white",
            "linecolor": "white",
            "ticks": ""
           },
           "bgcolor": "#E5ECF6",
           "radialaxis": {
            "gridcolor": "white",
            "linecolor": "white",
            "ticks": ""
           }
          },
          "scene": {
           "xaxis": {
            "backgroundcolor": "#E5ECF6",
            "gridcolor": "white",
            "gridwidth": 2,
            "linecolor": "white",
            "showbackground": true,
            "ticks": "",
            "zerolinecolor": "white"
           },
           "yaxis": {
            "backgroundcolor": "#E5ECF6",
            "gridcolor": "white",
            "gridwidth": 2,
            "linecolor": "white",
            "showbackground": true,
            "ticks": "",
            "zerolinecolor": "white"
           },
           "zaxis": {
            "backgroundcolor": "#E5ECF6",
            "gridcolor": "white",
            "gridwidth": 2,
            "linecolor": "white",
            "showbackground": true,
            "ticks": "",
            "zerolinecolor": "white"
           }
          },
          "shapedefaults": {
           "line": {
            "color": "#2a3f5f"
           }
          },
          "ternary": {
           "aaxis": {
            "gridcolor": "white",
            "linecolor": "white",
            "ticks": ""
           },
           "baxis": {
            "gridcolor": "white",
            "linecolor": "white",
            "ticks": ""
           },
           "bgcolor": "#E5ECF6",
           "caxis": {
            "gridcolor": "white",
            "linecolor": "white",
            "ticks": ""
           }
          },
          "title": {
           "x": 0.05
          },
          "xaxis": {
           "automargin": true,
           "gridcolor": "white",
           "linecolor": "white",
           "ticks": "",
           "title": {
            "standoff": 15
           },
           "zerolinecolor": "white",
           "zerolinewidth": 2
          },
          "yaxis": {
           "automargin": true,
           "gridcolor": "white",
           "linecolor": "white",
           "ticks": "",
           "title": {
            "standoff": 15
           },
           "zerolinecolor": "white",
           "zerolinewidth": 2
          }
         }
        },
        "title": {
         "text": "Precios óptimos en Segmento 3"
        },
        "width": 800,
        "xaxis": {
         "title": {
          "text": "Precio ($)"
         }
        },
        "yaxis": {
         "title": {
          "text": "Importe ($)"
         }
        }
       }
      }
     },
     "metadata": {},
     "output_type": "display_data"
    }
   ],
   "source": [
    "fig = go.Figure()\n",
    "\n",
    "# Se agrega el precio máximo de ingreso\n",
    "fig.add_trace(go.Scatter(x=df_elasticidad['irr'], y=df_elasticidad['ingresos_seg3'], name='Ingresos ($)'))\n",
    "# Se agrega la etiqueta\n",
    "fig.add_annotation(x=float(max_ing_seg3['irr']), y=float(max_ing_seg3['ingresos_seg3']),\n",
    "                                  text=\"MaxPrecioIng:\"+str(float(max_ing_seg3['irr'].round(2))),\n",
    "                                  showarrow=True,\n",
    "                                  arrowhead=1)\n",
    "# Se agrega la recta del precio máximo\n",
    "fig.add_vline(x=float(max_ing_seg3['irr']), line_width=2, line_dash=\"dash\",\n",
    "                             line_color=\"blue\", opacity=0.25)\n",
    "\n",
    "# Se agrega el precio máximo de rentabilidad\n",
    "fig.add_trace(go.Scatter(x=df_elasticidad['irr'], y=df_elasticidad['rentabilidad_seg3'], name='Rentabilidad ($)'))\n",
    "# Se agrega la etiqueta\n",
    "fig.add_annotation(x=float(max_ren_seg3['irr']), y=float(max_ren_seg3['rentabilidad_seg3']),\n",
    "                                  text=\"MaxPrecioRent:\"+str(float(max_ren_seg3['irr'].round(2))),\n",
    "                                  showarrow=True,\n",
    "                                  arrowhead=1)\n",
    "# Se agrega la recta del precio máximo\n",
    "fig.add_vline(x=float(max_ren_seg3['irr']), line_width=2, line_dash=\"dash\",\n",
    "                             line_color=\"green\", opacity=0.25)\n",
    "\n",
    "# Agregamos la línea de restricción: Costo\n",
    "fig.add_vline(x=float(df_elasticidad['costo'].mean()), line_width=2, line_dash=\"dash\",\n",
    "                             line_color=\"orange\", opacity=0.5)\n",
    "\n",
    "# Configuración del gráfico\n",
    "fig.update_layout(\n",
    "    showlegend=True,\n",
    "    width=800,\n",
    "    height=600,\n",
    "    xaxis_title=\"Precio ($)\",\n",
    "    yaxis_title=\"Importe ($)\",\n",
    "    title=\"Precios óptimos en Segmento 3\")"
   ]
  },
  {
   "cell_type": "code",
   "execution_count": 233,
   "metadata": {},
   "outputs": [
    {
     "data": {
      "application/vnd.plotly.v1+json": {
       "config": {
        "plotlyServerURL": "https://plot.ly"
       },
       "data": [
        {
         "name": "Ingresos ($)",
         "type": "scatter",
         "x": [
          16,
          16.58,
          17.16,
          17.74,
          18.32,
          18.89,
          19.47,
          20.05,
          20.63,
          21.21,
          21.79,
          22.37,
          22.95,
          23.53,
          24.11,
          24.68,
          25.26,
          25.84,
          26.42,
          27
         ],
         "y": [
          11.918469552926533,
          9.90042722251756,
          8.233532226734528,
          6.855803428210085,
          5.716140152522356,
          4.787301921902632,
          4.002571940730688,
          3.3513414014257785,
          2.8102167289343263,
          2.359986889413358,
          1.9848704997982327,
          1.671896514375311,
          1.4103960663440527,
          1.191586246424015,
          1.008229581105988,
          0.8567877754484091,
          0.7270790618867969,
          0.6179086717627248,
          0.525889697706712,
          0.44821429238408006
         ]
        },
        {
         "name": "Rentabilidad ($)",
         "type": "scatter",
         "x": [
          16,
          16.58,
          17.16,
          17.74,
          18.32,
          18.89,
          19.47,
          20.05,
          20.63,
          21.21,
          21.79,
          22.37,
          22.95,
          23.53,
          24.11,
          24.68,
          25.26,
          25.84,
          26.42,
          27
         ],
         "y": [
          -0.6636213011085914,
          -0.20427443341709584,
          0.05700536794744693,
          0.19278239608473502,
          0.2505921010222236,
          0.2615211686947685,
          0.24579408972675054,
          0.21580524035662263,
          0.17966423670142273,
          0.14231739106653984,
          0.10664708798869893,
          0.07420425767817318,
          0.045695355267342475,
          0.02130476668025061,
          0.000906806545434069,
          -0.015537559064172646,
          -0.02898096784484383,
          -0.03951358899570834,
          -0.04754008784297847,
          -0.05344084939901805
         ]
        }
       ],
       "layout": {
        "annotations": [
         {
          "arrowhead": 1,
          "showarrow": true,
          "text": "MaxPrecioIng:16.0",
          "x": 16,
          "y": 11.918469552926533
         },
         {
          "arrowhead": 1,
          "showarrow": true,
          "text": "MaxPrecioRent:18.89",
          "x": 18.89,
          "y": 0.2615211686947685
         }
        ],
        "height": 600,
        "shapes": [
         {
          "line": {
           "color": "blue",
           "dash": "dash",
           "width": 2
          },
          "opacity": 0.25,
          "type": "line",
          "x0": 16,
          "x1": 16,
          "xref": "x",
          "y0": 0,
          "y1": 1,
          "yref": "y domain"
         },
         {
          "line": {
           "color": "green",
           "dash": "dash",
           "width": 2
          },
          "opacity": 0.25,
          "type": "line",
          "x0": 18.89,
          "x1": 18.89,
          "xref": "x",
          "y0": 0,
          "y1": 1,
          "yref": "y domain"
         },
         {
          "line": {
           "color": "orange",
           "dash": "dash",
           "width": 2
          },
          "opacity": 0.5,
          "type": "line",
          "x0": 17,
          "x1": 17,
          "xref": "x",
          "y0": 0,
          "y1": 1,
          "yref": "y domain"
         }
        ],
        "showlegend": true,
        "template": {
         "data": {
          "bar": [
           {
            "error_x": {
             "color": "#2a3f5f"
            },
            "error_y": {
             "color": "#2a3f5f"
            },
            "marker": {
             "line": {
              "color": "#E5ECF6",
              "width": 0.5
             },
             "pattern": {
              "fillmode": "overlay",
              "size": 10,
              "solidity": 0.2
             }
            },
            "type": "bar"
           }
          ],
          "barpolar": [
           {
            "marker": {
             "line": {
              "color": "#E5ECF6",
              "width": 0.5
             },
             "pattern": {
              "fillmode": "overlay",
              "size": 10,
              "solidity": 0.2
             }
            },
            "type": "barpolar"
           }
          ],
          "carpet": [
           {
            "aaxis": {
             "endlinecolor": "#2a3f5f",
             "gridcolor": "white",
             "linecolor": "white",
             "minorgridcolor": "white",
             "startlinecolor": "#2a3f5f"
            },
            "baxis": {
             "endlinecolor": "#2a3f5f",
             "gridcolor": "white",
             "linecolor": "white",
             "minorgridcolor": "white",
             "startlinecolor": "#2a3f5f"
            },
            "type": "carpet"
           }
          ],
          "choropleth": [
           {
            "colorbar": {
             "outlinewidth": 0,
             "ticks": ""
            },
            "type": "choropleth"
           }
          ],
          "contour": [
           {
            "colorbar": {
             "outlinewidth": 0,
             "ticks": ""
            },
            "colorscale": [
             [
              0,
              "#0d0887"
             ],
             [
              0.1111111111111111,
              "#46039f"
             ],
             [
              0.2222222222222222,
              "#7201a8"
             ],
             [
              0.3333333333333333,
              "#9c179e"
             ],
             [
              0.4444444444444444,
              "#bd3786"
             ],
             [
              0.5555555555555556,
              "#d8576b"
             ],
             [
              0.6666666666666666,
              "#ed7953"
             ],
             [
              0.7777777777777778,
              "#fb9f3a"
             ],
             [
              0.8888888888888888,
              "#fdca26"
             ],
             [
              1,
              "#f0f921"
             ]
            ],
            "type": "contour"
           }
          ],
          "contourcarpet": [
           {
            "colorbar": {
             "outlinewidth": 0,
             "ticks": ""
            },
            "type": "contourcarpet"
           }
          ],
          "heatmap": [
           {
            "colorbar": {
             "outlinewidth": 0,
             "ticks": ""
            },
            "colorscale": [
             [
              0,
              "#0d0887"
             ],
             [
              0.1111111111111111,
              "#46039f"
             ],
             [
              0.2222222222222222,
              "#7201a8"
             ],
             [
              0.3333333333333333,
              "#9c179e"
             ],
             [
              0.4444444444444444,
              "#bd3786"
             ],
             [
              0.5555555555555556,
              "#d8576b"
             ],
             [
              0.6666666666666666,
              "#ed7953"
             ],
             [
              0.7777777777777778,
              "#fb9f3a"
             ],
             [
              0.8888888888888888,
              "#fdca26"
             ],
             [
              1,
              "#f0f921"
             ]
            ],
            "type": "heatmap"
           }
          ],
          "heatmapgl": [
           {
            "colorbar": {
             "outlinewidth": 0,
             "ticks": ""
            },
            "colorscale": [
             [
              0,
              "#0d0887"
             ],
             [
              0.1111111111111111,
              "#46039f"
             ],
             [
              0.2222222222222222,
              "#7201a8"
             ],
             [
              0.3333333333333333,
              "#9c179e"
             ],
             [
              0.4444444444444444,
              "#bd3786"
             ],
             [
              0.5555555555555556,
              "#d8576b"
             ],
             [
              0.6666666666666666,
              "#ed7953"
             ],
             [
              0.7777777777777778,
              "#fb9f3a"
             ],
             [
              0.8888888888888888,
              "#fdca26"
             ],
             [
              1,
              "#f0f921"
             ]
            ],
            "type": "heatmapgl"
           }
          ],
          "histogram": [
           {
            "marker": {
             "pattern": {
              "fillmode": "overlay",
              "size": 10,
              "solidity": 0.2
             }
            },
            "type": "histogram"
           }
          ],
          "histogram2d": [
           {
            "colorbar": {
             "outlinewidth": 0,
             "ticks": ""
            },
            "colorscale": [
             [
              0,
              "#0d0887"
             ],
             [
              0.1111111111111111,
              "#46039f"
             ],
             [
              0.2222222222222222,
              "#7201a8"
             ],
             [
              0.3333333333333333,
              "#9c179e"
             ],
             [
              0.4444444444444444,
              "#bd3786"
             ],
             [
              0.5555555555555556,
              "#d8576b"
             ],
             [
              0.6666666666666666,
              "#ed7953"
             ],
             [
              0.7777777777777778,
              "#fb9f3a"
             ],
             [
              0.8888888888888888,
              "#fdca26"
             ],
             [
              1,
              "#f0f921"
             ]
            ],
            "type": "histogram2d"
           }
          ],
          "histogram2dcontour": [
           {
            "colorbar": {
             "outlinewidth": 0,
             "ticks": ""
            },
            "colorscale": [
             [
              0,
              "#0d0887"
             ],
             [
              0.1111111111111111,
              "#46039f"
             ],
             [
              0.2222222222222222,
              "#7201a8"
             ],
             [
              0.3333333333333333,
              "#9c179e"
             ],
             [
              0.4444444444444444,
              "#bd3786"
             ],
             [
              0.5555555555555556,
              "#d8576b"
             ],
             [
              0.6666666666666666,
              "#ed7953"
             ],
             [
              0.7777777777777778,
              "#fb9f3a"
             ],
             [
              0.8888888888888888,
              "#fdca26"
             ],
             [
              1,
              "#f0f921"
             ]
            ],
            "type": "histogram2dcontour"
           }
          ],
          "mesh3d": [
           {
            "colorbar": {
             "outlinewidth": 0,
             "ticks": ""
            },
            "type": "mesh3d"
           }
          ],
          "parcoords": [
           {
            "line": {
             "colorbar": {
              "outlinewidth": 0,
              "ticks": ""
             }
            },
            "type": "parcoords"
           }
          ],
          "pie": [
           {
            "automargin": true,
            "type": "pie"
           }
          ],
          "scatter": [
           {
            "fillpattern": {
             "fillmode": "overlay",
             "size": 10,
             "solidity": 0.2
            },
            "type": "scatter"
           }
          ],
          "scatter3d": [
           {
            "line": {
             "colorbar": {
              "outlinewidth": 0,
              "ticks": ""
             }
            },
            "marker": {
             "colorbar": {
              "outlinewidth": 0,
              "ticks": ""
             }
            },
            "type": "scatter3d"
           }
          ],
          "scattercarpet": [
           {
            "marker": {
             "colorbar": {
              "outlinewidth": 0,
              "ticks": ""
             }
            },
            "type": "scattercarpet"
           }
          ],
          "scattergeo": [
           {
            "marker": {
             "colorbar": {
              "outlinewidth": 0,
              "ticks": ""
             }
            },
            "type": "scattergeo"
           }
          ],
          "scattergl": [
           {
            "marker": {
             "colorbar": {
              "outlinewidth": 0,
              "ticks": ""
             }
            },
            "type": "scattergl"
           }
          ],
          "scattermapbox": [
           {
            "marker": {
             "colorbar": {
              "outlinewidth": 0,
              "ticks": ""
             }
            },
            "type": "scattermapbox"
           }
          ],
          "scatterpolar": [
           {
            "marker": {
             "colorbar": {
              "outlinewidth": 0,
              "ticks": ""
             }
            },
            "type": "scatterpolar"
           }
          ],
          "scatterpolargl": [
           {
            "marker": {
             "colorbar": {
              "outlinewidth": 0,
              "ticks": ""
             }
            },
            "type": "scatterpolargl"
           }
          ],
          "scatterternary": [
           {
            "marker": {
             "colorbar": {
              "outlinewidth": 0,
              "ticks": ""
             }
            },
            "type": "scatterternary"
           }
          ],
          "surface": [
           {
            "colorbar": {
             "outlinewidth": 0,
             "ticks": ""
            },
            "colorscale": [
             [
              0,
              "#0d0887"
             ],
             [
              0.1111111111111111,
              "#46039f"
             ],
             [
              0.2222222222222222,
              "#7201a8"
             ],
             [
              0.3333333333333333,
              "#9c179e"
             ],
             [
              0.4444444444444444,
              "#bd3786"
             ],
             [
              0.5555555555555556,
              "#d8576b"
             ],
             [
              0.6666666666666666,
              "#ed7953"
             ],
             [
              0.7777777777777778,
              "#fb9f3a"
             ],
             [
              0.8888888888888888,
              "#fdca26"
             ],
             [
              1,
              "#f0f921"
             ]
            ],
            "type": "surface"
           }
          ],
          "table": [
           {
            "cells": {
             "fill": {
              "color": "#EBF0F8"
             },
             "line": {
              "color": "white"
             }
            },
            "header": {
             "fill": {
              "color": "#C8D4E3"
             },
             "line": {
              "color": "white"
             }
            },
            "type": "table"
           }
          ]
         },
         "layout": {
          "annotationdefaults": {
           "arrowcolor": "#2a3f5f",
           "arrowhead": 0,
           "arrowwidth": 1
          },
          "autotypenumbers": "strict",
          "coloraxis": {
           "colorbar": {
            "outlinewidth": 0,
            "ticks": ""
           }
          },
          "colorscale": {
           "diverging": [
            [
             0,
             "#8e0152"
            ],
            [
             0.1,
             "#c51b7d"
            ],
            [
             0.2,
             "#de77ae"
            ],
            [
             0.3,
             "#f1b6da"
            ],
            [
             0.4,
             "#fde0ef"
            ],
            [
             0.5,
             "#f7f7f7"
            ],
            [
             0.6,
             "#e6f5d0"
            ],
            [
             0.7,
             "#b8e186"
            ],
            [
             0.8,
             "#7fbc41"
            ],
            [
             0.9,
             "#4d9221"
            ],
            [
             1,
             "#276419"
            ]
           ],
           "sequential": [
            [
             0,
             "#0d0887"
            ],
            [
             0.1111111111111111,
             "#46039f"
            ],
            [
             0.2222222222222222,
             "#7201a8"
            ],
            [
             0.3333333333333333,
             "#9c179e"
            ],
            [
             0.4444444444444444,
             "#bd3786"
            ],
            [
             0.5555555555555556,
             "#d8576b"
            ],
            [
             0.6666666666666666,
             "#ed7953"
            ],
            [
             0.7777777777777778,
             "#fb9f3a"
            ],
            [
             0.8888888888888888,
             "#fdca26"
            ],
            [
             1,
             "#f0f921"
            ]
           ],
           "sequentialminus": [
            [
             0,
             "#0d0887"
            ],
            [
             0.1111111111111111,
             "#46039f"
            ],
            [
             0.2222222222222222,
             "#7201a8"
            ],
            [
             0.3333333333333333,
             "#9c179e"
            ],
            [
             0.4444444444444444,
             "#bd3786"
            ],
            [
             0.5555555555555556,
             "#d8576b"
            ],
            [
             0.6666666666666666,
             "#ed7953"
            ],
            [
             0.7777777777777778,
             "#fb9f3a"
            ],
            [
             0.8888888888888888,
             "#fdca26"
            ],
            [
             1,
             "#f0f921"
            ]
           ]
          },
          "colorway": [
           "#636efa",
           "#EF553B",
           "#00cc96",
           "#ab63fa",
           "#FFA15A",
           "#19d3f3",
           "#FF6692",
           "#B6E880",
           "#FF97FF",
           "#FECB52"
          ],
          "font": {
           "color": "#2a3f5f"
          },
          "geo": {
           "bgcolor": "white",
           "lakecolor": "white",
           "landcolor": "#E5ECF6",
           "showlakes": true,
           "showland": true,
           "subunitcolor": "white"
          },
          "hoverlabel": {
           "align": "left"
          },
          "hovermode": "closest",
          "mapbox": {
           "style": "light"
          },
          "paper_bgcolor": "white",
          "plot_bgcolor": "#E5ECF6",
          "polar": {
           "angularaxis": {
            "gridcolor": "white",
            "linecolor": "white",
            "ticks": ""
           },
           "bgcolor": "#E5ECF6",
           "radialaxis": {
            "gridcolor": "white",
            "linecolor": "white",
            "ticks": ""
           }
          },
          "scene": {
           "xaxis": {
            "backgroundcolor": "#E5ECF6",
            "gridcolor": "white",
            "gridwidth": 2,
            "linecolor": "white",
            "showbackground": true,
            "ticks": "",
            "zerolinecolor": "white"
           },
           "yaxis": {
            "backgroundcolor": "#E5ECF6",
            "gridcolor": "white",
            "gridwidth": 2,
            "linecolor": "white",
            "showbackground": true,
            "ticks": "",
            "zerolinecolor": "white"
           },
           "zaxis": {
            "backgroundcolor": "#E5ECF6",
            "gridcolor": "white",
            "gridwidth": 2,
            "linecolor": "white",
            "showbackground": true,
            "ticks": "",
            "zerolinecolor": "white"
           }
          },
          "shapedefaults": {
           "line": {
            "color": "#2a3f5f"
           }
          },
          "ternary": {
           "aaxis": {
            "gridcolor": "white",
            "linecolor": "white",
            "ticks": ""
           },
           "baxis": {
            "gridcolor": "white",
            "linecolor": "white",
            "ticks": ""
           },
           "bgcolor": "#E5ECF6",
           "caxis": {
            "gridcolor": "white",
            "linecolor": "white",
            "ticks": ""
           }
          },
          "title": {
           "x": 0.05
          },
          "xaxis": {
           "automargin": true,
           "gridcolor": "white",
           "linecolor": "white",
           "ticks": "",
           "title": {
            "standoff": 15
           },
           "zerolinecolor": "white",
           "zerolinewidth": 2
          },
          "yaxis": {
           "automargin": true,
           "gridcolor": "white",
           "linecolor": "white",
           "ticks": "",
           "title": {
            "standoff": 15
           },
           "zerolinecolor": "white",
           "zerolinewidth": 2
          }
         }
        },
        "title": {
         "text": "Precios óptimos en Segmento 4"
        },
        "width": 800,
        "xaxis": {
         "title": {
          "text": "Precio ($)"
         }
        },
        "yaxis": {
         "title": {
          "text": "Importe ($)"
         }
        }
       }
      }
     },
     "metadata": {},
     "output_type": "display_data"
    }
   ],
   "source": [
    "fig = go.Figure()\n",
    "\n",
    "# Se agrega el precio máximo de ingreso\n",
    "fig.add_trace(go.Scatter(x=df_elasticidad['irr'], y=df_elasticidad['ingresos_seg4'], name='Ingresos ($)'))\n",
    "# Se agrega la etiqueta\n",
    "fig.add_annotation(x=float(max_ing_seg3['irr']), y=float(max_ing_seg3['ingresos_seg4']),\n",
    "                                  text=\"MaxPrecioIng:\"+str(float(max_ing_seg3['irr'].round(2))),\n",
    "                                  showarrow=True,\n",
    "                                  arrowhead=1)\n",
    "# Se agrega la recta del precio máximo\n",
    "fig.add_vline(x=float(max_ing_seg3['irr']), line_width=2, line_dash=\"dash\",\n",
    "                             line_color=\"blue\", opacity=0.25)\n",
    "\n",
    "# Se agrega el precio máximo de rentabilidad\n",
    "fig.add_trace(go.Scatter(x=df_elasticidad['irr'], y=df_elasticidad['rentabilidad_seg4'], name='Rentabilidad ($)'))\n",
    "# Se agrega la etiqueta\n",
    "fig.add_annotation(x=float(max_ren_seg3['irr']), y=float(max_ren_seg3['rentabilidad_seg4']),\n",
    "                                  text=\"MaxPrecioRent:\"+str(float(max_ren_seg3['irr'].round(2))),\n",
    "                                  showarrow=True,\n",
    "                                  arrowhead=1)\n",
    "# Se agrega la recta del precio máximo\n",
    "fig.add_vline(x=float(max_ren_seg3['irr']), line_width=2, line_dash=\"dash\",\n",
    "                             line_color=\"green\", opacity=0.25)\n",
    "\n",
    "# Agregamos la línea de restricción: Costo\n",
    "fig.add_vline(x=float(df_elasticidad['costo'].mean()), line_width=2, line_dash=\"dash\",\n",
    "                             line_color=\"orange\", opacity=0.5)\n",
    "\n",
    "# Configuración del gráfico\n",
    "fig.update_layout(\n",
    "    showlegend=True,\n",
    "    width=800,\n",
    "    height=600,\n",
    "    xaxis_title=\"Precio ($)\",\n",
    "    yaxis_title=\"Importe ($)\",\n",
    "    title=\"Precios óptimos en Segmento 4\")"
   ]
  },
  {
   "cell_type": "code",
   "execution_count": 200,
   "metadata": {},
   "outputs": [
    {
     "data": {
      "application/vnd.plotly.v1+json": {
       "config": {
        "plotlyServerURL": "https://plot.ly"
       },
       "data": [
        {
         "name": "Frontera Eficiente",
         "type": "scatter",
         "x": [
          12.011533824378345,
          9.97072220270596,
          8.2862051357614,
          6.894882965594359,
          5.744772125236832,
          4.808057594529142,
          4.017207349116547,
          3.3613408664406963,
          2.8167287796945883,
          2.3638978508716084,
          1.9868622780371135,
          1.6724918982981873,
          1.4099941928175703,
          1.1904903304174863,
          1.0066685732717058,
          0.8549371289501637,
          0.7250604059254553,
          0.6158159499978999,
          0.5237907502987331,
          0.446157069017733
         ],
         "y": [
          -0.6709598963460905,
          -0.2063662334158476,
          0.05754298268387892,
          0.1944456008830997,
          0.25255302673982527,
          0.26336038616369706,
          0.2473216207561797,
          0.21696477712901263,
          0.18047075684549307,
          0.1428196607120924,
          0.10690601012851153,
          0.07428094751179315,
          0.04564509599135991,
          0.0211744386580881,
          0.0007342952725453156,
          -0.015722876911959505,
          -0.02915761240484127,
          -0.039666026576729574,
          -0.047658016767469835,
          -0.053518120558884
         ]
        }
       ],
       "layout": {
        "annotations": [
         {
          "arrowhead": 1,
          "showarrow": true,
          "text": "MaxPrecioIng:16.0",
          "x": 12.011533824378345,
          "y": -0.6709598963460905
         },
         {
          "arrowhead": 1,
          "showarrow": true,
          "text": "MaxPrecioRent:18.89",
          "x": 4.808057594529142,
          "y": 0.26336038616369706
         }
        ],
        "height": 600,
        "shapes": [
         {
          "line": {
           "color": "blue",
           "dash": "dash",
           "width": 2
          },
          "opacity": 0.25,
          "type": "line",
          "x0": 12.011533824378345,
          "x1": 12.011533824378345,
          "xref": "x",
          "y0": 0,
          "y1": 1,
          "yref": "y domain"
         },
         {
          "line": {
           "color": "green",
           "dash": "dash",
           "width": 2
          },
          "opacity": 0.25,
          "type": "line",
          "x0": 4.808057594529142,
          "x1": 4.808057594529142,
          "xref": "x",
          "y0": 0,
          "y1": 1,
          "yref": "y domain"
         }
        ],
        "showlegend": false,
        "template": {
         "data": {
          "bar": [
           {
            "error_x": {
             "color": "#2a3f5f"
            },
            "error_y": {
             "color": "#2a3f5f"
            },
            "marker": {
             "line": {
              "color": "#E5ECF6",
              "width": 0.5
             },
             "pattern": {
              "fillmode": "overlay",
              "size": 10,
              "solidity": 0.2
             }
            },
            "type": "bar"
           }
          ],
          "barpolar": [
           {
            "marker": {
             "line": {
              "color": "#E5ECF6",
              "width": 0.5
             },
             "pattern": {
              "fillmode": "overlay",
              "size": 10,
              "solidity": 0.2
             }
            },
            "type": "barpolar"
           }
          ],
          "carpet": [
           {
            "aaxis": {
             "endlinecolor": "#2a3f5f",
             "gridcolor": "white",
             "linecolor": "white",
             "minorgridcolor": "white",
             "startlinecolor": "#2a3f5f"
            },
            "baxis": {
             "endlinecolor": "#2a3f5f",
             "gridcolor": "white",
             "linecolor": "white",
             "minorgridcolor": "white",
             "startlinecolor": "#2a3f5f"
            },
            "type": "carpet"
           }
          ],
          "choropleth": [
           {
            "colorbar": {
             "outlinewidth": 0,
             "ticks": ""
            },
            "type": "choropleth"
           }
          ],
          "contour": [
           {
            "colorbar": {
             "outlinewidth": 0,
             "ticks": ""
            },
            "colorscale": [
             [
              0,
              "#0d0887"
             ],
             [
              0.1111111111111111,
              "#46039f"
             ],
             [
              0.2222222222222222,
              "#7201a8"
             ],
             [
              0.3333333333333333,
              "#9c179e"
             ],
             [
              0.4444444444444444,
              "#bd3786"
             ],
             [
              0.5555555555555556,
              "#d8576b"
             ],
             [
              0.6666666666666666,
              "#ed7953"
             ],
             [
              0.7777777777777778,
              "#fb9f3a"
             ],
             [
              0.8888888888888888,
              "#fdca26"
             ],
             [
              1,
              "#f0f921"
             ]
            ],
            "type": "contour"
           }
          ],
          "contourcarpet": [
           {
            "colorbar": {
             "outlinewidth": 0,
             "ticks": ""
            },
            "type": "contourcarpet"
           }
          ],
          "heatmap": [
           {
            "colorbar": {
             "outlinewidth": 0,
             "ticks": ""
            },
            "colorscale": [
             [
              0,
              "#0d0887"
             ],
             [
              0.1111111111111111,
              "#46039f"
             ],
             [
              0.2222222222222222,
              "#7201a8"
             ],
             [
              0.3333333333333333,
              "#9c179e"
             ],
             [
              0.4444444444444444,
              "#bd3786"
             ],
             [
              0.5555555555555556,
              "#d8576b"
             ],
             [
              0.6666666666666666,
              "#ed7953"
             ],
             [
              0.7777777777777778,
              "#fb9f3a"
             ],
             [
              0.8888888888888888,
              "#fdca26"
             ],
             [
              1,
              "#f0f921"
             ]
            ],
            "type": "heatmap"
           }
          ],
          "heatmapgl": [
           {
            "colorbar": {
             "outlinewidth": 0,
             "ticks": ""
            },
            "colorscale": [
             [
              0,
              "#0d0887"
             ],
             [
              0.1111111111111111,
              "#46039f"
             ],
             [
              0.2222222222222222,
              "#7201a8"
             ],
             [
              0.3333333333333333,
              "#9c179e"
             ],
             [
              0.4444444444444444,
              "#bd3786"
             ],
             [
              0.5555555555555556,
              "#d8576b"
             ],
             [
              0.6666666666666666,
              "#ed7953"
             ],
             [
              0.7777777777777778,
              "#fb9f3a"
             ],
             [
              0.8888888888888888,
              "#fdca26"
             ],
             [
              1,
              "#f0f921"
             ]
            ],
            "type": "heatmapgl"
           }
          ],
          "histogram": [
           {
            "marker": {
             "pattern": {
              "fillmode": "overlay",
              "size": 10,
              "solidity": 0.2
             }
            },
            "type": "histogram"
           }
          ],
          "histogram2d": [
           {
            "colorbar": {
             "outlinewidth": 0,
             "ticks": ""
            },
            "colorscale": [
             [
              0,
              "#0d0887"
             ],
             [
              0.1111111111111111,
              "#46039f"
             ],
             [
              0.2222222222222222,
              "#7201a8"
             ],
             [
              0.3333333333333333,
              "#9c179e"
             ],
             [
              0.4444444444444444,
              "#bd3786"
             ],
             [
              0.5555555555555556,
              "#d8576b"
             ],
             [
              0.6666666666666666,
              "#ed7953"
             ],
             [
              0.7777777777777778,
              "#fb9f3a"
             ],
             [
              0.8888888888888888,
              "#fdca26"
             ],
             [
              1,
              "#f0f921"
             ]
            ],
            "type": "histogram2d"
           }
          ],
          "histogram2dcontour": [
           {
            "colorbar": {
             "outlinewidth": 0,
             "ticks": ""
            },
            "colorscale": [
             [
              0,
              "#0d0887"
             ],
             [
              0.1111111111111111,
              "#46039f"
             ],
             [
              0.2222222222222222,
              "#7201a8"
             ],
             [
              0.3333333333333333,
              "#9c179e"
             ],
             [
              0.4444444444444444,
              "#bd3786"
             ],
             [
              0.5555555555555556,
              "#d8576b"
             ],
             [
              0.6666666666666666,
              "#ed7953"
             ],
             [
              0.7777777777777778,
              "#fb9f3a"
             ],
             [
              0.8888888888888888,
              "#fdca26"
             ],
             [
              1,
              "#f0f921"
             ]
            ],
            "type": "histogram2dcontour"
           }
          ],
          "mesh3d": [
           {
            "colorbar": {
             "outlinewidth": 0,
             "ticks": ""
            },
            "type": "mesh3d"
           }
          ],
          "parcoords": [
           {
            "line": {
             "colorbar": {
              "outlinewidth": 0,
              "ticks": ""
             }
            },
            "type": "parcoords"
           }
          ],
          "pie": [
           {
            "automargin": true,
            "type": "pie"
           }
          ],
          "scatter": [
           {
            "fillpattern": {
             "fillmode": "overlay",
             "size": 10,
             "solidity": 0.2
            },
            "type": "scatter"
           }
          ],
          "scatter3d": [
           {
            "line": {
             "colorbar": {
              "outlinewidth": 0,
              "ticks": ""
             }
            },
            "marker": {
             "colorbar": {
              "outlinewidth": 0,
              "ticks": ""
             }
            },
            "type": "scatter3d"
           }
          ],
          "scattercarpet": [
           {
            "marker": {
             "colorbar": {
              "outlinewidth": 0,
              "ticks": ""
             }
            },
            "type": "scattercarpet"
           }
          ],
          "scattergeo": [
           {
            "marker": {
             "colorbar": {
              "outlinewidth": 0,
              "ticks": ""
             }
            },
            "type": "scattergeo"
           }
          ],
          "scattergl": [
           {
            "marker": {
             "colorbar": {
              "outlinewidth": 0,
              "ticks": ""
             }
            },
            "type": "scattergl"
           }
          ],
          "scattermapbox": [
           {
            "marker": {
             "colorbar": {
              "outlinewidth": 0,
              "ticks": ""
             }
            },
            "type": "scattermapbox"
           }
          ],
          "scatterpolar": [
           {
            "marker": {
             "colorbar": {
              "outlinewidth": 0,
              "ticks": ""
             }
            },
            "type": "scatterpolar"
           }
          ],
          "scatterpolargl": [
           {
            "marker": {
             "colorbar": {
              "outlinewidth": 0,
              "ticks": ""
             }
            },
            "type": "scatterpolargl"
           }
          ],
          "scatterternary": [
           {
            "marker": {
             "colorbar": {
              "outlinewidth": 0,
              "ticks": ""
             }
            },
            "type": "scatterternary"
           }
          ],
          "surface": [
           {
            "colorbar": {
             "outlinewidth": 0,
             "ticks": ""
            },
            "colorscale": [
             [
              0,
              "#0d0887"
             ],
             [
              0.1111111111111111,
              "#46039f"
             ],
             [
              0.2222222222222222,
              "#7201a8"
             ],
             [
              0.3333333333333333,
              "#9c179e"
             ],
             [
              0.4444444444444444,
              "#bd3786"
             ],
             [
              0.5555555555555556,
              "#d8576b"
             ],
             [
              0.6666666666666666,
              "#ed7953"
             ],
             [
              0.7777777777777778,
              "#fb9f3a"
             ],
             [
              0.8888888888888888,
              "#fdca26"
             ],
             [
              1,
              "#f0f921"
             ]
            ],
            "type": "surface"
           }
          ],
          "table": [
           {
            "cells": {
             "fill": {
              "color": "#EBF0F8"
             },
             "line": {
              "color": "white"
             }
            },
            "header": {
             "fill": {
              "color": "#C8D4E3"
             },
             "line": {
              "color": "white"
             }
            },
            "type": "table"
           }
          ]
         },
         "layout": {
          "annotationdefaults": {
           "arrowcolor": "#2a3f5f",
           "arrowhead": 0,
           "arrowwidth": 1
          },
          "autotypenumbers": "strict",
          "coloraxis": {
           "colorbar": {
            "outlinewidth": 0,
            "ticks": ""
           }
          },
          "colorscale": {
           "diverging": [
            [
             0,
             "#8e0152"
            ],
            [
             0.1,
             "#c51b7d"
            ],
            [
             0.2,
             "#de77ae"
            ],
            [
             0.3,
             "#f1b6da"
            ],
            [
             0.4,
             "#fde0ef"
            ],
            [
             0.5,
             "#f7f7f7"
            ],
            [
             0.6,
             "#e6f5d0"
            ],
            [
             0.7,
             "#b8e186"
            ],
            [
             0.8,
             "#7fbc41"
            ],
            [
             0.9,
             "#4d9221"
            ],
            [
             1,
             "#276419"
            ]
           ],
           "sequential": [
            [
             0,
             "#0d0887"
            ],
            [
             0.1111111111111111,
             "#46039f"
            ],
            [
             0.2222222222222222,
             "#7201a8"
            ],
            [
             0.3333333333333333,
             "#9c179e"
            ],
            [
             0.4444444444444444,
             "#bd3786"
            ],
            [
             0.5555555555555556,
             "#d8576b"
            ],
            [
             0.6666666666666666,
             "#ed7953"
            ],
            [
             0.7777777777777778,
             "#fb9f3a"
            ],
            [
             0.8888888888888888,
             "#fdca26"
            ],
            [
             1,
             "#f0f921"
            ]
           ],
           "sequentialminus": [
            [
             0,
             "#0d0887"
            ],
            [
             0.1111111111111111,
             "#46039f"
            ],
            [
             0.2222222222222222,
             "#7201a8"
            ],
            [
             0.3333333333333333,
             "#9c179e"
            ],
            [
             0.4444444444444444,
             "#bd3786"
            ],
            [
             0.5555555555555556,
             "#d8576b"
            ],
            [
             0.6666666666666666,
             "#ed7953"
            ],
            [
             0.7777777777777778,
             "#fb9f3a"
            ],
            [
             0.8888888888888888,
             "#fdca26"
            ],
            [
             1,
             "#f0f921"
            ]
           ]
          },
          "colorway": [
           "#636efa",
           "#EF553B",
           "#00cc96",
           "#ab63fa",
           "#FFA15A",
           "#19d3f3",
           "#FF6692",
           "#B6E880",
           "#FF97FF",
           "#FECB52"
          ],
          "font": {
           "color": "#2a3f5f"
          },
          "geo": {
           "bgcolor": "white",
           "lakecolor": "white",
           "landcolor": "#E5ECF6",
           "showlakes": true,
           "showland": true,
           "subunitcolor": "white"
          },
          "hoverlabel": {
           "align": "left"
          },
          "hovermode": "closest",
          "mapbox": {
           "style": "light"
          },
          "paper_bgcolor": "white",
          "plot_bgcolor": "#E5ECF6",
          "polar": {
           "angularaxis": {
            "gridcolor": "white",
            "linecolor": "white",
            "ticks": ""
           },
           "bgcolor": "#E5ECF6",
           "radialaxis": {
            "gridcolor": "white",
            "linecolor": "white",
            "ticks": ""
           }
          },
          "scene": {
           "xaxis": {
            "backgroundcolor": "#E5ECF6",
            "gridcolor": "white",
            "gridwidth": 2,
            "linecolor": "white",
            "showbackground": true,
            "ticks": "",
            "zerolinecolor": "white"
           },
           "yaxis": {
            "backgroundcolor": "#E5ECF6",
            "gridcolor": "white",
            "gridwidth": 2,
            "linecolor": "white",
            "showbackground": true,
            "ticks": "",
            "zerolinecolor": "white"
           },
           "zaxis": {
            "backgroundcolor": "#E5ECF6",
            "gridcolor": "white",
            "gridwidth": 2,
            "linecolor": "white",
            "showbackground": true,
            "ticks": "",
            "zerolinecolor": "white"
           }
          },
          "shapedefaults": {
           "line": {
            "color": "#2a3f5f"
           }
          },
          "ternary": {
           "aaxis": {
            "gridcolor": "white",
            "linecolor": "white",
            "ticks": ""
           },
           "baxis": {
            "gridcolor": "white",
            "linecolor": "white",
            "ticks": ""
           },
           "bgcolor": "#E5ECF6",
           "caxis": {
            "gridcolor": "white",
            "linecolor": "white",
            "ticks": ""
           }
          },
          "title": {
           "x": 0.05
          },
          "xaxis": {
           "automargin": true,
           "gridcolor": "white",
           "linecolor": "white",
           "ticks": "",
           "title": {
            "standoff": 15
           },
           "zerolinecolor": "white",
           "zerolinewidth": 2
          },
          "yaxis": {
           "automargin": true,
           "gridcolor": "white",
           "linecolor": "white",
           "ticks": "",
           "title": {
            "standoff": 15
           },
           "zerolinecolor": "white",
           "zerolinewidth": 2
          }
         }
        },
        "title": {
         "text": "Frontera Eficiente Segmento 0"
        },
        "width": 800,
        "xaxis": {
         "title": {
          "text": "Ingreso ($)"
         }
        },
        "yaxis": {
         "title": {
          "text": "Rentabilidad ($)"
         }
        }
       }
      }
     },
     "metadata": {},
     "output_type": "display_data"
    }
   ],
   "source": [
    "fig = go.Figure()\n",
    "\n",
    "# Se agrega el precio máximo de ingreso\n",
    "fig.add_trace(go.Scatter(x=df_elasticidad['ingresos_seg0'], y=df_elasticidad['rentabilidad_seg0'], name='Frontera Eficiente'))\n",
    "\n",
    "# Se agrega la etiqueta de ingreso\n",
    "fig.add_annotation(x=float(max_ing_seg0['ingresos_seg0']), y=float(max_ing_seg0['rentabilidad_seg0']),\n",
    "                                  text=\"MaxPrecioIng:\"+str(float(max_ing_seg0['irr'].round(2))),\n",
    "                                  showarrow=True,\n",
    "                                  arrowhead=1)\n",
    "# Se agrega la recta del precio máximo\n",
    "fig.add_vline(x=float(max_ing_seg0['ingresos_seg0']), line_width=2, line_dash=\"dash\",\n",
    "                             line_color=\"blue\", opacity=0.25)\n",
    "\n",
    "# Se agrega la etiqueta de rentabilidad\n",
    "fig.add_annotation(x=float(max_ren_seg0['ingresos_seg0']), y=float(max_ren_seg0['rentabilidad_seg0']),\n",
    "                                  text=\"MaxPrecioRent:\"+str(float(max_ren_seg0['irr'].round(2))),\n",
    "                                  showarrow=True,\n",
    "                                  arrowhead=1)\n",
    "# Se agrega la recta del precio máximo\n",
    "fig.add_vline(x=float(max_ren_seg0['ingresos_seg0']), line_width=2, line_dash=\"dash\",\n",
    "                             line_color=\"green\", opacity=0.25)\n",
    "\n",
    "# Configuración del gráfico\n",
    "fig.update_layout(\n",
    "    showlegend=False,\n",
    "    width=800,\n",
    "    height=600,\n",
    "    xaxis=dict(\n",
    "        title=\"Ingreso ($)\"\n",
    "       ## ,range=[1, 2]\n",
    "        ),\n",
    "   yaxis=dict(\n",
    "        title=\"Rentabilidad ($)\"\n",
    "       ##,range=[-0.5, 1]\n",
    "    ),\n",
    "    title=\"Frontera Eficiente Segmento 0\")"
   ]
  },
  {
   "cell_type": "code",
   "execution_count": 201,
   "metadata": {},
   "outputs": [
    {
     "data": {
      "application/vnd.plotly.v1+json": {
       "config": {
        "plotlyServerURL": "https://plot.ly"
       },
       "data": [
        {
         "name": "Frontera Eficiente",
         "type": "scatter",
         "x": [
          11.842645518862131,
          9.813866151255114,
          8.142203482047046,
          6.763871007895315,
          5.626426175559745,
          4.701559817545281,
          3.9219842071731428,
          3.276515330475658,
          2.7413931878598956,
          2.297153762782818,
          1.9278463571739421,
          1.6203917479541081,
          1.3640570704330632,
          1.1500269028284336,
          0.971053298793306,
          0.8235369876357588,
          0.6974481922813048,
          0.5915405825092848,
          0.5024514918288304,
          0.42739899407275367
         ],
         "y": [
          -0.6576548531793858,
          -0.20170488942058284,
          0.056075815313187505,
          0.1888822939648822,
          0.2444701653926149,
          0.25395465521068594,
          0.23742242627539545,
          0.2071748138525913,
          0.17119250882539339,
          0.13430458284283775,
          0.09929422834987944,
          0.06763251400912496,
          0.03996410528343719,
          0.016427309630368203,
          -0.0031366008465355533,
          -0.018802450450734698,
          -0.03150984904115717,
          -0.041371372020007624,
          -0.048795398464269724,
          -0.05416269678167718
         ]
        }
       ],
       "layout": {
        "annotations": [
         {
          "arrowhead": 1,
          "showarrow": true,
          "text": "MaxPrecioIng:16.0",
          "x": 11.842645518862131,
          "y": -0.6576548531793858
         },
         {
          "arrowhead": 1,
          "showarrow": true,
          "text": "MaxPrecioRent:18.89",
          "x": 4.701559817545281,
          "y": 0.25395465521068594
         }
        ],
        "height": 600,
        "shapes": [
         {
          "line": {
           "color": "blue",
           "dash": "dash",
           "width": 2
          },
          "opacity": 0.25,
          "type": "line",
          "x0": 11.842645518862131,
          "x1": 11.842645518862131,
          "xref": "x",
          "y0": 0,
          "y1": 1,
          "yref": "y domain"
         },
         {
          "line": {
           "color": "green",
           "dash": "dash",
           "width": 2
          },
          "opacity": 0.25,
          "type": "line",
          "x0": 4.701559817545281,
          "x1": 4.701559817545281,
          "xref": "x",
          "y0": 0,
          "y1": 1,
          "yref": "y domain"
         }
        ],
        "showlegend": false,
        "template": {
         "data": {
          "bar": [
           {
            "error_x": {
             "color": "#2a3f5f"
            },
            "error_y": {
             "color": "#2a3f5f"
            },
            "marker": {
             "line": {
              "color": "#E5ECF6",
              "width": 0.5
             },
             "pattern": {
              "fillmode": "overlay",
              "size": 10,
              "solidity": 0.2
             }
            },
            "type": "bar"
           }
          ],
          "barpolar": [
           {
            "marker": {
             "line": {
              "color": "#E5ECF6",
              "width": 0.5
             },
             "pattern": {
              "fillmode": "overlay",
              "size": 10,
              "solidity": 0.2
             }
            },
            "type": "barpolar"
           }
          ],
          "carpet": [
           {
            "aaxis": {
             "endlinecolor": "#2a3f5f",
             "gridcolor": "white",
             "linecolor": "white",
             "minorgridcolor": "white",
             "startlinecolor": "#2a3f5f"
            },
            "baxis": {
             "endlinecolor": "#2a3f5f",
             "gridcolor": "white",
             "linecolor": "white",
             "minorgridcolor": "white",
             "startlinecolor": "#2a3f5f"
            },
            "type": "carpet"
           }
          ],
          "choropleth": [
           {
            "colorbar": {
             "outlinewidth": 0,
             "ticks": ""
            },
            "type": "choropleth"
           }
          ],
          "contour": [
           {
            "colorbar": {
             "outlinewidth": 0,
             "ticks": ""
            },
            "colorscale": [
             [
              0,
              "#0d0887"
             ],
             [
              0.1111111111111111,
              "#46039f"
             ],
             [
              0.2222222222222222,
              "#7201a8"
             ],
             [
              0.3333333333333333,
              "#9c179e"
             ],
             [
              0.4444444444444444,
              "#bd3786"
             ],
             [
              0.5555555555555556,
              "#d8576b"
             ],
             [
              0.6666666666666666,
              "#ed7953"
             ],
             [
              0.7777777777777778,
              "#fb9f3a"
             ],
             [
              0.8888888888888888,
              "#fdca26"
             ],
             [
              1,
              "#f0f921"
             ]
            ],
            "type": "contour"
           }
          ],
          "contourcarpet": [
           {
            "colorbar": {
             "outlinewidth": 0,
             "ticks": ""
            },
            "type": "contourcarpet"
           }
          ],
          "heatmap": [
           {
            "colorbar": {
             "outlinewidth": 0,
             "ticks": ""
            },
            "colorscale": [
             [
              0,
              "#0d0887"
             ],
             [
              0.1111111111111111,
              "#46039f"
             ],
             [
              0.2222222222222222,
              "#7201a8"
             ],
             [
              0.3333333333333333,
              "#9c179e"
             ],
             [
              0.4444444444444444,
              "#bd3786"
             ],
             [
              0.5555555555555556,
              "#d8576b"
             ],
             [
              0.6666666666666666,
              "#ed7953"
             ],
             [
              0.7777777777777778,
              "#fb9f3a"
             ],
             [
              0.8888888888888888,
              "#fdca26"
             ],
             [
              1,
              "#f0f921"
             ]
            ],
            "type": "heatmap"
           }
          ],
          "heatmapgl": [
           {
            "colorbar": {
             "outlinewidth": 0,
             "ticks": ""
            },
            "colorscale": [
             [
              0,
              "#0d0887"
             ],
             [
              0.1111111111111111,
              "#46039f"
             ],
             [
              0.2222222222222222,
              "#7201a8"
             ],
             [
              0.3333333333333333,
              "#9c179e"
             ],
             [
              0.4444444444444444,
              "#bd3786"
             ],
             [
              0.5555555555555556,
              "#d8576b"
             ],
             [
              0.6666666666666666,
              "#ed7953"
             ],
             [
              0.7777777777777778,
              "#fb9f3a"
             ],
             [
              0.8888888888888888,
              "#fdca26"
             ],
             [
              1,
              "#f0f921"
             ]
            ],
            "type": "heatmapgl"
           }
          ],
          "histogram": [
           {
            "marker": {
             "pattern": {
              "fillmode": "overlay",
              "size": 10,
              "solidity": 0.2
             }
            },
            "type": "histogram"
           }
          ],
          "histogram2d": [
           {
            "colorbar": {
             "outlinewidth": 0,
             "ticks": ""
            },
            "colorscale": [
             [
              0,
              "#0d0887"
             ],
             [
              0.1111111111111111,
              "#46039f"
             ],
             [
              0.2222222222222222,
              "#7201a8"
             ],
             [
              0.3333333333333333,
              "#9c179e"
             ],
             [
              0.4444444444444444,
              "#bd3786"
             ],
             [
              0.5555555555555556,
              "#d8576b"
             ],
             [
              0.6666666666666666,
              "#ed7953"
             ],
             [
              0.7777777777777778,
              "#fb9f3a"
             ],
             [
              0.8888888888888888,
              "#fdca26"
             ],
             [
              1,
              "#f0f921"
             ]
            ],
            "type": "histogram2d"
           }
          ],
          "histogram2dcontour": [
           {
            "colorbar": {
             "outlinewidth": 0,
             "ticks": ""
            },
            "colorscale": [
             [
              0,
              "#0d0887"
             ],
             [
              0.1111111111111111,
              "#46039f"
             ],
             [
              0.2222222222222222,
              "#7201a8"
             ],
             [
              0.3333333333333333,
              "#9c179e"
             ],
             [
              0.4444444444444444,
              "#bd3786"
             ],
             [
              0.5555555555555556,
              "#d8576b"
             ],
             [
              0.6666666666666666,
              "#ed7953"
             ],
             [
              0.7777777777777778,
              "#fb9f3a"
             ],
             [
              0.8888888888888888,
              "#fdca26"
             ],
             [
              1,
              "#f0f921"
             ]
            ],
            "type": "histogram2dcontour"
           }
          ],
          "mesh3d": [
           {
            "colorbar": {
             "outlinewidth": 0,
             "ticks": ""
            },
            "type": "mesh3d"
           }
          ],
          "parcoords": [
           {
            "line": {
             "colorbar": {
              "outlinewidth": 0,
              "ticks": ""
             }
            },
            "type": "parcoords"
           }
          ],
          "pie": [
           {
            "automargin": true,
            "type": "pie"
           }
          ],
          "scatter": [
           {
            "fillpattern": {
             "fillmode": "overlay",
             "size": 10,
             "solidity": 0.2
            },
            "type": "scatter"
           }
          ],
          "scatter3d": [
           {
            "line": {
             "colorbar": {
              "outlinewidth": 0,
              "ticks": ""
             }
            },
            "marker": {
             "colorbar": {
              "outlinewidth": 0,
              "ticks": ""
             }
            },
            "type": "scatter3d"
           }
          ],
          "scattercarpet": [
           {
            "marker": {
             "colorbar": {
              "outlinewidth": 0,
              "ticks": ""
             }
            },
            "type": "scattercarpet"
           }
          ],
          "scattergeo": [
           {
            "marker": {
             "colorbar": {
              "outlinewidth": 0,
              "ticks": ""
             }
            },
            "type": "scattergeo"
           }
          ],
          "scattergl": [
           {
            "marker": {
             "colorbar": {
              "outlinewidth": 0,
              "ticks": ""
             }
            },
            "type": "scattergl"
           }
          ],
          "scattermapbox": [
           {
            "marker": {
             "colorbar": {
              "outlinewidth": 0,
              "ticks": ""
             }
            },
            "type": "scattermapbox"
           }
          ],
          "scatterpolar": [
           {
            "marker": {
             "colorbar": {
              "outlinewidth": 0,
              "ticks": ""
             }
            },
            "type": "scatterpolar"
           }
          ],
          "scatterpolargl": [
           {
            "marker": {
             "colorbar": {
              "outlinewidth": 0,
              "ticks": ""
             }
            },
            "type": "scatterpolargl"
           }
          ],
          "scatterternary": [
           {
            "marker": {
             "colorbar": {
              "outlinewidth": 0,
              "ticks": ""
             }
            },
            "type": "scatterternary"
           }
          ],
          "surface": [
           {
            "colorbar": {
             "outlinewidth": 0,
             "ticks": ""
            },
            "colorscale": [
             [
              0,
              "#0d0887"
             ],
             [
              0.1111111111111111,
              "#46039f"
             ],
             [
              0.2222222222222222,
              "#7201a8"
             ],
             [
              0.3333333333333333,
              "#9c179e"
             ],
             [
              0.4444444444444444,
              "#bd3786"
             ],
             [
              0.5555555555555556,
              "#d8576b"
             ],
             [
              0.6666666666666666,
              "#ed7953"
             ],
             [
              0.7777777777777778,
              "#fb9f3a"
             ],
             [
              0.8888888888888888,
              "#fdca26"
             ],
             [
              1,
              "#f0f921"
             ]
            ],
            "type": "surface"
           }
          ],
          "table": [
           {
            "cells": {
             "fill": {
              "color": "#EBF0F8"
             },
             "line": {
              "color": "white"
             }
            },
            "header": {
             "fill": {
              "color": "#C8D4E3"
             },
             "line": {
              "color": "white"
             }
            },
            "type": "table"
           }
          ]
         },
         "layout": {
          "annotationdefaults": {
           "arrowcolor": "#2a3f5f",
           "arrowhead": 0,
           "arrowwidth": 1
          },
          "autotypenumbers": "strict",
          "coloraxis": {
           "colorbar": {
            "outlinewidth": 0,
            "ticks": ""
           }
          },
          "colorscale": {
           "diverging": [
            [
             0,
             "#8e0152"
            ],
            [
             0.1,
             "#c51b7d"
            ],
            [
             0.2,
             "#de77ae"
            ],
            [
             0.3,
             "#f1b6da"
            ],
            [
             0.4,
             "#fde0ef"
            ],
            [
             0.5,
             "#f7f7f7"
            ],
            [
             0.6,
             "#e6f5d0"
            ],
            [
             0.7,
             "#b8e186"
            ],
            [
             0.8,
             "#7fbc41"
            ],
            [
             0.9,
             "#4d9221"
            ],
            [
             1,
             "#276419"
            ]
           ],
           "sequential": [
            [
             0,
             "#0d0887"
            ],
            [
             0.1111111111111111,
             "#46039f"
            ],
            [
             0.2222222222222222,
             "#7201a8"
            ],
            [
             0.3333333333333333,
             "#9c179e"
            ],
            [
             0.4444444444444444,
             "#bd3786"
            ],
            [
             0.5555555555555556,
             "#d8576b"
            ],
            [
             0.6666666666666666,
             "#ed7953"
            ],
            [
             0.7777777777777778,
             "#fb9f3a"
            ],
            [
             0.8888888888888888,
             "#fdca26"
            ],
            [
             1,
             "#f0f921"
            ]
           ],
           "sequentialminus": [
            [
             0,
             "#0d0887"
            ],
            [
             0.1111111111111111,
             "#46039f"
            ],
            [
             0.2222222222222222,
             "#7201a8"
            ],
            [
             0.3333333333333333,
             "#9c179e"
            ],
            [
             0.4444444444444444,
             "#bd3786"
            ],
            [
             0.5555555555555556,
             "#d8576b"
            ],
            [
             0.6666666666666666,
             "#ed7953"
            ],
            [
             0.7777777777777778,
             "#fb9f3a"
            ],
            [
             0.8888888888888888,
             "#fdca26"
            ],
            [
             1,
             "#f0f921"
            ]
           ]
          },
          "colorway": [
           "#636efa",
           "#EF553B",
           "#00cc96",
           "#ab63fa",
           "#FFA15A",
           "#19d3f3",
           "#FF6692",
           "#B6E880",
           "#FF97FF",
           "#FECB52"
          ],
          "font": {
           "color": "#2a3f5f"
          },
          "geo": {
           "bgcolor": "white",
           "lakecolor": "white",
           "landcolor": "#E5ECF6",
           "showlakes": true,
           "showland": true,
           "subunitcolor": "white"
          },
          "hoverlabel": {
           "align": "left"
          },
          "hovermode": "closest",
          "mapbox": {
           "style": "light"
          },
          "paper_bgcolor": "white",
          "plot_bgcolor": "#E5ECF6",
          "polar": {
           "angularaxis": {
            "gridcolor": "white",
            "linecolor": "white",
            "ticks": ""
           },
           "bgcolor": "#E5ECF6",
           "radialaxis": {
            "gridcolor": "white",
            "linecolor": "white",
            "ticks": ""
           }
          },
          "scene": {
           "xaxis": {
            "backgroundcolor": "#E5ECF6",
            "gridcolor": "white",
            "gridwidth": 2,
            "linecolor": "white",
            "showbackground": true,
            "ticks": "",
            "zerolinecolor": "white"
           },
           "yaxis": {
            "backgroundcolor": "#E5ECF6",
            "gridcolor": "white",
            "gridwidth": 2,
            "linecolor": "white",
            "showbackground": true,
            "ticks": "",
            "zerolinecolor": "white"
           },
           "zaxis": {
            "backgroundcolor": "#E5ECF6",
            "gridcolor": "white",
            "gridwidth": 2,
            "linecolor": "white",
            "showbackground": true,
            "ticks": "",
            "zerolinecolor": "white"
           }
          },
          "shapedefaults": {
           "line": {
            "color": "#2a3f5f"
           }
          },
          "ternary": {
           "aaxis": {
            "gridcolor": "white",
            "linecolor": "white",
            "ticks": ""
           },
           "baxis": {
            "gridcolor": "white",
            "linecolor": "white",
            "ticks": ""
           },
           "bgcolor": "#E5ECF6",
           "caxis": {
            "gridcolor": "white",
            "linecolor": "white",
            "ticks": ""
           }
          },
          "title": {
           "x": 0.05
          },
          "xaxis": {
           "automargin": true,
           "gridcolor": "white",
           "linecolor": "white",
           "ticks": "",
           "title": {
            "standoff": 15
           },
           "zerolinecolor": "white",
           "zerolinewidth": 2
          },
          "yaxis": {
           "automargin": true,
           "gridcolor": "white",
           "linecolor": "white",
           "ticks": "",
           "title": {
            "standoff": 15
           },
           "zerolinecolor": "white",
           "zerolinewidth": 2
          }
         }
        },
        "title": {
         "text": "Frontera Eficiente Segmento 1"
        },
        "width": 800,
        "xaxis": {
         "title": {
          "text": "Ingreso ($)"
         }
        },
        "yaxis": {
         "title": {
          "text": "Rentabilidad ($)"
         }
        }
       }
      }
     },
     "metadata": {},
     "output_type": "display_data"
    }
   ],
   "source": [
    "fig = go.Figure()\n",
    "\n",
    "# Se agrega el precio máximo de ingreso\n",
    "fig.add_trace(go.Scatter(x=df_elasticidad['ingresos_seg1'], y=df_elasticidad['rentabilidad_seg1'], name='Frontera Eficiente'))\n",
    "\n",
    "# Se agrega la etiqueta de ingreso\n",
    "fig.add_annotation(x=float(max_ing_seg1['ingresos_seg1']), y=float(max_ing_seg1['rentabilidad_seg1']),\n",
    "                                  text=\"MaxPrecioIng:\"+str(float(max_ing_seg1['irr'].round(2))),\n",
    "                                  showarrow=True,\n",
    "                                  arrowhead=1)\n",
    "# Se agrega la recta del precio máximo\n",
    "fig.add_vline(x=float(max_ing_seg1['ingresos_seg1']), line_width=2, line_dash=\"dash\",\n",
    "                             line_color=\"blue\", opacity=0.25)\n",
    "\n",
    "# Se agrega la etiqueta de rentabilidad\n",
    "fig.add_annotation(x=float(max_ren_seg1['ingresos_seg1']), y=float(max_ren_seg1['rentabilidad_seg1']),\n",
    "                                  text=\"MaxPrecioRent:\"+str(float(max_ren_seg1['irr'].round(2))),\n",
    "                                  showarrow=True,\n",
    "                                  arrowhead=1)\n",
    "# Se agrega la recta del precio máximo\n",
    "fig.add_vline(x=float(max_ren_seg1['ingresos_seg1']), line_width=2, line_dash=\"dash\",\n",
    "                             line_color=\"green\", opacity=0.25)\n",
    "\n",
    "# Configuración del gráfico\n",
    "fig.update_layout(\n",
    "    showlegend=False,\n",
    "    width=800,\n",
    "    height=600,\n",
    "     xaxis=dict(\n",
    "        title=\"Ingreso ($)\"\n",
    "      ##  ,range=[1.5, 2.5]\n",
    "        ),\n",
    "      yaxis=dict(\n",
    "        title=\"Rentabilidad ($)\"\n",
    "       ##,range=[-0.5, 1]\n",
    "      ),\n",
    "    title=\"Frontera Eficiente Segmento 1\")"
   ]
  },
  {
   "cell_type": "code",
   "execution_count": 202,
   "metadata": {},
   "outputs": [
    {
     "data": {
      "application/vnd.plotly.v1+json": {
       "config": {
        "plotlyServerURL": "https://plot.ly"
       },
       "data": [
        {
         "name": "Frontera Eficiente",
         "type": "scatter",
         "x": [
          12.959860142114167,
          10.65954422516318,
          8.778268254425411,
          7.23858374590777,
          5.9773198126965,
          4.959190357319605,
          4.107151220744839,
          3.406743138513863,
          2.830202354509235,
          2.3549519808239627,
          1.9626244629761989,
          1.6382666794454925,
          1.3696948956911028,
          1.1469720521824813,
          0.9619845467526227,
          0.8105213079746391,
          0.681907818296983,
          0.574588049288916,
          0.4848977374845459,
          0.4098253542052387
         ],
         "y": [
          -0.7466884792357966,
          -0.22709960934829532,
          0.06261715514535382,
          0.2092066874906635,
          0.26860469798112074,
          0.2768401821036406,
          0.2567568680447465,
          0.2222477557857765,
          0.18214213987655725,
          0.141671379861823,
          0.10376475924005635,
          0.0698991681330654,
          0.04065442235029293,
          0.016074116268787186,
          -0.004101994997363634,
          -0.020042374334055313,
          -0.03277998066429599,
          -0.04249169385246443,
          -0.04964437619064921,
          -0.0546650927962648
         ]
        }
       ],
       "layout": {
        "annotations": [
         {
          "arrowhead": 1,
          "showarrow": true,
          "text": "MaxPrecioIng:16.0",
          "x": 12.959860142114167,
          "y": -0.7466884792357966
         },
         {
          "arrowhead": 1,
          "showarrow": true,
          "text": "MaxPrecioRent:18.89",
          "x": 4.959190357319605,
          "y": 0.2768401821036406
         }
        ],
        "height": 600,
        "shapes": [
         {
          "line": {
           "color": "blue",
           "dash": "dash",
           "width": 2
          },
          "opacity": 0.25,
          "type": "line",
          "x0": 12.959860142114167,
          "x1": 12.959860142114167,
          "xref": "x",
          "y0": 0,
          "y1": 1,
          "yref": "y domain"
         },
         {
          "line": {
           "color": "green",
           "dash": "dash",
           "width": 2
          },
          "opacity": 0.25,
          "type": "line",
          "x0": 4.959190357319605,
          "x1": 4.959190357319605,
          "xref": "x",
          "y0": 0,
          "y1": 1,
          "yref": "y domain"
         }
        ],
        "showlegend": false,
        "template": {
         "data": {
          "bar": [
           {
            "error_x": {
             "color": "#2a3f5f"
            },
            "error_y": {
             "color": "#2a3f5f"
            },
            "marker": {
             "line": {
              "color": "#E5ECF6",
              "width": 0.5
             },
             "pattern": {
              "fillmode": "overlay",
              "size": 10,
              "solidity": 0.2
             }
            },
            "type": "bar"
           }
          ],
          "barpolar": [
           {
            "marker": {
             "line": {
              "color": "#E5ECF6",
              "width": 0.5
             },
             "pattern": {
              "fillmode": "overlay",
              "size": 10,
              "solidity": 0.2
             }
            },
            "type": "barpolar"
           }
          ],
          "carpet": [
           {
            "aaxis": {
             "endlinecolor": "#2a3f5f",
             "gridcolor": "white",
             "linecolor": "white",
             "minorgridcolor": "white",
             "startlinecolor": "#2a3f5f"
            },
            "baxis": {
             "endlinecolor": "#2a3f5f",
             "gridcolor": "white",
             "linecolor": "white",
             "minorgridcolor": "white",
             "startlinecolor": "#2a3f5f"
            },
            "type": "carpet"
           }
          ],
          "choropleth": [
           {
            "colorbar": {
             "outlinewidth": 0,
             "ticks": ""
            },
            "type": "choropleth"
           }
          ],
          "contour": [
           {
            "colorbar": {
             "outlinewidth": 0,
             "ticks": ""
            },
            "colorscale": [
             [
              0,
              "#0d0887"
             ],
             [
              0.1111111111111111,
              "#46039f"
             ],
             [
              0.2222222222222222,
              "#7201a8"
             ],
             [
              0.3333333333333333,
              "#9c179e"
             ],
             [
              0.4444444444444444,
              "#bd3786"
             ],
             [
              0.5555555555555556,
              "#d8576b"
             ],
             [
              0.6666666666666666,
              "#ed7953"
             ],
             [
              0.7777777777777778,
              "#fb9f3a"
             ],
             [
              0.8888888888888888,
              "#fdca26"
             ],
             [
              1,
              "#f0f921"
             ]
            ],
            "type": "contour"
           }
          ],
          "contourcarpet": [
           {
            "colorbar": {
             "outlinewidth": 0,
             "ticks": ""
            },
            "type": "contourcarpet"
           }
          ],
          "heatmap": [
           {
            "colorbar": {
             "outlinewidth": 0,
             "ticks": ""
            },
            "colorscale": [
             [
              0,
              "#0d0887"
             ],
             [
              0.1111111111111111,
              "#46039f"
             ],
             [
              0.2222222222222222,
              "#7201a8"
             ],
             [
              0.3333333333333333,
              "#9c179e"
             ],
             [
              0.4444444444444444,
              "#bd3786"
             ],
             [
              0.5555555555555556,
              "#d8576b"
             ],
             [
              0.6666666666666666,
              "#ed7953"
             ],
             [
              0.7777777777777778,
              "#fb9f3a"
             ],
             [
              0.8888888888888888,
              "#fdca26"
             ],
             [
              1,
              "#f0f921"
             ]
            ],
            "type": "heatmap"
           }
          ],
          "heatmapgl": [
           {
            "colorbar": {
             "outlinewidth": 0,
             "ticks": ""
            },
            "colorscale": [
             [
              0,
              "#0d0887"
             ],
             [
              0.1111111111111111,
              "#46039f"
             ],
             [
              0.2222222222222222,
              "#7201a8"
             ],
             [
              0.3333333333333333,
              "#9c179e"
             ],
             [
              0.4444444444444444,
              "#bd3786"
             ],
             [
              0.5555555555555556,
              "#d8576b"
             ],
             [
              0.6666666666666666,
              "#ed7953"
             ],
             [
              0.7777777777777778,
              "#fb9f3a"
             ],
             [
              0.8888888888888888,
              "#fdca26"
             ],
             [
              1,
              "#f0f921"
             ]
            ],
            "type": "heatmapgl"
           }
          ],
          "histogram": [
           {
            "marker": {
             "pattern": {
              "fillmode": "overlay",
              "size": 10,
              "solidity": 0.2
             }
            },
            "type": "histogram"
           }
          ],
          "histogram2d": [
           {
            "colorbar": {
             "outlinewidth": 0,
             "ticks": ""
            },
            "colorscale": [
             [
              0,
              "#0d0887"
             ],
             [
              0.1111111111111111,
              "#46039f"
             ],
             [
              0.2222222222222222,
              "#7201a8"
             ],
             [
              0.3333333333333333,
              "#9c179e"
             ],
             [
              0.4444444444444444,
              "#bd3786"
             ],
             [
              0.5555555555555556,
              "#d8576b"
             ],
             [
              0.6666666666666666,
              "#ed7953"
             ],
             [
              0.7777777777777778,
              "#fb9f3a"
             ],
             [
              0.8888888888888888,
              "#fdca26"
             ],
             [
              1,
              "#f0f921"
             ]
            ],
            "type": "histogram2d"
           }
          ],
          "histogram2dcontour": [
           {
            "colorbar": {
             "outlinewidth": 0,
             "ticks": ""
            },
            "colorscale": [
             [
              0,
              "#0d0887"
             ],
             [
              0.1111111111111111,
              "#46039f"
             ],
             [
              0.2222222222222222,
              "#7201a8"
             ],
             [
              0.3333333333333333,
              "#9c179e"
             ],
             [
              0.4444444444444444,
              "#bd3786"
             ],
             [
              0.5555555555555556,
              "#d8576b"
             ],
             [
              0.6666666666666666,
              "#ed7953"
             ],
             [
              0.7777777777777778,
              "#fb9f3a"
             ],
             [
              0.8888888888888888,
              "#fdca26"
             ],
             [
              1,
              "#f0f921"
             ]
            ],
            "type": "histogram2dcontour"
           }
          ],
          "mesh3d": [
           {
            "colorbar": {
             "outlinewidth": 0,
             "ticks": ""
            },
            "type": "mesh3d"
           }
          ],
          "parcoords": [
           {
            "line": {
             "colorbar": {
              "outlinewidth": 0,
              "ticks": ""
             }
            },
            "type": "parcoords"
           }
          ],
          "pie": [
           {
            "automargin": true,
            "type": "pie"
           }
          ],
          "scatter": [
           {
            "fillpattern": {
             "fillmode": "overlay",
             "size": 10,
             "solidity": 0.2
            },
            "type": "scatter"
           }
          ],
          "scatter3d": [
           {
            "line": {
             "colorbar": {
              "outlinewidth": 0,
              "ticks": ""
             }
            },
            "marker": {
             "colorbar": {
              "outlinewidth": 0,
              "ticks": ""
             }
            },
            "type": "scatter3d"
           }
          ],
          "scattercarpet": [
           {
            "marker": {
             "colorbar": {
              "outlinewidth": 0,
              "ticks": ""
             }
            },
            "type": "scattercarpet"
           }
          ],
          "scattergeo": [
           {
            "marker": {
             "colorbar": {
              "outlinewidth": 0,
              "ticks": ""
             }
            },
            "type": "scattergeo"
           }
          ],
          "scattergl": [
           {
            "marker": {
             "colorbar": {
              "outlinewidth": 0,
              "ticks": ""
             }
            },
            "type": "scattergl"
           }
          ],
          "scattermapbox": [
           {
            "marker": {
             "colorbar": {
              "outlinewidth": 0,
              "ticks": ""
             }
            },
            "type": "scattermapbox"
           }
          ],
          "scatterpolar": [
           {
            "marker": {
             "colorbar": {
              "outlinewidth": 0,
              "ticks": ""
             }
            },
            "type": "scatterpolar"
           }
          ],
          "scatterpolargl": [
           {
            "marker": {
             "colorbar": {
              "outlinewidth": 0,
              "ticks": ""
             }
            },
            "type": "scatterpolargl"
           }
          ],
          "scatterternary": [
           {
            "marker": {
             "colorbar": {
              "outlinewidth": 0,
              "ticks": ""
             }
            },
            "type": "scatterternary"
           }
          ],
          "surface": [
           {
            "colorbar": {
             "outlinewidth": 0,
             "ticks": ""
            },
            "colorscale": [
             [
              0,
              "#0d0887"
             ],
             [
              0.1111111111111111,
              "#46039f"
             ],
             [
              0.2222222222222222,
              "#7201a8"
             ],
             [
              0.3333333333333333,
              "#9c179e"
             ],
             [
              0.4444444444444444,
              "#bd3786"
             ],
             [
              0.5555555555555556,
              "#d8576b"
             ],
             [
              0.6666666666666666,
              "#ed7953"
             ],
             [
              0.7777777777777778,
              "#fb9f3a"
             ],
             [
              0.8888888888888888,
              "#fdca26"
             ],
             [
              1,
              "#f0f921"
             ]
            ],
            "type": "surface"
           }
          ],
          "table": [
           {
            "cells": {
             "fill": {
              "color": "#EBF0F8"
             },
             "line": {
              "color": "white"
             }
            },
            "header": {
             "fill": {
              "color": "#C8D4E3"
             },
             "line": {
              "color": "white"
             }
            },
            "type": "table"
           }
          ]
         },
         "layout": {
          "annotationdefaults": {
           "arrowcolor": "#2a3f5f",
           "arrowhead": 0,
           "arrowwidth": 1
          },
          "autotypenumbers": "strict",
          "coloraxis": {
           "colorbar": {
            "outlinewidth": 0,
            "ticks": ""
           }
          },
          "colorscale": {
           "diverging": [
            [
             0,
             "#8e0152"
            ],
            [
             0.1,
             "#c51b7d"
            ],
            [
             0.2,
             "#de77ae"
            ],
            [
             0.3,
             "#f1b6da"
            ],
            [
             0.4,
             "#fde0ef"
            ],
            [
             0.5,
             "#f7f7f7"
            ],
            [
             0.6,
             "#e6f5d0"
            ],
            [
             0.7,
             "#b8e186"
            ],
            [
             0.8,
             "#7fbc41"
            ],
            [
             0.9,
             "#4d9221"
            ],
            [
             1,
             "#276419"
            ]
           ],
           "sequential": [
            [
             0,
             "#0d0887"
            ],
            [
             0.1111111111111111,
             "#46039f"
            ],
            [
             0.2222222222222222,
             "#7201a8"
            ],
            [
             0.3333333333333333,
             "#9c179e"
            ],
            [
             0.4444444444444444,
             "#bd3786"
            ],
            [
             0.5555555555555556,
             "#d8576b"
            ],
            [
             0.6666666666666666,
             "#ed7953"
            ],
            [
             0.7777777777777778,
             "#fb9f3a"
            ],
            [
             0.8888888888888888,
             "#fdca26"
            ],
            [
             1,
             "#f0f921"
            ]
           ],
           "sequentialminus": [
            [
             0,
             "#0d0887"
            ],
            [
             0.1111111111111111,
             "#46039f"
            ],
            [
             0.2222222222222222,
             "#7201a8"
            ],
            [
             0.3333333333333333,
             "#9c179e"
            ],
            [
             0.4444444444444444,
             "#bd3786"
            ],
            [
             0.5555555555555556,
             "#d8576b"
            ],
            [
             0.6666666666666666,
             "#ed7953"
            ],
            [
             0.7777777777777778,
             "#fb9f3a"
            ],
            [
             0.8888888888888888,
             "#fdca26"
            ],
            [
             1,
             "#f0f921"
            ]
           ]
          },
          "colorway": [
           "#636efa",
           "#EF553B",
           "#00cc96",
           "#ab63fa",
           "#FFA15A",
           "#19d3f3",
           "#FF6692",
           "#B6E880",
           "#FF97FF",
           "#FECB52"
          ],
          "font": {
           "color": "#2a3f5f"
          },
          "geo": {
           "bgcolor": "white",
           "lakecolor": "white",
           "landcolor": "#E5ECF6",
           "showlakes": true,
           "showland": true,
           "subunitcolor": "white"
          },
          "hoverlabel": {
           "align": "left"
          },
          "hovermode": "closest",
          "mapbox": {
           "style": "light"
          },
          "paper_bgcolor": "white",
          "plot_bgcolor": "#E5ECF6",
          "polar": {
           "angularaxis": {
            "gridcolor": "white",
            "linecolor": "white",
            "ticks": ""
           },
           "bgcolor": "#E5ECF6",
           "radialaxis": {
            "gridcolor": "white",
            "linecolor": "white",
            "ticks": ""
           }
          },
          "scene": {
           "xaxis": {
            "backgroundcolor": "#E5ECF6",
            "gridcolor": "white",
            "gridwidth": 2,
            "linecolor": "white",
            "showbackground": true,
            "ticks": "",
            "zerolinecolor": "white"
           },
           "yaxis": {
            "backgroundcolor": "#E5ECF6",
            "gridcolor": "white",
            "gridwidth": 2,
            "linecolor": "white",
            "showbackground": true,
            "ticks": "",
            "zerolinecolor": "white"
           },
           "zaxis": {
            "backgroundcolor": "#E5ECF6",
            "gridcolor": "white",
            "gridwidth": 2,
            "linecolor": "white",
            "showbackground": true,
            "ticks": "",
            "zerolinecolor": "white"
           }
          },
          "shapedefaults": {
           "line": {
            "color": "#2a3f5f"
           }
          },
          "ternary": {
           "aaxis": {
            "gridcolor": "white",
            "linecolor": "white",
            "ticks": ""
           },
           "baxis": {
            "gridcolor": "white",
            "linecolor": "white",
            "ticks": ""
           },
           "bgcolor": "#E5ECF6",
           "caxis": {
            "gridcolor": "white",
            "linecolor": "white",
            "ticks": ""
           }
          },
          "title": {
           "x": 0.05
          },
          "xaxis": {
           "automargin": true,
           "gridcolor": "white",
           "linecolor": "white",
           "ticks": "",
           "title": {
            "standoff": 15
           },
           "zerolinecolor": "white",
           "zerolinewidth": 2
          },
          "yaxis": {
           "automargin": true,
           "gridcolor": "white",
           "linecolor": "white",
           "ticks": "",
           "title": {
            "standoff": 15
           },
           "zerolinecolor": "white",
           "zerolinewidth": 2
          }
         }
        },
        "title": {
         "text": "Frontera Eficiente Segmento 2"
        },
        "width": 800,
        "xaxis": {
         "title": {
          "text": "Ingreso ($)"
         }
        },
        "yaxis": {
         "title": {
          "text": "Rentabilidad ($)"
         }
        }
       }
      }
     },
     "metadata": {},
     "output_type": "display_data"
    }
   ],
   "source": [
    "fig = go.Figure()\n",
    "\n",
    "# Se agrega el precio máximo de ingreso\n",
    "fig.add_trace(go.Scatter(x=df_elasticidad['ingresos_seg2'], y=df_elasticidad['rentabilidad_seg2'], name='Frontera Eficiente'))\n",
    "\n",
    "# Se agrega la etiqueta de ingreso\n",
    "fig.add_annotation(x=float(max_ing_seg2['ingresos_seg2']), y=float(max_ing_seg2['rentabilidad_seg2']),\n",
    "                                  text=\"MaxPrecioIng:\"+str(float(max_ing_seg2['irr'].round(2))),\n",
    "                                  showarrow=True,\n",
    "                                  arrowhead=1)\n",
    "# Se agrega la recta del precio máximo\n",
    "fig.add_vline(x=float(max_ing_seg2['ingresos_seg2']), line_width=2, line_dash=\"dash\",\n",
    "                             line_color=\"blue\", opacity=0.25)\n",
    "\n",
    "# Se agrega la etiqueta de rentabilidad\n",
    "fig.add_annotation(x=float(max_ren_seg2['ingresos_seg2']), y=float(max_ren_seg2['rentabilidad_seg2']),\n",
    "                                  text=\"MaxPrecioRent:\"+str(float(max_ren_seg2['irr'].round(2))),\n",
    "                                  showarrow=True,\n",
    "                                  arrowhead=1)\n",
    "# Se agrega la recta del precio máximo\n",
    "fig.add_vline(x=float(max_ren_seg2['ingresos_seg2']), line_width=2, line_dash=\"dash\",\n",
    "                             line_color=\"green\", opacity=0.25)\n",
    "\n",
    "# Configuración del gráfico\n",
    "fig.update_layout(\n",
    "    showlegend=False,\n",
    "    width=800,\n",
    "    height=600,\n",
    "    xaxis_title=\"Ingreso ($)\",\n",
    "    yaxis_title=\"Rentabilidad ($)\",\n",
    "    title=\"Frontera Eficiente Segmento 2\")"
   ]
  },
  {
   "cell_type": "code",
   "execution_count": 203,
   "metadata": {},
   "outputs": [
    {
     "data": {
      "application/vnd.plotly.v1+json": {
       "config": {
        "plotlyServerURL": "https://plot.ly"
       },
       "data": [
        {
         "name": "Frontera Eficiente",
         "type": "scatter",
         "x": [
          12.617416518868133,
          10.409731513661242,
          8.598651931304136,
          7.111891512902262,
          5.890294553205843,
          4.901250774260646,
          4.071114435793735,
          3.386701347636755,
          2.8216831642053424,
          2.35458512246279,
          1.9678839131880947,
          1.6472715112305105,
          1.3810557570129052,
          1.15967301872093,
          0.9752923519041407,
          0.8239176844322691,
          0.6950354508142469,
          0.5872037637500863,
          0.49684686858239835,
          0.4210180688114028
         ],
         "y": [
          -0.7191470900038439,
          -0.21953166378614064,
          0.06075424524149575,
          0.20373804699021125,
          0.26257193236897525,
          0.2716544079306624,
          0.2529667824511179,
          0.21991205481482945,
          0.18108492439577972,
          0.1416243361217453,
          0.10444461617216683,
          0.07104674398736122,
          0.04205140524655504,
          0.017547404492740837,
          -0.002682488381687942,
          -0.018765856496116617,
          -0.0317096234058879,
          -0.04166360117201795,
          -0.04907513475237968,
          -0.054356722217979325
         ]
        }
       ],
       "layout": {
        "annotations": [
         {
          "arrowhead": 1,
          "showarrow": true,
          "text": "MaxPrecioIng:16.0",
          "x": 12.617416518868133,
          "y": -0.7191470900038439
         },
         {
          "arrowhead": 1,
          "showarrow": true,
          "text": "MaxPrecioRent:18.89",
          "x": 4.901250774260646,
          "y": 0.2716544079306624
         }
        ],
        "height": 600,
        "shapes": [
         {
          "line": {
           "color": "blue",
           "dash": "dash",
           "width": 2
          },
          "opacity": 0.25,
          "type": "line",
          "x0": 12.617416518868133,
          "x1": 12.617416518868133,
          "xref": "x",
          "y0": 0,
          "y1": 1,
          "yref": "y domain"
         },
         {
          "line": {
           "color": "green",
           "dash": "dash",
           "width": 2
          },
          "opacity": 0.25,
          "type": "line",
          "x0": 4.901250774260646,
          "x1": 4.901250774260646,
          "xref": "x",
          "y0": 0,
          "y1": 1,
          "yref": "y domain"
         }
        ],
        "showlegend": false,
        "template": {
         "data": {
          "bar": [
           {
            "error_x": {
             "color": "#2a3f5f"
            },
            "error_y": {
             "color": "#2a3f5f"
            },
            "marker": {
             "line": {
              "color": "#E5ECF6",
              "width": 0.5
             },
             "pattern": {
              "fillmode": "overlay",
              "size": 10,
              "solidity": 0.2
             }
            },
            "type": "bar"
           }
          ],
          "barpolar": [
           {
            "marker": {
             "line": {
              "color": "#E5ECF6",
              "width": 0.5
             },
             "pattern": {
              "fillmode": "overlay",
              "size": 10,
              "solidity": 0.2
             }
            },
            "type": "barpolar"
           }
          ],
          "carpet": [
           {
            "aaxis": {
             "endlinecolor": "#2a3f5f",
             "gridcolor": "white",
             "linecolor": "white",
             "minorgridcolor": "white",
             "startlinecolor": "#2a3f5f"
            },
            "baxis": {
             "endlinecolor": "#2a3f5f",
             "gridcolor": "white",
             "linecolor": "white",
             "minorgridcolor": "white",
             "startlinecolor": "#2a3f5f"
            },
            "type": "carpet"
           }
          ],
          "choropleth": [
           {
            "colorbar": {
             "outlinewidth": 0,
             "ticks": ""
            },
            "type": "choropleth"
           }
          ],
          "contour": [
           {
            "colorbar": {
             "outlinewidth": 0,
             "ticks": ""
            },
            "colorscale": [
             [
              0,
              "#0d0887"
             ],
             [
              0.1111111111111111,
              "#46039f"
             ],
             [
              0.2222222222222222,
              "#7201a8"
             ],
             [
              0.3333333333333333,
              "#9c179e"
             ],
             [
              0.4444444444444444,
              "#bd3786"
             ],
             [
              0.5555555555555556,
              "#d8576b"
             ],
             [
              0.6666666666666666,
              "#ed7953"
             ],
             [
              0.7777777777777778,
              "#fb9f3a"
             ],
             [
              0.8888888888888888,
              "#fdca26"
             ],
             [
              1,
              "#f0f921"
             ]
            ],
            "type": "contour"
           }
          ],
          "contourcarpet": [
           {
            "colorbar": {
             "outlinewidth": 0,
             "ticks": ""
            },
            "type": "contourcarpet"
           }
          ],
          "heatmap": [
           {
            "colorbar": {
             "outlinewidth": 0,
             "ticks": ""
            },
            "colorscale": [
             [
              0,
              "#0d0887"
             ],
             [
              0.1111111111111111,
              "#46039f"
             ],
             [
              0.2222222222222222,
              "#7201a8"
             ],
             [
              0.3333333333333333,
              "#9c179e"
             ],
             [
              0.4444444444444444,
              "#bd3786"
             ],
             [
              0.5555555555555556,
              "#d8576b"
             ],
             [
              0.6666666666666666,
              "#ed7953"
             ],
             [
              0.7777777777777778,
              "#fb9f3a"
             ],
             [
              0.8888888888888888,
              "#fdca26"
             ],
             [
              1,
              "#f0f921"
             ]
            ],
            "type": "heatmap"
           }
          ],
          "heatmapgl": [
           {
            "colorbar": {
             "outlinewidth": 0,
             "ticks": ""
            },
            "colorscale": [
             [
              0,
              "#0d0887"
             ],
             [
              0.1111111111111111,
              "#46039f"
             ],
             [
              0.2222222222222222,
              "#7201a8"
             ],
             [
              0.3333333333333333,
              "#9c179e"
             ],
             [
              0.4444444444444444,
              "#bd3786"
             ],
             [
              0.5555555555555556,
              "#d8576b"
             ],
             [
              0.6666666666666666,
              "#ed7953"
             ],
             [
              0.7777777777777778,
              "#fb9f3a"
             ],
             [
              0.8888888888888888,
              "#fdca26"
             ],
             [
              1,
              "#f0f921"
             ]
            ],
            "type": "heatmapgl"
           }
          ],
          "histogram": [
           {
            "marker": {
             "pattern": {
              "fillmode": "overlay",
              "size": 10,
              "solidity": 0.2
             }
            },
            "type": "histogram"
           }
          ],
          "histogram2d": [
           {
            "colorbar": {
             "outlinewidth": 0,
             "ticks": ""
            },
            "colorscale": [
             [
              0,
              "#0d0887"
             ],
             [
              0.1111111111111111,
              "#46039f"
             ],
             [
              0.2222222222222222,
              "#7201a8"
             ],
             [
              0.3333333333333333,
              "#9c179e"
             ],
             [
              0.4444444444444444,
              "#bd3786"
             ],
             [
              0.5555555555555556,
              "#d8576b"
             ],
             [
              0.6666666666666666,
              "#ed7953"
             ],
             [
              0.7777777777777778,
              "#fb9f3a"
             ],
             [
              0.8888888888888888,
              "#fdca26"
             ],
             [
              1,
              "#f0f921"
             ]
            ],
            "type": "histogram2d"
           }
          ],
          "histogram2dcontour": [
           {
            "colorbar": {
             "outlinewidth": 0,
             "ticks": ""
            },
            "colorscale": [
             [
              0,
              "#0d0887"
             ],
             [
              0.1111111111111111,
              "#46039f"
             ],
             [
              0.2222222222222222,
              "#7201a8"
             ],
             [
              0.3333333333333333,
              "#9c179e"
             ],
             [
              0.4444444444444444,
              "#bd3786"
             ],
             [
              0.5555555555555556,
              "#d8576b"
             ],
             [
              0.6666666666666666,
              "#ed7953"
             ],
             [
              0.7777777777777778,
              "#fb9f3a"
             ],
             [
              0.8888888888888888,
              "#fdca26"
             ],
             [
              1,
              "#f0f921"
             ]
            ],
            "type": "histogram2dcontour"
           }
          ],
          "mesh3d": [
           {
            "colorbar": {
             "outlinewidth": 0,
             "ticks": ""
            },
            "type": "mesh3d"
           }
          ],
          "parcoords": [
           {
            "line": {
             "colorbar": {
              "outlinewidth": 0,
              "ticks": ""
             }
            },
            "type": "parcoords"
           }
          ],
          "pie": [
           {
            "automargin": true,
            "type": "pie"
           }
          ],
          "scatter": [
           {
            "fillpattern": {
             "fillmode": "overlay",
             "size": 10,
             "solidity": 0.2
            },
            "type": "scatter"
           }
          ],
          "scatter3d": [
           {
            "line": {
             "colorbar": {
              "outlinewidth": 0,
              "ticks": ""
             }
            },
            "marker": {
             "colorbar": {
              "outlinewidth": 0,
              "ticks": ""
             }
            },
            "type": "scatter3d"
           }
          ],
          "scattercarpet": [
           {
            "marker": {
             "colorbar": {
              "outlinewidth": 0,
              "ticks": ""
             }
            },
            "type": "scattercarpet"
           }
          ],
          "scattergeo": [
           {
            "marker": {
             "colorbar": {
              "outlinewidth": 0,
              "ticks": ""
             }
            },
            "type": "scattergeo"
           }
          ],
          "scattergl": [
           {
            "marker": {
             "colorbar": {
              "outlinewidth": 0,
              "ticks": ""
             }
            },
            "type": "scattergl"
           }
          ],
          "scattermapbox": [
           {
            "marker": {
             "colorbar": {
              "outlinewidth": 0,
              "ticks": ""
             }
            },
            "type": "scattermapbox"
           }
          ],
          "scatterpolar": [
           {
            "marker": {
             "colorbar": {
              "outlinewidth": 0,
              "ticks": ""
             }
            },
            "type": "scatterpolar"
           }
          ],
          "scatterpolargl": [
           {
            "marker": {
             "colorbar": {
              "outlinewidth": 0,
              "ticks": ""
             }
            },
            "type": "scatterpolargl"
           }
          ],
          "scatterternary": [
           {
            "marker": {
             "colorbar": {
              "outlinewidth": 0,
              "ticks": ""
             }
            },
            "type": "scatterternary"
           }
          ],
          "surface": [
           {
            "colorbar": {
             "outlinewidth": 0,
             "ticks": ""
            },
            "colorscale": [
             [
              0,
              "#0d0887"
             ],
             [
              0.1111111111111111,
              "#46039f"
             ],
             [
              0.2222222222222222,
              "#7201a8"
             ],
             [
              0.3333333333333333,
              "#9c179e"
             ],
             [
              0.4444444444444444,
              "#bd3786"
             ],
             [
              0.5555555555555556,
              "#d8576b"
             ],
             [
              0.6666666666666666,
              "#ed7953"
             ],
             [
              0.7777777777777778,
              "#fb9f3a"
             ],
             [
              0.8888888888888888,
              "#fdca26"
             ],
             [
              1,
              "#f0f921"
             ]
            ],
            "type": "surface"
           }
          ],
          "table": [
           {
            "cells": {
             "fill": {
              "color": "#EBF0F8"
             },
             "line": {
              "color": "white"
             }
            },
            "header": {
             "fill": {
              "color": "#C8D4E3"
             },
             "line": {
              "color": "white"
             }
            },
            "type": "table"
           }
          ]
         },
         "layout": {
          "annotationdefaults": {
           "arrowcolor": "#2a3f5f",
           "arrowhead": 0,
           "arrowwidth": 1
          },
          "autotypenumbers": "strict",
          "coloraxis": {
           "colorbar": {
            "outlinewidth": 0,
            "ticks": ""
           }
          },
          "colorscale": {
           "diverging": [
            [
             0,
             "#8e0152"
            ],
            [
             0.1,
             "#c51b7d"
            ],
            [
             0.2,
             "#de77ae"
            ],
            [
             0.3,
             "#f1b6da"
            ],
            [
             0.4,
             "#fde0ef"
            ],
            [
             0.5,
             "#f7f7f7"
            ],
            [
             0.6,
             "#e6f5d0"
            ],
            [
             0.7,
             "#b8e186"
            ],
            [
             0.8,
             "#7fbc41"
            ],
            [
             0.9,
             "#4d9221"
            ],
            [
             1,
             "#276419"
            ]
           ],
           "sequential": [
            [
             0,
             "#0d0887"
            ],
            [
             0.1111111111111111,
             "#46039f"
            ],
            [
             0.2222222222222222,
             "#7201a8"
            ],
            [
             0.3333333333333333,
             "#9c179e"
            ],
            [
             0.4444444444444444,
             "#bd3786"
            ],
            [
             0.5555555555555556,
             "#d8576b"
            ],
            [
             0.6666666666666666,
             "#ed7953"
            ],
            [
             0.7777777777777778,
             "#fb9f3a"
            ],
            [
             0.8888888888888888,
             "#fdca26"
            ],
            [
             1,
             "#f0f921"
            ]
           ],
           "sequentialminus": [
            [
             0,
             "#0d0887"
            ],
            [
             0.1111111111111111,
             "#46039f"
            ],
            [
             0.2222222222222222,
             "#7201a8"
            ],
            [
             0.3333333333333333,
             "#9c179e"
            ],
            [
             0.4444444444444444,
             "#bd3786"
            ],
            [
             0.5555555555555556,
             "#d8576b"
            ],
            [
             0.6666666666666666,
             "#ed7953"
            ],
            [
             0.7777777777777778,
             "#fb9f3a"
            ],
            [
             0.8888888888888888,
             "#fdca26"
            ],
            [
             1,
             "#f0f921"
            ]
           ]
          },
          "colorway": [
           "#636efa",
           "#EF553B",
           "#00cc96",
           "#ab63fa",
           "#FFA15A",
           "#19d3f3",
           "#FF6692",
           "#B6E880",
           "#FF97FF",
           "#FECB52"
          ],
          "font": {
           "color": "#2a3f5f"
          },
          "geo": {
           "bgcolor": "white",
           "lakecolor": "white",
           "landcolor": "#E5ECF6",
           "showlakes": true,
           "showland": true,
           "subunitcolor": "white"
          },
          "hoverlabel": {
           "align": "left"
          },
          "hovermode": "closest",
          "mapbox": {
           "style": "light"
          },
          "paper_bgcolor": "white",
          "plot_bgcolor": "#E5ECF6",
          "polar": {
           "angularaxis": {
            "gridcolor": "white",
            "linecolor": "white",
            "ticks": ""
           },
           "bgcolor": "#E5ECF6",
           "radialaxis": {
            "gridcolor": "white",
            "linecolor": "white",
            "ticks": ""
           }
          },
          "scene": {
           "xaxis": {
            "backgroundcolor": "#E5ECF6",
            "gridcolor": "white",
            "gridwidth": 2,
            "linecolor": "white",
            "showbackground": true,
            "ticks": "",
            "zerolinecolor": "white"
           },
           "yaxis": {
            "backgroundcolor": "#E5ECF6",
            "gridcolor": "white",
            "gridwidth": 2,
            "linecolor": "white",
            "showbackground": true,
            "ticks": "",
            "zerolinecolor": "white"
           },
           "zaxis": {
            "backgroundcolor": "#E5ECF6",
            "gridcolor": "white",
            "gridwidth": 2,
            "linecolor": "white",
            "showbackground": true,
            "ticks": "",
            "zerolinecolor": "white"
           }
          },
          "shapedefaults": {
           "line": {
            "color": "#2a3f5f"
           }
          },
          "ternary": {
           "aaxis": {
            "gridcolor": "white",
            "linecolor": "white",
            "ticks": ""
           },
           "baxis": {
            "gridcolor": "white",
            "linecolor": "white",
            "ticks": ""
           },
           "bgcolor": "#E5ECF6",
           "caxis": {
            "gridcolor": "white",
            "linecolor": "white",
            "ticks": ""
           }
          },
          "title": {
           "x": 0.05
          },
          "xaxis": {
           "automargin": true,
           "gridcolor": "white",
           "linecolor": "white",
           "ticks": "",
           "title": {
            "standoff": 15
           },
           "zerolinecolor": "white",
           "zerolinewidth": 2
          },
          "yaxis": {
           "automargin": true,
           "gridcolor": "white",
           "linecolor": "white",
           "ticks": "",
           "title": {
            "standoff": 15
           },
           "zerolinecolor": "white",
           "zerolinewidth": 2
          }
         }
        },
        "title": {
         "text": "Frontera Eficiente Segmento 3"
        },
        "width": 800,
        "xaxis": {
         "title": {
          "text": "Ingreso ($)"
         }
        },
        "yaxis": {
         "title": {
          "text": "Rentabilidad ($)"
         }
        }
       }
      }
     },
     "metadata": {},
     "output_type": "display_data"
    }
   ],
   "source": [
    "fig = go.Figure()\n",
    "\n",
    "# Se agrega el precio máximo de ingreso\n",
    "fig.add_trace(go.Scatter(x=df_elasticidad['ingresos_seg3'], y=df_elasticidad['rentabilidad_seg3'], name='Frontera Eficiente'))\n",
    "\n",
    "# Se agrega la etiqueta de ingreso\n",
    "fig.add_annotation(x=float(max_ing_seg3['ingresos_seg3']), y=float(max_ing_seg3['rentabilidad_seg3']),\n",
    "                                  text=\"MaxPrecioIng:\"+str(float(max_ing_seg3['irr'].round(2))),\n",
    "                                  showarrow=True,\n",
    "                                  arrowhead=1)\n",
    "# Se agrega la recta del precio máximo\n",
    "fig.add_vline(x=float(max_ing_seg3['ingresos_seg3']), line_width=2, line_dash=\"dash\",\n",
    "                             line_color=\"blue\", opacity=0.25)\n",
    "\n",
    "# Se agrega la etiqueta de rentabilidad\n",
    "fig.add_annotation(x=float(max_ren_seg3['ingresos_seg3']), y=float(max_ren_seg3['rentabilidad_seg3']),\n",
    "                                  text=\"MaxPrecioRent:\"+str(float(max_ren_seg3['irr'].round(2))),\n",
    "                                  showarrow=True,\n",
    "                                  arrowhead=1)\n",
    "# Se agrega la recta del precio máximo\n",
    "fig.add_vline(x=float(max_ren_seg3['ingresos_seg3']), line_width=2, line_dash=\"dash\",\n",
    "                             line_color=\"green\", opacity=0.25)\n",
    "\n",
    "# Configuración del gráfico\n",
    "fig.update_layout(\n",
    "    showlegend=False,\n",
    "    width=800,\n",
    "    height=600,\n",
    "    xaxis_title=\"Ingreso ($)\",\n",
    "    yaxis_title=\"Rentabilidad ($)\",\n",
    "    title=\"Frontera Eficiente Segmento 3\")"
   ]
  },
  {
   "cell_type": "code",
   "execution_count": null,
   "metadata": {},
   "outputs": [],
   "source": []
  }
 ],
 "metadata": {
  "kernelspec": {
   "display_name": ".venv",
   "language": "python",
   "name": "python3"
  },
  "language_info": {
   "codemirror_mode": {
    "name": "ipython",
    "version": 3
   },
   "file_extension": ".py",
   "mimetype": "text/x-python",
   "name": "python",
   "nbconvert_exporter": "python",
   "pygments_lexer": "ipython3",
   "version": "3.11.9"
  }
 },
 "nbformat": 4,
 "nbformat_minor": 2
}
