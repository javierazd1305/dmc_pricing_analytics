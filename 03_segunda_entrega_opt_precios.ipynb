{
 "cells": [
  {
   "cell_type": "code",
   "execution_count": 256,
   "metadata": {},
   "outputs": [],
   "source": [
    "import pandas as pd\n",
    "import numpy as np\n",
    "\n",
    "from sklearn.preprocessing import LabelEncoder\n",
    "from sklearn.preprocessing import StandardScaler\n",
    "import scipy.cluster.hierarchy as shc\n",
    "import matplotlib.pyplot as plt\n",
    "from sklearn.cluster import AgglomerativeClustering\n",
    "import statsmodels.api as sm\n",
    "from sklearn.metrics import classification_report\n",
    "import seaborn as sns\n",
    "\n",
    "import plotly.express as px\n",
    "import plotly.graph_objects as go\n",
    "\n",
    "import warnings\n",
    "warnings.filterwarnings(\"ignore\")"
   ]
  },
  {
   "cell_type": "code",
   "execution_count": 257,
   "metadata": {},
   "outputs": [],
   "source": [
    "df_elasticidad = pd.read_pickle(\"../output/base_etapa_3.pkl\")"
   ]
  },
  {
   "cell_type": "code",
   "execution_count": 258,
   "metadata": {},
   "outputs": [],
   "source": [
    "# Creamos una columna para simular el costo\n",
    "df_elasticidad['costo'] = 17\n",
    "df_elasticidad['costo_seg0'] = np.exp(np.log(df_elasticidad['costo'])*np.log(df_elasticidad['cantidad_seg0']))\n",
    "df_elasticidad['costo_seg1'] = np.exp(np.log(df_elasticidad['costo'])*np.log(df_elasticidad['cantidad_seg1']))\n",
    "df_elasticidad['costo_seg2'] = np.exp(np.log(df_elasticidad['costo'])*np.log(df_elasticidad['cantidad_seg2']))\n",
    "# df_elasticidad['costo_seg3'] = np.exp(np.log(df_elasticidad['costo'])*np.log(df_elasticidad['cantidad_seg3']))\n",
    "# df_elasticidad['costo_seg4'] = np.exp(np.log(df_elasticidad['costo'])*np.log(df_elasticidad['cantidad_seg4']))"
   ]
  },
  {
   "cell_type": "code",
   "execution_count": 259,
   "metadata": {},
   "outputs": [],
   "source": [
    "df_elasticidad['ingresos_seg0'] = np.exp(np.log(df_elasticidad['irr'])*np.log(df_elasticidad['cantidad_seg0']))\n",
    "df_elasticidad['ingresos_seg1'] = np.exp(np.log(df_elasticidad['irr'])*np.log(df_elasticidad['cantidad_seg1']))\n",
    "df_elasticidad['ingresos_seg2'] = np.exp(np.log(df_elasticidad['irr'])*np.log(df_elasticidad['cantidad_seg2']))\n",
    "# df_elasticidad['ingresos_seg3'] = np.exp(np.log(df_elasticidad['irr'])*np.log(df_elasticidad['cantidad_seg3']))\n",
    "# df_elasticidad['ingresos_seg4'] = np.exp(np.log(df_elasticidad['irr'])*np.log(df_elasticidad['cantidad_seg4']))"
   ]
  },
  {
   "cell_type": "code",
   "execution_count": 306,
   "metadata": {},
   "outputs": [],
   "source": [
    "# Calculamos la rentabilidad\n",
    "df_elasticidad['rentabilidad_seg0'] = df_elasticidad['ingresos_seg0']- df_elasticidad[\"costo_seg0\"]\n",
    "df_elasticidad['rentabilidad_seg1'] = df_elasticidad['ingresos_seg1'] - df_elasticidad[\"costo_seg1\"]\n",
    "df_elasticidad['rentabilidad_seg2'] = df_elasticidad['ingresos_seg2'] - df_elasticidad[\"costo_seg2\"]\n",
    "# df_elasticidad['rentabilidad_seg3'] = df_elasticidad['ingresos_seg3'] - df_elasticidad[\"costo_seg3\"]\n",
    "# df_elasticidad['rentabilidad_seg4'] = df_elasticidad['ingresos_seg4'] - df_elasticidad[\"costo_seg4\"]\n",
    "\n",
    "# df_elasticidad['rentabilidad_seg0'] = df_elasticidad['ingresos_seg0'] - df_elasticidad[\"costo\"]\n",
    "# df_elasticidad['rentabilidad_seg1'] = df_elasticidad['ingresos_seg1'] - df_elasticidad[\"costo\"]\n",
    "# df_elasticidad['rentabilidad_seg2'] = df_elasticidad['ingresos_seg2'] - df_elasticidad[\"costo\"]\n",
    "# df_elasticidad['rentabilidad_seg3'] = df_elasticidad['ingresos_seg3'] - df_elasticidad[\"costo\"]"
   ]
  },
  {
   "cell_type": "code",
   "execution_count": 307,
   "metadata": {},
   "outputs": [
    {
     "data": {
      "text/html": [
       "<div>\n",
       "<style scoped>\n",
       "    .dataframe tbody tr th:only-of-type {\n",
       "        vertical-align: middle;\n",
       "    }\n",
       "\n",
       "    .dataframe tbody tr th {\n",
       "        vertical-align: top;\n",
       "    }\n",
       "\n",
       "    .dataframe thead th {\n",
       "        text-align: right;\n",
       "    }\n",
       "</style>\n",
       "<table border=\"1\" class=\"dataframe\">\n",
       "  <thead>\n",
       "    <tr style=\"text-align: right;\">\n",
       "      <th></th>\n",
       "      <th>irr</th>\n",
       "      <th>cantidad_seg0</th>\n",
       "      <th>cantidad_seg1</th>\n",
       "      <th>cantidad_seg2</th>\n",
       "      <th>costo</th>\n",
       "      <th>costo_seg0</th>\n",
       "      <th>costo_seg1</th>\n",
       "      <th>costo_seg2</th>\n",
       "      <th>ingresos_seg0</th>\n",
       "      <th>ingresos_seg1</th>\n",
       "      <th>ingresos_seg2</th>\n",
       "      <th>rentabilidad_seg0</th>\n",
       "      <th>rentabilidad_seg1</th>\n",
       "      <th>rentabilidad_seg2</th>\n",
       "    </tr>\n",
       "  </thead>\n",
       "  <tbody>\n",
       "    <tr>\n",
       "      <th>0</th>\n",
       "      <td>16.00</td>\n",
       "      <td>2.452854</td>\n",
       "      <td>2.287199</td>\n",
       "      <td>2.630060</td>\n",
       "      <td>17</td>\n",
       "      <td>12.706415</td>\n",
       "      <td>10.422813</td>\n",
       "      <td>15.482908</td>\n",
       "      <td>12.033705</td>\n",
       "      <td>9.912935</td>\n",
       "      <td>14.601325</td>\n",
       "      <td>-0.672711</td>\n",
       "      <td>-0.509878</td>\n",
       "      <td>-0.881583</td>\n",
       "    </tr>\n",
       "    <tr>\n",
       "      <th>1</th>\n",
       "      <td>16.58</td>\n",
       "      <td>2.269261</td>\n",
       "      <td>2.125851</td>\n",
       "      <td>2.417276</td>\n",
       "      <td>17</td>\n",
       "      <td>10.192873</td>\n",
       "      <td>8.471696</td>\n",
       "      <td>12.191156</td>\n",
       "      <td>9.986050</td>\n",
       "      <td>8.313363</td>\n",
       "      <td>11.924921</td>\n",
       "      <td>-0.206823</td>\n",
       "      <td>-0.158333</td>\n",
       "      <td>-0.266235</td>\n",
       "    </tr>\n",
       "    <tr>\n",
       "      <th>2</th>\n",
       "      <td>17.16</td>\n",
       "      <td>2.105034</td>\n",
       "      <td>1.980862</td>\n",
       "      <td>2.228161</td>\n",
       "      <td>17</td>\n",
       "      <td>8.238762</td>\n",
       "      <td>6.935075</td>\n",
       "      <td>9.678475</td>\n",
       "      <td>8.296409</td>\n",
       "      <td>6.979624</td>\n",
       "      <td>9.751387</td>\n",
       "      <td>0.057647</td>\n",
       "      <td>0.044549</td>\n",
       "      <td>0.072912</td>\n",
       "    </tr>\n",
       "    <tr>\n",
       "      <th>3</th>\n",
       "      <td>17.74</td>\n",
       "      <td>1.957575</td>\n",
       "      <td>1.850101</td>\n",
       "      <td>2.059412</td>\n",
       "      <td>17</td>\n",
       "      <td>6.706566</td>\n",
       "      <td>5.715069</td>\n",
       "      <td>7.742858</td>\n",
       "      <td>6.901284</td>\n",
       "      <td>5.866868</td>\n",
       "      <td>7.984899</td>\n",
       "      <td>0.194718</td>\n",
       "      <td>0.151799</td>\n",
       "      <td>0.242042</td>\n",
       "    </tr>\n",
       "    <tr>\n",
       "      <th>4</th>\n",
       "      <td>18.32</td>\n",
       "      <td>1.824704</td>\n",
       "      <td>1.731772</td>\n",
       "      <td>1.908272</td>\n",
       "      <td>17</td>\n",
       "      <td>5.495581</td>\n",
       "      <td>4.739095</td>\n",
       "      <td>6.238979</td>\n",
       "      <td>5.748381</td>\n",
       "      <td>4.937758</td>\n",
       "      <td>6.547866</td>\n",
       "      <td>0.252800</td>\n",
       "      <td>0.198663</td>\n",
       "      <td>0.308887</td>\n",
       "    </tr>\n",
       "    <tr>\n",
       "      <th>5</th>\n",
       "      <td>18.89</td>\n",
       "      <td>1.706554</td>\n",
       "      <td>1.626123</td>\n",
       "      <td>1.774654</td>\n",
       "      <td>17</td>\n",
       "      <td>4.546170</td>\n",
       "      <td>3.964991</td>\n",
       "      <td>5.079162</td>\n",
       "      <td>4.809673</td>\n",
       "      <td>4.173514</td>\n",
       "      <td>5.395770</td>\n",
       "      <td>0.263504</td>\n",
       "      <td>0.208523</td>\n",
       "      <td>0.316608</td>\n",
       "    </tr>\n",
       "    <tr>\n",
       "      <th>6</th>\n",
       "      <td>19.47</td>\n",
       "      <td>1.597440</td>\n",
       "      <td>1.528164</td>\n",
       "      <td>1.651946</td>\n",
       "      <td>17</td>\n",
       "      <td>3.770035</td>\n",
       "      <td>3.325011</td>\n",
       "      <td>4.145993</td>\n",
       "      <td>4.017374</td>\n",
       "      <td>3.521907</td>\n",
       "      <td>4.438152</td>\n",
       "      <td>0.247339</td>\n",
       "      <td>0.196896</td>\n",
       "      <td>0.292159</td>\n",
       "    </tr>\n",
       "    <tr>\n",
       "      <th>7</th>\n",
       "      <td>20.05</td>\n",
       "      <td>1.498206</td>\n",
       "      <td>1.438729</td>\n",
       "      <td>1.540960</td>\n",
       "      <td>17</td>\n",
       "      <td>3.143634</td>\n",
       "      <td>2.802775</td>\n",
       "      <td>3.404499</td>\n",
       "      <td>3.360501</td>\n",
       "      <td>2.976167</td>\n",
       "      <td>3.656299</td>\n",
       "      <td>0.216867</td>\n",
       "      <td>0.173392</td>\n",
       "      <td>0.251800</td>\n",
       "    </tr>\n",
       "    <tr>\n",
       "      <th>8</th>\n",
       "      <td>20.63</td>\n",
       "      <td>1.407709</td>\n",
       "      <td>1.356860</td>\n",
       "      <td>1.440285</td>\n",
       "      <td>17</td>\n",
       "      <td>2.634929</td>\n",
       "      <td>2.374104</td>\n",
       "      <td>2.811372</td>\n",
       "      <td>2.815212</td>\n",
       "      <td>2.518544</td>\n",
       "      <td>3.017056</td>\n",
       "      <td>0.180283</td>\n",
       "      <td>0.144440</td>\n",
       "      <td>0.205684</td>\n",
       "    </tr>\n",
       "    <tr>\n",
       "      <th>9</th>\n",
       "      <td>21.21</td>\n",
       "      <td>1.324966</td>\n",
       "      <td>1.281729</td>\n",
       "      <td>1.348712</td>\n",
       "      <td>17</td>\n",
       "      <td>2.219380</td>\n",
       "      <td>2.020273</td>\n",
       "      <td>2.333935</td>\n",
       "      <td>2.361950</td>\n",
       "      <td>2.134327</td>\n",
       "      <td>2.493644</td>\n",
       "      <td>0.142569</td>\n",
       "      <td>0.114054</td>\n",
       "      <td>0.159710</td>\n",
       "    </tr>\n",
       "    <tr>\n",
       "      <th>10</th>\n",
       "      <td>21.79</td>\n",
       "      <td>1.249125</td>\n",
       "      <td>1.212621</td>\n",
       "      <td>1.265201</td>\n",
       "      <td>17</td>\n",
       "      <td>1.878043</td>\n",
       "      <td>1.726678</td>\n",
       "      <td>1.947331</td>\n",
       "      <td>1.984663</td>\n",
       "      <td>1.811319</td>\n",
       "      <td>2.064428</td>\n",
       "      <td>0.106620</td>\n",
       "      <td>0.084642</td>\n",
       "      <td>0.117097</td>\n",
       "    </tr>\n",
       "    <tr>\n",
       "      <th>11</th>\n",
       "      <td>22.37</td>\n",
       "      <td>1.179451</td>\n",
       "      <td>1.148911</td>\n",
       "      <td>1.188856</td>\n",
       "      <td>17</td>\n",
       "      <td>1.596190</td>\n",
       "      <td>1.481850</td>\n",
       "      <td>1.632515</td>\n",
       "      <td>1.670172</td>\n",
       "      <td>1.539407</td>\n",
       "      <td>1.711909</td>\n",
       "      <td>0.073982</td>\n",
       "      <td>0.057556</td>\n",
       "      <td>0.079394</td>\n",
       "    </tr>\n",
       "    <tr>\n",
       "      <th>12</th>\n",
       "      <td>22.95</td>\n",
       "      <td>1.115301</td>\n",
       "      <td>1.090053</td>\n",
       "      <td>1.118899</td>\n",
       "      <td>17</td>\n",
       "      <td>1.362296</td>\n",
       "      <td>1.276724</td>\n",
       "      <td>1.374785</td>\n",
       "      <td>1.407648</td>\n",
       "      <td>1.310193</td>\n",
       "      <td>1.421927</td>\n",
       "      <td>0.045352</td>\n",
       "      <td>0.033469</td>\n",
       "      <td>0.047142</td>\n",
       "    </tr>\n",
       "    <tr>\n",
       "      <th>13</th>\n",
       "      <td>23.53</td>\n",
       "      <td>1.056113</td>\n",
       "      <td>1.035569</td>\n",
       "      <td>1.054654</td>\n",
       "      <td>17</td>\n",
       "      <td>1.167283</td>\n",
       "      <td>1.104092</td>\n",
       "      <td>1.162720</td>\n",
       "      <td>1.188183</td>\n",
       "      <td>1.116707</td>\n",
       "      <td>1.183007</td>\n",
       "      <td>0.020900</td>\n",
       "      <td>0.012615</td>\n",
       "      <td>0.020287</td>\n",
       "    </tr>\n",
       "    <tr>\n",
       "      <th>14</th>\n",
       "      <td>24.11</td>\n",
       "      <td>1.001394</td>\n",
       "      <td>0.985037</td>\n",
       "      <td>0.995530</td>\n",
       "      <td>17</td>\n",
       "      <td>1.003955</td>\n",
       "      <td>0.958185</td>\n",
       "      <td>0.987387</td>\n",
       "      <td>1.004444</td>\n",
       "      <td>0.953151</td>\n",
       "      <td>0.985842</td>\n",
       "      <td>0.000489</td>\n",
       "      <td>-0.005034</td>\n",
       "      <td>-0.001544</td>\n",
       "    </tr>\n",
       "    <tr>\n",
       "      <th>15</th>\n",
       "      <td>24.68</td>\n",
       "      <td>0.951555</td>\n",
       "      <td>0.938867</td>\n",
       "      <td>0.941914</td>\n",
       "      <td>17</td>\n",
       "      <td>0.868756</td>\n",
       "      <td>0.836337</td>\n",
       "      <td>0.844050</td>\n",
       "      <td>0.852822</td>\n",
       "      <td>0.816900</td>\n",
       "      <td>0.825429</td>\n",
       "      <td>-0.015934</td>\n",
       "      <td>-0.019437</td>\n",
       "      <td>-0.018620</td>\n",
       "    </tr>\n",
       "    <tr>\n",
       "      <th>16</th>\n",
       "      <td>25.26</td>\n",
       "      <td>0.904467</td>\n",
       "      <td>0.895114</td>\n",
       "      <td>0.891476</td>\n",
       "      <td>17</td>\n",
       "      <td>0.752405</td>\n",
       "      <td>0.730568</td>\n",
       "      <td>0.722187</td>\n",
       "      <td>0.723074</td>\n",
       "      <td>0.699205</td>\n",
       "      <td>0.690069</td>\n",
       "      <td>-0.029331</td>\n",
       "      <td>-0.031364</td>\n",
       "      <td>-0.032118</td>\n",
       "    </tr>\n",
       "    <tr>\n",
       "      <th>17</th>\n",
       "      <td>25.84</td>\n",
       "      <td>0.860701</td>\n",
       "      <td>0.854325</td>\n",
       "      <td>0.844794</td>\n",
       "      <td>17</td>\n",
       "      <td>0.653767</td>\n",
       "      <td>0.640138</td>\n",
       "      <td>0.620110</td>\n",
       "      <td>0.613967</td>\n",
       "      <td>0.599299</td>\n",
       "      <td>0.577828</td>\n",
       "      <td>-0.039800</td>\n",
       "      <td>-0.040839</td>\n",
       "      <td>-0.042282</td>\n",
       "    </tr>\n",
       "    <tr>\n",
       "      <th>18</th>\n",
       "      <td>26.42</td>\n",
       "      <td>0.819955</td>\n",
       "      <td>0.816239</td>\n",
       "      <td>0.801512</td>\n",
       "      <td>17</td>\n",
       "      <td>0.569834</td>\n",
       "      <td>0.562549</td>\n",
       "      <td>0.534266</td>\n",
       "      <td>0.522081</td>\n",
       "      <td>0.514375</td>\n",
       "      <td>0.484608</td>\n",
       "      <td>-0.047753</td>\n",
       "      <td>-0.048174</td>\n",
       "      <td>-0.049658</td>\n",
       "    </tr>\n",
       "    <tr>\n",
       "      <th>19</th>\n",
       "      <td>27.00</td>\n",
       "      <td>0.781961</td>\n",
       "      <td>0.780624</td>\n",
       "      <td>0.761318</td>\n",
       "      <td>17</td>\n",
       "      <td>0.498162</td>\n",
       "      <td>0.495753</td>\n",
       "      <td>0.461797</td>\n",
       "      <td>0.444586</td>\n",
       "      <td>0.442086</td>\n",
       "      <td>0.407062</td>\n",
       "      <td>-0.053576</td>\n",
       "      <td>-0.053667</td>\n",
       "      <td>-0.054735</td>\n",
       "    </tr>\n",
       "  </tbody>\n",
       "</table>\n",
       "</div>"
      ],
      "text/plain": [
       "      irr  cantidad_seg0  cantidad_seg1  cantidad_seg2  costo  costo_seg0  \\\n",
       "0   16.00       2.452854       2.287199       2.630060     17   12.706415   \n",
       "1   16.58       2.269261       2.125851       2.417276     17   10.192873   \n",
       "2   17.16       2.105034       1.980862       2.228161     17    8.238762   \n",
       "3   17.74       1.957575       1.850101       2.059412     17    6.706566   \n",
       "4   18.32       1.824704       1.731772       1.908272     17    5.495581   \n",
       "5   18.89       1.706554       1.626123       1.774654     17    4.546170   \n",
       "6   19.47       1.597440       1.528164       1.651946     17    3.770035   \n",
       "7   20.05       1.498206       1.438729       1.540960     17    3.143634   \n",
       "8   20.63       1.407709       1.356860       1.440285     17    2.634929   \n",
       "9   21.21       1.324966       1.281729       1.348712     17    2.219380   \n",
       "10  21.79       1.249125       1.212621       1.265201     17    1.878043   \n",
       "11  22.37       1.179451       1.148911       1.188856     17    1.596190   \n",
       "12  22.95       1.115301       1.090053       1.118899     17    1.362296   \n",
       "13  23.53       1.056113       1.035569       1.054654     17    1.167283   \n",
       "14  24.11       1.001394       0.985037       0.995530     17    1.003955   \n",
       "15  24.68       0.951555       0.938867       0.941914     17    0.868756   \n",
       "16  25.26       0.904467       0.895114       0.891476     17    0.752405   \n",
       "17  25.84       0.860701       0.854325       0.844794     17    0.653767   \n",
       "18  26.42       0.819955       0.816239       0.801512     17    0.569834   \n",
       "19  27.00       0.781961       0.780624       0.761318     17    0.498162   \n",
       "\n",
       "    costo_seg1  costo_seg2  ingresos_seg0  ingresos_seg1  ingresos_seg2  \\\n",
       "0    10.422813   15.482908      12.033705       9.912935      14.601325   \n",
       "1     8.471696   12.191156       9.986050       8.313363      11.924921   \n",
       "2     6.935075    9.678475       8.296409       6.979624       9.751387   \n",
       "3     5.715069    7.742858       6.901284       5.866868       7.984899   \n",
       "4     4.739095    6.238979       5.748381       4.937758       6.547866   \n",
       "5     3.964991    5.079162       4.809673       4.173514       5.395770   \n",
       "6     3.325011    4.145993       4.017374       3.521907       4.438152   \n",
       "7     2.802775    3.404499       3.360501       2.976167       3.656299   \n",
       "8     2.374104    2.811372       2.815212       2.518544       3.017056   \n",
       "9     2.020273    2.333935       2.361950       2.134327       2.493644   \n",
       "10    1.726678    1.947331       1.984663       1.811319       2.064428   \n",
       "11    1.481850    1.632515       1.670172       1.539407       1.711909   \n",
       "12    1.276724    1.374785       1.407648       1.310193       1.421927   \n",
       "13    1.104092    1.162720       1.188183       1.116707       1.183007   \n",
       "14    0.958185    0.987387       1.004444       0.953151       0.985842   \n",
       "15    0.836337    0.844050       0.852822       0.816900       0.825429   \n",
       "16    0.730568    0.722187       0.723074       0.699205       0.690069   \n",
       "17    0.640138    0.620110       0.613967       0.599299       0.577828   \n",
       "18    0.562549    0.534266       0.522081       0.514375       0.484608   \n",
       "19    0.495753    0.461797       0.444586       0.442086       0.407062   \n",
       "\n",
       "    rentabilidad_seg0  rentabilidad_seg1  rentabilidad_seg2  \n",
       "0           -0.672711          -0.509878          -0.881583  \n",
       "1           -0.206823          -0.158333          -0.266235  \n",
       "2            0.057647           0.044549           0.072912  \n",
       "3            0.194718           0.151799           0.242042  \n",
       "4            0.252800           0.198663           0.308887  \n",
       "5            0.263504           0.208523           0.316608  \n",
       "6            0.247339           0.196896           0.292159  \n",
       "7            0.216867           0.173392           0.251800  \n",
       "8            0.180283           0.144440           0.205684  \n",
       "9            0.142569           0.114054           0.159710  \n",
       "10           0.106620           0.084642           0.117097  \n",
       "11           0.073982           0.057556           0.079394  \n",
       "12           0.045352           0.033469           0.047142  \n",
       "13           0.020900           0.012615           0.020287  \n",
       "14           0.000489          -0.005034          -0.001544  \n",
       "15          -0.015934          -0.019437          -0.018620  \n",
       "16          -0.029331          -0.031364          -0.032118  \n",
       "17          -0.039800          -0.040839          -0.042282  \n",
       "18          -0.047753          -0.048174          -0.049658  \n",
       "19          -0.053576          -0.053667          -0.054735  "
      ]
     },
     "execution_count": 307,
     "metadata": {},
     "output_type": "execute_result"
    }
   ],
   "source": [
    "df_elasticidad"
   ]
  },
  {
   "cell_type": "code",
   "execution_count": 294,
   "metadata": {},
   "outputs": [
    {
     "data": {
      "application/vnd.plotly.v1+json": {
       "config": {
        "plotlyServerURL": "https://plot.ly"
       },
       "data": [
        {
         "hovertemplate": "variable=ingresos_seg0<br>tasa=%{x}<br>Ingresos=%{y}<extra></extra>",
         "legendgroup": "ingresos_seg0",
         "line": {
          "color": "#636efa",
          "dash": "solid"
         },
         "marker": {
          "symbol": "circle"
         },
         "mode": "lines",
         "name": "ingresos_seg0",
         "orientation": "v",
         "showlegend": true,
         "type": "scatter",
         "x": [
          16,
          16.58,
          17.16,
          17.74,
          18.32,
          18.89,
          19.47,
          20.05,
          20.63,
          21.21,
          21.79,
          22.37,
          22.95,
          23.53,
          24.11,
          24.68,
          25.26,
          25.84,
          26.42,
          27
         ],
         "xaxis": "x",
         "y": [
          12.033704536941078,
          9.986049708127887,
          8.296408969649743,
          6.901284101827321,
          5.748381030424332,
          4.809673185342189,
          4.017374431028414,
          3.360500834989735,
          2.8152120064913593,
          2.3619496390366446,
          1.9846629772224456,
          1.670172454851422,
          1.4076481422984843,
          1.1881830242108364,
          1.0044442594332637,
          0.8528222758561739,
          0.7230739104507301,
          0.6139665463369466,
          0.5220811145351432,
          0.4445856231623986
         ],
         "yaxis": "y"
        },
        {
         "hovertemplate": "variable=ingresos_seg1<br>tasa=%{x}<br>Ingresos=%{y}<extra></extra>",
         "legendgroup": "ingresos_seg1",
         "line": {
          "color": "#EF553B",
          "dash": "solid"
         },
         "marker": {
          "symbol": "circle"
         },
         "mode": "lines",
         "name": "ingresos_seg1",
         "orientation": "v",
         "showlegend": true,
         "type": "scatter",
         "x": [
          16,
          16.58,
          17.16,
          17.74,
          18.32,
          18.89,
          19.47,
          20.05,
          20.63,
          21.21,
          21.79,
          22.37,
          22.95,
          23.53,
          24.11,
          24.68,
          25.26,
          25.84,
          26.42,
          27
         ],
         "xaxis": "x",
         "y": [
          9.912935260660909,
          8.313362816593685,
          6.97962366044792,
          5.866868011736031,
          4.937757597228452,
          4.173514052063279,
          3.5219070928607557,
          2.97616698221323,
          2.518544000721205,
          2.1343268006069223,
          1.8113194269332904,
          1.5394065969721047,
          1.3101933676839852,
          1.1167070682849007,
          0.9531510821407928,
          0.8168995172868229,
          0.6992046130542231,
          0.599298903593202,
          0.5143750095919228,
          0.44208581654167195
         ],
         "yaxis": "y"
        },
        {
         "hovertemplate": "variable=ingresos_seg2<br>tasa=%{x}<br>Ingresos=%{y}<extra></extra>",
         "legendgroup": "ingresos_seg2",
         "line": {
          "color": "#00cc96",
          "dash": "solid"
         },
         "marker": {
          "symbol": "circle"
         },
         "mode": "lines",
         "name": "ingresos_seg2",
         "orientation": "v",
         "showlegend": true,
         "type": "scatter",
         "x": [
          16,
          16.58,
          17.16,
          17.74,
          18.32,
          18.89,
          19.47,
          20.05,
          20.63,
          21.21,
          21.79,
          22.37,
          22.95,
          23.53,
          24.11,
          24.68,
          25.26,
          25.84,
          26.42,
          27
         ],
         "xaxis": "x",
         "y": [
          14.601324810505076,
          11.924921300474326,
          9.751387152408798,
          7.984899299168829,
          6.547865865483778,
          5.395770354157855,
          4.438151789909848,
          3.6562990580235635,
          3.01705574361992,
          2.4936444020474458,
          2.064427781700281,
          1.7119091309106278,
          1.4219269532295835,
          1.183007179576216,
          0.985842348640246,
          0.8254293113978076,
          0.6900693692997897,
          0.5778281482100582,
          0.48460791058356273,
          0.4070618526377326
         ],
         "yaxis": "y"
        }
       ],
       "layout": {
        "height": 600,
        "legend": {
         "title": {
          "text": "variable"
         },
         "tracegroupgap": 0
        },
        "template": {
         "data": {
          "bar": [
           {
            "error_x": {
             "color": "#2a3f5f"
            },
            "error_y": {
             "color": "#2a3f5f"
            },
            "marker": {
             "line": {
              "color": "#E5ECF6",
              "width": 0.5
             },
             "pattern": {
              "fillmode": "overlay",
              "size": 10,
              "solidity": 0.2
             }
            },
            "type": "bar"
           }
          ],
          "barpolar": [
           {
            "marker": {
             "line": {
              "color": "#E5ECF6",
              "width": 0.5
             },
             "pattern": {
              "fillmode": "overlay",
              "size": 10,
              "solidity": 0.2
             }
            },
            "type": "barpolar"
           }
          ],
          "carpet": [
           {
            "aaxis": {
             "endlinecolor": "#2a3f5f",
             "gridcolor": "white",
             "linecolor": "white",
             "minorgridcolor": "white",
             "startlinecolor": "#2a3f5f"
            },
            "baxis": {
             "endlinecolor": "#2a3f5f",
             "gridcolor": "white",
             "linecolor": "white",
             "minorgridcolor": "white",
             "startlinecolor": "#2a3f5f"
            },
            "type": "carpet"
           }
          ],
          "choropleth": [
           {
            "colorbar": {
             "outlinewidth": 0,
             "ticks": ""
            },
            "type": "choropleth"
           }
          ],
          "contour": [
           {
            "colorbar": {
             "outlinewidth": 0,
             "ticks": ""
            },
            "colorscale": [
             [
              0,
              "#0d0887"
             ],
             [
              0.1111111111111111,
              "#46039f"
             ],
             [
              0.2222222222222222,
              "#7201a8"
             ],
             [
              0.3333333333333333,
              "#9c179e"
             ],
             [
              0.4444444444444444,
              "#bd3786"
             ],
             [
              0.5555555555555556,
              "#d8576b"
             ],
             [
              0.6666666666666666,
              "#ed7953"
             ],
             [
              0.7777777777777778,
              "#fb9f3a"
             ],
             [
              0.8888888888888888,
              "#fdca26"
             ],
             [
              1,
              "#f0f921"
             ]
            ],
            "type": "contour"
           }
          ],
          "contourcarpet": [
           {
            "colorbar": {
             "outlinewidth": 0,
             "ticks": ""
            },
            "type": "contourcarpet"
           }
          ],
          "heatmap": [
           {
            "colorbar": {
             "outlinewidth": 0,
             "ticks": ""
            },
            "colorscale": [
             [
              0,
              "#0d0887"
             ],
             [
              0.1111111111111111,
              "#46039f"
             ],
             [
              0.2222222222222222,
              "#7201a8"
             ],
             [
              0.3333333333333333,
              "#9c179e"
             ],
             [
              0.4444444444444444,
              "#bd3786"
             ],
             [
              0.5555555555555556,
              "#d8576b"
             ],
             [
              0.6666666666666666,
              "#ed7953"
             ],
             [
              0.7777777777777778,
              "#fb9f3a"
             ],
             [
              0.8888888888888888,
              "#fdca26"
             ],
             [
              1,
              "#f0f921"
             ]
            ],
            "type": "heatmap"
           }
          ],
          "heatmapgl": [
           {
            "colorbar": {
             "outlinewidth": 0,
             "ticks": ""
            },
            "colorscale": [
             [
              0,
              "#0d0887"
             ],
             [
              0.1111111111111111,
              "#46039f"
             ],
             [
              0.2222222222222222,
              "#7201a8"
             ],
             [
              0.3333333333333333,
              "#9c179e"
             ],
             [
              0.4444444444444444,
              "#bd3786"
             ],
             [
              0.5555555555555556,
              "#d8576b"
             ],
             [
              0.6666666666666666,
              "#ed7953"
             ],
             [
              0.7777777777777778,
              "#fb9f3a"
             ],
             [
              0.8888888888888888,
              "#fdca26"
             ],
             [
              1,
              "#f0f921"
             ]
            ],
            "type": "heatmapgl"
           }
          ],
          "histogram": [
           {
            "marker": {
             "pattern": {
              "fillmode": "overlay",
              "size": 10,
              "solidity": 0.2
             }
            },
            "type": "histogram"
           }
          ],
          "histogram2d": [
           {
            "colorbar": {
             "outlinewidth": 0,
             "ticks": ""
            },
            "colorscale": [
             [
              0,
              "#0d0887"
             ],
             [
              0.1111111111111111,
              "#46039f"
             ],
             [
              0.2222222222222222,
              "#7201a8"
             ],
             [
              0.3333333333333333,
              "#9c179e"
             ],
             [
              0.4444444444444444,
              "#bd3786"
             ],
             [
              0.5555555555555556,
              "#d8576b"
             ],
             [
              0.6666666666666666,
              "#ed7953"
             ],
             [
              0.7777777777777778,
              "#fb9f3a"
             ],
             [
              0.8888888888888888,
              "#fdca26"
             ],
             [
              1,
              "#f0f921"
             ]
            ],
            "type": "histogram2d"
           }
          ],
          "histogram2dcontour": [
           {
            "colorbar": {
             "outlinewidth": 0,
             "ticks": ""
            },
            "colorscale": [
             [
              0,
              "#0d0887"
             ],
             [
              0.1111111111111111,
              "#46039f"
             ],
             [
              0.2222222222222222,
              "#7201a8"
             ],
             [
              0.3333333333333333,
              "#9c179e"
             ],
             [
              0.4444444444444444,
              "#bd3786"
             ],
             [
              0.5555555555555556,
              "#d8576b"
             ],
             [
              0.6666666666666666,
              "#ed7953"
             ],
             [
              0.7777777777777778,
              "#fb9f3a"
             ],
             [
              0.8888888888888888,
              "#fdca26"
             ],
             [
              1,
              "#f0f921"
             ]
            ],
            "type": "histogram2dcontour"
           }
          ],
          "mesh3d": [
           {
            "colorbar": {
             "outlinewidth": 0,
             "ticks": ""
            },
            "type": "mesh3d"
           }
          ],
          "parcoords": [
           {
            "line": {
             "colorbar": {
              "outlinewidth": 0,
              "ticks": ""
             }
            },
            "type": "parcoords"
           }
          ],
          "pie": [
           {
            "automargin": true,
            "type": "pie"
           }
          ],
          "scatter": [
           {
            "fillpattern": {
             "fillmode": "overlay",
             "size": 10,
             "solidity": 0.2
            },
            "type": "scatter"
           }
          ],
          "scatter3d": [
           {
            "line": {
             "colorbar": {
              "outlinewidth": 0,
              "ticks": ""
             }
            },
            "marker": {
             "colorbar": {
              "outlinewidth": 0,
              "ticks": ""
             }
            },
            "type": "scatter3d"
           }
          ],
          "scattercarpet": [
           {
            "marker": {
             "colorbar": {
              "outlinewidth": 0,
              "ticks": ""
             }
            },
            "type": "scattercarpet"
           }
          ],
          "scattergeo": [
           {
            "marker": {
             "colorbar": {
              "outlinewidth": 0,
              "ticks": ""
             }
            },
            "type": "scattergeo"
           }
          ],
          "scattergl": [
           {
            "marker": {
             "colorbar": {
              "outlinewidth": 0,
              "ticks": ""
             }
            },
            "type": "scattergl"
           }
          ],
          "scattermapbox": [
           {
            "marker": {
             "colorbar": {
              "outlinewidth": 0,
              "ticks": ""
             }
            },
            "type": "scattermapbox"
           }
          ],
          "scatterpolar": [
           {
            "marker": {
             "colorbar": {
              "outlinewidth": 0,
              "ticks": ""
             }
            },
            "type": "scatterpolar"
           }
          ],
          "scatterpolargl": [
           {
            "marker": {
             "colorbar": {
              "outlinewidth": 0,
              "ticks": ""
             }
            },
            "type": "scatterpolargl"
           }
          ],
          "scatterternary": [
           {
            "marker": {
             "colorbar": {
              "outlinewidth": 0,
              "ticks": ""
             }
            },
            "type": "scatterternary"
           }
          ],
          "surface": [
           {
            "colorbar": {
             "outlinewidth": 0,
             "ticks": ""
            },
            "colorscale": [
             [
              0,
              "#0d0887"
             ],
             [
              0.1111111111111111,
              "#46039f"
             ],
             [
              0.2222222222222222,
              "#7201a8"
             ],
             [
              0.3333333333333333,
              "#9c179e"
             ],
             [
              0.4444444444444444,
              "#bd3786"
             ],
             [
              0.5555555555555556,
              "#d8576b"
             ],
             [
              0.6666666666666666,
              "#ed7953"
             ],
             [
              0.7777777777777778,
              "#fb9f3a"
             ],
             [
              0.8888888888888888,
              "#fdca26"
             ],
             [
              1,
              "#f0f921"
             ]
            ],
            "type": "surface"
           }
          ],
          "table": [
           {
            "cells": {
             "fill": {
              "color": "#EBF0F8"
             },
             "line": {
              "color": "white"
             }
            },
            "header": {
             "fill": {
              "color": "#C8D4E3"
             },
             "line": {
              "color": "white"
             }
            },
            "type": "table"
           }
          ]
         },
         "layout": {
          "annotationdefaults": {
           "arrowcolor": "#2a3f5f",
           "arrowhead": 0,
           "arrowwidth": 1
          },
          "autotypenumbers": "strict",
          "coloraxis": {
           "colorbar": {
            "outlinewidth": 0,
            "ticks": ""
           }
          },
          "colorscale": {
           "diverging": [
            [
             0,
             "#8e0152"
            ],
            [
             0.1,
             "#c51b7d"
            ],
            [
             0.2,
             "#de77ae"
            ],
            [
             0.3,
             "#f1b6da"
            ],
            [
             0.4,
             "#fde0ef"
            ],
            [
             0.5,
             "#f7f7f7"
            ],
            [
             0.6,
             "#e6f5d0"
            ],
            [
             0.7,
             "#b8e186"
            ],
            [
             0.8,
             "#7fbc41"
            ],
            [
             0.9,
             "#4d9221"
            ],
            [
             1,
             "#276419"
            ]
           ],
           "sequential": [
            [
             0,
             "#0d0887"
            ],
            [
             0.1111111111111111,
             "#46039f"
            ],
            [
             0.2222222222222222,
             "#7201a8"
            ],
            [
             0.3333333333333333,
             "#9c179e"
            ],
            [
             0.4444444444444444,
             "#bd3786"
            ],
            [
             0.5555555555555556,
             "#d8576b"
            ],
            [
             0.6666666666666666,
             "#ed7953"
            ],
            [
             0.7777777777777778,
             "#fb9f3a"
            ],
            [
             0.8888888888888888,
             "#fdca26"
            ],
            [
             1,
             "#f0f921"
            ]
           ],
           "sequentialminus": [
            [
             0,
             "#0d0887"
            ],
            [
             0.1111111111111111,
             "#46039f"
            ],
            [
             0.2222222222222222,
             "#7201a8"
            ],
            [
             0.3333333333333333,
             "#9c179e"
            ],
            [
             0.4444444444444444,
             "#bd3786"
            ],
            [
             0.5555555555555556,
             "#d8576b"
            ],
            [
             0.6666666666666666,
             "#ed7953"
            ],
            [
             0.7777777777777778,
             "#fb9f3a"
            ],
            [
             0.8888888888888888,
             "#fdca26"
            ],
            [
             1,
             "#f0f921"
            ]
           ]
          },
          "colorway": [
           "#636efa",
           "#EF553B",
           "#00cc96",
           "#ab63fa",
           "#FFA15A",
           "#19d3f3",
           "#FF6692",
           "#B6E880",
           "#FF97FF",
           "#FECB52"
          ],
          "font": {
           "color": "#2a3f5f"
          },
          "geo": {
           "bgcolor": "white",
           "lakecolor": "white",
           "landcolor": "#E5ECF6",
           "showlakes": true,
           "showland": true,
           "subunitcolor": "white"
          },
          "hoverlabel": {
           "align": "left"
          },
          "hovermode": "closest",
          "mapbox": {
           "style": "light"
          },
          "paper_bgcolor": "white",
          "plot_bgcolor": "#E5ECF6",
          "polar": {
           "angularaxis": {
            "gridcolor": "white",
            "linecolor": "white",
            "ticks": ""
           },
           "bgcolor": "#E5ECF6",
           "radialaxis": {
            "gridcolor": "white",
            "linecolor": "white",
            "ticks": ""
           }
          },
          "scene": {
           "xaxis": {
            "backgroundcolor": "#E5ECF6",
            "gridcolor": "white",
            "gridwidth": 2,
            "linecolor": "white",
            "showbackground": true,
            "ticks": "",
            "zerolinecolor": "white"
           },
           "yaxis": {
            "backgroundcolor": "#E5ECF6",
            "gridcolor": "white",
            "gridwidth": 2,
            "linecolor": "white",
            "showbackground": true,
            "ticks": "",
            "zerolinecolor": "white"
           },
           "zaxis": {
            "backgroundcolor": "#E5ECF6",
            "gridcolor": "white",
            "gridwidth": 2,
            "linecolor": "white",
            "showbackground": true,
            "ticks": "",
            "zerolinecolor": "white"
           }
          },
          "shapedefaults": {
           "line": {
            "color": "#2a3f5f"
           }
          },
          "ternary": {
           "aaxis": {
            "gridcolor": "white",
            "linecolor": "white",
            "ticks": ""
           },
           "baxis": {
            "gridcolor": "white",
            "linecolor": "white",
            "ticks": ""
           },
           "bgcolor": "#E5ECF6",
           "caxis": {
            "gridcolor": "white",
            "linecolor": "white",
            "ticks": ""
           }
          },
          "title": {
           "x": 0.05
          },
          "xaxis": {
           "automargin": true,
           "gridcolor": "white",
           "linecolor": "white",
           "ticks": "",
           "title": {
            "standoff": 15
           },
           "zerolinecolor": "white",
           "zerolinewidth": 2
          },
          "yaxis": {
           "automargin": true,
           "gridcolor": "white",
           "linecolor": "white",
           "ticks": "",
           "title": {
            "standoff": 15
           },
           "zerolinecolor": "white",
           "zerolinewidth": 2
          }
         }
        },
        "title": {
         "text": "Curva de Ingresos"
        },
        "width": 800,
        "xaxis": {
         "anchor": "y",
         "domain": [
          0,
          1
         ],
         "title": {
          "text": "tasa"
         }
        },
        "yaxis": {
         "anchor": "x",
         "domain": [
          0,
          1
         ],
         "title": {
          "text": "Ingresos"
         }
        }
       }
      }
     },
     "metadata": {},
     "output_type": "display_data"
    }
   ],
   "source": [
    "# Graficamos las curvas de Precio-Ingresos\n",
    "fig = px.line(df_elasticidad, x='irr', y=['ingresos_seg0', 'ingresos_seg1',\n",
    "                                             'ingresos_seg2',# 'ingresos_seg3', 'ingresos_seg4'\n",
    "                                             ],\n",
    "              labels={'irr':'tasa', 'value':'Ingresos'},\n",
    "              title='Curva de Ingresos',\n",
    "              width=800, height=600)\n",
    "\n",
    "fig.show()"
   ]
  },
  {
   "cell_type": "code",
   "execution_count": 295,
   "metadata": {},
   "outputs": [
    {
     "data": {
      "application/vnd.plotly.v1+json": {
       "config": {
        "plotlyServerURL": "https://plot.ly"
       },
       "data": [
        {
         "hovertemplate": "variable=rentabilidad_seg0<br>tasa=%{x}<br>Rentabilidad=%{y}<extra></extra>",
         "legendgroup": "rentabilidad_seg0",
         "line": {
          "color": "#636efa",
          "dash": "solid"
         },
         "marker": {
          "symbol": "circle"
         },
         "mode": "lines",
         "name": "rentabilidad_seg0",
         "orientation": "v",
         "showlegend": true,
         "type": "scatter",
         "x": [
          16,
          16.58,
          17.16,
          17.74,
          18.32,
          18.89,
          19.47,
          20.05,
          20.63,
          21.21,
          21.79,
          22.37,
          22.95,
          23.53,
          24.11,
          24.68,
          25.26,
          25.84,
          26.42,
          27
         ],
         "xaxis": "x",
         "y": [
          -0.7463334209869714,
          -0.2608896533264726,
          0.017318156571485943,
          0.16410627595574212,
          0.22911453726523145,
          0.24472537866899025,
          0.23219898137673578,
          0.20440215349002022,
          0.16981242498474458,
          0.13361104827016268,
          0.09882920654532379,
          0.0671110614574193,
          0.03922068189608119,
          0.015377441307543371,
          -0.004523554769590987,
          -0.020516932394721077,
          -0.03353281479995607,
          -0.043665867132450575,
          -0.05131875353822679,
          -0.05687073600964171
         ],
         "yaxis": "y"
        },
        {
         "hovertemplate": "variable=rentabilidad_seg1<br>tasa=%{x}<br>Rentabilidad=%{y}<extra></extra>",
         "legendgroup": "rentabilidad_seg1",
         "line": {
          "color": "#EF553B",
          "dash": "solid"
         },
         "marker": {
          "symbol": "circle"
         },
         "mode": "lines",
         "name": "rentabilidad_seg1",
         "orientation": "v",
         "showlegend": true,
         "type": "scatter",
         "x": [
          16,
          16.58,
          17.16,
          17.74,
          18.32,
          18.89,
          19.47,
          20.05,
          20.63,
          21.21,
          21.79,
          22.37,
          22.95,
          23.53,
          24.11,
          24.68,
          25.26,
          25.84,
          26.42,
          27
         ],
         "xaxis": "x",
         "y": [
          -0.8225619851447536,
          -0.41248398875156056,
          -0.16350340122577744,
          -0.01965319828663059,
          0.05648971448929441,
          0.0895729730160042,
          0.09714556699272281,
          0.08930857373451007,
          0.07321729141753108,
          0.0534460571388915,
          0.03284135249806819,
          0.013100991457226652,
          -0.004832843563160827,
          -0.020507415144134233,
          -0.03377983602894152,
          -0.04452759731753286,
          -0.05328088050393376,
          -0.060043231114505824,
          -0.06505027499117844,
          -0.06853984742116997
         ],
         "yaxis": "y"
        },
        {
         "hovertemplate": "variable=rentabilidad_seg2<br>tasa=%{x}<br>Rentabilidad=%{y}<extra></extra>",
         "legendgroup": "rentabilidad_seg2",
         "line": {
          "color": "#00cc96",
          "dash": "solid"
         },
         "marker": {
          "symbol": "circle"
         },
         "mode": "lines",
         "name": "rentabilidad_seg2",
         "orientation": "v",
         "showlegend": true,
         "type": "scatter",
         "x": [
          16,
          16.58,
          17.16,
          17.74,
          18.32,
          18.89,
          19.47,
          20.05,
          20.63,
          21.21,
          21.79,
          22.37,
          22.95,
          23.53,
          24.11,
          24.68,
          25.26,
          25.84,
          26.42,
          27
         ],
         "xaxis": "x",
         "y": [
          -1.5008992410706732,
          -0.753880807760666,
          -0.3142266158815641,
          -0.067672690765896,
          0.05932809984522169,
          0.1134418881594863,
          0.12631947421233303,
          0.11562053520125382,
          0.09322877255216255,
          0.06635240411444521,
          0.039203297743537924,
          0.014093560078433542,
          -0.007849905863085205,
          -0.026221827054280666,
          -0.04103996330782278,
          -0.05238235839398975,
          -0.061005332386823374,
          -0.06708657910642457,
          -0.07102834265428276,
          -0.07320671241535431
         ],
         "yaxis": "y"
        }
       ],
       "layout": {
        "height": 600,
        "legend": {
         "title": {
          "text": "variable"
         },
         "tracegroupgap": 0
        },
        "shapes": [
         {
          "line": {
           "color": "red",
           "dash": "dash",
           "width": 2
          },
          "opacity": 0.5,
          "type": "line",
          "x0": 17,
          "x1": 17,
          "xref": "x",
          "y0": 0,
          "y1": 1,
          "yref": "y domain"
         }
        ],
        "template": {
         "data": {
          "bar": [
           {
            "error_x": {
             "color": "#2a3f5f"
            },
            "error_y": {
             "color": "#2a3f5f"
            },
            "marker": {
             "line": {
              "color": "#E5ECF6",
              "width": 0.5
             },
             "pattern": {
              "fillmode": "overlay",
              "size": 10,
              "solidity": 0.2
             }
            },
            "type": "bar"
           }
          ],
          "barpolar": [
           {
            "marker": {
             "line": {
              "color": "#E5ECF6",
              "width": 0.5
             },
             "pattern": {
              "fillmode": "overlay",
              "size": 10,
              "solidity": 0.2
             }
            },
            "type": "barpolar"
           }
          ],
          "carpet": [
           {
            "aaxis": {
             "endlinecolor": "#2a3f5f",
             "gridcolor": "white",
             "linecolor": "white",
             "minorgridcolor": "white",
             "startlinecolor": "#2a3f5f"
            },
            "baxis": {
             "endlinecolor": "#2a3f5f",
             "gridcolor": "white",
             "linecolor": "white",
             "minorgridcolor": "white",
             "startlinecolor": "#2a3f5f"
            },
            "type": "carpet"
           }
          ],
          "choropleth": [
           {
            "colorbar": {
             "outlinewidth": 0,
             "ticks": ""
            },
            "type": "choropleth"
           }
          ],
          "contour": [
           {
            "colorbar": {
             "outlinewidth": 0,
             "ticks": ""
            },
            "colorscale": [
             [
              0,
              "#0d0887"
             ],
             [
              0.1111111111111111,
              "#46039f"
             ],
             [
              0.2222222222222222,
              "#7201a8"
             ],
             [
              0.3333333333333333,
              "#9c179e"
             ],
             [
              0.4444444444444444,
              "#bd3786"
             ],
             [
              0.5555555555555556,
              "#d8576b"
             ],
             [
              0.6666666666666666,
              "#ed7953"
             ],
             [
              0.7777777777777778,
              "#fb9f3a"
             ],
             [
              0.8888888888888888,
              "#fdca26"
             ],
             [
              1,
              "#f0f921"
             ]
            ],
            "type": "contour"
           }
          ],
          "contourcarpet": [
           {
            "colorbar": {
             "outlinewidth": 0,
             "ticks": ""
            },
            "type": "contourcarpet"
           }
          ],
          "heatmap": [
           {
            "colorbar": {
             "outlinewidth": 0,
             "ticks": ""
            },
            "colorscale": [
             [
              0,
              "#0d0887"
             ],
             [
              0.1111111111111111,
              "#46039f"
             ],
             [
              0.2222222222222222,
              "#7201a8"
             ],
             [
              0.3333333333333333,
              "#9c179e"
             ],
             [
              0.4444444444444444,
              "#bd3786"
             ],
             [
              0.5555555555555556,
              "#d8576b"
             ],
             [
              0.6666666666666666,
              "#ed7953"
             ],
             [
              0.7777777777777778,
              "#fb9f3a"
             ],
             [
              0.8888888888888888,
              "#fdca26"
             ],
             [
              1,
              "#f0f921"
             ]
            ],
            "type": "heatmap"
           }
          ],
          "heatmapgl": [
           {
            "colorbar": {
             "outlinewidth": 0,
             "ticks": ""
            },
            "colorscale": [
             [
              0,
              "#0d0887"
             ],
             [
              0.1111111111111111,
              "#46039f"
             ],
             [
              0.2222222222222222,
              "#7201a8"
             ],
             [
              0.3333333333333333,
              "#9c179e"
             ],
             [
              0.4444444444444444,
              "#bd3786"
             ],
             [
              0.5555555555555556,
              "#d8576b"
             ],
             [
              0.6666666666666666,
              "#ed7953"
             ],
             [
              0.7777777777777778,
              "#fb9f3a"
             ],
             [
              0.8888888888888888,
              "#fdca26"
             ],
             [
              1,
              "#f0f921"
             ]
            ],
            "type": "heatmapgl"
           }
          ],
          "histogram": [
           {
            "marker": {
             "pattern": {
              "fillmode": "overlay",
              "size": 10,
              "solidity": 0.2
             }
            },
            "type": "histogram"
           }
          ],
          "histogram2d": [
           {
            "colorbar": {
             "outlinewidth": 0,
             "ticks": ""
            },
            "colorscale": [
             [
              0,
              "#0d0887"
             ],
             [
              0.1111111111111111,
              "#46039f"
             ],
             [
              0.2222222222222222,
              "#7201a8"
             ],
             [
              0.3333333333333333,
              "#9c179e"
             ],
             [
              0.4444444444444444,
              "#bd3786"
             ],
             [
              0.5555555555555556,
              "#d8576b"
             ],
             [
              0.6666666666666666,
              "#ed7953"
             ],
             [
              0.7777777777777778,
              "#fb9f3a"
             ],
             [
              0.8888888888888888,
              "#fdca26"
             ],
             [
              1,
              "#f0f921"
             ]
            ],
            "type": "histogram2d"
           }
          ],
          "histogram2dcontour": [
           {
            "colorbar": {
             "outlinewidth": 0,
             "ticks": ""
            },
            "colorscale": [
             [
              0,
              "#0d0887"
             ],
             [
              0.1111111111111111,
              "#46039f"
             ],
             [
              0.2222222222222222,
              "#7201a8"
             ],
             [
              0.3333333333333333,
              "#9c179e"
             ],
             [
              0.4444444444444444,
              "#bd3786"
             ],
             [
              0.5555555555555556,
              "#d8576b"
             ],
             [
              0.6666666666666666,
              "#ed7953"
             ],
             [
              0.7777777777777778,
              "#fb9f3a"
             ],
             [
              0.8888888888888888,
              "#fdca26"
             ],
             [
              1,
              "#f0f921"
             ]
            ],
            "type": "histogram2dcontour"
           }
          ],
          "mesh3d": [
           {
            "colorbar": {
             "outlinewidth": 0,
             "ticks": ""
            },
            "type": "mesh3d"
           }
          ],
          "parcoords": [
           {
            "line": {
             "colorbar": {
              "outlinewidth": 0,
              "ticks": ""
             }
            },
            "type": "parcoords"
           }
          ],
          "pie": [
           {
            "automargin": true,
            "type": "pie"
           }
          ],
          "scatter": [
           {
            "fillpattern": {
             "fillmode": "overlay",
             "size": 10,
             "solidity": 0.2
            },
            "type": "scatter"
           }
          ],
          "scatter3d": [
           {
            "line": {
             "colorbar": {
              "outlinewidth": 0,
              "ticks": ""
             }
            },
            "marker": {
             "colorbar": {
              "outlinewidth": 0,
              "ticks": ""
             }
            },
            "type": "scatter3d"
           }
          ],
          "scattercarpet": [
           {
            "marker": {
             "colorbar": {
              "outlinewidth": 0,
              "ticks": ""
             }
            },
            "type": "scattercarpet"
           }
          ],
          "scattergeo": [
           {
            "marker": {
             "colorbar": {
              "outlinewidth": 0,
              "ticks": ""
             }
            },
            "type": "scattergeo"
           }
          ],
          "scattergl": [
           {
            "marker": {
             "colorbar": {
              "outlinewidth": 0,
              "ticks": ""
             }
            },
            "type": "scattergl"
           }
          ],
          "scattermapbox": [
           {
            "marker": {
             "colorbar": {
              "outlinewidth": 0,
              "ticks": ""
             }
            },
            "type": "scattermapbox"
           }
          ],
          "scatterpolar": [
           {
            "marker": {
             "colorbar": {
              "outlinewidth": 0,
              "ticks": ""
             }
            },
            "type": "scatterpolar"
           }
          ],
          "scatterpolargl": [
           {
            "marker": {
             "colorbar": {
              "outlinewidth": 0,
              "ticks": ""
             }
            },
            "type": "scatterpolargl"
           }
          ],
          "scatterternary": [
           {
            "marker": {
             "colorbar": {
              "outlinewidth": 0,
              "ticks": ""
             }
            },
            "type": "scatterternary"
           }
          ],
          "surface": [
           {
            "colorbar": {
             "outlinewidth": 0,
             "ticks": ""
            },
            "colorscale": [
             [
              0,
              "#0d0887"
             ],
             [
              0.1111111111111111,
              "#46039f"
             ],
             [
              0.2222222222222222,
              "#7201a8"
             ],
             [
              0.3333333333333333,
              "#9c179e"
             ],
             [
              0.4444444444444444,
              "#bd3786"
             ],
             [
              0.5555555555555556,
              "#d8576b"
             ],
             [
              0.6666666666666666,
              "#ed7953"
             ],
             [
              0.7777777777777778,
              "#fb9f3a"
             ],
             [
              0.8888888888888888,
              "#fdca26"
             ],
             [
              1,
              "#f0f921"
             ]
            ],
            "type": "surface"
           }
          ],
          "table": [
           {
            "cells": {
             "fill": {
              "color": "#EBF0F8"
             },
             "line": {
              "color": "white"
             }
            },
            "header": {
             "fill": {
              "color": "#C8D4E3"
             },
             "line": {
              "color": "white"
             }
            },
            "type": "table"
           }
          ]
         },
         "layout": {
          "annotationdefaults": {
           "arrowcolor": "#2a3f5f",
           "arrowhead": 0,
           "arrowwidth": 1
          },
          "autotypenumbers": "strict",
          "coloraxis": {
           "colorbar": {
            "outlinewidth": 0,
            "ticks": ""
           }
          },
          "colorscale": {
           "diverging": [
            [
             0,
             "#8e0152"
            ],
            [
             0.1,
             "#c51b7d"
            ],
            [
             0.2,
             "#de77ae"
            ],
            [
             0.3,
             "#f1b6da"
            ],
            [
             0.4,
             "#fde0ef"
            ],
            [
             0.5,
             "#f7f7f7"
            ],
            [
             0.6,
             "#e6f5d0"
            ],
            [
             0.7,
             "#b8e186"
            ],
            [
             0.8,
             "#7fbc41"
            ],
            [
             0.9,
             "#4d9221"
            ],
            [
             1,
             "#276419"
            ]
           ],
           "sequential": [
            [
             0,
             "#0d0887"
            ],
            [
             0.1111111111111111,
             "#46039f"
            ],
            [
             0.2222222222222222,
             "#7201a8"
            ],
            [
             0.3333333333333333,
             "#9c179e"
            ],
            [
             0.4444444444444444,
             "#bd3786"
            ],
            [
             0.5555555555555556,
             "#d8576b"
            ],
            [
             0.6666666666666666,
             "#ed7953"
            ],
            [
             0.7777777777777778,
             "#fb9f3a"
            ],
            [
             0.8888888888888888,
             "#fdca26"
            ],
            [
             1,
             "#f0f921"
            ]
           ],
           "sequentialminus": [
            [
             0,
             "#0d0887"
            ],
            [
             0.1111111111111111,
             "#46039f"
            ],
            [
             0.2222222222222222,
             "#7201a8"
            ],
            [
             0.3333333333333333,
             "#9c179e"
            ],
            [
             0.4444444444444444,
             "#bd3786"
            ],
            [
             0.5555555555555556,
             "#d8576b"
            ],
            [
             0.6666666666666666,
             "#ed7953"
            ],
            [
             0.7777777777777778,
             "#fb9f3a"
            ],
            [
             0.8888888888888888,
             "#fdca26"
            ],
            [
             1,
             "#f0f921"
            ]
           ]
          },
          "colorway": [
           "#636efa",
           "#EF553B",
           "#00cc96",
           "#ab63fa",
           "#FFA15A",
           "#19d3f3",
           "#FF6692",
           "#B6E880",
           "#FF97FF",
           "#FECB52"
          ],
          "font": {
           "color": "#2a3f5f"
          },
          "geo": {
           "bgcolor": "white",
           "lakecolor": "white",
           "landcolor": "#E5ECF6",
           "showlakes": true,
           "showland": true,
           "subunitcolor": "white"
          },
          "hoverlabel": {
           "align": "left"
          },
          "hovermode": "closest",
          "mapbox": {
           "style": "light"
          },
          "paper_bgcolor": "white",
          "plot_bgcolor": "#E5ECF6",
          "polar": {
           "angularaxis": {
            "gridcolor": "white",
            "linecolor": "white",
            "ticks": ""
           },
           "bgcolor": "#E5ECF6",
           "radialaxis": {
            "gridcolor": "white",
            "linecolor": "white",
            "ticks": ""
           }
          },
          "scene": {
           "xaxis": {
            "backgroundcolor": "#E5ECF6",
            "gridcolor": "white",
            "gridwidth": 2,
            "linecolor": "white",
            "showbackground": true,
            "ticks": "",
            "zerolinecolor": "white"
           },
           "yaxis": {
            "backgroundcolor": "#E5ECF6",
            "gridcolor": "white",
            "gridwidth": 2,
            "linecolor": "white",
            "showbackground": true,
            "ticks": "",
            "zerolinecolor": "white"
           },
           "zaxis": {
            "backgroundcolor": "#E5ECF6",
            "gridcolor": "white",
            "gridwidth": 2,
            "linecolor": "white",
            "showbackground": true,
            "ticks": "",
            "zerolinecolor": "white"
           }
          },
          "shapedefaults": {
           "line": {
            "color": "#2a3f5f"
           }
          },
          "ternary": {
           "aaxis": {
            "gridcolor": "white",
            "linecolor": "white",
            "ticks": ""
           },
           "baxis": {
            "gridcolor": "white",
            "linecolor": "white",
            "ticks": ""
           },
           "bgcolor": "#E5ECF6",
           "caxis": {
            "gridcolor": "white",
            "linecolor": "white",
            "ticks": ""
           }
          },
          "title": {
           "x": 0.05
          },
          "xaxis": {
           "automargin": true,
           "gridcolor": "white",
           "linecolor": "white",
           "ticks": "",
           "title": {
            "standoff": 15
           },
           "zerolinecolor": "white",
           "zerolinewidth": 2
          },
          "yaxis": {
           "automargin": true,
           "gridcolor": "white",
           "linecolor": "white",
           "ticks": "",
           "title": {
            "standoff": 15
           },
           "zerolinecolor": "white",
           "zerolinewidth": 2
          }
         }
        },
        "title": {
         "text": "Curvas de Rentabilidad"
        },
        "width": 800,
        "xaxis": {
         "anchor": "y",
         "domain": [
          0,
          1
         ],
         "title": {
          "text": "tasa"
         }
        },
        "yaxis": {
         "anchor": "x",
         "domain": [
          0,
          1
         ],
         "title": {
          "text": "Rentabilidad"
         }
        }
       }
      }
     },
     "metadata": {},
     "output_type": "display_data"
    }
   ],
   "source": [
    "# Graficamos las curvas de Precio-Rentabilidad\n",
    "fig = px.line(df_elasticidad, x='irr', y=['rentabilidad_seg0',\n",
    "                                             'rentabilidad_seg1',\n",
    "                                             'rentabilidad_seg2',\n",
    "                                             #'rentabilidad_seg3',\n",
    "                                             #'rentabilidad_seg4',\n",
    "                                             ],\n",
    "              labels={'irr':'tasa', 'value':'Rentabilidad'},\n",
    "              title='Curvas de Rentabilidad',\n",
    "              width=800, height=600)\n",
    "\n",
    "# Agregamos la línea de restricción: Costo\n",
    "fig.add_vline(x=float(df_elasticidad['costo'].mean()), line_width=2, line_dash=\"dash\",\n",
    "                             line_color=\"red\", opacity=0.5)\n",
    "\n",
    "fig.show()"
   ]
  },
  {
   "cell_type": "code",
   "execution_count": 296,
   "metadata": {},
   "outputs": [
    {
     "data": {
      "text/html": [
       "<div>\n",
       "<style scoped>\n",
       "    .dataframe tbody tr th:only-of-type {\n",
       "        vertical-align: middle;\n",
       "    }\n",
       "\n",
       "    .dataframe tbody tr th {\n",
       "        vertical-align: top;\n",
       "    }\n",
       "\n",
       "    .dataframe thead th {\n",
       "        text-align: right;\n",
       "    }\n",
       "</style>\n",
       "<table border=\"1\" class=\"dataframe\">\n",
       "  <thead>\n",
       "    <tr style=\"text-align: right;\">\n",
       "      <th></th>\n",
       "      <th>irr</th>\n",
       "      <th>cantidad_seg0</th>\n",
       "      <th>cantidad_seg1</th>\n",
       "      <th>cantidad_seg2</th>\n",
       "      <th>costo</th>\n",
       "      <th>costo_seg0</th>\n",
       "      <th>costo_seg1</th>\n",
       "      <th>costo_seg2</th>\n",
       "      <th>ingresos_seg0</th>\n",
       "      <th>ingresos_seg1</th>\n",
       "      <th>ingresos_seg2</th>\n",
       "      <th>rentabilidad_seg0</th>\n",
       "      <th>rentabilidad_seg1</th>\n",
       "      <th>rentabilidad_seg2</th>\n",
       "    </tr>\n",
       "  </thead>\n",
       "  <tbody>\n",
       "    <tr>\n",
       "      <th>0</th>\n",
       "      <td>16.00</td>\n",
       "      <td>2.452854</td>\n",
       "      <td>2.287199</td>\n",
       "      <td>2.630060</td>\n",
       "      <td>17</td>\n",
       "      <td>12.706415</td>\n",
       "      <td>10.422813</td>\n",
       "      <td>15.482908</td>\n",
       "      <td>12.033705</td>\n",
       "      <td>9.912935</td>\n",
       "      <td>14.601325</td>\n",
       "      <td>-0.746333</td>\n",
       "      <td>-0.822562</td>\n",
       "      <td>-1.500899</td>\n",
       "    </tr>\n",
       "    <tr>\n",
       "      <th>1</th>\n",
       "      <td>16.58</td>\n",
       "      <td>2.269261</td>\n",
       "      <td>2.125851</td>\n",
       "      <td>2.417276</td>\n",
       "      <td>17</td>\n",
       "      <td>10.192873</td>\n",
       "      <td>8.471696</td>\n",
       "      <td>12.191156</td>\n",
       "      <td>9.986050</td>\n",
       "      <td>8.313363</td>\n",
       "      <td>11.924921</td>\n",
       "      <td>-0.260890</td>\n",
       "      <td>-0.412484</td>\n",
       "      <td>-0.753881</td>\n",
       "    </tr>\n",
       "    <tr>\n",
       "      <th>2</th>\n",
       "      <td>17.16</td>\n",
       "      <td>2.105034</td>\n",
       "      <td>1.980862</td>\n",
       "      <td>2.228161</td>\n",
       "      <td>17</td>\n",
       "      <td>8.238762</td>\n",
       "      <td>6.935075</td>\n",
       "      <td>9.678475</td>\n",
       "      <td>8.296409</td>\n",
       "      <td>6.979624</td>\n",
       "      <td>9.751387</td>\n",
       "      <td>0.017318</td>\n",
       "      <td>-0.163503</td>\n",
       "      <td>-0.314227</td>\n",
       "    </tr>\n",
       "    <tr>\n",
       "      <th>3</th>\n",
       "      <td>17.74</td>\n",
       "      <td>1.957575</td>\n",
       "      <td>1.850101</td>\n",
       "      <td>2.059412</td>\n",
       "      <td>17</td>\n",
       "      <td>6.706566</td>\n",
       "      <td>5.715069</td>\n",
       "      <td>7.742858</td>\n",
       "      <td>6.901284</td>\n",
       "      <td>5.866868</td>\n",
       "      <td>7.984899</td>\n",
       "      <td>0.164106</td>\n",
       "      <td>-0.019653</td>\n",
       "      <td>-0.067673</td>\n",
       "    </tr>\n",
       "    <tr>\n",
       "      <th>4</th>\n",
       "      <td>18.32</td>\n",
       "      <td>1.824704</td>\n",
       "      <td>1.731772</td>\n",
       "      <td>1.908272</td>\n",
       "      <td>17</td>\n",
       "      <td>5.495581</td>\n",
       "      <td>4.739095</td>\n",
       "      <td>6.238979</td>\n",
       "      <td>5.748381</td>\n",
       "      <td>4.937758</td>\n",
       "      <td>6.547866</td>\n",
       "      <td>0.229115</td>\n",
       "      <td>0.056490</td>\n",
       "      <td>0.059328</td>\n",
       "    </tr>\n",
       "  </tbody>\n",
       "</table>\n",
       "</div>"
      ],
      "text/plain": [
       "     irr  cantidad_seg0  cantidad_seg1  cantidad_seg2  costo  costo_seg0  \\\n",
       "0  16.00       2.452854       2.287199       2.630060     17   12.706415   \n",
       "1  16.58       2.269261       2.125851       2.417276     17   10.192873   \n",
       "2  17.16       2.105034       1.980862       2.228161     17    8.238762   \n",
       "3  17.74       1.957575       1.850101       2.059412     17    6.706566   \n",
       "4  18.32       1.824704       1.731772       1.908272     17    5.495581   \n",
       "\n",
       "   costo_seg1  costo_seg2  ingresos_seg0  ingresos_seg1  ingresos_seg2  \\\n",
       "0   10.422813   15.482908      12.033705       9.912935      14.601325   \n",
       "1    8.471696   12.191156       9.986050       8.313363      11.924921   \n",
       "2    6.935075    9.678475       8.296409       6.979624       9.751387   \n",
       "3    5.715069    7.742858       6.901284       5.866868       7.984899   \n",
       "4    4.739095    6.238979       5.748381       4.937758       6.547866   \n",
       "\n",
       "   rentabilidad_seg0  rentabilidad_seg1  rentabilidad_seg2  \n",
       "0          -0.746333          -0.822562          -1.500899  \n",
       "1          -0.260890          -0.412484          -0.753881  \n",
       "2           0.017318          -0.163503          -0.314227  \n",
       "3           0.164106          -0.019653          -0.067673  \n",
       "4           0.229115           0.056490           0.059328  "
      ]
     },
     "execution_count": 296,
     "metadata": {},
     "output_type": "execute_result"
    }
   ],
   "source": [
    "df_elasticidad.head()"
   ]
  },
  {
   "cell_type": "code",
   "execution_count": 297,
   "metadata": {},
   "outputs": [],
   "source": [
    "# Hallamos los precios que maximicen los ingresos en cada segmento\n",
    "max_ing_seg0 = df_elasticidad.loc[(df_elasticidad['ingresos_seg0'] == df_elasticidad['ingresos_seg0'].max())]\n",
    "max_ing_seg1 = df_elasticidad.loc[(df_elasticidad['ingresos_seg1'] == df_elasticidad['ingresos_seg1'].max())]\n",
    "max_ing_seg2 = df_elasticidad.loc[(df_elasticidad['ingresos_seg2'] == df_elasticidad['ingresos_seg2'].max())]\n",
    "# max_ing_seg3 = df_elasticidad.loc[(df_elasticidad['ingresos_seg3'] == df_elasticidad['ingresos_seg3'].max())]\n",
    "# max_ing_seg4 = df_elasticidad.loc[(df_elasticidad['ingresos_seg4'] == df_elasticidad['ingresos_seg4'].max())]"
   ]
  },
  {
   "cell_type": "code",
   "execution_count": 298,
   "metadata": {},
   "outputs": [
    {
     "data": {
      "text/html": [
       "<div>\n",
       "<style scoped>\n",
       "    .dataframe tbody tr th:only-of-type {\n",
       "        vertical-align: middle;\n",
       "    }\n",
       "\n",
       "    .dataframe tbody tr th {\n",
       "        vertical-align: top;\n",
       "    }\n",
       "\n",
       "    .dataframe thead th {\n",
       "        text-align: right;\n",
       "    }\n",
       "</style>\n",
       "<table border=\"1\" class=\"dataframe\">\n",
       "  <thead>\n",
       "    <tr style=\"text-align: right;\">\n",
       "      <th></th>\n",
       "      <th>irr</th>\n",
       "      <th>cantidad_seg0</th>\n",
       "      <th>cantidad_seg1</th>\n",
       "      <th>cantidad_seg2</th>\n",
       "      <th>costo</th>\n",
       "      <th>costo_seg0</th>\n",
       "      <th>costo_seg1</th>\n",
       "      <th>costo_seg2</th>\n",
       "      <th>ingresos_seg0</th>\n",
       "      <th>ingresos_seg1</th>\n",
       "      <th>ingresos_seg2</th>\n",
       "      <th>rentabilidad_seg0</th>\n",
       "      <th>rentabilidad_seg1</th>\n",
       "      <th>rentabilidad_seg2</th>\n",
       "    </tr>\n",
       "  </thead>\n",
       "  <tbody>\n",
       "    <tr>\n",
       "      <th>0</th>\n",
       "      <td>16.0</td>\n",
       "      <td>2.452854</td>\n",
       "      <td>2.287199</td>\n",
       "      <td>2.63006</td>\n",
       "      <td>17</td>\n",
       "      <td>12.706415</td>\n",
       "      <td>10.422813</td>\n",
       "      <td>15.482908</td>\n",
       "      <td>12.033705</td>\n",
       "      <td>9.912935</td>\n",
       "      <td>14.601325</td>\n",
       "      <td>-0.746333</td>\n",
       "      <td>-0.822562</td>\n",
       "      <td>-1.500899</td>\n",
       "    </tr>\n",
       "  </tbody>\n",
       "</table>\n",
       "</div>"
      ],
      "text/plain": [
       "    irr  cantidad_seg0  cantidad_seg1  cantidad_seg2  costo  costo_seg0  \\\n",
       "0  16.0       2.452854       2.287199        2.63006     17   12.706415   \n",
       "\n",
       "   costo_seg1  costo_seg2  ingresos_seg0  ingresos_seg1  ingresos_seg2  \\\n",
       "0   10.422813   15.482908      12.033705       9.912935      14.601325   \n",
       "\n",
       "   rentabilidad_seg0  rentabilidad_seg1  rentabilidad_seg2  \n",
       "0          -0.746333          -0.822562          -1.500899  "
      ]
     },
     "execution_count": 298,
     "metadata": {},
     "output_type": "execute_result"
    }
   ],
   "source": [
    "max_ing_seg0"
   ]
  },
  {
   "cell_type": "code",
   "execution_count": 299,
   "metadata": {},
   "outputs": [
    {
     "data": {
      "text/html": [
       "<div>\n",
       "<style scoped>\n",
       "    .dataframe tbody tr th:only-of-type {\n",
       "        vertical-align: middle;\n",
       "    }\n",
       "\n",
       "    .dataframe tbody tr th {\n",
       "        vertical-align: top;\n",
       "    }\n",
       "\n",
       "    .dataframe thead th {\n",
       "        text-align: right;\n",
       "    }\n",
       "</style>\n",
       "<table border=\"1\" class=\"dataframe\">\n",
       "  <thead>\n",
       "    <tr style=\"text-align: right;\">\n",
       "      <th></th>\n",
       "      <th>irr</th>\n",
       "      <th>cantidad_seg0</th>\n",
       "      <th>cantidad_seg1</th>\n",
       "      <th>cantidad_seg2</th>\n",
       "      <th>costo</th>\n",
       "      <th>costo_seg0</th>\n",
       "      <th>costo_seg1</th>\n",
       "      <th>costo_seg2</th>\n",
       "      <th>ingresos_seg0</th>\n",
       "      <th>ingresos_seg1</th>\n",
       "      <th>ingresos_seg2</th>\n",
       "      <th>rentabilidad_seg0</th>\n",
       "      <th>rentabilidad_seg1</th>\n",
       "      <th>rentabilidad_seg2</th>\n",
       "    </tr>\n",
       "  </thead>\n",
       "  <tbody>\n",
       "    <tr>\n",
       "      <th>0</th>\n",
       "      <td>16.0</td>\n",
       "      <td>2.452854</td>\n",
       "      <td>2.287199</td>\n",
       "      <td>2.63006</td>\n",
       "      <td>17</td>\n",
       "      <td>12.706415</td>\n",
       "      <td>10.422813</td>\n",
       "      <td>15.482908</td>\n",
       "      <td>12.033705</td>\n",
       "      <td>9.912935</td>\n",
       "      <td>14.601325</td>\n",
       "      <td>-0.746333</td>\n",
       "      <td>-0.822562</td>\n",
       "      <td>-1.500899</td>\n",
       "    </tr>\n",
       "  </tbody>\n",
       "</table>\n",
       "</div>"
      ],
      "text/plain": [
       "    irr  cantidad_seg0  cantidad_seg1  cantidad_seg2  costo  costo_seg0  \\\n",
       "0  16.0       2.452854       2.287199        2.63006     17   12.706415   \n",
       "\n",
       "   costo_seg1  costo_seg2  ingresos_seg0  ingresos_seg1  ingresos_seg2  \\\n",
       "0   10.422813   15.482908      12.033705       9.912935      14.601325   \n",
       "\n",
       "   rentabilidad_seg0  rentabilidad_seg1  rentabilidad_seg2  \n",
       "0          -0.746333          -0.822562          -1.500899  "
      ]
     },
     "execution_count": 299,
     "metadata": {},
     "output_type": "execute_result"
    }
   ],
   "source": [
    "max_ing_seg1"
   ]
  },
  {
   "cell_type": "code",
   "execution_count": 300,
   "metadata": {},
   "outputs": [],
   "source": [
    "# Hallamos los precios que maximicen la rentabilidad en cada segmento\n",
    "max_ren_seg0 = df_elasticidad.loc[(df_elasticidad['rentabilidad_seg0'] == df_elasticidad['rentabilidad_seg0'].max())]\n",
    "max_ren_seg1 = df_elasticidad.loc[(df_elasticidad['rentabilidad_seg1'] == df_elasticidad['rentabilidad_seg1'].max())]\n",
    "max_ren_seg2 = df_elasticidad.loc[(df_elasticidad['rentabilidad_seg2'] == df_elasticidad['rentabilidad_seg2'].max())]\n",
    "# max_ren_seg3 = df_elasticidad.loc[(df_elasticidad['rentabilidad_seg3'] == df_elasticidad['rentabilidad_seg3'].max())]\n",
    "# max_ren_seg4 = df_elasticidad.loc[(df_elasticidad['rentabilidad_seg4'] == df_elasticidad['rentabilidad_seg4'].max())]"
   ]
  },
  {
   "cell_type": "code",
   "execution_count": 301,
   "metadata": {},
   "outputs": [
    {
     "data": {
      "text/html": [
       "<div>\n",
       "<style scoped>\n",
       "    .dataframe tbody tr th:only-of-type {\n",
       "        vertical-align: middle;\n",
       "    }\n",
       "\n",
       "    .dataframe tbody tr th {\n",
       "        vertical-align: top;\n",
       "    }\n",
       "\n",
       "    .dataframe thead th {\n",
       "        text-align: right;\n",
       "    }\n",
       "</style>\n",
       "<table border=\"1\" class=\"dataframe\">\n",
       "  <thead>\n",
       "    <tr style=\"text-align: right;\">\n",
       "      <th></th>\n",
       "      <th>irr</th>\n",
       "      <th>cantidad_seg0</th>\n",
       "      <th>cantidad_seg1</th>\n",
       "      <th>cantidad_seg2</th>\n",
       "      <th>costo</th>\n",
       "      <th>costo_seg0</th>\n",
       "      <th>costo_seg1</th>\n",
       "      <th>costo_seg2</th>\n",
       "      <th>ingresos_seg0</th>\n",
       "      <th>ingresos_seg1</th>\n",
       "      <th>ingresos_seg2</th>\n",
       "      <th>rentabilidad_seg0</th>\n",
       "      <th>rentabilidad_seg1</th>\n",
       "      <th>rentabilidad_seg2</th>\n",
       "    </tr>\n",
       "  </thead>\n",
       "  <tbody>\n",
       "    <tr>\n",
       "      <th>5</th>\n",
       "      <td>18.89</td>\n",
       "      <td>1.706554</td>\n",
       "      <td>1.626123</td>\n",
       "      <td>1.774654</td>\n",
       "      <td>17</td>\n",
       "      <td>4.54617</td>\n",
       "      <td>3.964991</td>\n",
       "      <td>5.079162</td>\n",
       "      <td>4.809673</td>\n",
       "      <td>4.173514</td>\n",
       "      <td>5.39577</td>\n",
       "      <td>0.244725</td>\n",
       "      <td>0.089573</td>\n",
       "      <td>0.113442</td>\n",
       "    </tr>\n",
       "  </tbody>\n",
       "</table>\n",
       "</div>"
      ],
      "text/plain": [
       "     irr  cantidad_seg0  cantidad_seg1  cantidad_seg2  costo  costo_seg0  \\\n",
       "5  18.89       1.706554       1.626123       1.774654     17     4.54617   \n",
       "\n",
       "   costo_seg1  costo_seg2  ingresos_seg0  ingresos_seg1  ingresos_seg2  \\\n",
       "5    3.964991    5.079162       4.809673       4.173514        5.39577   \n",
       "\n",
       "   rentabilidad_seg0  rentabilidad_seg1  rentabilidad_seg2  \n",
       "5           0.244725           0.089573           0.113442  "
      ]
     },
     "execution_count": 301,
     "metadata": {},
     "output_type": "execute_result"
    }
   ],
   "source": [
    "max_ren_seg0"
   ]
  },
  {
   "cell_type": "code",
   "execution_count": 302,
   "metadata": {},
   "outputs": [
    {
     "data": {
      "text/html": [
       "<div>\n",
       "<style scoped>\n",
       "    .dataframe tbody tr th:only-of-type {\n",
       "        vertical-align: middle;\n",
       "    }\n",
       "\n",
       "    .dataframe tbody tr th {\n",
       "        vertical-align: top;\n",
       "    }\n",
       "\n",
       "    .dataframe thead th {\n",
       "        text-align: right;\n",
       "    }\n",
       "</style>\n",
       "<table border=\"1\" class=\"dataframe\">\n",
       "  <thead>\n",
       "    <tr style=\"text-align: right;\">\n",
       "      <th></th>\n",
       "      <th>irr</th>\n",
       "      <th>cantidad_seg0</th>\n",
       "      <th>cantidad_seg1</th>\n",
       "      <th>cantidad_seg2</th>\n",
       "      <th>costo</th>\n",
       "      <th>costo_seg0</th>\n",
       "      <th>costo_seg1</th>\n",
       "      <th>costo_seg2</th>\n",
       "      <th>ingresos_seg0</th>\n",
       "      <th>ingresos_seg1</th>\n",
       "      <th>ingresos_seg2</th>\n",
       "      <th>rentabilidad_seg0</th>\n",
       "      <th>rentabilidad_seg1</th>\n",
       "      <th>rentabilidad_seg2</th>\n",
       "    </tr>\n",
       "  </thead>\n",
       "  <tbody>\n",
       "    <tr>\n",
       "      <th>6</th>\n",
       "      <td>19.47</td>\n",
       "      <td>1.59744</td>\n",
       "      <td>1.528164</td>\n",
       "      <td>1.651946</td>\n",
       "      <td>17</td>\n",
       "      <td>3.770035</td>\n",
       "      <td>3.325011</td>\n",
       "      <td>4.145993</td>\n",
       "      <td>4.017374</td>\n",
       "      <td>3.521907</td>\n",
       "      <td>4.438152</td>\n",
       "      <td>0.232199</td>\n",
       "      <td>0.097146</td>\n",
       "      <td>0.126319</td>\n",
       "    </tr>\n",
       "  </tbody>\n",
       "</table>\n",
       "</div>"
      ],
      "text/plain": [
       "     irr  cantidad_seg0  cantidad_seg1  cantidad_seg2  costo  costo_seg0  \\\n",
       "6  19.47        1.59744       1.528164       1.651946     17    3.770035   \n",
       "\n",
       "   costo_seg1  costo_seg2  ingresos_seg0  ingresos_seg1  ingresos_seg2  \\\n",
       "6    3.325011    4.145993       4.017374       3.521907       4.438152   \n",
       "\n",
       "   rentabilidad_seg0  rentabilidad_seg1  rentabilidad_seg2  \n",
       "6           0.232199           0.097146           0.126319  "
      ]
     },
     "execution_count": 302,
     "metadata": {},
     "output_type": "execute_result"
    }
   ],
   "source": [
    "max_ren_seg1"
   ]
  },
  {
   "cell_type": "code",
   "execution_count": 303,
   "metadata": {},
   "outputs": [
    {
     "data": {
      "application/vnd.plotly.v1+json": {
       "config": {
        "plotlyServerURL": "https://plot.ly"
       },
       "data": [
        {
         "name": "Ingresos ($)",
         "type": "scatter",
         "x": [
          16,
          16.58,
          17.16,
          17.74,
          18.32,
          18.89,
          19.47,
          20.05,
          20.63,
          21.21,
          21.79,
          22.37,
          22.95,
          23.53,
          24.11,
          24.68,
          25.26,
          25.84,
          26.42,
          27
         ],
         "y": [
          12.033704536941078,
          9.986049708127887,
          8.296408969649743,
          6.901284101827321,
          5.748381030424332,
          4.809673185342189,
          4.017374431028414,
          3.360500834989735,
          2.8152120064913593,
          2.3619496390366446,
          1.9846629772224456,
          1.670172454851422,
          1.4076481422984843,
          1.1881830242108364,
          1.0044442594332637,
          0.8528222758561739,
          0.7230739104507301,
          0.6139665463369466,
          0.5220811145351432,
          0.4445856231623986
         ]
        },
        {
         "name": "Rentabilidad ($)",
         "type": "scatter",
         "x": [
          16,
          16.58,
          17.16,
          17.74,
          18.32,
          18.89,
          19.47,
          20.05,
          20.63,
          21.21,
          21.79,
          22.37,
          22.95,
          23.53,
          24.11,
          24.68,
          25.26,
          25.84,
          26.42,
          27
         ],
         "y": [
          -0.7463334209869714,
          -0.2608896533264726,
          0.017318156571485943,
          0.16410627595574212,
          0.22911453726523145,
          0.24472537866899025,
          0.23219898137673578,
          0.20440215349002022,
          0.16981242498474458,
          0.13361104827016268,
          0.09882920654532379,
          0.0671110614574193,
          0.03922068189608119,
          0.015377441307543371,
          -0.004523554769590987,
          -0.020516932394721077,
          -0.03353281479995607,
          -0.043665867132450575,
          -0.05131875353822679,
          -0.05687073600964171
         ]
        }
       ],
       "layout": {
        "annotations": [
         {
          "arrowhead": 1,
          "showarrow": true,
          "text": "MaxPrecioIng:16.0",
          "x": 16,
          "y": 12.033704536941078
         },
         {
          "arrowhead": 1,
          "showarrow": true,
          "text": "MaxPrecioRent:18.89",
          "x": 18.89,
          "y": 0.24472537866899025
         }
        ],
        "height": 600,
        "shapes": [
         {
          "line": {
           "color": "blue",
           "dash": "dash",
           "width": 2
          },
          "opacity": 0.25,
          "type": "line",
          "x0": 16,
          "x1": 16,
          "xref": "x",
          "y0": 0,
          "y1": 1,
          "yref": "y domain"
         },
         {
          "line": {
           "color": "green",
           "dash": "dash",
           "width": 2
          },
          "opacity": 0.25,
          "type": "line",
          "x0": 18.89,
          "x1": 18.89,
          "xref": "x",
          "y0": 0,
          "y1": 1,
          "yref": "y domain"
         },
         {
          "line": {
           "color": "orange",
           "dash": "dash",
           "width": 2
          },
          "opacity": 0.5,
          "type": "line",
          "x0": 17,
          "x1": 17,
          "xref": "x",
          "y0": 0,
          "y1": 1,
          "yref": "y domain"
         }
        ],
        "showlegend": true,
        "template": {
         "data": {
          "bar": [
           {
            "error_x": {
             "color": "#2a3f5f"
            },
            "error_y": {
             "color": "#2a3f5f"
            },
            "marker": {
             "line": {
              "color": "#E5ECF6",
              "width": 0.5
             },
             "pattern": {
              "fillmode": "overlay",
              "size": 10,
              "solidity": 0.2
             }
            },
            "type": "bar"
           }
          ],
          "barpolar": [
           {
            "marker": {
             "line": {
              "color": "#E5ECF6",
              "width": 0.5
             },
             "pattern": {
              "fillmode": "overlay",
              "size": 10,
              "solidity": 0.2
             }
            },
            "type": "barpolar"
           }
          ],
          "carpet": [
           {
            "aaxis": {
             "endlinecolor": "#2a3f5f",
             "gridcolor": "white",
             "linecolor": "white",
             "minorgridcolor": "white",
             "startlinecolor": "#2a3f5f"
            },
            "baxis": {
             "endlinecolor": "#2a3f5f",
             "gridcolor": "white",
             "linecolor": "white",
             "minorgridcolor": "white",
             "startlinecolor": "#2a3f5f"
            },
            "type": "carpet"
           }
          ],
          "choropleth": [
           {
            "colorbar": {
             "outlinewidth": 0,
             "ticks": ""
            },
            "type": "choropleth"
           }
          ],
          "contour": [
           {
            "colorbar": {
             "outlinewidth": 0,
             "ticks": ""
            },
            "colorscale": [
             [
              0,
              "#0d0887"
             ],
             [
              0.1111111111111111,
              "#46039f"
             ],
             [
              0.2222222222222222,
              "#7201a8"
             ],
             [
              0.3333333333333333,
              "#9c179e"
             ],
             [
              0.4444444444444444,
              "#bd3786"
             ],
             [
              0.5555555555555556,
              "#d8576b"
             ],
             [
              0.6666666666666666,
              "#ed7953"
             ],
             [
              0.7777777777777778,
              "#fb9f3a"
             ],
             [
              0.8888888888888888,
              "#fdca26"
             ],
             [
              1,
              "#f0f921"
             ]
            ],
            "type": "contour"
           }
          ],
          "contourcarpet": [
           {
            "colorbar": {
             "outlinewidth": 0,
             "ticks": ""
            },
            "type": "contourcarpet"
           }
          ],
          "heatmap": [
           {
            "colorbar": {
             "outlinewidth": 0,
             "ticks": ""
            },
            "colorscale": [
             [
              0,
              "#0d0887"
             ],
             [
              0.1111111111111111,
              "#46039f"
             ],
             [
              0.2222222222222222,
              "#7201a8"
             ],
             [
              0.3333333333333333,
              "#9c179e"
             ],
             [
              0.4444444444444444,
              "#bd3786"
             ],
             [
              0.5555555555555556,
              "#d8576b"
             ],
             [
              0.6666666666666666,
              "#ed7953"
             ],
             [
              0.7777777777777778,
              "#fb9f3a"
             ],
             [
              0.8888888888888888,
              "#fdca26"
             ],
             [
              1,
              "#f0f921"
             ]
            ],
            "type": "heatmap"
           }
          ],
          "heatmapgl": [
           {
            "colorbar": {
             "outlinewidth": 0,
             "ticks": ""
            },
            "colorscale": [
             [
              0,
              "#0d0887"
             ],
             [
              0.1111111111111111,
              "#46039f"
             ],
             [
              0.2222222222222222,
              "#7201a8"
             ],
             [
              0.3333333333333333,
              "#9c179e"
             ],
             [
              0.4444444444444444,
              "#bd3786"
             ],
             [
              0.5555555555555556,
              "#d8576b"
             ],
             [
              0.6666666666666666,
              "#ed7953"
             ],
             [
              0.7777777777777778,
              "#fb9f3a"
             ],
             [
              0.8888888888888888,
              "#fdca26"
             ],
             [
              1,
              "#f0f921"
             ]
            ],
            "type": "heatmapgl"
           }
          ],
          "histogram": [
           {
            "marker": {
             "pattern": {
              "fillmode": "overlay",
              "size": 10,
              "solidity": 0.2
             }
            },
            "type": "histogram"
           }
          ],
          "histogram2d": [
           {
            "colorbar": {
             "outlinewidth": 0,
             "ticks": ""
            },
            "colorscale": [
             [
              0,
              "#0d0887"
             ],
             [
              0.1111111111111111,
              "#46039f"
             ],
             [
              0.2222222222222222,
              "#7201a8"
             ],
             [
              0.3333333333333333,
              "#9c179e"
             ],
             [
              0.4444444444444444,
              "#bd3786"
             ],
             [
              0.5555555555555556,
              "#d8576b"
             ],
             [
              0.6666666666666666,
              "#ed7953"
             ],
             [
              0.7777777777777778,
              "#fb9f3a"
             ],
             [
              0.8888888888888888,
              "#fdca26"
             ],
             [
              1,
              "#f0f921"
             ]
            ],
            "type": "histogram2d"
           }
          ],
          "histogram2dcontour": [
           {
            "colorbar": {
             "outlinewidth": 0,
             "ticks": ""
            },
            "colorscale": [
             [
              0,
              "#0d0887"
             ],
             [
              0.1111111111111111,
              "#46039f"
             ],
             [
              0.2222222222222222,
              "#7201a8"
             ],
             [
              0.3333333333333333,
              "#9c179e"
             ],
             [
              0.4444444444444444,
              "#bd3786"
             ],
             [
              0.5555555555555556,
              "#d8576b"
             ],
             [
              0.6666666666666666,
              "#ed7953"
             ],
             [
              0.7777777777777778,
              "#fb9f3a"
             ],
             [
              0.8888888888888888,
              "#fdca26"
             ],
             [
              1,
              "#f0f921"
             ]
            ],
            "type": "histogram2dcontour"
           }
          ],
          "mesh3d": [
           {
            "colorbar": {
             "outlinewidth": 0,
             "ticks": ""
            },
            "type": "mesh3d"
           }
          ],
          "parcoords": [
           {
            "line": {
             "colorbar": {
              "outlinewidth": 0,
              "ticks": ""
             }
            },
            "type": "parcoords"
           }
          ],
          "pie": [
           {
            "automargin": true,
            "type": "pie"
           }
          ],
          "scatter": [
           {
            "fillpattern": {
             "fillmode": "overlay",
             "size": 10,
             "solidity": 0.2
            },
            "type": "scatter"
           }
          ],
          "scatter3d": [
           {
            "line": {
             "colorbar": {
              "outlinewidth": 0,
              "ticks": ""
             }
            },
            "marker": {
             "colorbar": {
              "outlinewidth": 0,
              "ticks": ""
             }
            },
            "type": "scatter3d"
           }
          ],
          "scattercarpet": [
           {
            "marker": {
             "colorbar": {
              "outlinewidth": 0,
              "ticks": ""
             }
            },
            "type": "scattercarpet"
           }
          ],
          "scattergeo": [
           {
            "marker": {
             "colorbar": {
              "outlinewidth": 0,
              "ticks": ""
             }
            },
            "type": "scattergeo"
           }
          ],
          "scattergl": [
           {
            "marker": {
             "colorbar": {
              "outlinewidth": 0,
              "ticks": ""
             }
            },
            "type": "scattergl"
           }
          ],
          "scattermapbox": [
           {
            "marker": {
             "colorbar": {
              "outlinewidth": 0,
              "ticks": ""
             }
            },
            "type": "scattermapbox"
           }
          ],
          "scatterpolar": [
           {
            "marker": {
             "colorbar": {
              "outlinewidth": 0,
              "ticks": ""
             }
            },
            "type": "scatterpolar"
           }
          ],
          "scatterpolargl": [
           {
            "marker": {
             "colorbar": {
              "outlinewidth": 0,
              "ticks": ""
             }
            },
            "type": "scatterpolargl"
           }
          ],
          "scatterternary": [
           {
            "marker": {
             "colorbar": {
              "outlinewidth": 0,
              "ticks": ""
             }
            },
            "type": "scatterternary"
           }
          ],
          "surface": [
           {
            "colorbar": {
             "outlinewidth": 0,
             "ticks": ""
            },
            "colorscale": [
             [
              0,
              "#0d0887"
             ],
             [
              0.1111111111111111,
              "#46039f"
             ],
             [
              0.2222222222222222,
              "#7201a8"
             ],
             [
              0.3333333333333333,
              "#9c179e"
             ],
             [
              0.4444444444444444,
              "#bd3786"
             ],
             [
              0.5555555555555556,
              "#d8576b"
             ],
             [
              0.6666666666666666,
              "#ed7953"
             ],
             [
              0.7777777777777778,
              "#fb9f3a"
             ],
             [
              0.8888888888888888,
              "#fdca26"
             ],
             [
              1,
              "#f0f921"
             ]
            ],
            "type": "surface"
           }
          ],
          "table": [
           {
            "cells": {
             "fill": {
              "color": "#EBF0F8"
             },
             "line": {
              "color": "white"
             }
            },
            "header": {
             "fill": {
              "color": "#C8D4E3"
             },
             "line": {
              "color": "white"
             }
            },
            "type": "table"
           }
          ]
         },
         "layout": {
          "annotationdefaults": {
           "arrowcolor": "#2a3f5f",
           "arrowhead": 0,
           "arrowwidth": 1
          },
          "autotypenumbers": "strict",
          "coloraxis": {
           "colorbar": {
            "outlinewidth": 0,
            "ticks": ""
           }
          },
          "colorscale": {
           "diverging": [
            [
             0,
             "#8e0152"
            ],
            [
             0.1,
             "#c51b7d"
            ],
            [
             0.2,
             "#de77ae"
            ],
            [
             0.3,
             "#f1b6da"
            ],
            [
             0.4,
             "#fde0ef"
            ],
            [
             0.5,
             "#f7f7f7"
            ],
            [
             0.6,
             "#e6f5d0"
            ],
            [
             0.7,
             "#b8e186"
            ],
            [
             0.8,
             "#7fbc41"
            ],
            [
             0.9,
             "#4d9221"
            ],
            [
             1,
             "#276419"
            ]
           ],
           "sequential": [
            [
             0,
             "#0d0887"
            ],
            [
             0.1111111111111111,
             "#46039f"
            ],
            [
             0.2222222222222222,
             "#7201a8"
            ],
            [
             0.3333333333333333,
             "#9c179e"
            ],
            [
             0.4444444444444444,
             "#bd3786"
            ],
            [
             0.5555555555555556,
             "#d8576b"
            ],
            [
             0.6666666666666666,
             "#ed7953"
            ],
            [
             0.7777777777777778,
             "#fb9f3a"
            ],
            [
             0.8888888888888888,
             "#fdca26"
            ],
            [
             1,
             "#f0f921"
            ]
           ],
           "sequentialminus": [
            [
             0,
             "#0d0887"
            ],
            [
             0.1111111111111111,
             "#46039f"
            ],
            [
             0.2222222222222222,
             "#7201a8"
            ],
            [
             0.3333333333333333,
             "#9c179e"
            ],
            [
             0.4444444444444444,
             "#bd3786"
            ],
            [
             0.5555555555555556,
             "#d8576b"
            ],
            [
             0.6666666666666666,
             "#ed7953"
            ],
            [
             0.7777777777777778,
             "#fb9f3a"
            ],
            [
             0.8888888888888888,
             "#fdca26"
            ],
            [
             1,
             "#f0f921"
            ]
           ]
          },
          "colorway": [
           "#636efa",
           "#EF553B",
           "#00cc96",
           "#ab63fa",
           "#FFA15A",
           "#19d3f3",
           "#FF6692",
           "#B6E880",
           "#FF97FF",
           "#FECB52"
          ],
          "font": {
           "color": "#2a3f5f"
          },
          "geo": {
           "bgcolor": "white",
           "lakecolor": "white",
           "landcolor": "#E5ECF6",
           "showlakes": true,
           "showland": true,
           "subunitcolor": "white"
          },
          "hoverlabel": {
           "align": "left"
          },
          "hovermode": "closest",
          "mapbox": {
           "style": "light"
          },
          "paper_bgcolor": "white",
          "plot_bgcolor": "#E5ECF6",
          "polar": {
           "angularaxis": {
            "gridcolor": "white",
            "linecolor": "white",
            "ticks": ""
           },
           "bgcolor": "#E5ECF6",
           "radialaxis": {
            "gridcolor": "white",
            "linecolor": "white",
            "ticks": ""
           }
          },
          "scene": {
           "xaxis": {
            "backgroundcolor": "#E5ECF6",
            "gridcolor": "white",
            "gridwidth": 2,
            "linecolor": "white",
            "showbackground": true,
            "ticks": "",
            "zerolinecolor": "white"
           },
           "yaxis": {
            "backgroundcolor": "#E5ECF6",
            "gridcolor": "white",
            "gridwidth": 2,
            "linecolor": "white",
            "showbackground": true,
            "ticks": "",
            "zerolinecolor": "white"
           },
           "zaxis": {
            "backgroundcolor": "#E5ECF6",
            "gridcolor": "white",
            "gridwidth": 2,
            "linecolor": "white",
            "showbackground": true,
            "ticks": "",
            "zerolinecolor": "white"
           }
          },
          "shapedefaults": {
           "line": {
            "color": "#2a3f5f"
           }
          },
          "ternary": {
           "aaxis": {
            "gridcolor": "white",
            "linecolor": "white",
            "ticks": ""
           },
           "baxis": {
            "gridcolor": "white",
            "linecolor": "white",
            "ticks": ""
           },
           "bgcolor": "#E5ECF6",
           "caxis": {
            "gridcolor": "white",
            "linecolor": "white",
            "ticks": ""
           }
          },
          "title": {
           "x": 0.05
          },
          "xaxis": {
           "automargin": true,
           "gridcolor": "white",
           "linecolor": "white",
           "ticks": "",
           "title": {
            "standoff": 15
           },
           "zerolinecolor": "white",
           "zerolinewidth": 2
          },
          "yaxis": {
           "automargin": true,
           "gridcolor": "white",
           "linecolor": "white",
           "ticks": "",
           "title": {
            "standoff": 15
           },
           "zerolinecolor": "white",
           "zerolinewidth": 2
          }
         }
        },
        "title": {
         "text": "Precios óptimos en Segmento 0"
        },
        "width": 800,
        "xaxis": {
         "title": {
          "text": "Precio ($)"
         }
        },
        "yaxis": {
         "title": {
          "text": "Importe ($)"
         }
        }
       }
      }
     },
     "metadata": {},
     "output_type": "display_data"
    }
   ],
   "source": [
    "fig = go.Figure()\n",
    "\n",
    "# Se agrega el precio máximo de ingreso\n",
    "fig.add_trace(go.Scatter(x=df_elasticidad['irr'], y=df_elasticidad['ingresos_seg0'], name='Ingresos ($)'))\n",
    "# Se agrega la etiqueta\n",
    "fig.add_annotation(x=float(max_ing_seg0['irr']), y=float(max_ing_seg0['ingresos_seg0']),\n",
    "                                  text=\"MaxPrecioIng:\"+str(float(max_ing_seg0['irr'].round(2))),\n",
    "                                  showarrow=True,\n",
    "                                  arrowhead=1)\n",
    "# Se agrega la recta del precio máximo\n",
    "fig.add_vline(x=float(max_ing_seg0['irr']), line_width=2, line_dash=\"dash\",\n",
    "                             line_color=\"blue\", opacity=0.25)\n",
    "\n",
    "# Se agrega el precio máximo de rentabilidad\n",
    "fig.add_trace(go.Scatter(x=df_elasticidad['irr'], y=df_elasticidad['rentabilidad_seg0'], name='Rentabilidad ($)'))\n",
    "# Se agrega la etiqueta\n",
    "fig.add_annotation(x=float(max_ren_seg0['irr']), y=float(max_ren_seg0['rentabilidad_seg0']),\n",
    "                                  text=\"MaxPrecioRent:\"+str(float(max_ren_seg0['irr'].round(2))),\n",
    "                                  showarrow=True,\n",
    "                                  arrowhead=1)\n",
    "# Se agrega la recta del precio máximo\n",
    "fig.add_vline(x=float(max_ren_seg0['irr']), line_width=2, line_dash=\"dash\",\n",
    "                             line_color=\"green\", opacity=0.25)\n",
    "\n",
    "# Agregamos la línea de restricción: Costo\n",
    "fig.add_vline(x=float(df_elasticidad['costo'].mean()), line_width=2, line_dash=\"dash\",\n",
    "                             line_color=\"orange\", opacity=0.5)\n",
    "\n",
    "# Configuración del gráfico\n",
    "fig.update_layout(\n",
    "    showlegend=True,\n",
    "    width=800,\n",
    "    height=600,\n",
    "    xaxis_title=\"Precio ($)\",\n",
    "    yaxis_title=\"Importe ($)\",\n",
    "    title=\"Precios óptimos en Segmento 0\")\n"
   ]
  },
  {
   "cell_type": "code",
   "execution_count": 304,
   "metadata": {},
   "outputs": [
    {
     "data": {
      "application/vnd.plotly.v1+json": {
       "config": {
        "plotlyServerURL": "https://plot.ly"
       },
       "data": [
        {
         "name": "Ingresos ($)",
         "type": "scatter",
         "x": [
          16,
          16.58,
          17.16,
          17.74,
          18.32,
          18.89,
          19.47,
          20.05,
          20.63,
          21.21,
          21.79,
          22.37,
          22.95,
          23.53,
          24.11,
          24.68,
          25.26,
          25.84,
          26.42,
          27
         ],
         "y": [
          9.912935260660909,
          8.313362816593685,
          6.97962366044792,
          5.866868011736031,
          4.937757597228452,
          4.173514052063279,
          3.5219070928607557,
          2.97616698221323,
          2.518544000721205,
          2.1343268006069223,
          1.8113194269332904,
          1.5394065969721047,
          1.3101933676839852,
          1.1167070682849007,
          0.9531510821407928,
          0.8168995172868229,
          0.6992046130542231,
          0.599298903593202,
          0.5143750095919228,
          0.44208581654167195
         ]
        },
        {
         "name": "Rentabilidad ($)",
         "type": "scatter",
         "x": [
          16,
          16.58,
          17.16,
          17.74,
          18.32,
          18.89,
          19.47,
          20.05,
          20.63,
          21.21,
          21.79,
          22.37,
          22.95,
          23.53,
          24.11,
          24.68,
          25.26,
          25.84,
          26.42,
          27
         ],
         "y": [
          -0.8225619851447536,
          -0.41248398875156056,
          -0.16350340122577744,
          -0.01965319828663059,
          0.05648971448929441,
          0.0895729730160042,
          0.09714556699272281,
          0.08930857373451007,
          0.07321729141753108,
          0.0534460571388915,
          0.03284135249806819,
          0.013100991457226652,
          -0.004832843563160827,
          -0.020507415144134233,
          -0.03377983602894152,
          -0.04452759731753286,
          -0.05328088050393376,
          -0.060043231114505824,
          -0.06505027499117844,
          -0.06853984742116997
         ]
        }
       ],
       "layout": {
        "annotations": [
         {
          "arrowhead": 1,
          "showarrow": true,
          "text": "MaxPrecioIng:16.0",
          "x": 16,
          "y": 9.912935260660909
         },
         {
          "arrowhead": 1,
          "showarrow": true,
          "text": "MaxPrecioRent:19.47",
          "x": 19.47,
          "y": 0.09714556699272281
         }
        ],
        "height": 600,
        "shapes": [
         {
          "line": {
           "color": "blue",
           "dash": "dash",
           "width": 2
          },
          "opacity": 0.25,
          "type": "line",
          "x0": 16,
          "x1": 16,
          "xref": "x",
          "y0": 0,
          "y1": 1,
          "yref": "y domain"
         },
         {
          "line": {
           "color": "green",
           "dash": "dash",
           "width": 2
          },
          "opacity": 0.25,
          "type": "line",
          "x0": 19.47,
          "x1": 19.47,
          "xref": "x",
          "y0": 0,
          "y1": 1,
          "yref": "y domain"
         },
         {
          "line": {
           "color": "orange",
           "dash": "dash",
           "width": 2
          },
          "opacity": 0.5,
          "type": "line",
          "x0": 17,
          "x1": 17,
          "xref": "x",
          "y0": 0,
          "y1": 1,
          "yref": "y domain"
         }
        ],
        "showlegend": true,
        "template": {
         "data": {
          "bar": [
           {
            "error_x": {
             "color": "#2a3f5f"
            },
            "error_y": {
             "color": "#2a3f5f"
            },
            "marker": {
             "line": {
              "color": "#E5ECF6",
              "width": 0.5
             },
             "pattern": {
              "fillmode": "overlay",
              "size": 10,
              "solidity": 0.2
             }
            },
            "type": "bar"
           }
          ],
          "barpolar": [
           {
            "marker": {
             "line": {
              "color": "#E5ECF6",
              "width": 0.5
             },
             "pattern": {
              "fillmode": "overlay",
              "size": 10,
              "solidity": 0.2
             }
            },
            "type": "barpolar"
           }
          ],
          "carpet": [
           {
            "aaxis": {
             "endlinecolor": "#2a3f5f",
             "gridcolor": "white",
             "linecolor": "white",
             "minorgridcolor": "white",
             "startlinecolor": "#2a3f5f"
            },
            "baxis": {
             "endlinecolor": "#2a3f5f",
             "gridcolor": "white",
             "linecolor": "white",
             "minorgridcolor": "white",
             "startlinecolor": "#2a3f5f"
            },
            "type": "carpet"
           }
          ],
          "choropleth": [
           {
            "colorbar": {
             "outlinewidth": 0,
             "ticks": ""
            },
            "type": "choropleth"
           }
          ],
          "contour": [
           {
            "colorbar": {
             "outlinewidth": 0,
             "ticks": ""
            },
            "colorscale": [
             [
              0,
              "#0d0887"
             ],
             [
              0.1111111111111111,
              "#46039f"
             ],
             [
              0.2222222222222222,
              "#7201a8"
             ],
             [
              0.3333333333333333,
              "#9c179e"
             ],
             [
              0.4444444444444444,
              "#bd3786"
             ],
             [
              0.5555555555555556,
              "#d8576b"
             ],
             [
              0.6666666666666666,
              "#ed7953"
             ],
             [
              0.7777777777777778,
              "#fb9f3a"
             ],
             [
              0.8888888888888888,
              "#fdca26"
             ],
             [
              1,
              "#f0f921"
             ]
            ],
            "type": "contour"
           }
          ],
          "contourcarpet": [
           {
            "colorbar": {
             "outlinewidth": 0,
             "ticks": ""
            },
            "type": "contourcarpet"
           }
          ],
          "heatmap": [
           {
            "colorbar": {
             "outlinewidth": 0,
             "ticks": ""
            },
            "colorscale": [
             [
              0,
              "#0d0887"
             ],
             [
              0.1111111111111111,
              "#46039f"
             ],
             [
              0.2222222222222222,
              "#7201a8"
             ],
             [
              0.3333333333333333,
              "#9c179e"
             ],
             [
              0.4444444444444444,
              "#bd3786"
             ],
             [
              0.5555555555555556,
              "#d8576b"
             ],
             [
              0.6666666666666666,
              "#ed7953"
             ],
             [
              0.7777777777777778,
              "#fb9f3a"
             ],
             [
              0.8888888888888888,
              "#fdca26"
             ],
             [
              1,
              "#f0f921"
             ]
            ],
            "type": "heatmap"
           }
          ],
          "heatmapgl": [
           {
            "colorbar": {
             "outlinewidth": 0,
             "ticks": ""
            },
            "colorscale": [
             [
              0,
              "#0d0887"
             ],
             [
              0.1111111111111111,
              "#46039f"
             ],
             [
              0.2222222222222222,
              "#7201a8"
             ],
             [
              0.3333333333333333,
              "#9c179e"
             ],
             [
              0.4444444444444444,
              "#bd3786"
             ],
             [
              0.5555555555555556,
              "#d8576b"
             ],
             [
              0.6666666666666666,
              "#ed7953"
             ],
             [
              0.7777777777777778,
              "#fb9f3a"
             ],
             [
              0.8888888888888888,
              "#fdca26"
             ],
             [
              1,
              "#f0f921"
             ]
            ],
            "type": "heatmapgl"
           }
          ],
          "histogram": [
           {
            "marker": {
             "pattern": {
              "fillmode": "overlay",
              "size": 10,
              "solidity": 0.2
             }
            },
            "type": "histogram"
           }
          ],
          "histogram2d": [
           {
            "colorbar": {
             "outlinewidth": 0,
             "ticks": ""
            },
            "colorscale": [
             [
              0,
              "#0d0887"
             ],
             [
              0.1111111111111111,
              "#46039f"
             ],
             [
              0.2222222222222222,
              "#7201a8"
             ],
             [
              0.3333333333333333,
              "#9c179e"
             ],
             [
              0.4444444444444444,
              "#bd3786"
             ],
             [
              0.5555555555555556,
              "#d8576b"
             ],
             [
              0.6666666666666666,
              "#ed7953"
             ],
             [
              0.7777777777777778,
              "#fb9f3a"
             ],
             [
              0.8888888888888888,
              "#fdca26"
             ],
             [
              1,
              "#f0f921"
             ]
            ],
            "type": "histogram2d"
           }
          ],
          "histogram2dcontour": [
           {
            "colorbar": {
             "outlinewidth": 0,
             "ticks": ""
            },
            "colorscale": [
             [
              0,
              "#0d0887"
             ],
             [
              0.1111111111111111,
              "#46039f"
             ],
             [
              0.2222222222222222,
              "#7201a8"
             ],
             [
              0.3333333333333333,
              "#9c179e"
             ],
             [
              0.4444444444444444,
              "#bd3786"
             ],
             [
              0.5555555555555556,
              "#d8576b"
             ],
             [
              0.6666666666666666,
              "#ed7953"
             ],
             [
              0.7777777777777778,
              "#fb9f3a"
             ],
             [
              0.8888888888888888,
              "#fdca26"
             ],
             [
              1,
              "#f0f921"
             ]
            ],
            "type": "histogram2dcontour"
           }
          ],
          "mesh3d": [
           {
            "colorbar": {
             "outlinewidth": 0,
             "ticks": ""
            },
            "type": "mesh3d"
           }
          ],
          "parcoords": [
           {
            "line": {
             "colorbar": {
              "outlinewidth": 0,
              "ticks": ""
             }
            },
            "type": "parcoords"
           }
          ],
          "pie": [
           {
            "automargin": true,
            "type": "pie"
           }
          ],
          "scatter": [
           {
            "fillpattern": {
             "fillmode": "overlay",
             "size": 10,
             "solidity": 0.2
            },
            "type": "scatter"
           }
          ],
          "scatter3d": [
           {
            "line": {
             "colorbar": {
              "outlinewidth": 0,
              "ticks": ""
             }
            },
            "marker": {
             "colorbar": {
              "outlinewidth": 0,
              "ticks": ""
             }
            },
            "type": "scatter3d"
           }
          ],
          "scattercarpet": [
           {
            "marker": {
             "colorbar": {
              "outlinewidth": 0,
              "ticks": ""
             }
            },
            "type": "scattercarpet"
           }
          ],
          "scattergeo": [
           {
            "marker": {
             "colorbar": {
              "outlinewidth": 0,
              "ticks": ""
             }
            },
            "type": "scattergeo"
           }
          ],
          "scattergl": [
           {
            "marker": {
             "colorbar": {
              "outlinewidth": 0,
              "ticks": ""
             }
            },
            "type": "scattergl"
           }
          ],
          "scattermapbox": [
           {
            "marker": {
             "colorbar": {
              "outlinewidth": 0,
              "ticks": ""
             }
            },
            "type": "scattermapbox"
           }
          ],
          "scatterpolar": [
           {
            "marker": {
             "colorbar": {
              "outlinewidth": 0,
              "ticks": ""
             }
            },
            "type": "scatterpolar"
           }
          ],
          "scatterpolargl": [
           {
            "marker": {
             "colorbar": {
              "outlinewidth": 0,
              "ticks": ""
             }
            },
            "type": "scatterpolargl"
           }
          ],
          "scatterternary": [
           {
            "marker": {
             "colorbar": {
              "outlinewidth": 0,
              "ticks": ""
             }
            },
            "type": "scatterternary"
           }
          ],
          "surface": [
           {
            "colorbar": {
             "outlinewidth": 0,
             "ticks": ""
            },
            "colorscale": [
             [
              0,
              "#0d0887"
             ],
             [
              0.1111111111111111,
              "#46039f"
             ],
             [
              0.2222222222222222,
              "#7201a8"
             ],
             [
              0.3333333333333333,
              "#9c179e"
             ],
             [
              0.4444444444444444,
              "#bd3786"
             ],
             [
              0.5555555555555556,
              "#d8576b"
             ],
             [
              0.6666666666666666,
              "#ed7953"
             ],
             [
              0.7777777777777778,
              "#fb9f3a"
             ],
             [
              0.8888888888888888,
              "#fdca26"
             ],
             [
              1,
              "#f0f921"
             ]
            ],
            "type": "surface"
           }
          ],
          "table": [
           {
            "cells": {
             "fill": {
              "color": "#EBF0F8"
             },
             "line": {
              "color": "white"
             }
            },
            "header": {
             "fill": {
              "color": "#C8D4E3"
             },
             "line": {
              "color": "white"
             }
            },
            "type": "table"
           }
          ]
         },
         "layout": {
          "annotationdefaults": {
           "arrowcolor": "#2a3f5f",
           "arrowhead": 0,
           "arrowwidth": 1
          },
          "autotypenumbers": "strict",
          "coloraxis": {
           "colorbar": {
            "outlinewidth": 0,
            "ticks": ""
           }
          },
          "colorscale": {
           "diverging": [
            [
             0,
             "#8e0152"
            ],
            [
             0.1,
             "#c51b7d"
            ],
            [
             0.2,
             "#de77ae"
            ],
            [
             0.3,
             "#f1b6da"
            ],
            [
             0.4,
             "#fde0ef"
            ],
            [
             0.5,
             "#f7f7f7"
            ],
            [
             0.6,
             "#e6f5d0"
            ],
            [
             0.7,
             "#b8e186"
            ],
            [
             0.8,
             "#7fbc41"
            ],
            [
             0.9,
             "#4d9221"
            ],
            [
             1,
             "#276419"
            ]
           ],
           "sequential": [
            [
             0,
             "#0d0887"
            ],
            [
             0.1111111111111111,
             "#46039f"
            ],
            [
             0.2222222222222222,
             "#7201a8"
            ],
            [
             0.3333333333333333,
             "#9c179e"
            ],
            [
             0.4444444444444444,
             "#bd3786"
            ],
            [
             0.5555555555555556,
             "#d8576b"
            ],
            [
             0.6666666666666666,
             "#ed7953"
            ],
            [
             0.7777777777777778,
             "#fb9f3a"
            ],
            [
             0.8888888888888888,
             "#fdca26"
            ],
            [
             1,
             "#f0f921"
            ]
           ],
           "sequentialminus": [
            [
             0,
             "#0d0887"
            ],
            [
             0.1111111111111111,
             "#46039f"
            ],
            [
             0.2222222222222222,
             "#7201a8"
            ],
            [
             0.3333333333333333,
             "#9c179e"
            ],
            [
             0.4444444444444444,
             "#bd3786"
            ],
            [
             0.5555555555555556,
             "#d8576b"
            ],
            [
             0.6666666666666666,
             "#ed7953"
            ],
            [
             0.7777777777777778,
             "#fb9f3a"
            ],
            [
             0.8888888888888888,
             "#fdca26"
            ],
            [
             1,
             "#f0f921"
            ]
           ]
          },
          "colorway": [
           "#636efa",
           "#EF553B",
           "#00cc96",
           "#ab63fa",
           "#FFA15A",
           "#19d3f3",
           "#FF6692",
           "#B6E880",
           "#FF97FF",
           "#FECB52"
          ],
          "font": {
           "color": "#2a3f5f"
          },
          "geo": {
           "bgcolor": "white",
           "lakecolor": "white",
           "landcolor": "#E5ECF6",
           "showlakes": true,
           "showland": true,
           "subunitcolor": "white"
          },
          "hoverlabel": {
           "align": "left"
          },
          "hovermode": "closest",
          "mapbox": {
           "style": "light"
          },
          "paper_bgcolor": "white",
          "plot_bgcolor": "#E5ECF6",
          "polar": {
           "angularaxis": {
            "gridcolor": "white",
            "linecolor": "white",
            "ticks": ""
           },
           "bgcolor": "#E5ECF6",
           "radialaxis": {
            "gridcolor": "white",
            "linecolor": "white",
            "ticks": ""
           }
          },
          "scene": {
           "xaxis": {
            "backgroundcolor": "#E5ECF6",
            "gridcolor": "white",
            "gridwidth": 2,
            "linecolor": "white",
            "showbackground": true,
            "ticks": "",
            "zerolinecolor": "white"
           },
           "yaxis": {
            "backgroundcolor": "#E5ECF6",
            "gridcolor": "white",
            "gridwidth": 2,
            "linecolor": "white",
            "showbackground": true,
            "ticks": "",
            "zerolinecolor": "white"
           },
           "zaxis": {
            "backgroundcolor": "#E5ECF6",
            "gridcolor": "white",
            "gridwidth": 2,
            "linecolor": "white",
            "showbackground": true,
            "ticks": "",
            "zerolinecolor": "white"
           }
          },
          "shapedefaults": {
           "line": {
            "color": "#2a3f5f"
           }
          },
          "ternary": {
           "aaxis": {
            "gridcolor": "white",
            "linecolor": "white",
            "ticks": ""
           },
           "baxis": {
            "gridcolor": "white",
            "linecolor": "white",
            "ticks": ""
           },
           "bgcolor": "#E5ECF6",
           "caxis": {
            "gridcolor": "white",
            "linecolor": "white",
            "ticks": ""
           }
          },
          "title": {
           "x": 0.05
          },
          "xaxis": {
           "automargin": true,
           "gridcolor": "white",
           "linecolor": "white",
           "ticks": "",
           "title": {
            "standoff": 15
           },
           "zerolinecolor": "white",
           "zerolinewidth": 2
          },
          "yaxis": {
           "automargin": true,
           "gridcolor": "white",
           "linecolor": "white",
           "ticks": "",
           "title": {
            "standoff": 15
           },
           "zerolinecolor": "white",
           "zerolinewidth": 2
          }
         }
        },
        "title": {
         "text": "Precios óptimos en Segmento 1"
        },
        "width": 800,
        "xaxis": {
         "title": {
          "text": "Precio ($)"
         }
        },
        "yaxis": {
         "title": {
          "text": "Importe ($)"
         }
        }
       }
      }
     },
     "metadata": {},
     "output_type": "display_data"
    }
   ],
   "source": [
    "fig = go.Figure()\n",
    "\n",
    "# Se agrega el precio máximo de ingreso\n",
    "fig.add_trace(go.Scatter(x=df_elasticidad['irr'], y=df_elasticidad['ingresos_seg1'], name='Ingresos ($)'))\n",
    "# Se agrega la etiqueta\n",
    "fig.add_annotation(x=float(max_ing_seg1['irr']), y=float(max_ing_seg1['ingresos_seg1']),\n",
    "                                  text=\"MaxPrecioIng:\"+str(float(max_ing_seg1['irr'].round(2))),\n",
    "                                  showarrow=True,\n",
    "                                  arrowhead=1)\n",
    "# Se agrega la recta del precio máximo\n",
    "fig.add_vline(x=float(max_ing_seg1['irr']), line_width=2, line_dash=\"dash\",\n",
    "                             line_color=\"blue\", opacity=0.25)\n",
    "\n",
    "# Se agrega el precio máximo de rentabilidad\n",
    "fig.add_trace(go.Scatter(x=df_elasticidad['irr'], y=df_elasticidad['rentabilidad_seg1'], name='Rentabilidad ($)'))\n",
    "# Se agrega la etiqueta\n",
    "fig.add_annotation(x=float(max_ren_seg1['irr']), y=float(max_ren_seg1['rentabilidad_seg1']),\n",
    "                                  text=\"MaxPrecioRent:\"+str(float(max_ren_seg1['irr'].round(2))),\n",
    "                                  showarrow=True,\n",
    "                                  arrowhead=1)\n",
    "# Se agrega la recta del precio máximo\n",
    "fig.add_vline(x=float(max_ren_seg1['irr']), line_width=2, line_dash=\"dash\",\n",
    "                             line_color=\"green\", opacity=0.25)\n",
    "\n",
    "# Agregamos la línea de restricción: Costo\n",
    "fig.add_vline(x=float(df_elasticidad['costo'].mean()), line_width=2, line_dash=\"dash\",\n",
    "                             line_color=\"orange\", opacity=0.5)\n",
    "\n",
    "# Configuración del gráfico\n",
    "fig.update_layout(\n",
    "    showlegend=True,\n",
    "    width=800,\n",
    "    height=600,\n",
    "    xaxis_title=\"Precio ($)\",\n",
    "    yaxis_title=\"Importe ($)\",\n",
    "    title=\"Precios óptimos en Segmento 1\")"
   ]
  },
  {
   "cell_type": "code",
   "execution_count": 305,
   "metadata": {},
   "outputs": [
    {
     "data": {
      "application/vnd.plotly.v1+json": {
       "config": {
        "plotlyServerURL": "https://plot.ly"
       },
       "data": [
        {
         "name": "Ingresos ($)",
         "type": "scatter",
         "x": [
          16,
          16.58,
          17.16,
          17.74,
          18.32,
          18.89,
          19.47,
          20.05,
          20.63,
          21.21,
          21.79,
          22.37,
          22.95,
          23.53,
          24.11,
          24.68,
          25.26,
          25.84,
          26.42,
          27
         ],
         "y": [
          14.601324810505076,
          11.924921300474326,
          9.751387152408798,
          7.984899299168829,
          6.547865865483778,
          5.395770354157855,
          4.438151789909848,
          3.6562990580235635,
          3.01705574361992,
          2.4936444020474458,
          2.064427781700281,
          1.7119091309106278,
          1.4219269532295835,
          1.183007179576216,
          0.985842348640246,
          0.8254293113978076,
          0.6900693692997897,
          0.5778281482100582,
          0.48460791058356273,
          0.4070618526377326
         ]
        },
        {
         "name": "Rentabilidad ($)",
         "type": "scatter",
         "x": [
          16,
          16.58,
          17.16,
          17.74,
          18.32,
          18.89,
          19.47,
          20.05,
          20.63,
          21.21,
          21.79,
          22.37,
          22.95,
          23.53,
          24.11,
          24.68,
          25.26,
          25.84,
          26.42,
          27
         ],
         "y": [
          -1.5008992410706732,
          -0.753880807760666,
          -0.3142266158815641,
          -0.067672690765896,
          0.05932809984522169,
          0.1134418881594863,
          0.12631947421233303,
          0.11562053520125382,
          0.09322877255216255,
          0.06635240411444521,
          0.039203297743537924,
          0.014093560078433542,
          -0.007849905863085205,
          -0.026221827054280666,
          -0.04103996330782278,
          -0.05238235839398975,
          -0.061005332386823374,
          -0.06708657910642457,
          -0.07102834265428276,
          -0.07320671241535431
         ]
        }
       ],
       "layout": {
        "annotations": [
         {
          "arrowhead": 1,
          "showarrow": true,
          "text": "MaxPrecioIng:16.0",
          "x": 16,
          "y": 14.601324810505076
         },
         {
          "arrowhead": 1,
          "showarrow": true,
          "text": "MaxPrecioRent:19.47",
          "x": 19.47,
          "y": 0.12631947421233303
         }
        ],
        "height": 600,
        "shapes": [
         {
          "line": {
           "color": "blue",
           "dash": "dash",
           "width": 2
          },
          "opacity": 0.25,
          "type": "line",
          "x0": 16,
          "x1": 16,
          "xref": "x",
          "y0": 0,
          "y1": 1,
          "yref": "y domain"
         },
         {
          "line": {
           "color": "green",
           "dash": "dash",
           "width": 2
          },
          "opacity": 0.25,
          "type": "line",
          "x0": 19.47,
          "x1": 19.47,
          "xref": "x",
          "y0": 0,
          "y1": 1,
          "yref": "y domain"
         },
         {
          "line": {
           "color": "orange",
           "dash": "dash",
           "width": 2
          },
          "opacity": 0.5,
          "type": "line",
          "x0": 17,
          "x1": 17,
          "xref": "x",
          "y0": 0,
          "y1": 1,
          "yref": "y domain"
         }
        ],
        "showlegend": true,
        "template": {
         "data": {
          "bar": [
           {
            "error_x": {
             "color": "#2a3f5f"
            },
            "error_y": {
             "color": "#2a3f5f"
            },
            "marker": {
             "line": {
              "color": "#E5ECF6",
              "width": 0.5
             },
             "pattern": {
              "fillmode": "overlay",
              "size": 10,
              "solidity": 0.2
             }
            },
            "type": "bar"
           }
          ],
          "barpolar": [
           {
            "marker": {
             "line": {
              "color": "#E5ECF6",
              "width": 0.5
             },
             "pattern": {
              "fillmode": "overlay",
              "size": 10,
              "solidity": 0.2
             }
            },
            "type": "barpolar"
           }
          ],
          "carpet": [
           {
            "aaxis": {
             "endlinecolor": "#2a3f5f",
             "gridcolor": "white",
             "linecolor": "white",
             "minorgridcolor": "white",
             "startlinecolor": "#2a3f5f"
            },
            "baxis": {
             "endlinecolor": "#2a3f5f",
             "gridcolor": "white",
             "linecolor": "white",
             "minorgridcolor": "white",
             "startlinecolor": "#2a3f5f"
            },
            "type": "carpet"
           }
          ],
          "choropleth": [
           {
            "colorbar": {
             "outlinewidth": 0,
             "ticks": ""
            },
            "type": "choropleth"
           }
          ],
          "contour": [
           {
            "colorbar": {
             "outlinewidth": 0,
             "ticks": ""
            },
            "colorscale": [
             [
              0,
              "#0d0887"
             ],
             [
              0.1111111111111111,
              "#46039f"
             ],
             [
              0.2222222222222222,
              "#7201a8"
             ],
             [
              0.3333333333333333,
              "#9c179e"
             ],
             [
              0.4444444444444444,
              "#bd3786"
             ],
             [
              0.5555555555555556,
              "#d8576b"
             ],
             [
              0.6666666666666666,
              "#ed7953"
             ],
             [
              0.7777777777777778,
              "#fb9f3a"
             ],
             [
              0.8888888888888888,
              "#fdca26"
             ],
             [
              1,
              "#f0f921"
             ]
            ],
            "type": "contour"
           }
          ],
          "contourcarpet": [
           {
            "colorbar": {
             "outlinewidth": 0,
             "ticks": ""
            },
            "type": "contourcarpet"
           }
          ],
          "heatmap": [
           {
            "colorbar": {
             "outlinewidth": 0,
             "ticks": ""
            },
            "colorscale": [
             [
              0,
              "#0d0887"
             ],
             [
              0.1111111111111111,
              "#46039f"
             ],
             [
              0.2222222222222222,
              "#7201a8"
             ],
             [
              0.3333333333333333,
              "#9c179e"
             ],
             [
              0.4444444444444444,
              "#bd3786"
             ],
             [
              0.5555555555555556,
              "#d8576b"
             ],
             [
              0.6666666666666666,
              "#ed7953"
             ],
             [
              0.7777777777777778,
              "#fb9f3a"
             ],
             [
              0.8888888888888888,
              "#fdca26"
             ],
             [
              1,
              "#f0f921"
             ]
            ],
            "type": "heatmap"
           }
          ],
          "heatmapgl": [
           {
            "colorbar": {
             "outlinewidth": 0,
             "ticks": ""
            },
            "colorscale": [
             [
              0,
              "#0d0887"
             ],
             [
              0.1111111111111111,
              "#46039f"
             ],
             [
              0.2222222222222222,
              "#7201a8"
             ],
             [
              0.3333333333333333,
              "#9c179e"
             ],
             [
              0.4444444444444444,
              "#bd3786"
             ],
             [
              0.5555555555555556,
              "#d8576b"
             ],
             [
              0.6666666666666666,
              "#ed7953"
             ],
             [
              0.7777777777777778,
              "#fb9f3a"
             ],
             [
              0.8888888888888888,
              "#fdca26"
             ],
             [
              1,
              "#f0f921"
             ]
            ],
            "type": "heatmapgl"
           }
          ],
          "histogram": [
           {
            "marker": {
             "pattern": {
              "fillmode": "overlay",
              "size": 10,
              "solidity": 0.2
             }
            },
            "type": "histogram"
           }
          ],
          "histogram2d": [
           {
            "colorbar": {
             "outlinewidth": 0,
             "ticks": ""
            },
            "colorscale": [
             [
              0,
              "#0d0887"
             ],
             [
              0.1111111111111111,
              "#46039f"
             ],
             [
              0.2222222222222222,
              "#7201a8"
             ],
             [
              0.3333333333333333,
              "#9c179e"
             ],
             [
              0.4444444444444444,
              "#bd3786"
             ],
             [
              0.5555555555555556,
              "#d8576b"
             ],
             [
              0.6666666666666666,
              "#ed7953"
             ],
             [
              0.7777777777777778,
              "#fb9f3a"
             ],
             [
              0.8888888888888888,
              "#fdca26"
             ],
             [
              1,
              "#f0f921"
             ]
            ],
            "type": "histogram2d"
           }
          ],
          "histogram2dcontour": [
           {
            "colorbar": {
             "outlinewidth": 0,
             "ticks": ""
            },
            "colorscale": [
             [
              0,
              "#0d0887"
             ],
             [
              0.1111111111111111,
              "#46039f"
             ],
             [
              0.2222222222222222,
              "#7201a8"
             ],
             [
              0.3333333333333333,
              "#9c179e"
             ],
             [
              0.4444444444444444,
              "#bd3786"
             ],
             [
              0.5555555555555556,
              "#d8576b"
             ],
             [
              0.6666666666666666,
              "#ed7953"
             ],
             [
              0.7777777777777778,
              "#fb9f3a"
             ],
             [
              0.8888888888888888,
              "#fdca26"
             ],
             [
              1,
              "#f0f921"
             ]
            ],
            "type": "histogram2dcontour"
           }
          ],
          "mesh3d": [
           {
            "colorbar": {
             "outlinewidth": 0,
             "ticks": ""
            },
            "type": "mesh3d"
           }
          ],
          "parcoords": [
           {
            "line": {
             "colorbar": {
              "outlinewidth": 0,
              "ticks": ""
             }
            },
            "type": "parcoords"
           }
          ],
          "pie": [
           {
            "automargin": true,
            "type": "pie"
           }
          ],
          "scatter": [
           {
            "fillpattern": {
             "fillmode": "overlay",
             "size": 10,
             "solidity": 0.2
            },
            "type": "scatter"
           }
          ],
          "scatter3d": [
           {
            "line": {
             "colorbar": {
              "outlinewidth": 0,
              "ticks": ""
             }
            },
            "marker": {
             "colorbar": {
              "outlinewidth": 0,
              "ticks": ""
             }
            },
            "type": "scatter3d"
           }
          ],
          "scattercarpet": [
           {
            "marker": {
             "colorbar": {
              "outlinewidth": 0,
              "ticks": ""
             }
            },
            "type": "scattercarpet"
           }
          ],
          "scattergeo": [
           {
            "marker": {
             "colorbar": {
              "outlinewidth": 0,
              "ticks": ""
             }
            },
            "type": "scattergeo"
           }
          ],
          "scattergl": [
           {
            "marker": {
             "colorbar": {
              "outlinewidth": 0,
              "ticks": ""
             }
            },
            "type": "scattergl"
           }
          ],
          "scattermapbox": [
           {
            "marker": {
             "colorbar": {
              "outlinewidth": 0,
              "ticks": ""
             }
            },
            "type": "scattermapbox"
           }
          ],
          "scatterpolar": [
           {
            "marker": {
             "colorbar": {
              "outlinewidth": 0,
              "ticks": ""
             }
            },
            "type": "scatterpolar"
           }
          ],
          "scatterpolargl": [
           {
            "marker": {
             "colorbar": {
              "outlinewidth": 0,
              "ticks": ""
             }
            },
            "type": "scatterpolargl"
           }
          ],
          "scatterternary": [
           {
            "marker": {
             "colorbar": {
              "outlinewidth": 0,
              "ticks": ""
             }
            },
            "type": "scatterternary"
           }
          ],
          "surface": [
           {
            "colorbar": {
             "outlinewidth": 0,
             "ticks": ""
            },
            "colorscale": [
             [
              0,
              "#0d0887"
             ],
             [
              0.1111111111111111,
              "#46039f"
             ],
             [
              0.2222222222222222,
              "#7201a8"
             ],
             [
              0.3333333333333333,
              "#9c179e"
             ],
             [
              0.4444444444444444,
              "#bd3786"
             ],
             [
              0.5555555555555556,
              "#d8576b"
             ],
             [
              0.6666666666666666,
              "#ed7953"
             ],
             [
              0.7777777777777778,
              "#fb9f3a"
             ],
             [
              0.8888888888888888,
              "#fdca26"
             ],
             [
              1,
              "#f0f921"
             ]
            ],
            "type": "surface"
           }
          ],
          "table": [
           {
            "cells": {
             "fill": {
              "color": "#EBF0F8"
             },
             "line": {
              "color": "white"
             }
            },
            "header": {
             "fill": {
              "color": "#C8D4E3"
             },
             "line": {
              "color": "white"
             }
            },
            "type": "table"
           }
          ]
         },
         "layout": {
          "annotationdefaults": {
           "arrowcolor": "#2a3f5f",
           "arrowhead": 0,
           "arrowwidth": 1
          },
          "autotypenumbers": "strict",
          "coloraxis": {
           "colorbar": {
            "outlinewidth": 0,
            "ticks": ""
           }
          },
          "colorscale": {
           "diverging": [
            [
             0,
             "#8e0152"
            ],
            [
             0.1,
             "#c51b7d"
            ],
            [
             0.2,
             "#de77ae"
            ],
            [
             0.3,
             "#f1b6da"
            ],
            [
             0.4,
             "#fde0ef"
            ],
            [
             0.5,
             "#f7f7f7"
            ],
            [
             0.6,
             "#e6f5d0"
            ],
            [
             0.7,
             "#b8e186"
            ],
            [
             0.8,
             "#7fbc41"
            ],
            [
             0.9,
             "#4d9221"
            ],
            [
             1,
             "#276419"
            ]
           ],
           "sequential": [
            [
             0,
             "#0d0887"
            ],
            [
             0.1111111111111111,
             "#46039f"
            ],
            [
             0.2222222222222222,
             "#7201a8"
            ],
            [
             0.3333333333333333,
             "#9c179e"
            ],
            [
             0.4444444444444444,
             "#bd3786"
            ],
            [
             0.5555555555555556,
             "#d8576b"
            ],
            [
             0.6666666666666666,
             "#ed7953"
            ],
            [
             0.7777777777777778,
             "#fb9f3a"
            ],
            [
             0.8888888888888888,
             "#fdca26"
            ],
            [
             1,
             "#f0f921"
            ]
           ],
           "sequentialminus": [
            [
             0,
             "#0d0887"
            ],
            [
             0.1111111111111111,
             "#46039f"
            ],
            [
             0.2222222222222222,
             "#7201a8"
            ],
            [
             0.3333333333333333,
             "#9c179e"
            ],
            [
             0.4444444444444444,
             "#bd3786"
            ],
            [
             0.5555555555555556,
             "#d8576b"
            ],
            [
             0.6666666666666666,
             "#ed7953"
            ],
            [
             0.7777777777777778,
             "#fb9f3a"
            ],
            [
             0.8888888888888888,
             "#fdca26"
            ],
            [
             1,
             "#f0f921"
            ]
           ]
          },
          "colorway": [
           "#636efa",
           "#EF553B",
           "#00cc96",
           "#ab63fa",
           "#FFA15A",
           "#19d3f3",
           "#FF6692",
           "#B6E880",
           "#FF97FF",
           "#FECB52"
          ],
          "font": {
           "color": "#2a3f5f"
          },
          "geo": {
           "bgcolor": "white",
           "lakecolor": "white",
           "landcolor": "#E5ECF6",
           "showlakes": true,
           "showland": true,
           "subunitcolor": "white"
          },
          "hoverlabel": {
           "align": "left"
          },
          "hovermode": "closest",
          "mapbox": {
           "style": "light"
          },
          "paper_bgcolor": "white",
          "plot_bgcolor": "#E5ECF6",
          "polar": {
           "angularaxis": {
            "gridcolor": "white",
            "linecolor": "white",
            "ticks": ""
           },
           "bgcolor": "#E5ECF6",
           "radialaxis": {
            "gridcolor": "white",
            "linecolor": "white",
            "ticks": ""
           }
          },
          "scene": {
           "xaxis": {
            "backgroundcolor": "#E5ECF6",
            "gridcolor": "white",
            "gridwidth": 2,
            "linecolor": "white",
            "showbackground": true,
            "ticks": "",
            "zerolinecolor": "white"
           },
           "yaxis": {
            "backgroundcolor": "#E5ECF6",
            "gridcolor": "white",
            "gridwidth": 2,
            "linecolor": "white",
            "showbackground": true,
            "ticks": "",
            "zerolinecolor": "white"
           },
           "zaxis": {
            "backgroundcolor": "#E5ECF6",
            "gridcolor": "white",
            "gridwidth": 2,
            "linecolor": "white",
            "showbackground": true,
            "ticks": "",
            "zerolinecolor": "white"
           }
          },
          "shapedefaults": {
           "line": {
            "color": "#2a3f5f"
           }
          },
          "ternary": {
           "aaxis": {
            "gridcolor": "white",
            "linecolor": "white",
            "ticks": ""
           },
           "baxis": {
            "gridcolor": "white",
            "linecolor": "white",
            "ticks": ""
           },
           "bgcolor": "#E5ECF6",
           "caxis": {
            "gridcolor": "white",
            "linecolor": "white",
            "ticks": ""
           }
          },
          "title": {
           "x": 0.05
          },
          "xaxis": {
           "automargin": true,
           "gridcolor": "white",
           "linecolor": "white",
           "ticks": "",
           "title": {
            "standoff": 15
           },
           "zerolinecolor": "white",
           "zerolinewidth": 2
          },
          "yaxis": {
           "automargin": true,
           "gridcolor": "white",
           "linecolor": "white",
           "ticks": "",
           "title": {
            "standoff": 15
           },
           "zerolinecolor": "white",
           "zerolinewidth": 2
          }
         }
        },
        "title": {
         "text": "Precios óptimos en Segmento 2"
        },
        "width": 800,
        "xaxis": {
         "title": {
          "text": "Precio ($)"
         }
        },
        "yaxis": {
         "title": {
          "text": "Importe ($)"
         }
        }
       }
      }
     },
     "metadata": {},
     "output_type": "display_data"
    }
   ],
   "source": [
    "fig = go.Figure()\n",
    "\n",
    "# Se agrega el precio máximo de ingreso\n",
    "fig.add_trace(go.Scatter(x=df_elasticidad['irr'], y=df_elasticidad['ingresos_seg2'], name='Ingresos ($)'))\n",
    "# Se agrega la etiqueta\n",
    "fig.add_annotation(x=float(max_ing_seg2['irr']), y=float(max_ing_seg2['ingresos_seg2']),\n",
    "                                  text=\"MaxPrecioIng:\"+str(float(max_ing_seg2['irr'].round(2))),\n",
    "                                  showarrow=True,\n",
    "                                  arrowhead=1)\n",
    "# Se agrega la recta del precio máximo\n",
    "fig.add_vline(x=float(max_ing_seg2['irr']), line_width=2, line_dash=\"dash\",\n",
    "                             line_color=\"blue\", opacity=0.25)\n",
    "\n",
    "# Se agrega el precio máximo de rentabilidad\n",
    "fig.add_trace(go.Scatter(x=df_elasticidad['irr'], y=df_elasticidad['rentabilidad_seg2'], name='Rentabilidad ($)'))\n",
    "# Se agrega la etiqueta\n",
    "fig.add_annotation(x=float(max_ren_seg2['irr']), y=float(max_ren_seg2['rentabilidad_seg2']),\n",
    "                                  text=\"MaxPrecioRent:\"+str(float(max_ren_seg2['irr'].round(2))),\n",
    "                                  showarrow=True,\n",
    "                                  arrowhead=1)\n",
    "# Se agrega la recta del precio máximo\n",
    "fig.add_vline(x=float(max_ren_seg2['irr']), line_width=2, line_dash=\"dash\",\n",
    "                             line_color=\"green\", opacity=0.25)\n",
    "\n",
    "# Agregamos la línea de restricción: Costo\n",
    "fig.add_vline(x=float(df_elasticidad['costo'].mean()), line_width=2, line_dash=\"dash\",\n",
    "                             line_color=\"orange\", opacity=0.5)\n",
    "\n",
    "# Configuración del gráfico\n",
    "fig.update_layout(\n",
    "    showlegend=True,\n",
    "    width=800,\n",
    "    height=600,\n",
    "    xaxis_title=\"Precio ($)\",\n",
    "    yaxis_title=\"Importe ($)\",\n",
    "    title=\"Precios óptimos en Segmento 2\")"
   ]
  },
  {
   "cell_type": "code",
   "execution_count": 276,
   "metadata": {},
   "outputs": [],
   "source": [
    "# fig = go.Figure()\n",
    "\n",
    "# # Se agrega el precio máximo de ingreso\n",
    "# fig.add_trace(go.Scatter(x=df_elasticidad['irr'], y=df_elasticidad['ingresos_seg3'], name='Ingresos ($)'))\n",
    "# # Se agrega la etiqueta\n",
    "# fig.add_annotation(x=float(max_ing_seg3['irr']), y=float(max_ing_seg3['ingresos_seg3']),\n",
    "#                                   text=\"MaxPrecioIng:\"+str(float(max_ing_seg3['irr'].round(2))),\n",
    "#                                   showarrow=True,\n",
    "#                                   arrowhead=1)\n",
    "# # Se agrega la recta del precio máximo\n",
    "# fig.add_vline(x=float(max_ing_seg3['irr']), line_width=2, line_dash=\"dash\",\n",
    "#                              line_color=\"blue\", opacity=0.25)\n",
    "\n",
    "# # Se agrega el precio máximo de rentabilidad\n",
    "# fig.add_trace(go.Scatter(x=df_elasticidad['irr'], y=df_elasticidad['rentabilidad_seg3'], name='Rentabilidad ($)'))\n",
    "# # Se agrega la etiqueta\n",
    "# fig.add_annotation(x=float(max_ren_seg3['irr']), y=float(max_ren_seg3['rentabilidad_seg3']),\n",
    "#                                   text=\"MaxPrecioRent:\"+str(float(max_ren_seg3['irr'].round(2))),\n",
    "#                                   showarrow=True,\n",
    "#                                   arrowhead=1)\n",
    "# # Se agrega la recta del precio máximo\n",
    "# fig.add_vline(x=float(max_ren_seg3['irr']), line_width=2, line_dash=\"dash\",\n",
    "#                              line_color=\"green\", opacity=0.25)\n",
    "\n",
    "# # Agregamos la línea de restricción: Costo\n",
    "# fig.add_vline(x=float(df_elasticidad['costo'].mean()), line_width=2, line_dash=\"dash\",\n",
    "#                              line_color=\"orange\", opacity=0.5)\n",
    "\n",
    "# # Configuración del gráfico\n",
    "# fig.update_layout(\n",
    "#     showlegend=True,\n",
    "#     width=800,\n",
    "#     height=600,\n",
    "#     xaxis_title=\"Precio ($)\",\n",
    "#     yaxis_title=\"Importe ($)\",\n",
    "#     title=\"Precios óptimos en Segmento 3\")"
   ]
  },
  {
   "cell_type": "code",
   "execution_count": 277,
   "metadata": {},
   "outputs": [],
   "source": [
    "# fig = go.Figure()\n",
    "\n",
    "# # Se agrega el precio máximo de ingreso\n",
    "# fig.add_trace(go.Scatter(x=df_elasticidad['irr'], y=df_elasticidad['ingresos_seg4'], name='Ingresos ($)'))\n",
    "# # Se agrega la etiqueta\n",
    "# fig.add_annotation(x=float(max_ing_seg3['irr']), y=float(max_ing_seg3['ingresos_seg4']),\n",
    "#                                   text=\"MaxPrecioIng:\"+str(float(max_ing_seg3['irr'].round(2))),\n",
    "#                                   showarrow=True,\n",
    "#                                   arrowhead=1)\n",
    "# # Se agrega la recta del precio máximo\n",
    "# fig.add_vline(x=float(max_ing_seg3['irr']), line_width=2, line_dash=\"dash\",\n",
    "#                              line_color=\"blue\", opacity=0.25)\n",
    "\n",
    "# # Se agrega el precio máximo de rentabilidad\n",
    "# fig.add_trace(go.Scatter(x=df_elasticidad['irr'], y=df_elasticidad['rentabilidad_seg4'], name='Rentabilidad ($)'))\n",
    "# # Se agrega la etiqueta\n",
    "# fig.add_annotation(x=float(max_ren_seg3['irr']), y=float(max_ren_seg3['rentabilidad_seg4']),\n",
    "#                                   text=\"MaxPrecioRent:\"+str(float(max_ren_seg3['irr'].round(2))),\n",
    "#                                   showarrow=True,\n",
    "#                                   arrowhead=1)\n",
    "# # Se agrega la recta del precio máximo\n",
    "# fig.add_vline(x=float(max_ren_seg3['irr']), line_width=2, line_dash=\"dash\",\n",
    "#                              line_color=\"green\", opacity=0.25)\n",
    "\n",
    "# # Agregamos la línea de restricción: Costo\n",
    "# fig.add_vline(x=float(df_elasticidad['costo'].mean()), line_width=2, line_dash=\"dash\",\n",
    "#                              line_color=\"orange\", opacity=0.5)\n",
    "\n",
    "# # Configuración del gráfico\n",
    "# fig.update_layout(\n",
    "#     showlegend=True,\n",
    "#     width=800,\n",
    "#     height=600,\n",
    "#     xaxis_title=\"Precio ($)\",\n",
    "#     yaxis_title=\"Importe ($)\",\n",
    "#     title=\"Precios óptimos en Segmento 4\")"
   ]
  },
  {
   "cell_type": "code",
   "execution_count": 278,
   "metadata": {},
   "outputs": [
    {
     "data": {
      "application/vnd.plotly.v1+json": {
       "config": {
        "plotlyServerURL": "https://plot.ly"
       },
       "data": [
        {
         "name": "Frontera Eficiente",
         "type": "scatter",
         "x": [
          12.033704536941078,
          9.986049708127887,
          8.296408969649743,
          6.901284101827321,
          5.748381030424332,
          4.809673185342189,
          4.017374431028414,
          3.360500834989735,
          2.8152120064913593,
          2.3619496390366446,
          1.9846629772224456,
          1.670172454851422,
          1.4076481422984843,
          1.1881830242108364,
          1.0044442594332637,
          0.8528222758561739,
          0.7230739104507301,
          0.6139665463369466,
          0.5220811145351432,
          0.4445856231623986
         ],
         "y": [
          -0.672710684610065,
          -0.2068229458684634,
          0.05764725629385836,
          0.1947183298675288,
          0.2528004337425038,
          0.2635036711722565,
          0.24733907209007677,
          0.2168673114362445,
          0.18028282844823718,
          0.14256940829935916,
          0.10662011905042768,
          0.07398227816831038,
          0.04535188490938591,
          0.020900349439801458,
          0.0004888887525249519,
          -0.01593413825043144,
          -0.02933082867421788,
          -0.03980003372624097,
          -0.047753282319167645,
          -0.05357628224885258
         ]
        }
       ],
       "layout": {
        "annotations": [
         {
          "arrowhead": 1,
          "showarrow": true,
          "text": "MaxPrecioIng:16.0",
          "x": 12.033704536941078,
          "y": -0.672710684610065
         },
         {
          "arrowhead": 1,
          "showarrow": true,
          "text": "MaxPrecioRent:18.89",
          "x": 4.809673185342189,
          "y": 0.2635036711722565
         }
        ],
        "height": 600,
        "shapes": [
         {
          "line": {
           "color": "blue",
           "dash": "dash",
           "width": 2
          },
          "opacity": 0.25,
          "type": "line",
          "x0": 12.033704536941078,
          "x1": 12.033704536941078,
          "xref": "x",
          "y0": 0,
          "y1": 1,
          "yref": "y domain"
         },
         {
          "line": {
           "color": "green",
           "dash": "dash",
           "width": 2
          },
          "opacity": 0.25,
          "type": "line",
          "x0": 4.809673185342189,
          "x1": 4.809673185342189,
          "xref": "x",
          "y0": 0,
          "y1": 1,
          "yref": "y domain"
         }
        ],
        "showlegend": false,
        "template": {
         "data": {
          "bar": [
           {
            "error_x": {
             "color": "#2a3f5f"
            },
            "error_y": {
             "color": "#2a3f5f"
            },
            "marker": {
             "line": {
              "color": "#E5ECF6",
              "width": 0.5
             },
             "pattern": {
              "fillmode": "overlay",
              "size": 10,
              "solidity": 0.2
             }
            },
            "type": "bar"
           }
          ],
          "barpolar": [
           {
            "marker": {
             "line": {
              "color": "#E5ECF6",
              "width": 0.5
             },
             "pattern": {
              "fillmode": "overlay",
              "size": 10,
              "solidity": 0.2
             }
            },
            "type": "barpolar"
           }
          ],
          "carpet": [
           {
            "aaxis": {
             "endlinecolor": "#2a3f5f",
             "gridcolor": "white",
             "linecolor": "white",
             "minorgridcolor": "white",
             "startlinecolor": "#2a3f5f"
            },
            "baxis": {
             "endlinecolor": "#2a3f5f",
             "gridcolor": "white",
             "linecolor": "white",
             "minorgridcolor": "white",
             "startlinecolor": "#2a3f5f"
            },
            "type": "carpet"
           }
          ],
          "choropleth": [
           {
            "colorbar": {
             "outlinewidth": 0,
             "ticks": ""
            },
            "type": "choropleth"
           }
          ],
          "contour": [
           {
            "colorbar": {
             "outlinewidth": 0,
             "ticks": ""
            },
            "colorscale": [
             [
              0,
              "#0d0887"
             ],
             [
              0.1111111111111111,
              "#46039f"
             ],
             [
              0.2222222222222222,
              "#7201a8"
             ],
             [
              0.3333333333333333,
              "#9c179e"
             ],
             [
              0.4444444444444444,
              "#bd3786"
             ],
             [
              0.5555555555555556,
              "#d8576b"
             ],
             [
              0.6666666666666666,
              "#ed7953"
             ],
             [
              0.7777777777777778,
              "#fb9f3a"
             ],
             [
              0.8888888888888888,
              "#fdca26"
             ],
             [
              1,
              "#f0f921"
             ]
            ],
            "type": "contour"
           }
          ],
          "contourcarpet": [
           {
            "colorbar": {
             "outlinewidth": 0,
             "ticks": ""
            },
            "type": "contourcarpet"
           }
          ],
          "heatmap": [
           {
            "colorbar": {
             "outlinewidth": 0,
             "ticks": ""
            },
            "colorscale": [
             [
              0,
              "#0d0887"
             ],
             [
              0.1111111111111111,
              "#46039f"
             ],
             [
              0.2222222222222222,
              "#7201a8"
             ],
             [
              0.3333333333333333,
              "#9c179e"
             ],
             [
              0.4444444444444444,
              "#bd3786"
             ],
             [
              0.5555555555555556,
              "#d8576b"
             ],
             [
              0.6666666666666666,
              "#ed7953"
             ],
             [
              0.7777777777777778,
              "#fb9f3a"
             ],
             [
              0.8888888888888888,
              "#fdca26"
             ],
             [
              1,
              "#f0f921"
             ]
            ],
            "type": "heatmap"
           }
          ],
          "heatmapgl": [
           {
            "colorbar": {
             "outlinewidth": 0,
             "ticks": ""
            },
            "colorscale": [
             [
              0,
              "#0d0887"
             ],
             [
              0.1111111111111111,
              "#46039f"
             ],
             [
              0.2222222222222222,
              "#7201a8"
             ],
             [
              0.3333333333333333,
              "#9c179e"
             ],
             [
              0.4444444444444444,
              "#bd3786"
             ],
             [
              0.5555555555555556,
              "#d8576b"
             ],
             [
              0.6666666666666666,
              "#ed7953"
             ],
             [
              0.7777777777777778,
              "#fb9f3a"
             ],
             [
              0.8888888888888888,
              "#fdca26"
             ],
             [
              1,
              "#f0f921"
             ]
            ],
            "type": "heatmapgl"
           }
          ],
          "histogram": [
           {
            "marker": {
             "pattern": {
              "fillmode": "overlay",
              "size": 10,
              "solidity": 0.2
             }
            },
            "type": "histogram"
           }
          ],
          "histogram2d": [
           {
            "colorbar": {
             "outlinewidth": 0,
             "ticks": ""
            },
            "colorscale": [
             [
              0,
              "#0d0887"
             ],
             [
              0.1111111111111111,
              "#46039f"
             ],
             [
              0.2222222222222222,
              "#7201a8"
             ],
             [
              0.3333333333333333,
              "#9c179e"
             ],
             [
              0.4444444444444444,
              "#bd3786"
             ],
             [
              0.5555555555555556,
              "#d8576b"
             ],
             [
              0.6666666666666666,
              "#ed7953"
             ],
             [
              0.7777777777777778,
              "#fb9f3a"
             ],
             [
              0.8888888888888888,
              "#fdca26"
             ],
             [
              1,
              "#f0f921"
             ]
            ],
            "type": "histogram2d"
           }
          ],
          "histogram2dcontour": [
           {
            "colorbar": {
             "outlinewidth": 0,
             "ticks": ""
            },
            "colorscale": [
             [
              0,
              "#0d0887"
             ],
             [
              0.1111111111111111,
              "#46039f"
             ],
             [
              0.2222222222222222,
              "#7201a8"
             ],
             [
              0.3333333333333333,
              "#9c179e"
             ],
             [
              0.4444444444444444,
              "#bd3786"
             ],
             [
              0.5555555555555556,
              "#d8576b"
             ],
             [
              0.6666666666666666,
              "#ed7953"
             ],
             [
              0.7777777777777778,
              "#fb9f3a"
             ],
             [
              0.8888888888888888,
              "#fdca26"
             ],
             [
              1,
              "#f0f921"
             ]
            ],
            "type": "histogram2dcontour"
           }
          ],
          "mesh3d": [
           {
            "colorbar": {
             "outlinewidth": 0,
             "ticks": ""
            },
            "type": "mesh3d"
           }
          ],
          "parcoords": [
           {
            "line": {
             "colorbar": {
              "outlinewidth": 0,
              "ticks": ""
             }
            },
            "type": "parcoords"
           }
          ],
          "pie": [
           {
            "automargin": true,
            "type": "pie"
           }
          ],
          "scatter": [
           {
            "fillpattern": {
             "fillmode": "overlay",
             "size": 10,
             "solidity": 0.2
            },
            "type": "scatter"
           }
          ],
          "scatter3d": [
           {
            "line": {
             "colorbar": {
              "outlinewidth": 0,
              "ticks": ""
             }
            },
            "marker": {
             "colorbar": {
              "outlinewidth": 0,
              "ticks": ""
             }
            },
            "type": "scatter3d"
           }
          ],
          "scattercarpet": [
           {
            "marker": {
             "colorbar": {
              "outlinewidth": 0,
              "ticks": ""
             }
            },
            "type": "scattercarpet"
           }
          ],
          "scattergeo": [
           {
            "marker": {
             "colorbar": {
              "outlinewidth": 0,
              "ticks": ""
             }
            },
            "type": "scattergeo"
           }
          ],
          "scattergl": [
           {
            "marker": {
             "colorbar": {
              "outlinewidth": 0,
              "ticks": ""
             }
            },
            "type": "scattergl"
           }
          ],
          "scattermapbox": [
           {
            "marker": {
             "colorbar": {
              "outlinewidth": 0,
              "ticks": ""
             }
            },
            "type": "scattermapbox"
           }
          ],
          "scatterpolar": [
           {
            "marker": {
             "colorbar": {
              "outlinewidth": 0,
              "ticks": ""
             }
            },
            "type": "scatterpolar"
           }
          ],
          "scatterpolargl": [
           {
            "marker": {
             "colorbar": {
              "outlinewidth": 0,
              "ticks": ""
             }
            },
            "type": "scatterpolargl"
           }
          ],
          "scatterternary": [
           {
            "marker": {
             "colorbar": {
              "outlinewidth": 0,
              "ticks": ""
             }
            },
            "type": "scatterternary"
           }
          ],
          "surface": [
           {
            "colorbar": {
             "outlinewidth": 0,
             "ticks": ""
            },
            "colorscale": [
             [
              0,
              "#0d0887"
             ],
             [
              0.1111111111111111,
              "#46039f"
             ],
             [
              0.2222222222222222,
              "#7201a8"
             ],
             [
              0.3333333333333333,
              "#9c179e"
             ],
             [
              0.4444444444444444,
              "#bd3786"
             ],
             [
              0.5555555555555556,
              "#d8576b"
             ],
             [
              0.6666666666666666,
              "#ed7953"
             ],
             [
              0.7777777777777778,
              "#fb9f3a"
             ],
             [
              0.8888888888888888,
              "#fdca26"
             ],
             [
              1,
              "#f0f921"
             ]
            ],
            "type": "surface"
           }
          ],
          "table": [
           {
            "cells": {
             "fill": {
              "color": "#EBF0F8"
             },
             "line": {
              "color": "white"
             }
            },
            "header": {
             "fill": {
              "color": "#C8D4E3"
             },
             "line": {
              "color": "white"
             }
            },
            "type": "table"
           }
          ]
         },
         "layout": {
          "annotationdefaults": {
           "arrowcolor": "#2a3f5f",
           "arrowhead": 0,
           "arrowwidth": 1
          },
          "autotypenumbers": "strict",
          "coloraxis": {
           "colorbar": {
            "outlinewidth": 0,
            "ticks": ""
           }
          },
          "colorscale": {
           "diverging": [
            [
             0,
             "#8e0152"
            ],
            [
             0.1,
             "#c51b7d"
            ],
            [
             0.2,
             "#de77ae"
            ],
            [
             0.3,
             "#f1b6da"
            ],
            [
             0.4,
             "#fde0ef"
            ],
            [
             0.5,
             "#f7f7f7"
            ],
            [
             0.6,
             "#e6f5d0"
            ],
            [
             0.7,
             "#b8e186"
            ],
            [
             0.8,
             "#7fbc41"
            ],
            [
             0.9,
             "#4d9221"
            ],
            [
             1,
             "#276419"
            ]
           ],
           "sequential": [
            [
             0,
             "#0d0887"
            ],
            [
             0.1111111111111111,
             "#46039f"
            ],
            [
             0.2222222222222222,
             "#7201a8"
            ],
            [
             0.3333333333333333,
             "#9c179e"
            ],
            [
             0.4444444444444444,
             "#bd3786"
            ],
            [
             0.5555555555555556,
             "#d8576b"
            ],
            [
             0.6666666666666666,
             "#ed7953"
            ],
            [
             0.7777777777777778,
             "#fb9f3a"
            ],
            [
             0.8888888888888888,
             "#fdca26"
            ],
            [
             1,
             "#f0f921"
            ]
           ],
           "sequentialminus": [
            [
             0,
             "#0d0887"
            ],
            [
             0.1111111111111111,
             "#46039f"
            ],
            [
             0.2222222222222222,
             "#7201a8"
            ],
            [
             0.3333333333333333,
             "#9c179e"
            ],
            [
             0.4444444444444444,
             "#bd3786"
            ],
            [
             0.5555555555555556,
             "#d8576b"
            ],
            [
             0.6666666666666666,
             "#ed7953"
            ],
            [
             0.7777777777777778,
             "#fb9f3a"
            ],
            [
             0.8888888888888888,
             "#fdca26"
            ],
            [
             1,
             "#f0f921"
            ]
           ]
          },
          "colorway": [
           "#636efa",
           "#EF553B",
           "#00cc96",
           "#ab63fa",
           "#FFA15A",
           "#19d3f3",
           "#FF6692",
           "#B6E880",
           "#FF97FF",
           "#FECB52"
          ],
          "font": {
           "color": "#2a3f5f"
          },
          "geo": {
           "bgcolor": "white",
           "lakecolor": "white",
           "landcolor": "#E5ECF6",
           "showlakes": true,
           "showland": true,
           "subunitcolor": "white"
          },
          "hoverlabel": {
           "align": "left"
          },
          "hovermode": "closest",
          "mapbox": {
           "style": "light"
          },
          "paper_bgcolor": "white",
          "plot_bgcolor": "#E5ECF6",
          "polar": {
           "angularaxis": {
            "gridcolor": "white",
            "linecolor": "white",
            "ticks": ""
           },
           "bgcolor": "#E5ECF6",
           "radialaxis": {
            "gridcolor": "white",
            "linecolor": "white",
            "ticks": ""
           }
          },
          "scene": {
           "xaxis": {
            "backgroundcolor": "#E5ECF6",
            "gridcolor": "white",
            "gridwidth": 2,
            "linecolor": "white",
            "showbackground": true,
            "ticks": "",
            "zerolinecolor": "white"
           },
           "yaxis": {
            "backgroundcolor": "#E5ECF6",
            "gridcolor": "white",
            "gridwidth": 2,
            "linecolor": "white",
            "showbackground": true,
            "ticks": "",
            "zerolinecolor": "white"
           },
           "zaxis": {
            "backgroundcolor": "#E5ECF6",
            "gridcolor": "white",
            "gridwidth": 2,
            "linecolor": "white",
            "showbackground": true,
            "ticks": "",
            "zerolinecolor": "white"
           }
          },
          "shapedefaults": {
           "line": {
            "color": "#2a3f5f"
           }
          },
          "ternary": {
           "aaxis": {
            "gridcolor": "white",
            "linecolor": "white",
            "ticks": ""
           },
           "baxis": {
            "gridcolor": "white",
            "linecolor": "white",
            "ticks": ""
           },
           "bgcolor": "#E5ECF6",
           "caxis": {
            "gridcolor": "white",
            "linecolor": "white",
            "ticks": ""
           }
          },
          "title": {
           "x": 0.05
          },
          "xaxis": {
           "automargin": true,
           "gridcolor": "white",
           "linecolor": "white",
           "ticks": "",
           "title": {
            "standoff": 15
           },
           "zerolinecolor": "white",
           "zerolinewidth": 2
          },
          "yaxis": {
           "automargin": true,
           "gridcolor": "white",
           "linecolor": "white",
           "ticks": "",
           "title": {
            "standoff": 15
           },
           "zerolinecolor": "white",
           "zerolinewidth": 2
          }
         }
        },
        "title": {
         "text": "Frontera Eficiente Segmento 0"
        },
        "width": 800,
        "xaxis": {
         "title": {
          "text": "Ingreso ($)"
         }
        },
        "yaxis": {
         "title": {
          "text": "Rentabilidad ($)"
         }
        }
       }
      }
     },
     "metadata": {},
     "output_type": "display_data"
    }
   ],
   "source": [
    "fig = go.Figure()\n",
    "\n",
    "# Se agrega el precio máximo de ingreso\n",
    "fig.add_trace(go.Scatter(x=df_elasticidad['ingresos_seg0'], y=df_elasticidad['rentabilidad_seg0'], name='Frontera Eficiente'))\n",
    "\n",
    "# Se agrega la etiqueta de ingreso\n",
    "fig.add_annotation(x=float(max_ing_seg0['ingresos_seg0']), y=float(max_ing_seg0['rentabilidad_seg0']),\n",
    "                                  text=\"MaxPrecioIng:\"+str(float(max_ing_seg0['irr'].round(2))),\n",
    "                                  showarrow=True,\n",
    "                                  arrowhead=1)\n",
    "# Se agrega la recta del precio máximo\n",
    "fig.add_vline(x=float(max_ing_seg0['ingresos_seg0']), line_width=2, line_dash=\"dash\",\n",
    "                             line_color=\"blue\", opacity=0.25)\n",
    "\n",
    "# Se agrega la etiqueta de rentabilidad\n",
    "fig.add_annotation(x=float(max_ren_seg0['ingresos_seg0']), y=float(max_ren_seg0['rentabilidad_seg0']),\n",
    "                                  text=\"MaxPrecioRent:\"+str(float(max_ren_seg0['irr'].round(2))),\n",
    "                                  showarrow=True,\n",
    "                                  arrowhead=1)\n",
    "# Se agrega la recta del precio máximo\n",
    "fig.add_vline(x=float(max_ren_seg0['ingresos_seg0']), line_width=2, line_dash=\"dash\",\n",
    "                             line_color=\"green\", opacity=0.25)\n",
    "\n",
    "# Configuración del gráfico\n",
    "fig.update_layout(\n",
    "    showlegend=False,\n",
    "    width=800,\n",
    "    height=600,\n",
    "    xaxis=dict(\n",
    "        title=\"Ingreso ($)\"\n",
    "       ## ,range=[1, 2]\n",
    "        ),\n",
    "   yaxis=dict(\n",
    "        title=\"Rentabilidad ($)\"\n",
    "       ##,range=[-0.5, 1]\n",
    "    ),\n",
    "    title=\"Frontera Eficiente Segmento 0\")"
   ]
  },
  {
   "cell_type": "code",
   "execution_count": 279,
   "metadata": {},
   "outputs": [
    {
     "data": {
      "application/vnd.plotly.v1+json": {
       "config": {
        "plotlyServerURL": "https://plot.ly"
       },
       "data": [
        {
         "name": "Frontera Eficiente",
         "type": "scatter",
         "x": [
          9.912935260660909,
          8.313362816593685,
          6.97962366044792,
          5.866868011736031,
          4.937757597228452,
          4.173514052063279,
          3.5219070928607557,
          2.97616698221323,
          2.518544000721205,
          2.1343268006069223,
          1.8113194269332904,
          1.5394065969721047,
          1.3101933676839852,
          1.1167070682849007,
          0.9531510821407928,
          0.8168995172868229,
          0.6992046130542231,
          0.599298903593202,
          0.5143750095919228,
          0.44208581654167195
         ],
         "y": [
          -0.5098775993445877,
          -0.15833311092597135,
          0.04454884328899045,
          0.15179887579169993,
          0.19866256544286198,
          0.20852271318242943,
          0.19689590269761714,
          0.17339182835039502,
          0.14444039945550236,
          0.11405423413310611,
          0.08464168476317169,
          0.05755649453047562,
          0.03346889074500847,
          0.012615336800400723,
          -0.005034275305551228,
          -0.019437487183425417,
          -0.031363827293501956,
          -0.04083909126865026,
          -0.04817381039167057,
          -0.05366725526691246
         ]
        }
       ],
       "layout": {
        "annotations": [
         {
          "arrowhead": 1,
          "showarrow": true,
          "text": "MaxPrecioIng:16.0",
          "x": 9.912935260660909,
          "y": -0.5098775993445877
         },
         {
          "arrowhead": 1,
          "showarrow": true,
          "text": "MaxPrecioRent:18.89",
          "x": 4.173514052063279,
          "y": 0.20852271318242943
         }
        ],
        "height": 600,
        "shapes": [
         {
          "line": {
           "color": "blue",
           "dash": "dash",
           "width": 2
          },
          "opacity": 0.25,
          "type": "line",
          "x0": 9.912935260660909,
          "x1": 9.912935260660909,
          "xref": "x",
          "y0": 0,
          "y1": 1,
          "yref": "y domain"
         },
         {
          "line": {
           "color": "green",
           "dash": "dash",
           "width": 2
          },
          "opacity": 0.25,
          "type": "line",
          "x0": 4.173514052063279,
          "x1": 4.173514052063279,
          "xref": "x",
          "y0": 0,
          "y1": 1,
          "yref": "y domain"
         }
        ],
        "showlegend": false,
        "template": {
         "data": {
          "bar": [
           {
            "error_x": {
             "color": "#2a3f5f"
            },
            "error_y": {
             "color": "#2a3f5f"
            },
            "marker": {
             "line": {
              "color": "#E5ECF6",
              "width": 0.5
             },
             "pattern": {
              "fillmode": "overlay",
              "size": 10,
              "solidity": 0.2
             }
            },
            "type": "bar"
           }
          ],
          "barpolar": [
           {
            "marker": {
             "line": {
              "color": "#E5ECF6",
              "width": 0.5
             },
             "pattern": {
              "fillmode": "overlay",
              "size": 10,
              "solidity": 0.2
             }
            },
            "type": "barpolar"
           }
          ],
          "carpet": [
           {
            "aaxis": {
             "endlinecolor": "#2a3f5f",
             "gridcolor": "white",
             "linecolor": "white",
             "minorgridcolor": "white",
             "startlinecolor": "#2a3f5f"
            },
            "baxis": {
             "endlinecolor": "#2a3f5f",
             "gridcolor": "white",
             "linecolor": "white",
             "minorgridcolor": "white",
             "startlinecolor": "#2a3f5f"
            },
            "type": "carpet"
           }
          ],
          "choropleth": [
           {
            "colorbar": {
             "outlinewidth": 0,
             "ticks": ""
            },
            "type": "choropleth"
           }
          ],
          "contour": [
           {
            "colorbar": {
             "outlinewidth": 0,
             "ticks": ""
            },
            "colorscale": [
             [
              0,
              "#0d0887"
             ],
             [
              0.1111111111111111,
              "#46039f"
             ],
             [
              0.2222222222222222,
              "#7201a8"
             ],
             [
              0.3333333333333333,
              "#9c179e"
             ],
             [
              0.4444444444444444,
              "#bd3786"
             ],
             [
              0.5555555555555556,
              "#d8576b"
             ],
             [
              0.6666666666666666,
              "#ed7953"
             ],
             [
              0.7777777777777778,
              "#fb9f3a"
             ],
             [
              0.8888888888888888,
              "#fdca26"
             ],
             [
              1,
              "#f0f921"
             ]
            ],
            "type": "contour"
           }
          ],
          "contourcarpet": [
           {
            "colorbar": {
             "outlinewidth": 0,
             "ticks": ""
            },
            "type": "contourcarpet"
           }
          ],
          "heatmap": [
           {
            "colorbar": {
             "outlinewidth": 0,
             "ticks": ""
            },
            "colorscale": [
             [
              0,
              "#0d0887"
             ],
             [
              0.1111111111111111,
              "#46039f"
             ],
             [
              0.2222222222222222,
              "#7201a8"
             ],
             [
              0.3333333333333333,
              "#9c179e"
             ],
             [
              0.4444444444444444,
              "#bd3786"
             ],
             [
              0.5555555555555556,
              "#d8576b"
             ],
             [
              0.6666666666666666,
              "#ed7953"
             ],
             [
              0.7777777777777778,
              "#fb9f3a"
             ],
             [
              0.8888888888888888,
              "#fdca26"
             ],
             [
              1,
              "#f0f921"
             ]
            ],
            "type": "heatmap"
           }
          ],
          "heatmapgl": [
           {
            "colorbar": {
             "outlinewidth": 0,
             "ticks": ""
            },
            "colorscale": [
             [
              0,
              "#0d0887"
             ],
             [
              0.1111111111111111,
              "#46039f"
             ],
             [
              0.2222222222222222,
              "#7201a8"
             ],
             [
              0.3333333333333333,
              "#9c179e"
             ],
             [
              0.4444444444444444,
              "#bd3786"
             ],
             [
              0.5555555555555556,
              "#d8576b"
             ],
             [
              0.6666666666666666,
              "#ed7953"
             ],
             [
              0.7777777777777778,
              "#fb9f3a"
             ],
             [
              0.8888888888888888,
              "#fdca26"
             ],
             [
              1,
              "#f0f921"
             ]
            ],
            "type": "heatmapgl"
           }
          ],
          "histogram": [
           {
            "marker": {
             "pattern": {
              "fillmode": "overlay",
              "size": 10,
              "solidity": 0.2
             }
            },
            "type": "histogram"
           }
          ],
          "histogram2d": [
           {
            "colorbar": {
             "outlinewidth": 0,
             "ticks": ""
            },
            "colorscale": [
             [
              0,
              "#0d0887"
             ],
             [
              0.1111111111111111,
              "#46039f"
             ],
             [
              0.2222222222222222,
              "#7201a8"
             ],
             [
              0.3333333333333333,
              "#9c179e"
             ],
             [
              0.4444444444444444,
              "#bd3786"
             ],
             [
              0.5555555555555556,
              "#d8576b"
             ],
             [
              0.6666666666666666,
              "#ed7953"
             ],
             [
              0.7777777777777778,
              "#fb9f3a"
             ],
             [
              0.8888888888888888,
              "#fdca26"
             ],
             [
              1,
              "#f0f921"
             ]
            ],
            "type": "histogram2d"
           }
          ],
          "histogram2dcontour": [
           {
            "colorbar": {
             "outlinewidth": 0,
             "ticks": ""
            },
            "colorscale": [
             [
              0,
              "#0d0887"
             ],
             [
              0.1111111111111111,
              "#46039f"
             ],
             [
              0.2222222222222222,
              "#7201a8"
             ],
             [
              0.3333333333333333,
              "#9c179e"
             ],
             [
              0.4444444444444444,
              "#bd3786"
             ],
             [
              0.5555555555555556,
              "#d8576b"
             ],
             [
              0.6666666666666666,
              "#ed7953"
             ],
             [
              0.7777777777777778,
              "#fb9f3a"
             ],
             [
              0.8888888888888888,
              "#fdca26"
             ],
             [
              1,
              "#f0f921"
             ]
            ],
            "type": "histogram2dcontour"
           }
          ],
          "mesh3d": [
           {
            "colorbar": {
             "outlinewidth": 0,
             "ticks": ""
            },
            "type": "mesh3d"
           }
          ],
          "parcoords": [
           {
            "line": {
             "colorbar": {
              "outlinewidth": 0,
              "ticks": ""
             }
            },
            "type": "parcoords"
           }
          ],
          "pie": [
           {
            "automargin": true,
            "type": "pie"
           }
          ],
          "scatter": [
           {
            "fillpattern": {
             "fillmode": "overlay",
             "size": 10,
             "solidity": 0.2
            },
            "type": "scatter"
           }
          ],
          "scatter3d": [
           {
            "line": {
             "colorbar": {
              "outlinewidth": 0,
              "ticks": ""
             }
            },
            "marker": {
             "colorbar": {
              "outlinewidth": 0,
              "ticks": ""
             }
            },
            "type": "scatter3d"
           }
          ],
          "scattercarpet": [
           {
            "marker": {
             "colorbar": {
              "outlinewidth": 0,
              "ticks": ""
             }
            },
            "type": "scattercarpet"
           }
          ],
          "scattergeo": [
           {
            "marker": {
             "colorbar": {
              "outlinewidth": 0,
              "ticks": ""
             }
            },
            "type": "scattergeo"
           }
          ],
          "scattergl": [
           {
            "marker": {
             "colorbar": {
              "outlinewidth": 0,
              "ticks": ""
             }
            },
            "type": "scattergl"
           }
          ],
          "scattermapbox": [
           {
            "marker": {
             "colorbar": {
              "outlinewidth": 0,
              "ticks": ""
             }
            },
            "type": "scattermapbox"
           }
          ],
          "scatterpolar": [
           {
            "marker": {
             "colorbar": {
              "outlinewidth": 0,
              "ticks": ""
             }
            },
            "type": "scatterpolar"
           }
          ],
          "scatterpolargl": [
           {
            "marker": {
             "colorbar": {
              "outlinewidth": 0,
              "ticks": ""
             }
            },
            "type": "scatterpolargl"
           }
          ],
          "scatterternary": [
           {
            "marker": {
             "colorbar": {
              "outlinewidth": 0,
              "ticks": ""
             }
            },
            "type": "scatterternary"
           }
          ],
          "surface": [
           {
            "colorbar": {
             "outlinewidth": 0,
             "ticks": ""
            },
            "colorscale": [
             [
              0,
              "#0d0887"
             ],
             [
              0.1111111111111111,
              "#46039f"
             ],
             [
              0.2222222222222222,
              "#7201a8"
             ],
             [
              0.3333333333333333,
              "#9c179e"
             ],
             [
              0.4444444444444444,
              "#bd3786"
             ],
             [
              0.5555555555555556,
              "#d8576b"
             ],
             [
              0.6666666666666666,
              "#ed7953"
             ],
             [
              0.7777777777777778,
              "#fb9f3a"
             ],
             [
              0.8888888888888888,
              "#fdca26"
             ],
             [
              1,
              "#f0f921"
             ]
            ],
            "type": "surface"
           }
          ],
          "table": [
           {
            "cells": {
             "fill": {
              "color": "#EBF0F8"
             },
             "line": {
              "color": "white"
             }
            },
            "header": {
             "fill": {
              "color": "#C8D4E3"
             },
             "line": {
              "color": "white"
             }
            },
            "type": "table"
           }
          ]
         },
         "layout": {
          "annotationdefaults": {
           "arrowcolor": "#2a3f5f",
           "arrowhead": 0,
           "arrowwidth": 1
          },
          "autotypenumbers": "strict",
          "coloraxis": {
           "colorbar": {
            "outlinewidth": 0,
            "ticks": ""
           }
          },
          "colorscale": {
           "diverging": [
            [
             0,
             "#8e0152"
            ],
            [
             0.1,
             "#c51b7d"
            ],
            [
             0.2,
             "#de77ae"
            ],
            [
             0.3,
             "#f1b6da"
            ],
            [
             0.4,
             "#fde0ef"
            ],
            [
             0.5,
             "#f7f7f7"
            ],
            [
             0.6,
             "#e6f5d0"
            ],
            [
             0.7,
             "#b8e186"
            ],
            [
             0.8,
             "#7fbc41"
            ],
            [
             0.9,
             "#4d9221"
            ],
            [
             1,
             "#276419"
            ]
           ],
           "sequential": [
            [
             0,
             "#0d0887"
            ],
            [
             0.1111111111111111,
             "#46039f"
            ],
            [
             0.2222222222222222,
             "#7201a8"
            ],
            [
             0.3333333333333333,
             "#9c179e"
            ],
            [
             0.4444444444444444,
             "#bd3786"
            ],
            [
             0.5555555555555556,
             "#d8576b"
            ],
            [
             0.6666666666666666,
             "#ed7953"
            ],
            [
             0.7777777777777778,
             "#fb9f3a"
            ],
            [
             0.8888888888888888,
             "#fdca26"
            ],
            [
             1,
             "#f0f921"
            ]
           ],
           "sequentialminus": [
            [
             0,
             "#0d0887"
            ],
            [
             0.1111111111111111,
             "#46039f"
            ],
            [
             0.2222222222222222,
             "#7201a8"
            ],
            [
             0.3333333333333333,
             "#9c179e"
            ],
            [
             0.4444444444444444,
             "#bd3786"
            ],
            [
             0.5555555555555556,
             "#d8576b"
            ],
            [
             0.6666666666666666,
             "#ed7953"
            ],
            [
             0.7777777777777778,
             "#fb9f3a"
            ],
            [
             0.8888888888888888,
             "#fdca26"
            ],
            [
             1,
             "#f0f921"
            ]
           ]
          },
          "colorway": [
           "#636efa",
           "#EF553B",
           "#00cc96",
           "#ab63fa",
           "#FFA15A",
           "#19d3f3",
           "#FF6692",
           "#B6E880",
           "#FF97FF",
           "#FECB52"
          ],
          "font": {
           "color": "#2a3f5f"
          },
          "geo": {
           "bgcolor": "white",
           "lakecolor": "white",
           "landcolor": "#E5ECF6",
           "showlakes": true,
           "showland": true,
           "subunitcolor": "white"
          },
          "hoverlabel": {
           "align": "left"
          },
          "hovermode": "closest",
          "mapbox": {
           "style": "light"
          },
          "paper_bgcolor": "white",
          "plot_bgcolor": "#E5ECF6",
          "polar": {
           "angularaxis": {
            "gridcolor": "white",
            "linecolor": "white",
            "ticks": ""
           },
           "bgcolor": "#E5ECF6",
           "radialaxis": {
            "gridcolor": "white",
            "linecolor": "white",
            "ticks": ""
           }
          },
          "scene": {
           "xaxis": {
            "backgroundcolor": "#E5ECF6",
            "gridcolor": "white",
            "gridwidth": 2,
            "linecolor": "white",
            "showbackground": true,
            "ticks": "",
            "zerolinecolor": "white"
           },
           "yaxis": {
            "backgroundcolor": "#E5ECF6",
            "gridcolor": "white",
            "gridwidth": 2,
            "linecolor": "white",
            "showbackground": true,
            "ticks": "",
            "zerolinecolor": "white"
           },
           "zaxis": {
            "backgroundcolor": "#E5ECF6",
            "gridcolor": "white",
            "gridwidth": 2,
            "linecolor": "white",
            "showbackground": true,
            "ticks": "",
            "zerolinecolor": "white"
           }
          },
          "shapedefaults": {
           "line": {
            "color": "#2a3f5f"
           }
          },
          "ternary": {
           "aaxis": {
            "gridcolor": "white",
            "linecolor": "white",
            "ticks": ""
           },
           "baxis": {
            "gridcolor": "white",
            "linecolor": "white",
            "ticks": ""
           },
           "bgcolor": "#E5ECF6",
           "caxis": {
            "gridcolor": "white",
            "linecolor": "white",
            "ticks": ""
           }
          },
          "title": {
           "x": 0.05
          },
          "xaxis": {
           "automargin": true,
           "gridcolor": "white",
           "linecolor": "white",
           "ticks": "",
           "title": {
            "standoff": 15
           },
           "zerolinecolor": "white",
           "zerolinewidth": 2
          },
          "yaxis": {
           "automargin": true,
           "gridcolor": "white",
           "linecolor": "white",
           "ticks": "",
           "title": {
            "standoff": 15
           },
           "zerolinecolor": "white",
           "zerolinewidth": 2
          }
         }
        },
        "title": {
         "text": "Frontera Eficiente Segmento 1"
        },
        "width": 800,
        "xaxis": {
         "title": {
          "text": "Ingreso ($)"
         }
        },
        "yaxis": {
         "title": {
          "text": "Rentabilidad ($)"
         }
        }
       }
      }
     },
     "metadata": {},
     "output_type": "display_data"
    }
   ],
   "source": [
    "fig = go.Figure()\n",
    "\n",
    "# Se agrega el precio máximo de ingreso\n",
    "fig.add_trace(go.Scatter(x=df_elasticidad['ingresos_seg1'], y=df_elasticidad['rentabilidad_seg1'], name='Frontera Eficiente'))\n",
    "\n",
    "# Se agrega la etiqueta de ingreso\n",
    "fig.add_annotation(x=float(max_ing_seg1['ingresos_seg1']), y=float(max_ing_seg1['rentabilidad_seg1']),\n",
    "                                  text=\"MaxPrecioIng:\"+str(float(max_ing_seg1['irr'].round(2))),\n",
    "                                  showarrow=True,\n",
    "                                  arrowhead=1)\n",
    "# Se agrega la recta del precio máximo\n",
    "fig.add_vline(x=float(max_ing_seg1['ingresos_seg1']), line_width=2, line_dash=\"dash\",\n",
    "                             line_color=\"blue\", opacity=0.25)\n",
    "\n",
    "# Se agrega la etiqueta de rentabilidad\n",
    "fig.add_annotation(x=float(max_ren_seg1['ingresos_seg1']), y=float(max_ren_seg1['rentabilidad_seg1']),\n",
    "                                  text=\"MaxPrecioRent:\"+str(float(max_ren_seg1['irr'].round(2))),\n",
    "                                  showarrow=True,\n",
    "                                  arrowhead=1)\n",
    "# Se agrega la recta del precio máximo\n",
    "fig.add_vline(x=float(max_ren_seg1['ingresos_seg1']), line_width=2, line_dash=\"dash\",\n",
    "                             line_color=\"green\", opacity=0.25)\n",
    "\n",
    "# Configuración del gráfico\n",
    "fig.update_layout(\n",
    "    showlegend=False,\n",
    "    width=800,\n",
    "    height=600,\n",
    "     xaxis=dict(\n",
    "        title=\"Ingreso ($)\"\n",
    "      ##  ,range=[1.5, 2.5]\n",
    "        ),\n",
    "      yaxis=dict(\n",
    "        title=\"Rentabilidad ($)\"\n",
    "       ##,range=[-0.5, 1]\n",
    "      ),\n",
    "    title=\"Frontera Eficiente Segmento 1\")"
   ]
  },
  {
   "cell_type": "code",
   "execution_count": 280,
   "metadata": {},
   "outputs": [
    {
     "data": {
      "application/vnd.plotly.v1+json": {
       "config": {
        "plotlyServerURL": "https://plot.ly"
       },
       "data": [
        {
         "name": "Frontera Eficiente",
         "type": "scatter",
         "x": [
          14.601324810505076,
          11.924921300474326,
          9.751387152408798,
          7.984899299168829,
          6.547865865483778,
          5.395770354157855,
          4.438151789909848,
          3.6562990580235635,
          3.01705574361992,
          2.4936444020474458,
          2.064427781700281,
          1.7119091309106278,
          1.4219269532295835,
          1.183007179576216,
          0.985842348640246,
          0.8254293113978076,
          0.6900693692997897,
          0.5778281482100582,
          0.48460791058356273,
          0.4070618526377326
         ],
         "y": [
          -0.8815829313946821,
          -0.2662345728285498,
          0.07291237520652771,
          0.2420416165392858,
          0.3088872446774742,
          0.31660836762096256,
          0.29215917866223773,
          0.25180047838672737,
          0.2056836560547688,
          0.1597097886503298,
          0.11709654712648976,
          0.07939415895659496,
          0.04714151179432524,
          0.020286980893046147,
          -0.0015444897713585704,
          -0.018620371094305255,
          -0.03211784386041516,
          -0.04228216651732908,
          -0.04965771752975018,
          -0.05473484452869709
         ]
        }
       ],
       "layout": {
        "annotations": [
         {
          "arrowhead": 1,
          "showarrow": true,
          "text": "MaxPrecioIng:16.0",
          "x": 14.601324810505076,
          "y": -0.8815829313946821
         },
         {
          "arrowhead": 1,
          "showarrow": true,
          "text": "MaxPrecioRent:18.89",
          "x": 5.395770354157855,
          "y": 0.31660836762096256
         }
        ],
        "height": 600,
        "shapes": [
         {
          "line": {
           "color": "blue",
           "dash": "dash",
           "width": 2
          },
          "opacity": 0.25,
          "type": "line",
          "x0": 14.601324810505076,
          "x1": 14.601324810505076,
          "xref": "x",
          "y0": 0,
          "y1": 1,
          "yref": "y domain"
         },
         {
          "line": {
           "color": "green",
           "dash": "dash",
           "width": 2
          },
          "opacity": 0.25,
          "type": "line",
          "x0": 5.395770354157855,
          "x1": 5.395770354157855,
          "xref": "x",
          "y0": 0,
          "y1": 1,
          "yref": "y domain"
         }
        ],
        "showlegend": false,
        "template": {
         "data": {
          "bar": [
           {
            "error_x": {
             "color": "#2a3f5f"
            },
            "error_y": {
             "color": "#2a3f5f"
            },
            "marker": {
             "line": {
              "color": "#E5ECF6",
              "width": 0.5
             },
             "pattern": {
              "fillmode": "overlay",
              "size": 10,
              "solidity": 0.2
             }
            },
            "type": "bar"
           }
          ],
          "barpolar": [
           {
            "marker": {
             "line": {
              "color": "#E5ECF6",
              "width": 0.5
             },
             "pattern": {
              "fillmode": "overlay",
              "size": 10,
              "solidity": 0.2
             }
            },
            "type": "barpolar"
           }
          ],
          "carpet": [
           {
            "aaxis": {
             "endlinecolor": "#2a3f5f",
             "gridcolor": "white",
             "linecolor": "white",
             "minorgridcolor": "white",
             "startlinecolor": "#2a3f5f"
            },
            "baxis": {
             "endlinecolor": "#2a3f5f",
             "gridcolor": "white",
             "linecolor": "white",
             "minorgridcolor": "white",
             "startlinecolor": "#2a3f5f"
            },
            "type": "carpet"
           }
          ],
          "choropleth": [
           {
            "colorbar": {
             "outlinewidth": 0,
             "ticks": ""
            },
            "type": "choropleth"
           }
          ],
          "contour": [
           {
            "colorbar": {
             "outlinewidth": 0,
             "ticks": ""
            },
            "colorscale": [
             [
              0,
              "#0d0887"
             ],
             [
              0.1111111111111111,
              "#46039f"
             ],
             [
              0.2222222222222222,
              "#7201a8"
             ],
             [
              0.3333333333333333,
              "#9c179e"
             ],
             [
              0.4444444444444444,
              "#bd3786"
             ],
             [
              0.5555555555555556,
              "#d8576b"
             ],
             [
              0.6666666666666666,
              "#ed7953"
             ],
             [
              0.7777777777777778,
              "#fb9f3a"
             ],
             [
              0.8888888888888888,
              "#fdca26"
             ],
             [
              1,
              "#f0f921"
             ]
            ],
            "type": "contour"
           }
          ],
          "contourcarpet": [
           {
            "colorbar": {
             "outlinewidth": 0,
             "ticks": ""
            },
            "type": "contourcarpet"
           }
          ],
          "heatmap": [
           {
            "colorbar": {
             "outlinewidth": 0,
             "ticks": ""
            },
            "colorscale": [
             [
              0,
              "#0d0887"
             ],
             [
              0.1111111111111111,
              "#46039f"
             ],
             [
              0.2222222222222222,
              "#7201a8"
             ],
             [
              0.3333333333333333,
              "#9c179e"
             ],
             [
              0.4444444444444444,
              "#bd3786"
             ],
             [
              0.5555555555555556,
              "#d8576b"
             ],
             [
              0.6666666666666666,
              "#ed7953"
             ],
             [
              0.7777777777777778,
              "#fb9f3a"
             ],
             [
              0.8888888888888888,
              "#fdca26"
             ],
             [
              1,
              "#f0f921"
             ]
            ],
            "type": "heatmap"
           }
          ],
          "heatmapgl": [
           {
            "colorbar": {
             "outlinewidth": 0,
             "ticks": ""
            },
            "colorscale": [
             [
              0,
              "#0d0887"
             ],
             [
              0.1111111111111111,
              "#46039f"
             ],
             [
              0.2222222222222222,
              "#7201a8"
             ],
             [
              0.3333333333333333,
              "#9c179e"
             ],
             [
              0.4444444444444444,
              "#bd3786"
             ],
             [
              0.5555555555555556,
              "#d8576b"
             ],
             [
              0.6666666666666666,
              "#ed7953"
             ],
             [
              0.7777777777777778,
              "#fb9f3a"
             ],
             [
              0.8888888888888888,
              "#fdca26"
             ],
             [
              1,
              "#f0f921"
             ]
            ],
            "type": "heatmapgl"
           }
          ],
          "histogram": [
           {
            "marker": {
             "pattern": {
              "fillmode": "overlay",
              "size": 10,
              "solidity": 0.2
             }
            },
            "type": "histogram"
           }
          ],
          "histogram2d": [
           {
            "colorbar": {
             "outlinewidth": 0,
             "ticks": ""
            },
            "colorscale": [
             [
              0,
              "#0d0887"
             ],
             [
              0.1111111111111111,
              "#46039f"
             ],
             [
              0.2222222222222222,
              "#7201a8"
             ],
             [
              0.3333333333333333,
              "#9c179e"
             ],
             [
              0.4444444444444444,
              "#bd3786"
             ],
             [
              0.5555555555555556,
              "#d8576b"
             ],
             [
              0.6666666666666666,
              "#ed7953"
             ],
             [
              0.7777777777777778,
              "#fb9f3a"
             ],
             [
              0.8888888888888888,
              "#fdca26"
             ],
             [
              1,
              "#f0f921"
             ]
            ],
            "type": "histogram2d"
           }
          ],
          "histogram2dcontour": [
           {
            "colorbar": {
             "outlinewidth": 0,
             "ticks": ""
            },
            "colorscale": [
             [
              0,
              "#0d0887"
             ],
             [
              0.1111111111111111,
              "#46039f"
             ],
             [
              0.2222222222222222,
              "#7201a8"
             ],
             [
              0.3333333333333333,
              "#9c179e"
             ],
             [
              0.4444444444444444,
              "#bd3786"
             ],
             [
              0.5555555555555556,
              "#d8576b"
             ],
             [
              0.6666666666666666,
              "#ed7953"
             ],
             [
              0.7777777777777778,
              "#fb9f3a"
             ],
             [
              0.8888888888888888,
              "#fdca26"
             ],
             [
              1,
              "#f0f921"
             ]
            ],
            "type": "histogram2dcontour"
           }
          ],
          "mesh3d": [
           {
            "colorbar": {
             "outlinewidth": 0,
             "ticks": ""
            },
            "type": "mesh3d"
           }
          ],
          "parcoords": [
           {
            "line": {
             "colorbar": {
              "outlinewidth": 0,
              "ticks": ""
             }
            },
            "type": "parcoords"
           }
          ],
          "pie": [
           {
            "automargin": true,
            "type": "pie"
           }
          ],
          "scatter": [
           {
            "fillpattern": {
             "fillmode": "overlay",
             "size": 10,
             "solidity": 0.2
            },
            "type": "scatter"
           }
          ],
          "scatter3d": [
           {
            "line": {
             "colorbar": {
              "outlinewidth": 0,
              "ticks": ""
             }
            },
            "marker": {
             "colorbar": {
              "outlinewidth": 0,
              "ticks": ""
             }
            },
            "type": "scatter3d"
           }
          ],
          "scattercarpet": [
           {
            "marker": {
             "colorbar": {
              "outlinewidth": 0,
              "ticks": ""
             }
            },
            "type": "scattercarpet"
           }
          ],
          "scattergeo": [
           {
            "marker": {
             "colorbar": {
              "outlinewidth": 0,
              "ticks": ""
             }
            },
            "type": "scattergeo"
           }
          ],
          "scattergl": [
           {
            "marker": {
             "colorbar": {
              "outlinewidth": 0,
              "ticks": ""
             }
            },
            "type": "scattergl"
           }
          ],
          "scattermapbox": [
           {
            "marker": {
             "colorbar": {
              "outlinewidth": 0,
              "ticks": ""
             }
            },
            "type": "scattermapbox"
           }
          ],
          "scatterpolar": [
           {
            "marker": {
             "colorbar": {
              "outlinewidth": 0,
              "ticks": ""
             }
            },
            "type": "scatterpolar"
           }
          ],
          "scatterpolargl": [
           {
            "marker": {
             "colorbar": {
              "outlinewidth": 0,
              "ticks": ""
             }
            },
            "type": "scatterpolargl"
           }
          ],
          "scatterternary": [
           {
            "marker": {
             "colorbar": {
              "outlinewidth": 0,
              "ticks": ""
             }
            },
            "type": "scatterternary"
           }
          ],
          "surface": [
           {
            "colorbar": {
             "outlinewidth": 0,
             "ticks": ""
            },
            "colorscale": [
             [
              0,
              "#0d0887"
             ],
             [
              0.1111111111111111,
              "#46039f"
             ],
             [
              0.2222222222222222,
              "#7201a8"
             ],
             [
              0.3333333333333333,
              "#9c179e"
             ],
             [
              0.4444444444444444,
              "#bd3786"
             ],
             [
              0.5555555555555556,
              "#d8576b"
             ],
             [
              0.6666666666666666,
              "#ed7953"
             ],
             [
              0.7777777777777778,
              "#fb9f3a"
             ],
             [
              0.8888888888888888,
              "#fdca26"
             ],
             [
              1,
              "#f0f921"
             ]
            ],
            "type": "surface"
           }
          ],
          "table": [
           {
            "cells": {
             "fill": {
              "color": "#EBF0F8"
             },
             "line": {
              "color": "white"
             }
            },
            "header": {
             "fill": {
              "color": "#C8D4E3"
             },
             "line": {
              "color": "white"
             }
            },
            "type": "table"
           }
          ]
         },
         "layout": {
          "annotationdefaults": {
           "arrowcolor": "#2a3f5f",
           "arrowhead": 0,
           "arrowwidth": 1
          },
          "autotypenumbers": "strict",
          "coloraxis": {
           "colorbar": {
            "outlinewidth": 0,
            "ticks": ""
           }
          },
          "colorscale": {
           "diverging": [
            [
             0,
             "#8e0152"
            ],
            [
             0.1,
             "#c51b7d"
            ],
            [
             0.2,
             "#de77ae"
            ],
            [
             0.3,
             "#f1b6da"
            ],
            [
             0.4,
             "#fde0ef"
            ],
            [
             0.5,
             "#f7f7f7"
            ],
            [
             0.6,
             "#e6f5d0"
            ],
            [
             0.7,
             "#b8e186"
            ],
            [
             0.8,
             "#7fbc41"
            ],
            [
             0.9,
             "#4d9221"
            ],
            [
             1,
             "#276419"
            ]
           ],
           "sequential": [
            [
             0,
             "#0d0887"
            ],
            [
             0.1111111111111111,
             "#46039f"
            ],
            [
             0.2222222222222222,
             "#7201a8"
            ],
            [
             0.3333333333333333,
             "#9c179e"
            ],
            [
             0.4444444444444444,
             "#bd3786"
            ],
            [
             0.5555555555555556,
             "#d8576b"
            ],
            [
             0.6666666666666666,
             "#ed7953"
            ],
            [
             0.7777777777777778,
             "#fb9f3a"
            ],
            [
             0.8888888888888888,
             "#fdca26"
            ],
            [
             1,
             "#f0f921"
            ]
           ],
           "sequentialminus": [
            [
             0,
             "#0d0887"
            ],
            [
             0.1111111111111111,
             "#46039f"
            ],
            [
             0.2222222222222222,
             "#7201a8"
            ],
            [
             0.3333333333333333,
             "#9c179e"
            ],
            [
             0.4444444444444444,
             "#bd3786"
            ],
            [
             0.5555555555555556,
             "#d8576b"
            ],
            [
             0.6666666666666666,
             "#ed7953"
            ],
            [
             0.7777777777777778,
             "#fb9f3a"
            ],
            [
             0.8888888888888888,
             "#fdca26"
            ],
            [
             1,
             "#f0f921"
            ]
           ]
          },
          "colorway": [
           "#636efa",
           "#EF553B",
           "#00cc96",
           "#ab63fa",
           "#FFA15A",
           "#19d3f3",
           "#FF6692",
           "#B6E880",
           "#FF97FF",
           "#FECB52"
          ],
          "font": {
           "color": "#2a3f5f"
          },
          "geo": {
           "bgcolor": "white",
           "lakecolor": "white",
           "landcolor": "#E5ECF6",
           "showlakes": true,
           "showland": true,
           "subunitcolor": "white"
          },
          "hoverlabel": {
           "align": "left"
          },
          "hovermode": "closest",
          "mapbox": {
           "style": "light"
          },
          "paper_bgcolor": "white",
          "plot_bgcolor": "#E5ECF6",
          "polar": {
           "angularaxis": {
            "gridcolor": "white",
            "linecolor": "white",
            "ticks": ""
           },
           "bgcolor": "#E5ECF6",
           "radialaxis": {
            "gridcolor": "white",
            "linecolor": "white",
            "ticks": ""
           }
          },
          "scene": {
           "xaxis": {
            "backgroundcolor": "#E5ECF6",
            "gridcolor": "white",
            "gridwidth": 2,
            "linecolor": "white",
            "showbackground": true,
            "ticks": "",
            "zerolinecolor": "white"
           },
           "yaxis": {
            "backgroundcolor": "#E5ECF6",
            "gridcolor": "white",
            "gridwidth": 2,
            "linecolor": "white",
            "showbackground": true,
            "ticks": "",
            "zerolinecolor": "white"
           },
           "zaxis": {
            "backgroundcolor": "#E5ECF6",
            "gridcolor": "white",
            "gridwidth": 2,
            "linecolor": "white",
            "showbackground": true,
            "ticks": "",
            "zerolinecolor": "white"
           }
          },
          "shapedefaults": {
           "line": {
            "color": "#2a3f5f"
           }
          },
          "ternary": {
           "aaxis": {
            "gridcolor": "white",
            "linecolor": "white",
            "ticks": ""
           },
           "baxis": {
            "gridcolor": "white",
            "linecolor": "white",
            "ticks": ""
           },
           "bgcolor": "#E5ECF6",
           "caxis": {
            "gridcolor": "white",
            "linecolor": "white",
            "ticks": ""
           }
          },
          "title": {
           "x": 0.05
          },
          "xaxis": {
           "automargin": true,
           "gridcolor": "white",
           "linecolor": "white",
           "ticks": "",
           "title": {
            "standoff": 15
           },
           "zerolinecolor": "white",
           "zerolinewidth": 2
          },
          "yaxis": {
           "automargin": true,
           "gridcolor": "white",
           "linecolor": "white",
           "ticks": "",
           "title": {
            "standoff": 15
           },
           "zerolinecolor": "white",
           "zerolinewidth": 2
          }
         }
        },
        "title": {
         "text": "Frontera Eficiente Segmento 2"
        },
        "width": 800,
        "xaxis": {
         "title": {
          "text": "Ingreso ($)"
         }
        },
        "yaxis": {
         "title": {
          "text": "Rentabilidad ($)"
         }
        }
       }
      }
     },
     "metadata": {},
     "output_type": "display_data"
    }
   ],
   "source": [
    "fig = go.Figure()\n",
    "\n",
    "# Se agrega el precio máximo de ingreso\n",
    "fig.add_trace(go.Scatter(x=df_elasticidad['ingresos_seg2'], y=df_elasticidad['rentabilidad_seg2'], name='Frontera Eficiente'))\n",
    "\n",
    "# Se agrega la etiqueta de ingreso\n",
    "fig.add_annotation(x=float(max_ing_seg2['ingresos_seg2']), y=float(max_ing_seg2['rentabilidad_seg2']),\n",
    "                                  text=\"MaxPrecioIng:\"+str(float(max_ing_seg2['irr'].round(2))),\n",
    "                                  showarrow=True,\n",
    "                                  arrowhead=1)\n",
    "# Se agrega la recta del precio máximo\n",
    "fig.add_vline(x=float(max_ing_seg2['ingresos_seg2']), line_width=2, line_dash=\"dash\",\n",
    "                             line_color=\"blue\", opacity=0.25)\n",
    "\n",
    "# Se agrega la etiqueta de rentabilidad\n",
    "fig.add_annotation(x=float(max_ren_seg2['ingresos_seg2']), y=float(max_ren_seg2['rentabilidad_seg2']),\n",
    "                                  text=\"MaxPrecioRent:\"+str(float(max_ren_seg2['irr'].round(2))),\n",
    "                                  showarrow=True,\n",
    "                                  arrowhead=1)\n",
    "# Se agrega la recta del precio máximo\n",
    "fig.add_vline(x=float(max_ren_seg2['ingresos_seg2']), line_width=2, line_dash=\"dash\",\n",
    "                             line_color=\"green\", opacity=0.25)\n",
    "\n",
    "# Configuración del gráfico\n",
    "fig.update_layout(\n",
    "    showlegend=False,\n",
    "    width=800,\n",
    "    height=600,\n",
    "    xaxis_title=\"Ingreso ($)\",\n",
    "    yaxis_title=\"Rentabilidad ($)\",\n",
    "    title=\"Frontera Eficiente Segmento 2\")"
   ]
  },
  {
   "cell_type": "code",
   "execution_count": 281,
   "metadata": {},
   "outputs": [],
   "source": [
    "# fig = go.Figure()\n",
    "\n",
    "# # Se agrega el precio máximo de ingreso\n",
    "# fig.add_trace(go.Scatter(x=df_elasticidad['ingresos_seg3'], y=df_elasticidad['rentabilidad_seg3'], name='Frontera Eficiente'))\n",
    "\n",
    "# # Se agrega la etiqueta de ingreso\n",
    "# fig.add_annotation(x=float(max_ing_seg3['ingresos_seg3']), y=float(max_ing_seg3['rentabilidad_seg3']),\n",
    "#                                   text=\"MaxPrecioIng:\"+str(float(max_ing_seg3['irr'].round(2))),\n",
    "#                                   showarrow=True,\n",
    "#                                   arrowhead=1)\n",
    "# # Se agrega la recta del precio máximo\n",
    "# fig.add_vline(x=float(max_ing_seg3['ingresos_seg3']), line_width=2, line_dash=\"dash\",\n",
    "#                              line_color=\"blue\", opacity=0.25)\n",
    "\n",
    "# # Se agrega la etiqueta de rentabilidad\n",
    "# fig.add_annotation(x=float(max_ren_seg3['ingresos_seg3']), y=float(max_ren_seg3['rentabilidad_seg3']),\n",
    "#                                   text=\"MaxPrecioRent:\"+str(float(max_ren_seg3['irr'].round(2))),\n",
    "#                                   showarrow=True,\n",
    "#                                   arrowhead=1)\n",
    "# # Se agrega la recta del precio máximo\n",
    "# fig.add_vline(x=float(max_ren_seg3['ingresos_seg3']), line_width=2, line_dash=\"dash\",\n",
    "#                              line_color=\"green\", opacity=0.25)\n",
    "\n",
    "# # Configuración del gráfico\n",
    "# fig.update_layout(\n",
    "#     showlegend=False,\n",
    "#     width=800,\n",
    "#     height=600,\n",
    "#     xaxis_title=\"Ingreso ($)\",\n",
    "#     yaxis_title=\"Rentabilidad ($)\",\n",
    "#     title=\"Frontera Eficiente Segmento 3\")"
   ]
  },
  {
   "cell_type": "code",
   "execution_count": null,
   "metadata": {},
   "outputs": [],
   "source": []
  },
  {
   "cell_type": "code",
   "execution_count": null,
   "metadata": {},
   "outputs": [],
   "source": []
  }
 ],
 "metadata": {
  "kernelspec": {
   "display_name": ".venv",
   "language": "python",
   "name": "python3"
  },
  "language_info": {
   "codemirror_mode": {
    "name": "ipython",
    "version": 3
   },
   "file_extension": ".py",
   "mimetype": "text/x-python",
   "name": "python",
   "nbconvert_exporter": "python",
   "pygments_lexer": "ipython3",
   "version": "3.11.9"
  }
 },
 "nbformat": 4,
 "nbformat_minor": 2
}
