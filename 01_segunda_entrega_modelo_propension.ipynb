{
 "cells": [
  {
   "cell_type": "code",
   "execution_count": 109,
   "metadata": {},
   "outputs": [],
   "source": [
    "import pandas as pd\n",
    "import numpy as np\n",
    "\n",
    "from sklearn.preprocessing import LabelEncoder\n",
    "from sklearn.preprocessing import StandardScaler\n",
    "import scipy.cluster.hierarchy as shc\n",
    "import matplotlib.pyplot as plt\n",
    "from sklearn.cluster import AgglomerativeClustering\n",
    "import statsmodels.api as sm\n",
    "from sklearn.metrics import classification_report\n",
    "import seaborn as sns\n",
    "import warnings\n",
    "warnings.filterwarnings(\"ignore\")"
   ]
  },
  {
   "cell_type": "code",
   "execution_count": 110,
   "metadata": {},
   "outputs": [],
   "source": [
    "def encode_column(df, column_name):\n",
    "    # Inicializamos el LabelEncoder\n",
    "    le = LabelEncoder()\n",
    "    \n",
    "    # Aplicamos el encoding en la columna y almacenamos las clases para futuros usos\n",
    "    df[column_name] = le.fit_transform(df[column_name])\n",
    "    \n",
    "    # Retornamos el dataframe y el LabelEncoder para transformaciones futuras\n",
    "    return df, le"
   ]
  },
  {
   "cell_type": "code",
   "execution_count": 111,
   "metadata": {},
   "outputs": [],
   "source": [
    "def encode_top_n(df, column_name, top_n=10):\n",
    "    # Obtiene los top_n valores más frecuentes\n",
    "    top_values = df[column_name].value_counts().nlargest(top_n).index\n",
    "    \n",
    "    # Reemplaza los valores menos frecuentes por 'otros'\n",
    "    df[column_name] = df[column_name].apply(lambda x: x if x in top_values else \"otros\")\n",
    "    df[column_name] = df[column_name].astype(str)\n",
    "    # Aplica el LabelEncoder\n",
    "    return df"
   ]
  },
  {
   "cell_type": "code",
   "execution_count": 112,
   "metadata": {},
   "outputs": [],
   "source": [
    "def proces_data(df):\n",
    "\n",
    "    numerical_vars = [\"emi_amount\", \"age\", \"loan_term\", 'cibil_score', 'irr', \"requested_amount\",\"disbursed\"]\n",
    "    categorical_vars = [\"applicant_postal_code\", \"product_line\", \"segment\"]\n",
    "\n",
    "    df[\"applicant_postal_code\"] = df[\"applicant_postal_code\"].str.split(\".\").str[0].str.strip()\n",
    "    df[\"applicant_postal_code\"] = pd.to_numeric(df[\"applicant_postal_code\"], errors=\"coerce\").astype(\"Int64\")\n",
    "\n",
    "    df = encode_top_n(df, \"applicant_postal_code\", top_n=20)\n",
    "    df, le_postal_code = encode_column(df, \"applicant_postal_code\")\n",
    "\n",
    "    df = encode_top_n(df, \"product_line\", top_n=20)\n",
    "    df, le_product = encode_column(df, \"product_line\")\n",
    "\n",
    "    df, le_segment = encode_column(df, \"segment\")\n",
    "\n",
    "    df[\"age\"] = df[\"age\"].astype(int)\n",
    "\n",
    "    df_num = df[numerical_vars]\n",
    "\n",
    "    # Convertimos las variables categóricas nominales a variables dummy\n",
    "    df_applicant_posta_code = pd.get_dummies(df['applicant_postal_code'], prefix='postal_code')\n",
    "    df_applicant_posta_code = df_applicant_posta_code.astype(int)\n",
    "\n",
    "    # Convertimos las variables categóricas nominales a variables dummy\n",
    "    df_product = pd.get_dummies(df['product_line'], prefix='product')\n",
    "    df_product = df_product.astype(int)\n",
    "\n",
    "    # Convertimos las variables categóricas nominales a variables dummy\n",
    "    df_segment = pd.get_dummies(df['segment'], prefix='segment')\n",
    "    df_segment = df_segment.astype(int)\n",
    "\n",
    "    # Unimos los dataframe incluyendo las variables dummy\n",
    "    df_final_transform = pd.merge(df_num, df_applicant_posta_code, left_index=True, right_index=True)\n",
    "    df_final_transform = pd.merge(df_final_transform, df_product, left_index=True, right_index=True)\n",
    "    df_final_transform = pd.merge(df_final_transform, df_segment, left_index=True, right_index=True)\n",
    "\n",
    "    df_final_transform[\"cibil_score\"] = np.where(df_final_transform[\"cibil_score\"]<1, 1, df_final_transform[\"cibil_score\"])\n",
    "\n",
    "    df_final_transform['emi_amount_log'] = np.log(df_final_transform['emi_amount'])\n",
    "    df_final_transform['age_log'] = np.log(df_final_transform['age'])\n",
    "    df_final_transform['loan_term_log'] = np.log(df_final_transform['loan_term'])\n",
    "    df_final_transform['cibil_score_log'] = np.log(df_final_transform['cibil_score'])\n",
    "    df_final_transform['irr_log'] = np.log(df_final_transform['irr'])\n",
    "\n",
    "    return df_final_transform"
   ]
  },
  {
   "cell_type": "code",
   "execution_count": 113,
   "metadata": {},
   "outputs": [],
   "source": [
    "def fit_logit_model(df, variables_x, variables_y):\n",
    "    Y = df[variables_y]\n",
    "    X = df[variables_x]\n",
    "    X = sm.add_constant(X, prepend=False)\n",
    "\n",
    "    model_logit = sm.Logit(endog=Y, exog=X).fit()\n",
    "    print(model_logit.summary())\n",
    "\n",
    "    Y_pred = model_logit.predict(X).round(0).astype(int)\n",
    "    # Reporte de métricas\n",
    "    reporte = classification_report(Y, Y_pred, labels=[1, 0])\n",
    "    print(\"Reporte de clasificación:\\n\", reporte)\n",
    "    return model_logit"
   ]
  },
  {
   "cell_type": "code",
   "execution_count": 114,
   "metadata": {},
   "outputs": [],
   "source": [
    "df = pd.read_pickle(\"../output/base_etapa_1.pkl\")"
   ]
  },
  {
   "cell_type": "code",
   "execution_count": 115,
   "metadata": {},
   "outputs": [],
   "source": [
    "df_process = proces_data(df)"
   ]
  },
  {
   "cell_type": "code",
   "execution_count": 116,
   "metadata": {},
   "outputs": [
    {
     "data": {
      "text/html": [
       "<div>\n",
       "<style scoped>\n",
       "    .dataframe tbody tr th:only-of-type {\n",
       "        vertical-align: middle;\n",
       "    }\n",
       "\n",
       "    .dataframe tbody tr th {\n",
       "        vertical-align: top;\n",
       "    }\n",
       "\n",
       "    .dataframe thead th {\n",
       "        text-align: right;\n",
       "    }\n",
       "</style>\n",
       "<table border=\"1\" class=\"dataframe\">\n",
       "  <thead>\n",
       "    <tr style=\"text-align: right;\">\n",
       "      <th></th>\n",
       "      <th>disbursed</th>\n",
       "    </tr>\n",
       "  </thead>\n",
       "  <tbody>\n",
       "    <tr>\n",
       "      <th>irr_log</th>\n",
       "      <td>-0.632865</td>\n",
       "    </tr>\n",
       "    <tr>\n",
       "      <th>irr</th>\n",
       "      <td>-0.621878</td>\n",
       "    </tr>\n",
       "    <tr>\n",
       "      <th>loan_term</th>\n",
       "      <td>-0.058891</td>\n",
       "    </tr>\n",
       "    <tr>\n",
       "      <th>loan_term_log</th>\n",
       "      <td>-0.051708</td>\n",
       "    </tr>\n",
       "    <tr>\n",
       "      <th>product_4</th>\n",
       "      <td>-0.044242</td>\n",
       "    </tr>\n",
       "    <tr>\n",
       "      <th>postal_code_11</th>\n",
       "      <td>-0.031517</td>\n",
       "    </tr>\n",
       "    <tr>\n",
       "      <th>product_1</th>\n",
       "      <td>-0.031420</td>\n",
       "    </tr>\n",
       "    <tr>\n",
       "      <th>product_19</th>\n",
       "      <td>-0.030676</td>\n",
       "    </tr>\n",
       "    <tr>\n",
       "      <th>postal_code_3</th>\n",
       "      <td>-0.030586</td>\n",
       "    </tr>\n",
       "    <tr>\n",
       "      <th>product_15</th>\n",
       "      <td>-0.028664</td>\n",
       "    </tr>\n",
       "  </tbody>\n",
       "</table>\n",
       "</div>"
      ],
      "text/plain": [
       "                disbursed\n",
       "irr_log         -0.632865\n",
       "irr             -0.621878\n",
       "loan_term       -0.058891\n",
       "loan_term_log   -0.051708\n",
       "product_4       -0.044242\n",
       "postal_code_11  -0.031517\n",
       "product_1       -0.031420\n",
       "product_19      -0.030676\n",
       "postal_code_3   -0.030586\n",
       "product_15      -0.028664"
      ]
     },
     "execution_count": 116,
     "metadata": {},
     "output_type": "execute_result"
    }
   ],
   "source": [
    "df_process.corr()[[\"disbursed\"]].sort_values(by=[\"disbursed\"]).head(10)"
   ]
  },
  {
   "cell_type": "code",
   "execution_count": 117,
   "metadata": {},
   "outputs": [
    {
     "data": {
      "text/html": [
       "<div>\n",
       "<style scoped>\n",
       "    .dataframe tbody tr th:only-of-type {\n",
       "        vertical-align: middle;\n",
       "    }\n",
       "\n",
       "    .dataframe tbody tr th {\n",
       "        vertical-align: top;\n",
       "    }\n",
       "\n",
       "    .dataframe thead th {\n",
       "        text-align: right;\n",
       "    }\n",
       "</style>\n",
       "<table border=\"1\" class=\"dataframe\">\n",
       "  <thead>\n",
       "    <tr style=\"text-align: right;\">\n",
       "      <th></th>\n",
       "      <th>disbursed</th>\n",
       "    </tr>\n",
       "  </thead>\n",
       "  <tbody>\n",
       "    <tr>\n",
       "      <th>postal_code_19</th>\n",
       "      <td>0.028166</td>\n",
       "    </tr>\n",
       "    <tr>\n",
       "      <th>product_17</th>\n",
       "      <td>0.030593</td>\n",
       "    </tr>\n",
       "    <tr>\n",
       "      <th>cibil_score</th>\n",
       "      <td>0.031909</td>\n",
       "    </tr>\n",
       "    <tr>\n",
       "      <th>product_8</th>\n",
       "      <td>0.034406</td>\n",
       "    </tr>\n",
       "    <tr>\n",
       "      <th>segment_1</th>\n",
       "      <td>0.035241</td>\n",
       "    </tr>\n",
       "    <tr>\n",
       "      <th>postal_code_6</th>\n",
       "      <td>0.035585</td>\n",
       "    </tr>\n",
       "    <tr>\n",
       "      <th>age</th>\n",
       "      <td>0.035676</td>\n",
       "    </tr>\n",
       "    <tr>\n",
       "      <th>age_log</th>\n",
       "      <td>0.036669</td>\n",
       "    </tr>\n",
       "    <tr>\n",
       "      <th>product_20</th>\n",
       "      <td>0.060693</td>\n",
       "    </tr>\n",
       "    <tr>\n",
       "      <th>disbursed</th>\n",
       "      <td>1.000000</td>\n",
       "    </tr>\n",
       "  </tbody>\n",
       "</table>\n",
       "</div>"
      ],
      "text/plain": [
       "                disbursed\n",
       "postal_code_19   0.028166\n",
       "product_17       0.030593\n",
       "cibil_score      0.031909\n",
       "product_8        0.034406\n",
       "segment_1        0.035241\n",
       "postal_code_6    0.035585\n",
       "age              0.035676\n",
       "age_log          0.036669\n",
       "product_20       0.060693\n",
       "disbursed        1.000000"
      ]
     },
     "execution_count": 117,
     "metadata": {},
     "output_type": "execute_result"
    }
   ],
   "source": [
    "df_process.corr()[[\"disbursed\"]].sort_values(by=[\"disbursed\"]).tail(10)"
   ]
  },
  {
   "cell_type": "code",
   "execution_count": 118,
   "metadata": {},
   "outputs": [],
   "source": [
    "variables_x = [\"irr_log\", 'loan_term_log', 'age_log']\n",
    "variables_y = \"disbursed\""
   ]
  },
  {
   "cell_type": "code",
   "execution_count": 119,
   "metadata": {},
   "outputs": [
    {
     "name": "stdout",
     "output_type": "stream",
     "text": [
      "Optimization terminated successfully.\n",
      "         Current function value: 0.428671\n",
      "         Iterations 7\n",
      "                           Logit Regression Results                           \n",
      "==============================================================================\n",
      "Dep. Variable:              disbursed   No. Observations:                12055\n",
      "Model:                          Logit   Df Residuals:                    12051\n",
      "Method:                           MLE   Df Model:                            3\n",
      "Date:                Tue, 29 Oct 2024   Pseudo R-squ.:                  0.3769\n",
      "Time:                        01:30:44   Log-Likelihood:                -5167.6\n",
      "converged:                       True   LL-Null:                       -8292.9\n",
      "Covariance Type:            nonrobust   LLR p-value:                     0.000\n",
      "=================================================================================\n",
      "                    coef    std err          z      P>|z|      [0.025      0.975]\n",
      "---------------------------------------------------------------------------------\n",
      "irr_log         -15.8314      0.303    -52.324      0.000     -16.424     -15.238\n",
      "loan_term_log    -0.6651      0.093     -7.179      0.000      -0.847      -0.483\n",
      "age_log           0.3262      0.097      3.370      0.001       0.136       0.516\n",
      "const            47.7175      1.043     45.742      0.000      45.673      49.762\n",
      "=================================================================================\n",
      "Reporte de clasificación:\n",
      "               precision    recall  f1-score   support\n",
      "\n",
      "           1       0.76      0.89      0.82      5412\n",
      "           0       0.89      0.77      0.83      6643\n",
      "\n",
      "    accuracy                           0.82     12055\n",
      "   macro avg       0.83      0.83      0.82     12055\n",
      "weighted avg       0.83      0.82      0.82     12055\n",
      "\n"
     ]
    }
   ],
   "source": [
    "model_general = fit_logit_model(df_process, variables_x, variables_y)"
   ]
  },
  {
   "cell_type": "code",
   "execution_count": 120,
   "metadata": {},
   "outputs": [],
   "source": [
    "df_process['const'] = 1.0\n",
    "df_process['prob_T1'] = model_general.predict(df_process[variables_x + [\"const\"]])"
   ]
  },
  {
   "cell_type": "code",
   "execution_count": 121,
   "metadata": {},
   "outputs": [],
   "source": [
    "df_process.to_pickle(\"../output/base_etapa_2.pkl\")"
   ]
  },
  {
   "cell_type": "code",
   "execution_count": 122,
   "metadata": {},
   "outputs": [
    {
     "data": {
      "text/html": [
       "<div>\n",
       "<style scoped>\n",
       "    .dataframe tbody tr th:only-of-type {\n",
       "        vertical-align: middle;\n",
       "    }\n",
       "\n",
       "    .dataframe tbody tr th {\n",
       "        vertical-align: top;\n",
       "    }\n",
       "\n",
       "    .dataframe thead th {\n",
       "        text-align: right;\n",
       "    }\n",
       "</style>\n",
       "<table border=\"1\" class=\"dataframe\">\n",
       "  <thead>\n",
       "    <tr style=\"text-align: right;\">\n",
       "      <th></th>\n",
       "      <th>irr</th>\n",
       "      <th>loan_term</th>\n",
       "      <th>age</th>\n",
       "    </tr>\n",
       "  </thead>\n",
       "  <tbody>\n",
       "    <tr>\n",
       "      <th>count</th>\n",
       "      <td>12055.000000</td>\n",
       "      <td>12055.000000</td>\n",
       "      <td>12055.000000</td>\n",
       "    </tr>\n",
       "    <tr>\n",
       "      <th>mean</th>\n",
       "      <td>19.843160</td>\n",
       "      <td>43.582829</td>\n",
       "      <td>38.009954</td>\n",
       "    </tr>\n",
       "    <tr>\n",
       "      <th>std</th>\n",
       "      <td>2.956696</td>\n",
       "      <td>11.071337</td>\n",
       "      <td>9.743316</td>\n",
       "    </tr>\n",
       "    <tr>\n",
       "      <th>min</th>\n",
       "      <td>16.500000</td>\n",
       "      <td>11.000000</td>\n",
       "      <td>18.000000</td>\n",
       "    </tr>\n",
       "    <tr>\n",
       "      <th>25%</th>\n",
       "      <td>17.400000</td>\n",
       "      <td>36.000000</td>\n",
       "      <td>30.000000</td>\n",
       "    </tr>\n",
       "    <tr>\n",
       "      <th>50%</th>\n",
       "      <td>18.600000</td>\n",
       "      <td>36.000000</td>\n",
       "      <td>37.000000</td>\n",
       "    </tr>\n",
       "    <tr>\n",
       "      <th>75%</th>\n",
       "      <td>22.200000</td>\n",
       "      <td>48.000000</td>\n",
       "      <td>44.000000</td>\n",
       "    </tr>\n",
       "    <tr>\n",
       "      <th>max</th>\n",
       "      <td>26.500000</td>\n",
       "      <td>60.000000</td>\n",
       "      <td>69.000000</td>\n",
       "    </tr>\n",
       "  </tbody>\n",
       "</table>\n",
       "</div>"
      ],
      "text/plain": [
       "                irr     loan_term           age\n",
       "count  12055.000000  12055.000000  12055.000000\n",
       "mean      19.843160     43.582829     38.009954\n",
       "std        2.956696     11.071337      9.743316\n",
       "min       16.500000     11.000000     18.000000\n",
       "25%       17.400000     36.000000     30.000000\n",
       "50%       18.600000     36.000000     37.000000\n",
       "75%       22.200000     48.000000     44.000000\n",
       "max       26.500000     60.000000     69.000000"
      ]
     },
     "execution_count": 122,
     "metadata": {},
     "output_type": "execute_result"
    }
   ],
   "source": [
    "df_process[[\"irr\", \"loan_term\", \"age\"]].describe()"
   ]
  },
  {
   "cell_type": "code",
   "execution_count": 123,
   "metadata": {},
   "outputs": [],
   "source": [
    "rango_irr = np.arange(17, 27, 0.1)\n",
    "df_simulacion = pd.DataFrame(rango_irr)\n",
    "df_simulacion = df_simulacion.rename({0: 'irr'}, axis=1)\n",
    "df_simulacion[\"emi_amount\"] = 12200\n",
    "df_simulacion[\"age\"] = 36\n",
    "df_simulacion[\"loan_term\"] = 36\n",
    "df_simulacion['emi_amount_log'] = np.log(df_simulacion['emi_amount'])\n",
    "df_simulacion['age_log'] = np.log(df_simulacion['age'])\n",
    "df_simulacion['irr_log'] = np.log(df_simulacion['irr'])\n",
    "df_simulacion['loan_term_log'] = np.log(df_simulacion['loan_term'])\n",
    "\n",
    "df_simulacion['const'] = 1.0"
   ]
  },
  {
   "cell_type": "code",
   "execution_count": 124,
   "metadata": {},
   "outputs": [],
   "source": [
    "df_simulacion['prob_T1'] = model_general.predict(df_simulacion[variables_x + [\"const\"]])"
   ]
  },
  {
   "cell_type": "code",
   "execution_count": 125,
   "metadata": {},
   "outputs": [
    {
     "data": {
      "image/png": "[encoded data removed]",
      "text/plain": [
       "<Figure size 800x600 with 1 Axes>"
      ]
     },
     "metadata": {},
     "output_type": "display_data"
    }
   ],
   "source": [
    "# Create a figure and axis\n",
    "plt.figure(figsize=(8, 6))\n",
    "# Plot the line\n",
    "sns.lineplot(x='irr', y='prob_T1', data=df_simulacion)\n",
    "# Display the plot\n",
    "plt.show()"
   ]
  },
  {
   "cell_type": "code",
   "execution_count": null,
   "metadata": {},
   "outputs": [],
   "source": []
  },
  {
   "cell_type": "code",
   "execution_count": 28,
   "metadata": {},
   "outputs": [],
   "source": []
  },
  {
   "cell_type": "code",
   "execution_count": 31,
   "metadata": {},
   "outputs": [],
   "source": []
  },
  {
   "cell_type": "code",
   "execution_count": null,
   "metadata": {},
   "outputs": [],
   "source": []
  }
 ],
 "metadata": {
  "kernelspec": {
   "display_name": ".venv",
   "language": "python",
   "name": "python3"
  },
  "language_info": {
   "codemirror_mode": {
    "name": "ipython",
    "version": 3
   },
   "file_extension": ".py",
   "mimetype": "text/x-python",
   "name": "python",
   "nbconvert_exporter": "python",
   "pygments_lexer": "ipython3",
   "version": "3.11.9"
  }
 },
 "nbformat": 4,
 "nbformat_minor": 2
}
